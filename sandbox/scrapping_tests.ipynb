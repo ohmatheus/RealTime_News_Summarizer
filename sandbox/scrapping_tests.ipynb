{
 "cells": [
  {
   "cell_type": "code",
   "execution_count": 15,
   "metadata": {},
   "outputs": [],
   "source": [
    "import os  # helper functions like check file exists\n",
    "import datetime  # automatic file name\n",
    "import requests  # the following imports are common web scraping bundle\n",
    "from urllib.request import urlopen  # standard python module\n",
    "from bs4 import BeautifulSoup\n",
    "from urllib.error import HTTPError\n",
    "from collections import defaultdict\n",
    "import re\n",
    "from urllib.error import URLError\n",
    "from tqdm import tqdm\n",
    "import pickle\n",
    "import bz2\n",
    "import pandas as pd\n",
    "from collections import Counter\n",
    "from urllib.parse import urlparse, unquote\n",
    "\n",
    "from datetime import datetime, timedelta\n"
   ]
  },
  {
   "cell_type": "code",
   "execution_count": 16,
   "metadata": {},
   "outputs": [],
   "source": [
    "def extract_theme(link):\n",
    "    try:\n",
    "        theme_text = re.findall(r'.fr/.*?/', link)[0]\n",
    "    except:\n",
    "        pass\n",
    "    else:\n",
    "        return theme_text[4:-1]\n",
    "\n",
    "def extract_name_from_https_link(link):\n",
    "    \"\"\"\n",
    "    Extracts the domain name (name) from an HTTPS link.\n",
    "\n",
    "    :param link: A string containing the HTTPS link.\n",
    "    :return: The domain name (e.g., 'www.google.com') or None if no match is found.\n",
    "    \"\"\"\n",
    "    # Regular expression to match the domain name in an HTTPS link\n",
    "    match = re.search(r'https://([^/\\s]+)', link)\n",
    "    if match:\n",
    "        return match.group(1)  # Return the domain name\n",
    "    return None  # Return None if no match is found\n",
    "\n",
    "def extract_subname(url):\n",
    "    \"\"\"Extracts the subname (article slug) from a given HTML link.\"\"\"\n",
    "    path = urlparse(url).path  # Extract the path from the URL\n",
    "    filename = os.path.basename(path)  # Get the last part of the path\n",
    "    subname = os.path.splitext(filename)[0]  # Remove the .html extension\n",
    "    return unquote(subname)  # Decode any URL-encoded characters\n",
    "\n",
    "\n",
    "def extract_clean_subname(url):\n",
    "    subname = extract_subname(url)\n",
    "    return re.sub(r'(_\\d+)+$', '', subname)  # Remove all trailing underscores followed by numbers\n",
    "\n",
    "\n",
    "def get_filename(filepath):\n",
    "    \"\"\"Extracts the filename from a given file path.\"\"\"\n",
    "    return os.path.basename(filepath)\n",
    "\n",
    "\n",
    "def read_file(file_path):\n",
    "    try:\n",
    "        with open(file_path, 'r') as file:\n",
    "            content = file.read()\n",
    "        return content\n",
    "    except FileNotFoundError:\n",
    "        return \"File not found.\"\n",
    "    except Exception as e:\n",
    "        return f\"An error occurred: {e}\"\n",
    "\n",
    "\n",
    "def list_themes(links):\n",
    "    themes = []\n",
    "    for link in links:\n",
    "        theme = extract_theme(link)\n",
    "        if theme is not None:\n",
    "            themes.append(theme)\n",
    "    return themes\n",
    "\n",
    "\n",
    "def write_links(path, links, year_fn):\n",
    "    with open(os.path.join(path + \"/lemonde_\" + str(year_fn) + \"_links.txt\"), 'w', encoding=\"utf-8\") as f:\n",
    "        for link in links:\n",
    "            f.write(link + \"\\n\")\n",
    "\n",
    "\n",
    "def write_to_file(filename, content):\n",
    "    if os.path.exists(filename):\n",
    "        with open(filename, 'a+', encoding=\"utf-8\") as f:\n",
    "            f.write(str(content))\n",
    "    else:\n",
    "        with open(filename, 'w', encoding=\"utf-8\") as f:\n",
    "            f.write(str(content))\n",
    "\n",
    "\n",
    "def create_archive_links(year_start, year_end, month_start, month_end, day_start, day_end):\n",
    "    archive_links = {}\n",
    "    for y in range(year_start, year_end + 1):\n",
    "        dates = [str(d).zfill(2) + \"-\" + str(m).zfill(2) + \"-\" +\n",
    "                    str(y) for m in range(month_start, month_end + 1) for d in\n",
    "                    range(day_start, day_end + 1)]\n",
    "        archive_links[y] = [\n",
    "            \"https://www.lemonde.fr/archives-du-monde/\" + date + \"/\" for date in dates]\n",
    "    return archive_links\n",
    "\n",
    "\n",
    "def get_articles_links(archive_links):\n",
    "    links_non_abonne = []\n",
    "    for link in archive_links:\n",
    "        try:\n",
    "            html = urlopen(link)\n",
    "        except HTTPError as e:\n",
    "            print(\"url not valid\", link)\n",
    "        else:\n",
    "            soup = BeautifulSoup(html, \"html.parser\")\n",
    "            news = soup.find_all(class_=\"teaser\")\n",
    "            # condition here : if no span icon__premium (abonnes)\n",
    "            for item in news:\n",
    "                if not item.find('span', {'class': 'icon__premium'}):\n",
    "                    l_article = item.find('a')['href']\n",
    "                    # en-direct = video\n",
    "                    if 'en-direct' not in l_article:\n",
    "                        links_non_abonne.append(l_article)\n",
    "    return links_non_abonne\n",
    "\n",
    "\n",
    "def classify_links(theme_list, link_list):\n",
    "    dict_links = defaultdict(list)\n",
    "    for theme in theme_list:\n",
    "        theme_link = 'https://www.lemonde.fr/' + theme + '/article/'\n",
    "        for link in link_list:\n",
    "            if theme_link in link:\n",
    "                dict_links[theme].append(link)\n",
    "    return dict_links\n",
    "\n",
    "\n",
    "def get_single_page(url):\n",
    "    try:\n",
    "        html = urlopen(url)\n",
    "    except HTTPError as e:\n",
    "        print(\"url not valid\", url)\n",
    "    else:\n",
    "        soup = BeautifulSoup(html, \"html.parser\")\n",
    "        text_title = soup.find('h1')\n",
    "        text_body = soup.article.find_all([\"p\", \"h2\"], recursive=False)\n",
    "        return (text_title, text_body)\n",
    "\n",
    "\n",
    "def scrape_articles(dict_links):\n",
    "    themes = dict_links.keys()\n",
    "    for theme in themes:\n",
    "        create_folder(os.path.join('corpus', theme))\n",
    "        print(\"processing:\", theme)\n",
    "        for i in tqdm(range(len(dict_links[theme]))):\n",
    "            link = dict_links[theme][i]\n",
    "            fn = extract_clean_subname(link)\n",
    "            single_page = get_single_page(link)\n",
    "            if single_page is not None:\n",
    "                with open((os.path.join('corpus', theme, fn + '.txt')), 'w', encoding=\"utf-8\") as f:\n",
    "                    # f.write(dict_links[theme][i] + \"\\n\" * 2)\n",
    "                    f.write(single_page[0].get_text() + \"\\n\")\n",
    "                    for line in single_page[1]:\n",
    "                        f.write(line.get_text() + \"\\n\")\n",
    "\n",
    "\n",
    "def cr_corpus_dict(path_corpus, n_files=1000):\n",
    "    dict_corpus = defaultdict(list)\n",
    "    themes = os.listdir(path_corpus)\n",
    "    for theme in themes:\n",
    "        counter = 0\n",
    "        if not theme.startswith('.'):\n",
    "            theme_directory = os.path.join(path_corpus, theme)\n",
    "            for file in os.listdir(theme_directory):\n",
    "                if counter < n_files:\n",
    "                    path_file = os.path.join(theme_directory, file)\n",
    "                    text = read_file(path_file)\n",
    "                    dict_corpus[\"label\"].append(theme)\n",
    "                    dict_corpus[\"text\"].append(text)\n",
    "                counter += 1\n",
    "    return dict_corpus\n",
    "\n",
    "\n",
    "def create_folder(path):\n",
    "    if not os.path.exists(path):\n",
    "        os.mkdir(path)\n",
    "    else:\n",
    "        print(\"folder exists already\")"
   ]
  },
  {
   "cell_type": "code",
   "execution_count": 17,
   "metadata": {},
   "outputs": [
    {
     "data": {
      "text/plain": [
       "{2025: ['https://www.lemonde.fr/archives-du-monde/09-02-2025/',\n",
       "  'https://www.lemonde.fr/archives-du-monde/10-02-2025/']}"
      ]
     },
     "execution_count": 17,
     "metadata": {},
     "output_type": "execute_result"
    }
   ],
   "source": [
    "\n",
    "# Get today's date\n",
    "today = datetime.today()\n",
    "yesterday = today - timedelta(days=1)\n",
    "\n",
    "# Print the results\n",
    "\n",
    "archive_links = create_archive_links(yesterday.year, today.year, \n",
    "                                        yesterday.month, today.month, \n",
    "                                        yesterday.day, today.day)\n",
    "archive_links"
   ]
  },
  {
   "cell_type": "code",
   "execution_count": 18,
   "metadata": {},
   "outputs": [
    {
     "name": "stdout",
     "output_type": "stream",
     "text": [
      "folder exists already\n"
     ]
    }
   ],
   "source": [
    "corpus_path = os.path.join(os.getcwd(), \"corpus_links\")\n",
    "create_folder(corpus_path)"
   ]
  },
  {
   "cell_type": "code",
   "execution_count": 19,
   "metadata": {},
   "outputs": [
    {
     "name": "stdout",
     "output_type": "stream",
     "text": [
      "processing:  2025\n"
     ]
    }
   ],
   "source": [
    "article_links = {}\n",
    "for year,links in archive_links.items():\n",
    "    print(\"processing: \",year)\n",
    "    article_links_list = get_articles_links(links)\n",
    "    article_links[year] = article_links_list\n",
    "    write_links(corpus_path,article_links_list,year)"
   ]
  },
  {
   "cell_type": "code",
   "execution_count": 20,
   "metadata": {},
   "outputs": [
    {
     "name": "stdout",
     "output_type": "stream",
     "text": [
      "24\n"
     ]
    },
    {
     "data": {
      "text/plain": [
       "['international',\n",
       " 'pixels',\n",
       " 'politique',\n",
       " 'politique',\n",
       " 'afrique',\n",
       " 'sport',\n",
       " 'les-decodeurs',\n",
       " 'societe',\n",
       " 'sport',\n",
       " 'culture',\n",
       " 'international',\n",
       " 'politique',\n",
       " 'societe',\n",
       " 'international',\n",
       " 'societe',\n",
       " 'idees',\n",
       " 'politique',\n",
       " 'afrique',\n",
       " 'sport',\n",
       " 'afrique',\n",
       " 'politique',\n",
       " 'm-styles',\n",
       " 'economie',\n",
       " 'sport']"
      ]
     },
     "execution_count": 20,
     "metadata": {},
     "output_type": "execute_result"
    }
   ],
   "source": [
    "themes = []\n",
    "for link_list in article_links.values():\n",
    "    themes.extend(list_themes(link_list))\n",
    "print(len(themes))\n",
    "themes"
   ]
  },
  {
   "cell_type": "code",
   "execution_count": 21,
   "metadata": {},
   "outputs": [
    {
     "name": "stdout",
     "output_type": "stream",
     "text": [
      "[('politique', 5), ('sport', 4), ('international', 3), ('afrique', 3), ('societe', 3), ('pixels', 1), ('les-decodeurs', 1), ('culture', 1), ('idees', 1), ('m-styles', 1), ('economie', 1)]\n"
     ]
    }
   ],
   "source": [
    "theme_stat = Counter(themes)\n",
    "theme_top = []\n",
    "for k,v in sorted(theme_stat.items(), key = lambda x:x[1], reverse=True):\n",
    "    #if v > 700:\n",
    "    theme_top.append((k, v))\n",
    "print(theme_top)"
   ]
  },
  {
   "cell_type": "code",
   "execution_count": 22,
   "metadata": {},
   "outputs": [
    {
     "data": {
      "text/plain": [
       "defaultdict(list,\n",
       "            {'politique': ['https://www.lemonde.fr/politique/article/2025/02/09/gerald-darmanin-estime-que-pour-2027-il-faudra-bien-un-processus-de-selection-et-peut-etre-une-primaire-dans-le-camp-d-emmanuel-macron_6539082_823448.html',\n",
       "              'https://www.lemonde.fr/politique/article/2025/02/09/gerald-darmanin-propose-d-accelerer-les-procedures-d-expulsion-en-supprimant-une-commission-ad-hoc_6539049_823448.html',\n",
       "              'https://www.lemonde.fr/politique/article/2025/02/09/droit-du-sol-le-ministre-de-l-economie-eric-lombard-estime-qu-il-n-y-a-pas-de-raison-de-durcir-les-regles_6538701_823448.html',\n",
       "              'https://www.lemonde.fr/politique/article/2025/02/10/le-maire-de-frejus-convoque-le-30-septembre-au-tribunal-pour-prise-illegale-d-interets_6540064_823448.html',\n",
       "              'https://www.lemonde.fr/politique/article/2025/02/10/a-boulogne-billancourt-la-candidate-des-republicains-elisabeth-de-maistre-elue-deputee_6539760_823448.html'],\n",
       "             'sport': ['https://www.lemonde.fr/sport/article/2025/02/09/tournoi-des-six-nations-l-irlande-se-defait-de-l-ecosse-et-continue-son-sans-faute_6538913_3242.html',\n",
       "              'https://www.lemonde.fr/sport/article/2025/02/09/tennis-cinq-mois-plus-tard-caroline-garcia-retrouve-le-gout-de-la-victoire_6538839_3242.html',\n",
       "              'https://www.lemonde.fr/sport/article/2025/02/10/vendee-globe-quel-avenir-pour-les-deriveurs-face-a-la-suprematie-des-foileurs_6539963_3242.html',\n",
       "              'https://www.lemonde.fr/sport/article/2025/02/10/super-bowl-2025-les-philadelphia-eagles-survolent-le-match-et-brisent-le-reve-de-triple-des-kansas-city-chiefs_6539593_3242.html'],\n",
       "             'international': ['https://www.lemonde.fr/international/article/2025/02/09/en-allemagne-olaf-scholz-et-friedrich-merz-s-affrontent-sur-l-immigration-et-l-extreme-droite_6539150_3210.html',\n",
       "              'https://www.lemonde.fr/international/article/2025/02/09/apres-avoir-rompu-leurs-liens-avec-le-reseau-russe-les-pays-baltes-achevent-leur-integration-au-reseau-electrique-de-l-ue_6538702_3210.html',\n",
       "              'https://www.lemonde.fr/international/article/2025/02/10/au-bangladesh-plus-de-1-300-personnes-arretees-dans-une-operation-de-police_6540238_3210.html'],\n",
       "             'afrique': ['https://www.lemonde.fr/afrique/article/2025/02/09/en-libye-vingt-huit-corps-de-migrants-exhumes-d-une-fosse-commune_6539015_3212.html',\n",
       "              'https://www.lemonde.fr/afrique/article/2025/02/10/guerre-au-soudan-l-armee-annonce-avoir-repris-aux-paramilitaires-un-secteur-cle-de-la-capitale_6539997_3212.html',\n",
       "              'https://www.lemonde.fr/afrique/article/2025/02/10/au-niger-des-assises-nationales-censees-fixer-la-duree-de-la-transition_6539929_3212.html'],\n",
       "             'societe': ['https://www.lemonde.fr/societe/article/2025/02/09/collegienne-de-11-ans-poignardee-en-essonne-la-police-procede-a-une-fouille-minutieuse-du-bois_6538841_3224.html',\n",
       "              'https://www.lemonde.fr/societe/article/2025/02/09/jack-lang-dit-avoir-ete-pousse-a-terre-lors-d-un-rassemblement-contre-la-pedocriminalite-une-enquete-ouverte-pour-violences-volontaires-en-reunion_6538600_3224.html',\n",
       "              'https://www.lemonde.fr/societe/article/2025/02/10/a-paris-l-homme-qui-s-etait-attaque-a-trois-policiers-devant-la-prefecture-de-police-mis-en-examen_6540200_3224.html'],\n",
       "             'pixels': ['https://www.lemonde.fr/pixels/article/2025/02/09/intelligence-artificielle-emmanuel-macron-annonce-des-investissements-en-france-de-109-milliards-d-euros-dans-les-prochaines-annees_6539115_4408996.html'],\n",
       "             'les-decodeurs': ['https://www.lemonde.fr/les-decodeurs/article/2025/02/09/ce-qu-il-ne-fallait-pas-rater-de-l-actualite-ce-week-end-trois-otages-israeliens-liberes-macron-s-exprime-avant-le-sommet-de-l-ia-les-pays-baltes-connectes-au-reseau-electrique-europeen_6538912_4355770.html'],\n",
       "             'culture': ['https://www.lemonde.fr/culture/article/2025/02/09/oligarques-le-gang-de-poutine-sur-arte-le-grand-retour-des-boyards-hommes-forts-du-president-russe_6538838_3246.html'],\n",
       "             'idees': ['https://www.lemonde.fr/idees/article/2025/02/10/l-extreme-droite-europeenne-a-l-ombre-de-trump_6540097_3232.html'],\n",
       "             'm-styles': ['https://www.lemonde.fr/m-styles/article/2025/02/10/simon-alzraa-la-mode-faite-maison_6539692_4497319.html'],\n",
       "             'economie': ['https://www.lemonde.fr/economie/article/2025/02/10/donald-trump-veut-mettre-fin-au-penny_6539659_3234.html']})"
      ]
     },
     "execution_count": 22,
     "metadata": {},
     "output_type": "execute_result"
    }
   ],
   "source": [
    "all_links = []\n",
    "for link_list in article_links.values():\n",
    "    all_links.extend(link_list)\n",
    "\n",
    "themes_top_five = [x[0] for x in theme_top]\n",
    "\n",
    "themes_top_five_links = classify_links(themes_top_five,all_links)\n",
    "themes_top_five_links"
   ]
  },
  {
   "cell_type": "code",
   "execution_count": 23,
   "metadata": {},
   "outputs": [
    {
     "data": {
      "text/plain": [
       "'https://www.lemonde.fr/politique/article/2025/02/09/gerald-darmanin-estime-que-pour-2027-il-faudra-bien-un-processus-de-selection-et-peut-etre-une-primaire-dans-le-camp-d-emmanuel-macron_6539082_823448.html'"
      ]
     },
     "execution_count": 23,
     "metadata": {},
     "output_type": "execute_result"
    }
   ],
   "source": [
    "first_links = next(iter(themes_top_five_links.values()))  # Gets the first value (list)\n",
    "first_links[0]"
   ]
  },
  {
   "cell_type": "code",
   "execution_count": 24,
   "metadata": {},
   "outputs": [],
   "source": [
    "url = first_links[0]\n",
    "try:\n",
    "    html = urlopen(url)\n",
    "except HTTPError as e:\n",
    "    print(\"url not valid\", url)\n",
    "else:\n",
    "    soup = BeautifulSoup(html, \"html.parser\")\n",
    "with open('soup.txt', 'w', encoding=\"utf-8\") as f:\n",
    "    f.write(str(soup))"
   ]
  },
  {
   "cell_type": "code",
   "execution_count": 25,
   "metadata": {},
   "outputs": [
    {
     "data": {
      "text/plain": [
       "[]"
      ]
     },
     "execution_count": 25,
     "metadata": {},
     "output_type": "execute_result"
    }
   ],
   "source": [
    "tags = soup.find_all(['tags'], recursive=False)\n",
    "tags"
   ]
  },
  {
   "cell_type": "code",
   "execution_count": 26,
   "metadata": {},
   "outputs": [
    {
     "data": {
      "text/plain": [
       "[<p class=\"article__paragraph\"><em>« Si jamais personne ne se dégage – c’est ma volonté que quelqu’un se dégage –, il faudra bien un processus de sélection. Ou alors on sera plusieurs candidats et donc on </em>[ne] <em>sera pas au second tour : on sera sans doute très contents d’être soi-même, mais on sera tout seul et les Français nous en voudront énormément »</em>, a déclaré dimanche 8 février Gérald Darmanin. Sur BFM-TV, l’actuel garde des sceaux répondait à des questions au sujet de l’élection présidentielle de 2027.</p>,\n",
       " <p class=\"article__paragraph\">M. Darmanin a aussi estimé que, pour la prochaine présidentielle, <em>« l’important, c’est le projet, pour quoi faire »</em>. <em>« Après, il faudra peut-être qu’on réfléchisse à comment on sélectionne notre candidat parce qu’il n’en faut qu’un seul »</em>, a-t-il prévenu, <em>« sinon on va avoir M<sup>me</sup> Le Pen contre M. Mélenchon au second tour de l’élection présidentielle »</em>. <em>« Et ce sera M<sup>me</sup> Le Pen </em>[qui gagnera].<em> »</em></p>,\n",
       " <h2 class=\"article__sub-title\">« Dire quel est le meilleur »</h2>,\n",
       " <p class=\"article__paragraph\"><em>« On devrait être capable de se dire quel est le meilleur d’entre nous et si</em> [ce n’est] <em>pas évident, alors il faudra peut-être faire un processus de sélection qu’on appelle la primaire »</em>, a-t-il ajouté.</p>,\n",
       " <p class=\"article__paragraph\">M. Darmanin, membre du parti Renaissance après avoir longtemps adhéré à l’Union pour un mouvement populaire (UMP) puis au parti Les Républicains (LR), dont il avait été exclu lorsqu’il était devenu ministre d’Emmanuel Macron en 2017, a en outre déploré que sa famille politique soit <em>« encore loin de l’union »</em>, notamment sur sa proposition de revenir sur le droit du sol, critiquée par la branche gauche de la Macronie.</p>,\n",
       " <p class=\"article__paragraph\"><em>« Quand on voit les réactions sur le droit du sol, parfois d’excommunication, on dit : “Tiens, on n’est pas encore prêt à rassembler 25 % de Français aux élections au premier tour”… C’est une maladie infantile qu’il faut qu’on corrige »</em>, a-t-il déclaré.</p>,\n",
       " <p class=\"article__paragraph\"></p>]"
      ]
     },
     "execution_count": 26,
     "metadata": {},
     "output_type": "execute_result"
    }
   ],
   "source": [
    "paragraphs = soup.article.find_all([\"p\", \"h2\"], recursive=False)\n",
    "paragraphs"
   ]
  },
  {
   "cell_type": "code",
   "execution_count": 27,
   "metadata": {},
   "outputs": [
    {
     "name": "stdout",
     "output_type": "stream",
     "text": [
      "folder exists already\n",
      "processing: politique\n"
     ]
    },
    {
     "name": "stderr",
     "output_type": "stream",
     "text": [
      "100%|██████████| 5/5 [00:01<00:00,  4.58it/s]\n"
     ]
    },
    {
     "name": "stdout",
     "output_type": "stream",
     "text": [
      "processing: sport\n"
     ]
    },
    {
     "name": "stderr",
     "output_type": "stream",
     "text": [
      "100%|██████████| 4/4 [00:00<00:00,  4.97it/s]\n"
     ]
    },
    {
     "name": "stdout",
     "output_type": "stream",
     "text": [
      "processing: international\n"
     ]
    },
    {
     "name": "stderr",
     "output_type": "stream",
     "text": [
      "100%|██████████| 3/3 [00:00<00:00,  4.37it/s]\n"
     ]
    },
    {
     "name": "stdout",
     "output_type": "stream",
     "text": [
      "processing: afrique\n"
     ]
    },
    {
     "name": "stderr",
     "output_type": "stream",
     "text": [
      "100%|██████████| 3/3 [00:00<00:00,  4.87it/s]\n"
     ]
    },
    {
     "name": "stdout",
     "output_type": "stream",
     "text": [
      "processing: societe\n"
     ]
    },
    {
     "name": "stderr",
     "output_type": "stream",
     "text": [
      "100%|██████████| 3/3 [00:00<00:00,  5.21it/s]\n"
     ]
    },
    {
     "name": "stdout",
     "output_type": "stream",
     "text": [
      "processing: pixels\n"
     ]
    },
    {
     "name": "stderr",
     "output_type": "stream",
     "text": [
      "100%|██████████| 1/1 [00:00<00:00,  5.05it/s]\n"
     ]
    },
    {
     "name": "stdout",
     "output_type": "stream",
     "text": [
      "processing: les-decodeurs\n"
     ]
    },
    {
     "name": "stderr",
     "output_type": "stream",
     "text": [
      "100%|██████████| 1/1 [00:00<00:00,  4.90it/s]\n"
     ]
    },
    {
     "name": "stdout",
     "output_type": "stream",
     "text": [
      "processing: culture\n"
     ]
    },
    {
     "name": "stderr",
     "output_type": "stream",
     "text": [
      "100%|██████████| 1/1 [00:00<00:00,  4.43it/s]\n"
     ]
    },
    {
     "name": "stdout",
     "output_type": "stream",
     "text": [
      "processing: idees\n"
     ]
    },
    {
     "name": "stderr",
     "output_type": "stream",
     "text": [
      "100%|██████████| 1/1 [00:00<00:00,  3.57it/s]\n"
     ]
    },
    {
     "name": "stdout",
     "output_type": "stream",
     "text": [
      "processing: m-styles\n"
     ]
    },
    {
     "name": "stderr",
     "output_type": "stream",
     "text": [
      "100%|██████████| 1/1 [00:00<00:00,  5.36it/s]\n"
     ]
    },
    {
     "name": "stdout",
     "output_type": "stream",
     "text": [
      "processing: economie\n"
     ]
    },
    {
     "name": "stderr",
     "output_type": "stream",
     "text": [
      "100%|██████████| 1/1 [00:00<00:00,  5.04it/s]\n"
     ]
    }
   ],
   "source": [
    "create_folder('corpus')\n",
    "\n",
    "scrape_articles(themes_top_five_links)\n"
   ]
  },
  {
   "cell_type": "code",
   "execution_count": 28,
   "metadata": {},
   "outputs": [
    {
     "data": {
      "text/plain": [
       "defaultdict(list,\n",
       "            {'label': ['afrique',\n",
       "              'afrique',\n",
       "              'afrique',\n",
       "              'culture',\n",
       "              'economie',\n",
       "              'idees',\n",
       "              'international',\n",
       "              'international',\n",
       "              'international',\n",
       "              'les-decodeurs',\n",
       "              'm-styles',\n",
       "              'pixels',\n",
       "              'politique',\n",
       "              'politique',\n",
       "              'politique',\n",
       "              'politique',\n",
       "              'politique',\n",
       "              'societe',\n",
       "              'societe',\n",
       "              'societe',\n",
       "              'sport',\n",
       "              'sport',\n",
       "              'sport',\n",
       "              'sport'],\n",
       "             'text': ['Au Niger, des Â«Â\\xa0assises nationalesÂ\\xa0Â» censÃ©es fixer la durÃ©e de la transition\\nLe rÃ©gime militaire au pouvoir au Niger va organiser du 15 au 19Â\\xa0fÃ©vrier des Â«Â\\xa0assises nationalesÂ\\xa0Â», censÃ©es notamment fixer la durÃ©e de la transition ouverte aprÃ¨s le renversement du prÃ©sident civil Mohamed Bazoum enÂ\\xa02023. La date des assises a Ã©tÃ© fixÃ©e par le ministÃ¨re de lâ€™intÃ©rieur, dans un communiquÃ© lu Ã\\xa0 la tÃ©lÃ©vision dâ€™Etat dans la nuit de samediÂ\\xa08Â\\xa0Ã\\xa0 dimanche 9Â\\xa0fÃ©vrier, qui prÃ©cise quâ€™elles se tiendront Ã\\xa0 Niamey.\\nEn aoÃ»tÂ\\xa02023, peu aprÃ¨s sa prise de pouvoir par un putsch, le gÃ©nÃ©ral AbdourahamaneÂ\\xa0Tiani avait annoncÃ© lâ€™organisation dâ€™un Â«Â\\xa0dialogue national inclusifÂ\\xa0Â» qui devait tracer les Â«Â\\xa0axes prioritairesÂ\\xa0Â» de gouvernance et fixer la durÃ©e de la transition. Il avait Ã\\xa0 lâ€™Ã©poque mentionnÃ© une durÃ©e maximale de trois ans, mais nâ€™en avait plus reparlÃ© depuis. DÃ©but 2024, des concertations se sont tenues dans les huit rÃ©gions du pays, qui devraient servir de base de travail pour les assises de la semaine prochaine.\\nUne commission nationale a par ailleurs Ã©tÃ© crÃ©Ã©e par dÃ©cret prÃ©sidentiel pour conduire les travaux des assises. Elle devra remettre son Â«Â\\xa0rapport finalÂ\\xa0Â» au gÃ©nÃ©ral Tiani dÃ©but mars. Cette commission, dirigÃ©e par Mamoudou Harouna Djingareye, un chef traditionnel, est Ã©galement composÃ©e dâ€™anciens ministres, dâ€™universitaires, de juristes, de militaires, de conseillers du gÃ©nÃ©ral Tiani, de chefs religieux et de figures de la sociÃ©tÃ© civile. Elle comporte cinq sous-commissions, dont les thÃ¨mes sont notamment Â«Â\\xa0paix, sÃ©curitÃ©, rÃ©conciliation nationale et cohÃ©sion socialeÂ\\xa0Â», Â«Â\\xa0refondation politique et institutionnelleÂ\\xa0Â» ou Â«Â\\xa0justice et droits de lâ€™hommeÂ\\xa0Â».\\nDes ONG sous surveillance\\nPar ailleurs, les organisations non gouvernementales (ONG) et les associations de dÃ©veloppement devront dÃ©sormais aligner leurs activitÃ©s au Niger sur la Â«Â\\xa0visionÂ\\xa0Â» et les prioritÃ©s stratÃ©giques du rÃ©gime militaire au pouvoir depuis le putsch de 2023, selon un arrÃªtÃ© gouvernemental consultÃ© dimanche par lâ€™Agence France-presse (AFP).\\nLes autoritÃ©s ont demandÃ© cette semaine au ComitÃ© international de la Croix-Rouge de quitter le pays. En novembreÂ\\xa02024, elles avaient retirÃ© lâ€™autorisation dâ€™exercer Ã\\xa0 lâ€™ONG franÃ§aise Acted et Ã\\xa0 lâ€™association nigÃ©rienne Action pour le bien-Ãªtre. A chaque fois, elles nâ€™ont pas prÃ©cisÃ© les raisons de ces dÃ©cisions. Â«Â\\xa0Il est crÃ©Ã© auprÃ¨s du ministre de lâ€™intÃ©rieur un comitÃ© technique chargÃ© de promouvoir la gouvernance des ONGÂ\\xa0Â», annonce le ministÃ¨re dans un arrÃªtÃ© datÃ© de vendredi.\\nCe comitÃ©, composÃ© de hauts fonctionnaires et dâ€™experts, aura Â«Â\\xa0pour mission de veiller Ã\\xa0 lâ€™alignement des interventionsÂ\\xa0Â» des ONG sur les Â«Â\\xa0quatre axes stratÃ©giques de la visionÂ\\xa0Â» du gÃ©nÃ©ral Abdourahamane Tiani, explique le ministÃ¨re. Parmi ces axes stratÃ©giques, le Â«Â\\xa0renforcement de la sÃ©curitÃ© et de la cohÃ©sion socialeÂ\\xa0Â», le Â«Â\\xa0dÃ©veloppement des bases de production pour la souverainetÃ© Ã©conomiqueÂ\\xa0Â» ou encore la Â«Â\\xa0promotion de la bonne gouvernanceÂ\\xa0Â». Et pour sâ€™assurer quâ€™elles se conformeront Ã\\xa0 cette Â«Â\\xa0visionÂ\\xa0Â», le comitÃ© pourra Â«Â\\xa0suivreÂ\\xa0Â» sur le terrain leurs activitÃ©s ou Â«Â\\xa0exploiterÂ\\xa0Â» leurs rapports annuels.\\nÂ«Â\\xa0Lâ€™aide nâ€™a jamais dÃ©veloppÃ© un paysÂ\\xa0Â»\\nLe rÃ©gime militaire nigÃ©rien arrivÃ© au pouvoir en juilletÂ\\xa02023 a fait de la souverainetÃ© nationale lâ€™une de ses prioritÃ©s. Il a notamment tournÃ© le dos Ã\\xa0 certains partenaires occidentaux, la France en tÃªte. Les Â«Â\\xa0ONG, nous allons les refonder. Le rythme a changÃ© (â€¦), elles nâ€™ont quâ€™Ã\\xa0 travailler dans lâ€™esprit des [nouvelles] autoritÃ©s nigÃ©riennesÂ\\xa0Â», avait prÃ©venu fin janvier le gÃ©nÃ©ral Mohamed Toumba, ministre de lâ€™intÃ©rieur et cadre du rÃ©gime militaire.\\nÂ«Â\\xa0Les ONG nâ€™ont jamais dÃ©veloppÃ© un pays, lâ€™aide nâ€™a jamais dÃ©veloppÃ© un pays (â€¦). On peut accepter cette aide, mais il faut quâ€™elle soit canalisÃ©eÂ\\xa0Â», avait-il expliquÃ©. Â«Â\\xa0Beaucoup dâ€™ONG sont en accointance avec ces partenaires qui nous portent la guerre Ã\\xa0 travers des missions de subversion (â€¦) Ã\\xa0 travers des soutiens quâ€™ils apportent souvent aux terroristesÂ\\xa0Â», avait-il ajoutÃ©.\\nLe pays est confrontÃ© depuis une dizaine dâ€™annÃ©es aux attaques de groupes djihadistes affiliÃ©s Ã\\xa0 lâ€™organisation Etat islamique et Ã\\xa0 Al-Qaida. Le Niger continue toutefois dâ€™accepter lâ€™aide dâ€™organisations internationales comme le Fonds monÃ©taire international, qui a conclu en novembreÂ\\xa02024Â\\xa0un accord avec Niamey pour le dÃ©caissement de 43Â\\xa0millions de dollars.\\n',\n",
       "              'En Libye, vingt-huit corps de migrants exhumÃ©s dâ€™une fosse commune\\nLes corps de vingt-huit migrants originaires dâ€™Afrique subsaharienne ont Ã©tÃ© retrouvÃ©s dans une fosse commune prÃ¨s dâ€™un centre de dÃ©tention Â«Â\\xa0illÃ©galÂ\\xa0Â», dans la rÃ©gion de Koufra, Ã\\xa0 lâ€™extrÃªme sud-est de la Libye, a annoncÃ© dimanche 9Â\\xa0fÃ©vrier le bureau du procureur gÃ©nÃ©ral libyen.\\nLes corps ont Ã©tÃ© retrouvÃ©s aprÃ¨s une opÃ©ration des forces de sÃ©curitÃ© dans ce centre tenu par un rÃ©seau de trafiquants dâ€™Ãªtres humains, oÃ¹ Ã©taient Â«Â\\xa0sÃ©questrÃ©sÂ\\xa0Â» soixante-seize migrants originaires dâ€™Afrique subsaharienne, a prÃ©cisÃ© la mÃªme source.\\nUne enquÃªte a permis dâ€™identifier lâ€™existence dâ€™une Â«Â\\xa0bande dont les membres sÃ©questraient des migrants irrÃ©guliers, les torturaient et les soumettaient Ã\\xa0 des traitements cruels, dÃ©gradants et inhumainsÂ\\xa0Â», a ajoutÃ© le bureau du procureur.\\nTrois personnes ont Ã©tÃ© arrÃªtÃ©es, un Libyen et deux Ã©trangers, a-t-il ajoutÃ© sans plus de dÃ©tails.\\nDes photos publiÃ©es dimanche sur les rÃ©seaux sociaux montraient des individus Ã©maciÃ©s portant des cicatrices sur le visage, les membres et le dos.\\nPlaque tournante du trafic dâ€™Ãªtres humains\\nLa Libye est plongÃ©e dans le chaos politique et sÃ©curitaire depuis la chute de Mouammar Kadhafi enÂ\\xa02011, Ã\\xa0 la suite dâ€™une rÃ©volte populaire.\\nGouvernÃ© par deux exÃ©cutifs rivaux â€“Â\\xa0lâ€™un Ã\\xa0 Tripoli (ouest), reconnu par lâ€™ONU, lâ€™autre Ã\\xa0 Benghazi (est), soutenu par le clan du marÃ©chal Khalifa HaftarÂ\\xa0â€“, le pays, situÃ© Ã\\xa0 environ 300 kilomÃ¨tres des cÃ´tes italiennes, est devenu lâ€™une des principales plaques tournantes du trafic dâ€™Ãªtres humains sur le continent.\\nDes dizaines de milliers de migrants dâ€™Afrique subsaharienne, en quÃªte de lâ€™eldorado europÃ©en, y sont la proie de trafiquants, quand ils ne meurent pas en tentant la pÃ©rilleuse traversÃ©e de la MÃ©diterranÃ©e.\\nFin janvier, le bureau du procureur gÃ©nÃ©ral, basÃ© Ã\\xa0 Tripoli, a ordonnÃ© lâ€™incarcÃ©ration de deux membres dâ€™une bande criminelle accusÃ©e de torture Ã\\xa0 lâ€™encontre de 263 migrants originaires dâ€™Afrique en situation irrÃ©guliÃ¨re, dans le but dâ€™extorquer des ranÃ§ons. Selon lui, la bande opÃ©rait dans un camp de rÃ©tention dans la zone dâ€™Al-Wahat, une rÃ©gion dÃ©sertique sous le contrÃ´le des forces du marÃ©chal Haftar, Ã\\xa0 environ 750 kilomÃ¨tres au sud-est de Tripoli.\\nEn marsÂ\\xa02024, une fosse commune contenant Â«Â\\xa0au moins 65 corps de migrantsÂ\\xa0Â» avait Ã©tÃ© dÃ©couverte dans le sud-ouest de la Libye, selon lâ€™Organisation internationale pour les migrations.\\n\\n',\n",
       "              'Guerre au SoudanÂ\\xa0: lâ€™armÃ©e annonce avoir repris aux paramilitaires un secteur-clÃ© de la capitale\\nLâ€™armÃ©e soudanaise a affirmÃ©, samedi 8Â\\xa0fÃ©vrier, avoir arrachÃ© un secteur-clÃ© proche de la capitale Ã\\xa0 ses adversaires des Forces de soutien rapide (FSR). Le chef de lâ€™armÃ©e, le gÃ©nÃ©ral Abdel Fattah AbdelrahmanÂ\\xa0Al-Bourhane, a ensuite annoncÃ© la formation prochaine dâ€™un gouvernement de transition.\\nLe quartier de Kafouri, situÃ© Ã\\xa0 Bahri, au nord de Khartoum, Ã©tait sous le contrÃ´le des FSR depuis le dÃ©but du conflit, en avrilÂ\\xa02023, qui a fait des dizaines de milliers de victimes, dÃ©racinÃ© 12Â\\xa0millions de personnes et plongÃ© le pays dans une crise humanitaire majeure. Lâ€™armÃ©e et les unitÃ©s alliÃ©es ont Â«Â\\xa0achevÃ© vendredi le nettoyageÂ\\xa0Â» de Kafouri et dâ€™autres zones de Sharq El Nil, Ã\\xa0 15Â\\xa0kilomÃ¨tres Ã\\xa0 lâ€™est, des Â«Â\\xa0restes des milices terroristes DagloÂ\\xa0Â», a affirmÃ© son porte-parole, Nabil Abdullah, en rÃ©fÃ©rence au chef des FSR, Mohammed Hamdan Daglo.\\nCe quartier, lâ€™un des plus riches de Bahri, Ã©tait un bastion des FSR et abritait la rÃ©sidence dâ€™Abdel Rahim Daglo, frÃ¨re et adjoint du chef des paramilitaires. Cette prise rapproche lâ€™armÃ©e de la reprise totale de Bahri, oÃ¹ vivent prÃ¨s dâ€™un million dâ€™habitants et qui constitue une piÃ¨ce essentielle pour le contrÃ´le de la capitale soudanaise. Â«Â\\xa0Nous attendons le retour des services, le retour de nos voisins et la fin de cette guerre pour que notre pays retrouve sa stabilitÃ©Â\\xa0Â», a dÃ©clarÃ© Ã\\xa0 lâ€™Agence France-Presse (AFP) Azahir Suleiman, 43Â\\xa0ans, un habitant de Kafouri.\\nSur la dÃ©fensive au dÃ©but de la guerre, le gÃ©nÃ©ral Al-Bourhane ne cesse de regagner du terrain. Samedi, il a annoncÃ© la formation prochaine dâ€™un gouvernement de transition composÃ© dâ€™Â«Â\\xa0expertsÂ\\xa0Â», dont la tÃ¢che principale sera dâ€™aider Ã\\xa0 Â«Â\\xa0complÃ©ter les tÃ¢ches militaires restantes (â€¦) et Ã\\xa0 nettoyer tout le SoudanÂ\\xa0Â» des paramilitaires. Il a assurÃ© que ce gouvernement jetterait les bases dâ€™une transition politique plus large en vue dâ€™Ã©lections et a annoncÃ© la rÃ©daction dâ€™un document constitutionnel et la nomination dâ€™un premier ministre, tout en promettant que lâ€™armÃ©e Â«Â\\xa0nâ€™interfÃ©rera pas dans ses tÃ¢ches ou responsabilitÃ©sÂ\\xa0Â». Le Soudan dispose actuellement dâ€™un gouvernement dÃ©signÃ© par lâ€™armÃ©e.\\nCrainte de reprÃ©sailles\\nAmnesty International a exprimÃ© vendredi ses inquiÃ©tudes quant Ã\\xa0 dâ€™Ã©ventuelles reprÃ©sailles dans les zones rÃ©cemment reprises par les troupes rÃ©guliÃ¨res. Soulignant quâ€™elle sâ€™efforÃ§ait de vÃ©rifier leur authenticitÃ©, lâ€™ONG a citÃ© des informations faisant Ã©tat de Â«Â\\xa0listes dâ€™hommes politiques, magistrats, dÃ©fenseurs des droits humains, travailleurs mÃ©dicaux et humanitaires accusÃ©s dâ€™Ãªtre des partenaires des FSRÂ\\xa0Â».\\nDans le quartier de South Belt, Ã\\xa0 Khartoum, les FSR ont arrÃªtÃ© samedi deux membres dâ€™un rÃ©seau soudanais de secouristes bÃ©nÃ©voles Ã\\xa0 lâ€™hÃ´pital Bashair, le dernier Ã©tablissement partiellement en fonction de la rÃ©gion, a dÃ©clarÃ© ce rÃ©seau dans un communiquÃ©. Jeudi, des secouristes locaux ont aussi affirmÃ© que les FSR avaient arrÃªtÃ© le directeur de lâ€™hÃ´pital, le responsable dâ€™une soupe populaire et un bÃ©nÃ©vole.\\nLa semaine derniÃ¨re, le Haut-Commissariat des Nations unies aux droits de lâ€™homme a recensÃ© au moins 18Â\\xa0morts civils Ã\\xa0 Bahri depuis lâ€™avancÃ©e de lâ€™armÃ©e, fin janvier. Des exÃ©cutions massives de civils ont aussi Ã©tÃ© signalÃ©es aprÃ¨s la prise de contrÃ´le par lâ€™armÃ©e de Wad Madani, capitale de lâ€™Etat de Gezira, le mois dernier.\\nLes groupes de dÃ©fense des droits humains accusent lâ€™armÃ©e et les milices alliÃ©es dâ€™exÃ©cutions extrajudiciaires, dâ€™enlÃ¨vements et de tortures physiques et psychologiques, ciblant en particulier les communautÃ©s soupÃ§onnÃ©es dâ€™avoir des liens avec les paramilitaires. Les FSR, elles, sont devenues tristement cÃ©lÃ¨bres pour leurs violences ethniques, ce qui a conduit les Etats-Unis Ã\\xa0 les accuser formellement, le 7Â\\xa0janvier, de Â«Â\\xa0gÃ©nocideÂ\\xa0Â».\\nAilleurs, lâ€™armÃ©e a intensifiÃ© ses opÃ©rations contre les paramilitaires dans la vaste rÃ©gion occidentale du Darfour. A Zalingei, capitale du Darfour central sous contrÃ´le des FSR, Ã\\xa0 1Â\\xa0400Â\\xa0kilomÃ¨tres de Khartoum, une frappe aÃ©rienne sur un quartier rÃ©sidentiel a tuÃ© trois personnes, selon un groupe local reprÃ©sentant les dÃ©placÃ©s et rÃ©fugiÃ©s. A Nyala, capitale du Darfour du Sud, des frappes aÃ©riennes de lâ€™armÃ©e ont tuÃ© 57Â\\xa0personnes en deux jours la semaine derniÃ¨re, a rapportÃ© Ã\\xa0 lâ€™AFP une source mÃ©dicale. ContrÃ´lÃ©e Ã©galement par les FSR depuis fin 2023, cette ville stratÃ©gique est dotÃ©e dâ€™un aÃ©roport oÃ¹ transitent ravitaillement et armes, selon des images de lâ€™Humanitarian Research Lab de lâ€™universitÃ© Yale.\\nAlors que les paramilitaires contrÃ´lent une grande partie du Darfour, lâ€™armÃ©e a consolidÃ© son emprise sur le nord et lâ€™est du pays, ainsi que sur certains secteurs du centre.\\n',\n",
       "              'Â«Â\\xa0Oligarques, le gang de PoutineÂ\\xa0Â», sur ArteÂ\\xa0: le grand retour des Â«Â\\xa0boyardsÂ\\xa0Â», hommes forts du prÃ©sident russe\\nAussi palpitante quâ€™un roman policier, lâ€™enquÃªte en trois volets rÃ©alisÃ©e par Marc Roche et JÃ©rÃ´me Fritel raconte comment Vladimir Poutine a tentÃ© de prendre lâ€™Union europÃ©enne en otage, par le biais du gaz et du pÃ©trole, persuadÃ© que cette dÃ©pendance allait lui laisser le champ libre en Ukraine. Son plan semble avoir Ã©chouÃ©. Les gazoducs Nord Stream 1 et 2 rouillent dans la mer Baltique et Gazprom, le bras armÃ© du Kremlin Ã\\xa0 lâ€™international, qui pesait jadis plusieurs centaines de milliards dâ€™euros, nâ€™est plus que lâ€™ombre de lui-mÃªme.\\nPourtant, malgrÃ© les sanctions occidentales, les revenus du gaz et du pÃ©trole continuent Ã\\xa0 rapporter au budget russe Â«Â\\xa0environ 1Â\\xa0demi-milliard de dollars par jourÂ\\xa0Â», rappelle un expert. Intarissable, cette manne permet au Kremlin dâ€™alimenter indÃ©finiment sa machine de guerre. Dâ€™autant que les Etats de lâ€™Union europÃ©enne continuent de lâ€™enrichir en achetant son pÃ©trole, prÃ©alablement raffinÃ© en Inde et en Chine. Pareil pour le gaz liquÃ©fiÃ©, dont la France est grande consommatrice.\\nIroniquement, le mÃ©thanier russe gÃ©ant qui continue dâ€™alimenter lâ€™Europe en GNL et dâ€™enrichir les proches de Poutine sâ€™appelle Christophe-de-Margerie, du nom de lâ€™ancien PDG de Total mort dans un accident dâ€™avion le 20Â\\xa0octobreÂ\\xa02014 Ã\\xa0 Moscou. TrÃ¨s investi dans les projets Ã©nergÃ©tiques du Grand Nord, au mieux avec le prÃ©sident Poutine, lâ€™homme avait jouÃ© un rÃ´le crucial dans lâ€™exploitation des immenses gisements de gaz situÃ©s dans la pÃ©ninsule de Yamal, au-delÃ\\xa0 du cercle polaire oÃ¹ une gigantesque usine de liquÃ©faction du gaz a vu le jour enÂ\\xa02017, largement grÃ¢ce Ã\\xa0 Total, associÃ© Ã\\xa0 Guennadi Timtchenko, le relais financier du Kremlin, Ã©levÃ© par la France au rang de chevalier de la LÃ©gion dâ€™honneur enÂ\\xa02013.\\nDepuis lâ€™effondrement de lâ€™URSS, enÂ\\xa01991, un pacte lie les prÃ©sidents, Boris Eltsine (1991-1999) puis Vladimir Poutine (depuis 2000), avec les oligarques, ces barons de lâ€™Ã©conomie qui sont autorisÃ©s Ã\\xa0 faire main basse sur les richesses du pays en Ã©change dâ€™une soumission sans faille Ã\\xa0 lâ€™Ã©gard de leurs maÃ®tres. Â«Â\\xa0Il y avait une poignÃ©e dâ€™oligarques et 140Â\\xa0millions de pauvres qui avaient juste assez dâ€™argent pour sâ€™acheter du painÂ\\xa0Â», rÃ©sume lâ€™ancien banquier SergueÃ¯ Pougatchev pour dÃ©crire lâ€™Ã©poque du capitalisme de brigands caractÃ©ristique de la Russie postsoviÃ©tique.\\nÂ«Â\\xa0Une nouvelle classe de noblesÂ\\xa0Â»\\nDÃ¨s son arrivÃ©e au Kremlin enÂ\\xa02000, Vladimir Poutine va sâ€™attacher Ã\\xa0 placer ses hommes, natifs de Saint-PÃ©tersbourg, passÃ©s par les services de sÃ©curitÃ© ou lâ€™armÃ©e pour la plupart. DÃ©sormais, ces courtisans du tsar Â«Â\\xa0forment une nouvelle classe de nobles, du moins câ€™est comme Ã§a quâ€™ils se perÃ§oiventÂ\\xa0Â», dit AndreÃ¯ Soldatov, journaliste en exilÂ\\xa0depuis 2020. Le maÃ®tre du Kremlin et son clan ont Â«Â\\xa0la mÃªme mentalitÃ©, forgÃ©e Ã\\xa0 lâ€™aune des services secrets et de la mafiaÂ\\xa0Â». Nâ€™ayant jamais pu digÃ©rer lâ€™effondrement de lâ€™URSS, ils partagent la mÃªme Â«Â\\xa0soif de revancheÂ\\xa0Â».\\nImplacable et tentaculaire, le systÃ¨me mis en place par Poutine repose sur deux piliers, les hydrocarbures et le petit groupe de ses fidÃ¨les Ã\\xa0 qui il a confiÃ© le contrÃ´le des flux financiers. DÃ¨s les premiÃ¨res heures de lâ€™invasion de lâ€™Ukraine, le 24Â\\xa0fÃ©vrierÂ\\xa02022, il les a convoquÃ©s pour un petit coup de semonce. Assurant nâ€™avoir rien Ã\\xa0 reprocher Ã\\xa0 Â«Â\\xa0ceux qui aiment les huÃ®tres et le foie grasÂ\\xa0Â», il les a sommÃ©s de se comporter en Â«Â\\xa0patriotesÂ\\xa0Â», de rapatrier leurs avoirs, de participer Ã\\xa0 lâ€™effort de guerre. Le ton Ã©tait menaÃ§antÂ\\xa0: Â«Â\\xa0Tous ceux qui nous feront dÃ©faut seront punis.Â\\xa0Â» RÃ©unis dans la salle Sainte-Catherine du Kremlin, les nouveaux Â«Â\\xa0boyardsÂ\\xa0Â» ont fait corps avec le chef.\\nLe plus fidÃ¨le dâ€™entre eux, Igor Setchine, est un ancien du renseignement militaire soviÃ©tique. PlacÃ© Ã\\xa0 la tÃªte de Rosneft, la plus grosse entreprise pÃ©troliÃ¨re de Russie, il a Ã©tÃ© mandatÃ© enÂ\\xa02022 pour acheter Ã\\xa0 prix cassÃ© plus de 600 tankers dâ€™occasion destinÃ©s Ã\\xa0 assurer la livraison du brut russe vers les raffineries indiennes et chinoises selon un circuit opaque â€“Â\\xa0navires en fin de vie, cargaisons maquillÃ©es, sociÃ©tÃ©s-Ã©crans dans des paradis fiscaux, tradeurs inconnusâ€¦\\nDepuis la guerre, le pÃ©trole russe est vendu Â«Â\\xa0par des compagnies dont personne nâ€™a jamais entendu parler, basÃ©es le plus souvent aux Emirats arabes unis ou Ã\\xa0 HongkongÂ\\xa0Â», souligne  Vladimir Milov, un ancien vice-ministre de lâ€™Ã©nergie qui vit aujourdâ€™hui en exil. Selon lui, Setchine sâ€™est parfaitement acquittÃ© de sa tÃ¢che, Ã©tant parvenu, Â«Â\\xa0grÃ¢ce Ã\\xa0 ses rÃ©seaux clandestinsÂ\\xa0Â», Ã\\xa0 crÃ©er un marchÃ© parallÃ¨le du pÃ©trole susceptible de Â«Â\\xa0redessiner lâ€™Ã©conomie mondialeÂ\\xa0Â».\\n',\n",
       "              'Donald Trump veut mettre fin au penny\\nLes Etats-Unis vont-ils en finir avec le pennyÂ\\xa0? Le prÃ©sident amÃ©ricain, Donald Trump, aÂ\\xa0ordonnÃ©, dimanche 9Â\\xa0fÃ©vrier, Ã\\xa0 son secrÃ©taire au TrÃ©sor, Scott Bessent, dâ€™arrÃªter la production de cette piÃ¨ce valant un centiÃ¨me de dollar, afin de rÃ©duire les dÃ©penses publiques.\\nÂ«Â\\xa0Pendant bien trop longtemps, les Etats-Unis ont frappÃ© des piÃ¨ces de 1Â\\xa0cent qui nous coÃ»tent littÃ©ralement plus de 2 cents [Ã\\xa0 produire]. Câ€™est du gaspillageÂ\\xa0!Â\\xa0Â», sâ€™est emportÃ© Donald Trump sur son rÃ©seau social Truth Social. Â«Â\\xa0Jâ€™ai demandÃ© au secrÃ©taire au TrÃ©sor dâ€™arrÃªter de produire de nouvelles piÃ¨ces de 1Â\\xa0cent. Eliminons le gaspillage du budget de notre grande nation, mÃªme si câ€™est un cent par un centÂ\\xa0Â», a-t-il Ã©crit.\\nLe milliardaire Elon Musk, qui supervise la commission Ã\\xa0 lâ€™efficacitÃ© gouvernementale (DOGE), avait remis la question sur la table en janvier, rappelant dans un message sur X le coÃ»t de production de 1Â\\xa0penny.\\nLe dÃ©bat nâ€™est pas nouveau aux Etats-Unis, plusieurs textes de loi en ce sens ayant dÃ©jÃ\\xa0 Ã©tÃ© prÃ©sentÃ©s au CongrÃ¨s, sans Ãªtre adoptÃ©s. Et le dÃ©cret de Donald Trump devra probablement Ãªtre approuvÃ© par les parlementaires amÃ©ricains.\\nDes prix arrondis Ã\\xa0 0,05Â\\xa0dollar\\nMais lâ€™actuel secrÃ©taire au TrÃ©sor, Scott Bessent, pourrait simplement donner lâ€™ordre dâ€™arrÃªter la production du penny, avait fait savoir en janvier le professeur dâ€™Ã©conomie Robert Triest de lâ€™universitÃ© de Northeastern (Massachusetts). Les prix seraient probablement arrondis Ã\\xa0Â\\xa00,05Â\\xa0dollar prÃ¨s en cas de suppression du penny, avait-il ajoutÃ©.\\nDonald Trump a fait de la rÃ©duction des dÃ©penses publiques une prioritÃ© de sa nouvelle administration, une mission quâ€™il a confiÃ©e Ã\\xa0 Elon Musk et son Ã©quipe du DOGE.\\nDâ€™autres pays ont dÃ©jÃ\\xa0 supprimÃ© leurs piÃ¨ces de plus faible valeur, comme le Canada, enÂ\\xa02012, qui avait Ã©galement avancÃ© des coÃ»ts de production trop onÃ©reux.\\n',\n",
       "              'Lâ€™extrÃªme droite europÃ©enne Ã\\xa0 lâ€™ombre de Trump\\nLe premier ministre hongrois, Viktor Orban, avait placÃ© la prÃ©sidence tournante de lâ€™Union europÃ©enne, que son pays occupait au second semestre 2024, sous le signe MEGA, Make Europe great again (Â«Â\\xa0rendre sa grandeur Ã\\xa0 lâ€™EuropeÂ\\xa0Â»), comme un dÃ©fi lancÃ© Ã\\xa0 lâ€™Europe quâ€™il abhorre. Le retour tonitruant Ã\\xa0 la Maison Blanche de Donald Trump, pÃ¨re du slogan MAGA, Make America great again, et phare des extrÃªmes droites europÃ©ennes, imposait donc que le sommet de Patriotes pour lâ€™Europe, troisiÃ¨me groupe au Parlement europÃ©en, samedi 8Â\\xa0fÃ©vrier, Ã\\xa0 Madrid, fasse sien, Ã\\xa0 son tour, le cri de ralliement MEGA.\\nAssiste-t-on pour autant Ã\\xa0 la formation de cette Â«Â\\xa0internationale rÃ©actionnaireÂ\\xa0Â» dÃ©noncÃ©e par le prÃ©sident Emmanuel MacronÂ\\xa0? Une filiale europÃ©enne du trumpisme est-elle en train dâ€™Ã©mergerÂ\\xa0? Lâ€™atmosphÃ¨re triomphaliste dans laquelle a baignÃ© cette rÃ©union publique, accueillie par le parti espagnol dâ€™extrÃªme droite Vox, sâ€™explique incontestablement par le vent puissant qui souffle dâ€™outre-Atlantique. La croisade libertarienne du prÃ©sident argentin, Javier Milei, qui a adressÃ© un message de soutien par vidÃ©o Ã\\xa0 ses frÃ¨res de combat europÃ©ens, et lâ€™ouragan Trump ont donnÃ© aux leaders nationaux-populistes europÃ©ens prÃ©sents le sentiment que lâ€™heure de la Â«Â\\xa0reconquistaÂ\\xa0Â» â€“ un terme utilisÃ© par plusieurs dâ€™entre eux â€“ Ã©tait arrivÃ©e sur le Vieux Continent.\\nAu terme Â«Â\\xa0reconquÃªteÂ\\xa0Â», Marine Le Pen, fondatrice du Rassemblement national (RN), a prÃ©fÃ©rÃ© celui de Â«Â\\xa0renaissanceÂ\\xa0Â», pour des raisons sans doute hexagonales. Elle voit dans le Â«Â\\xa0dÃ©fi de puissanceÂ\\xa0Â» que reprÃ©sente la victoire de Trump Â«Â\\xa0une exhortation Ã\\xa0 une existence dans le monde qui vient, dans lâ€™histoire qui sâ€™Ã©critÂ\\xa0Â».\\nPoints de discorde\\nComme dâ€™autres orateurs, cependant, MmeÂ\\xa0Le Pen nâ€™a pas Ã©chappÃ© aux contradictions qui ont marquÃ© les discours de plusieurs de ces dirigeants dâ€™extrÃªme droite. Il y a, bien sÃ»r, les points qui les rassemblent, de Viktor Orban Ã\\xa0 Matteo Salvini, chef de la Ligue italienne, du nÃ©erlandais Geert Wilders au tchÃ¨que Andrej BabisÂ\\xa0: le rejet de lâ€™immigration et le discours anti-islamique, lâ€™opposition aux normes environnementales et au Green Deal europÃ©en, le combat contre le Â«Â\\xa0wokismeÂ\\xa0Â» et le multiculturalisme.\\nMais il y a aussi les points de discorde, et ceux que certains dâ€™entre eux ont prÃ©fÃ©rÃ© passer sous silence. Viktor Orban a attaquÃ© les dÃ©penses engagÃ©es par lâ€™Europe pour soutenir lâ€™Ukraine dans Â«Â\\xa0une guerre sans espoirÂ\\xa0Â», un sujet que les autres ont soigneusement Ã©vitÃ©. Santiago Abascal, le chef de Vox, a exprimÃ© son soutien Ã\\xa0 Alice Weidel, la candidate du parti dâ€™extrÃªme droite Alternative pour lâ€™Allemagne (AfD), mais nâ€™a pas Ã©tÃ© suivi par ses amis europÃ©ens, qui considÃ¨rent lâ€™AfD comme toxique au Parlement europÃ©en. Aucune mention nâ€™a Ã©tÃ© faite de lâ€™intention du prÃ©sident Trump dâ€™imposer des droits de douane Ã\\xa0 lâ€™Europe, ni de sa proposition dâ€™expulser 2Â\\xa0millions de Palestiniens de Gaza, ni de sa demande dâ€™un doublement des dÃ©penses de dÃ©fense des EuropÃ©ens, ni de la mainmise de lâ€™oligarchie numÃ©rique sur lâ€™Etat fÃ©dÃ©ral amÃ©ricain. Marine Le Pen, pour sa part, a Ã©vitÃ© dâ€™aborder une vision Ã©conomique libÃ©rale Ã©loignÃ©e du programme du RN.\\nA lâ€™heure oÃ¹ certains politiques de centre droit, comme le chef de lâ€™Union chrÃ©tienne-dÃ©mocrateÂ\\xa0allemande, Friedrich Merz, risquent un rapprochement controversÃ© avec lâ€™extrÃªme droite, le Â«Â\\xa0sommet des MEGAÂ\\xa0Â» a montrÃ© les ambiguÃ¯tÃ©s de la dynamique de ses leadersÂ\\xa0: en se plaÃ§ant dans la lumiÃ¨re de Trump, ils braquent aussi le projecteur sur le malaise que provoque leur association aux politiques MAGA les plus radicales.\\n',\n",
       "              'AprÃ¨s avoir rompu leurs liens avec le rÃ©seau russe, les pays baltes achÃ¨vent leur intÃ©gration au rÃ©seau Ã©lectrique de lâ€™UE\\nLes pays baltes ont achevÃ© dimanche 9Â\\xa0fÃ©vrier leur intÃ©gration au rÃ©seau Ã©lectrique europÃ©en, aprÃ¨s avoir rompu leurs liens avec le rÃ©seau russe. Â«Â\\xa0Il y a quelques instants, jâ€™ai reÃ§u une grande nouvelle. La synchronisation du systÃ¨me Ã©lectrique des pays baltes avec celui de lâ€™Europe continentale a Ã©tÃ© achevÃ©e avec succÃ¨sÂ\\xa0Â», a dÃ©clarÃ© le prÃ©sident lituanien, Gitanas Nauseda, Ã\\xa0 la presse Ã\\xa0 Vilnius. Il sâ€™est exprimÃ© aux cÃ´tÃ©s de son homologue estonien, Alar Karis, de son homologue letton, Edgars Rinkevics, de la prÃ©sidente de la Commission europÃ©enne, Ursula von der Leyen, et du prÃ©sident polonais, Andrej Duda.\\nÂ«Â\\xa0Aujourdâ€™hui, nous connectons les pays baltes au rÃ©seau Ã©lectrique de lâ€™Europe continentale. Nous coupons les derniers liens avec la Russie. Nous sommes enfin libÃ©rÃ©s des menaces et du chantage. Câ€™est un jour historiqueÂ\\xa0!Â\\xa0Â», sâ€™est fÃ©licitÃ©e MmeÂ\\xa0von der Leyen sur X.\\nAnciens Etats soviÃ©tiques, la Lituanie, lâ€™Estonie et la Lettonie, aujourdâ€™hui membres de lâ€™Union europÃ©enne et de lâ€™OTAN, sâ€™efforcent de procÃ©der Ã\\xa0 ce changement depuis que la Russie a envahi lâ€™Ukraine enÂ\\xa02022. Fervents partisans de lâ€™Ukraine, ils redoutaient de faire lâ€™objet dâ€™un chantage de la Russie par le biais de lâ€™approvisionnement en Ã©lectricitÃ©.\\nÂ«Â\\xa0Guerre hybrideÂ\\xa0Â»\\nÂ«Â\\xa0Il sâ€™agit dâ€™un moment historique qui marque la fin dâ€™un long voyage (â€¦). Nous sommes parvenus Ã\\xa0 une indÃ©pendance Ã©nergÃ©tique totale. La pÃ©riode de pression et de chantage politiques est enfin terminÃ©eÂ\\xa0Â», a ajoutÃ© M. Nauseda. Les pays baltes ont intÃ©grÃ© le rÃ©seau europÃ©en par lâ€™intermÃ©diaire de la Pologne. Câ€™est Â«Â\\xa0un dÃ©veloppement marquantâ€¦ pour lâ€™ensemble de lâ€™Union europÃ©enneÂ\\xa0Â», a jugÃ© le prÃ©sident polonais Andrzej Duda, Â«Â\\xa0lâ€™Ã©tape finale vers lâ€™Ã©mancipation de la sphÃ¨re de dÃ©pendance post-soviÃ©tiqueÂ\\xa0Â».\\nAu total, 1,6Â\\xa0milliard dâ€™euros, essentiellement des fonds europÃ©ens, ont Ã©tÃ© investis dans ce projet. M.Â\\xa0Nauseda a appelÃ© Ã\\xa0 une Â«Â\\xa0action substantielle au niveau de lâ€™Union europÃ©enneÂ\\xa0Â» pour amÃ©liorer les infrastructures critiques des pays baltes. Â«Â\\xa0Il est temps de sÃ©curiser nos acquis. La guerre de la Russie contre lâ€™Ukraine a radicalement transformÃ© la perception des menaces qui pÃ¨sent sur les infrastructures critiques en EuropeÂ\\xa0Â», a-t-il affirmÃ©.\\nÂ«Â\\xa0Les rÃ©cents incidents impliquant des infrastructures sous-marines dans la mer Baltique sont trÃ¨s prÃ©occupants. Et nÃ©cessitent une action fermeÂ\\xa0Â», a-t-il poursuivi. Plusieurs cÃ¢bles sous-marins de tÃ©lÃ©communications et dâ€™Ã©nergie ont Ã©tÃ© sectionnÃ©s dans la mer Baltique au cours des derniers mois. Certains experts et hommes politiques ont accusÃ© la Russie de mener une Â«Â\\xa0guerre hybrideÂ\\xa0Â», notamment en ciblant de maniÃ¨re non conventionnelle lâ€™approvisionnement en Ã©nergie, ce que Moscou dÃ©ment.\\nNi sabotages, ni perturbationsÂ\\xa0de la Russie\\nLe projet de dÃ©connexion du rÃ©seau russe a pris des annÃ©es du fait de problÃ¨mes technologiques et financiers et du besoin de diversifier lâ€™approvisionnement par le biais notamment des cÃ¢bles sous-marins. Les pays baltes ont cessÃ© depuis 2022 dâ€™acheter du gaz et de lâ€™Ã©lectricitÃ© russes, mais leurs rÃ©seaux sont restÃ©s connectÃ©s Ã\\xa0 la Russie et Ã\\xa0 la BiÃ©lorussie, si bien que la rÃ©gulation de la frÃ©quence Ã©tait contrÃ´lÃ©e par Moscou.\\nAussi dÃ©pendaient-ils toujours de la Russie pour un flux dâ€™Ã©lectricitÃ© stable, crucial pour les appareils nÃ©cessitant une alimentation Ã©lectrique fiable, notamment dans lâ€™industrie. Les trois pays se sont dÃ©connectÃ©s samedi matin du rÃ©seau russe sans incident. Ni sabotages ni perturbationsÂ\\xa0: les opÃ©rateurs des rÃ©seaux baltes ont assurÃ© que la Russie avait coopÃ©rÃ©.\\nÂ«Â\\xa0La plus grande surpriseÂ\\xa0Â» samedi est Â«Â\\xa0quâ€™il nâ€™y a pas de surpriseÂ\\xa0Â», a ainsi dÃ©clarÃ© Ã\\xa0 lâ€™Agence France-Presse lâ€™opÃ©rateur letton AST. Le ministre de lâ€™Ã©nergie ukrainien, German Galushchenko, a saluÃ© samedi cette dÃ©connexion comme un Â«Â\\xa0Ã©vÃ©nement important pour toute lâ€™EuropeÂ\\xa0Â». Â«Â\\xa0De telles mesures privent lâ€™agresseur de la possibilitÃ© dâ€™utiliser le secteur de lâ€™Ã©lectricitÃ© Ã\\xa0 des fins de chantage et de jeux politiquesÂ\\xa0Â», sâ€™est-il rÃ©joui.\\n\\n',\n",
       "              'Au Bangladesh, plus de 1Â\\xa0300Â\\xa0personnes arrÃªtÃ©es dans une opÃ©ration de police\\nLa police bangladaise a annoncÃ©, lundi 10Â\\xa0fÃ©vrier, avoir arrÃªtÃ© plus de 1Â\\xa0300 personnes lors dâ€™une vaste opÃ©ration baptisÃ©e Â«Â\\xa0Chasse aux dÃ©monsÂ\\xa0Â» visant des gangs soupÃ§onnÃ©s par le gouvernement dâ€™Ãªtre liÃ©s Ã\\xa0 lâ€™ex-premiÃ¨re ministre dÃ©chue Sheikh Hasina.\\nJahangir Alam Chowdhury, Ã\\xa0 la tÃªte du ministÃ¨re de lâ€™intÃ©rieur du gouvernement provisoire mis en place aprÃ¨s la fuite de MmeÂ\\xa0Hasina aprÃ¨s des semaines de manifestations, a promis de poursuivre cette opÃ©ration Â«Â\\xa0jusquâ€™Ã\\xa0 ce que les dÃ©mons soient dÃ©racinÃ©sÂ\\xa0Â». Selon le porte-parole de la police, Inamul Haque Sagar, depuis le dÃ©but de cette campagne de rÃ©pression samedi, Â«Â\\xa01Â\\xa0308Â\\xa0personnes ont Ã©tÃ© arrÃªtÃ©es Ã\\xa0 travers le paysÂ\\xa0Â».\\nCes arrestations font suite Ã\\xa0 une sÃ©rie de troubles. DÃ©but fÃ©vrier, six mois aprÃ¨s la fuite de lâ€™ex-dirigeante, des manifestants ont dÃ©truit plusieurs bÃ¢timents liÃ©s Ã\\xa0 sa famille, aprÃ¨s avoir appris que MmeÂ\\xa0Hasina, 77Â\\xa0ans, devait sâ€™adresser Ã\\xa0 ses partisans sur Facebook depuis lâ€™Inde voisine, oÃ¹ elle a trouvÃ© refuge. Elle est poursuivie par la justice bangladaise pour crimes contre lâ€™humanitÃ© et fait lâ€™objet de plusieurs mandats dâ€™arrÃªt internationaux.\\nParmi les bÃ¢timents dÃ©truits, la maison transformÃ©e en musÃ©e de son pÃ¨re, le premier prÃ©sident du pays, Sheikh Mujibur Rahman, dans la capitale, Dacca. Des militants des droits civiques ont condamnÃ© ces saccages. Des manifestants anti-Hasina et des membres de son parti, la Ligue Awami, se sont Ã©galement affrontÃ©s.\\nMessages sur les rÃ©seaux sociaux\\nLe gouvernement a attribuÃ© la responsabilitÃ© de ces violences Ã\\xa0 lâ€™ex-premiÃ¨re ministre, qui a dirigÃ© le pays dâ€™une main de fer de 2009 jusquâ€™Ã\\xa0 son exil et qui multiplie les messages sur les rÃ©seaux sociaux, galvanisant ses partisans. Le Prix Nobel de la paix, Muhammad Yunus, Ã\\xa0 la tÃªte du gouvernement intÃ©rimaire, a appelÃ© au calme, vendredi.\\nPeu aprÃ¨s, des membres du mouvement Â«Â\\xa0Les Ã©tudiants contre la discriminationÂ\\xa0Â», Ã\\xa0 lâ€™origine des manifestations de lâ€™Ã©tÃ© 2024, ont Ã©tÃ© attaquÃ©s Ã\\xa0 Dacca. Des membres de ce collectif, dont certains font partie du gouvernement intÃ©rimaire, ont exigÃ© des mesures Ã\\xa0 lâ€™encontre des auteurs de ces agressions.\\nLe gouvernement a affirmÃ© avoir lancÃ© son opÃ©ration aprÃ¨s que des gangs Â«Â\\xa0liÃ©s Ã\\xa0 lâ€™ancien rÃ©gime autocratique eurent attaquÃ© un groupe dâ€™Ã©tudiants, dont certains ont Ã©tÃ© gravement blessÃ©sÂ\\xa0Â».\\nFace aux inquiÃ©tudes, le gouvernement sâ€™est montrÃ© rassurant, lâ€™attachÃ© de presse de M.Â\\xa0Yunus, Shafiqul Alam, affirmant quâ€™un Â«Â\\xa0centre de commandementÂ\\xa0Â» supervise le maintien de lâ€™ordre.\\nMais lâ€™avocat de la Cour suprÃªme, Snehadri Chakravarti, a critiquÃ© ces opÃ©rations, estimant que des Â«Â\\xa0innocentsÂ\\xa0Â» pourraient Ãªtre arrÃªtÃ©s sans que cela permette de rÃ©soudre les problÃ¨mes principaux. Â«Â\\xa0Je ne pense pas que cette campagne amÃ©liorera de maniÃ¨re significative lâ€™ordre public qui se dÃ©tÃ©rioreÂ\\xa0Â», a-t-il dÃ©clarÃ©. Â«Â\\xa0Pour moi, câ€™est de la poudre aux yeux.Â\\xa0Â»\\n',\n",
       "              'En Allemagne, Olaf Scholz et Friedrich Merz sâ€™affrontent sur lâ€™immigration et lâ€™extrÃªme droite\\nLe chancelier allemand, Olaf Scholz, a reprochÃ©, dimanche 9Â\\xa0fÃ©vrier, Ã\\xa0 son rival conservateur Friedrich Merz dâ€™avoir Â«Â\\xa0trahi sa paroleÂ\\xa0Â» en prÃ©sentant au Parlement des textes soutenus par lâ€™extrÃªme droite, lors dâ€™un duel tÃ©lÃ©visÃ©, avant les Ã©lections lÃ©gislatives prÃ©vues pour le 23Â\\xa0fÃ©vrierÂ\\xa02025.\\nLors de ce premier dÃ©bat entre le dirigeant social-dÃ©mocrate et le favori pour lui succÃ©der Ã\\xa0 la chancellerie, Olaf Scholz a estimÃ© que la manÅ“uvre de M.Â\\xa0Merz avait Â«Â\\xa0brisÃ© un tabouÂ\\xa0Â» dans la politique allemande, et quâ€™il avait, en consÃ©quence, Â«Â\\xa0perdu confianceÂ\\xa0Â» dans les engagements de son adversaire.\\nAprÃ¨s que les conservateurs ont fait adopter fin janvier une motion sur la politique migratoire avec le soutien du parti dâ€™extrÃªme droite Alternative fÃ¼r Deutschland (AfD), Â«Â\\xa0personne ne peut dire de quoi lâ€™avenir sera fait lorsque les choses redeviendront difficilesÂ\\xa0Â», a lancÃ© M.Â\\xa0Scholz Ã\\xa0 son adversaire.\\nFriedrich Merz a, lui, de nouveau rejetÃ© toute idÃ©e dâ€™alliance avec lâ€™AfD, deuxiÃ¨me dans les sondages, derriÃ¨re les conservateurs, et devant le Parti social-dÃ©mocrate (SPD) du chancelier. Une telle collaboration Â«Â\\xa0nâ€™aura pas lieuÂ\\xa0Â», a martelÃ© Friedrich Merz car selon lui Â«Â\\xa0il nâ€™y a pas de terrain dâ€™ententeÂ\\xa0Â» possible entre sa formation et le parti dâ€™extrÃªme droite que tout Â«Â\\xa0sÃ©pareÂ\\xa0Â», sur des questions de fond comme Â«Â\\xa0lâ€™Europe, lâ€™OTAN, lâ€™euro, la Russie, lâ€™AmÃ©riqueÂ\\xa0Â».\\nLe camp conservateur CDU/CSU a provoquÃ© une onde de choc politique en sâ€™appuyant sur lâ€™AfD pour faire adopter le 29Â\\xa0janvier au Bundestag une motion non contraignante, visant Ã\\xa0 bloquer tous les Ã©trangers sans papiers Ã\\xa0 la frontiÃ¨re, y compris les demandeurs dâ€™asile. Deux jours plus tard, il a Ã©chouÃ© de peu Ã\\xa0 faire passer un texte de loi sur lâ€™immigration avec les voix de lâ€™AfD.\\nÂ«Â\\xa0Comment peut-on Ãªtre aussi stupideÂ\\xa0?Â\\xa0Â»\\nLa politique migratoire a occupÃ© une place importante dans ce premier dÃ©bat tÃ©lÃ©visÃ© entre Olaf Scholz et Friedrich Merz, qui ont optÃ© pour un ton particuliÃ¨rement offensif.\\nÂ«Â\\xa0Comment peut-on Ãªtre aussi stupideÂ\\xa0?Â\\xa0Â», sâ€™est emportÃ© le chancelier Ã\\xa0 propos de certaines des propositions de son adversaire sur les questions dâ€™asile. Il lui a reprochÃ© de risquer Â«Â\\xa0une crise europÃ©enneÂ\\xa0Â» en prÃ´nant une fermeture des frontiÃ¨res allemandes aux demandeurs dâ€™asile.\\nOlaf Scholz a assurÃ© que sous la coalition quâ€™il a dirigÃ©e depuis fin 2021, Â«Â\\xa0il nâ€™y a jamais eu de lois plus sÃ©vÃ¨resÂ\\xa0Â» sur lâ€™immigration.\\nÂ«Â\\xa0Vous ne vivez pas dans ce monde, ce que vous racontez ici est un conte de fÃ©es qui nâ€™a presque rien Ã\\xa0 voir avec ce qui se passe dans la rÃ©alitÃ© des villes et des communes dâ€™AllemagneÂ\\xa0Â», a rÃ©torquÃ© son rival conservateur.\\nEn politique Ã©trangÃ¨re, les deux hommes se sont trouvÃ©s moins Ã©loignÃ©s, notamment sur le conflit au Proche-Orient. Le chancelier allemandÂ\\xa0a qualifiÃ© de Â«Â\\xa0scandaleÂ\\xa0Â» la proposition du prÃ©sident amÃ©ricain, Donald Trump, prÃ©voyant notamment un contrÃ´le amÃ©ricain de la bande de Gaza et le dÃ©placement des Palestiniens. Â«Â\\xa0Le dÃ©placement de population est inacceptable et contraire au droit internationalÂ\\xa0Â», a rappelÃ© Olaf Scholz. Â«Â\\xa0Je partage cette apprÃ©ciationÂ\\xa0Â», a abondÃ© Friedrich Merz, ajoutant toutefoisÂ\\xa0: Â«Â\\xa0Il faut attendre de voir ce qui est vraiment sÃ©rieux et comment cela sera mis en Å“uvre. Il y a probablement aussi beaucoup de rhÃ©torique.Â\\xa0Â»\\n\\n',\n",
       "              \"An error occurred: 'charmap' codec can't decode byte 0x9d in position 2512: character maps to <undefined>\",\n",
       "              'Simon Alzraa, la mode faite maison\\nPassionnÃ© dâ€™architecture depuis lâ€™adolescence, Simon Alzraa pensait en faire son mÃ©tier. Câ€™est finalement sur des vÃªtements masculins que ce diplÃ´mÃ© de lâ€™Essec, passÃ© par les services commerciaux ou de merchandising des marques Loewe, Celine ou Rimowa, projette dÃ©sormais ses envies de lignes et de courbes avec sa marque Berni nÃ©e en 2024.\\nIl propose un vestiaire dâ€™essentiels pour homme, taillÃ©s dans des cotons doux ou de la toile Ã©paisse. Â« Jâ€™ai pensÃ© la marque comme une maison, avec pour inspiration lâ€™architecture moderniste amÃ©ricaine, les rÃ©alisations de John Lautner ou de Frank Lloyd Wright Â», explique le trentenaire.\\nLe logo quâ€™il a imaginÃ© reprend peu ou prou la silhouette de la Sheats Goldstein Residence, villa signÃ©e John Lautner, Ã\\xa0 Los Angeles. Une immense maison triangulaire, toute en baies vitrÃ©es et bordÃ©e de verdure, avec une vue plongeante sur la vallÃ©e. Le menu du site Internet de Berni dÃ©roule aussi les diffÃ©rentes piÃ¨ces de la maison : le Â« thÃ©Ã¢tre Â» permet de voir les vidÃ©os mettant en scÃ¨ne la collection tandis que le salon invite Ã\\xa0 parcourir les albums photo de la jeune marque.\\nEt câ€™est Ã©videmment dans le closet (Â« dressing Â») que lâ€™on trouve les chemises aux plastrons plissÃ©s inspirÃ©es dâ€™Ernest Hemingway, les pantalons en toile solide et Ã\\xa0 la taille Ã©lastique ou bien encore les vestes courtes et zippÃ©es fabriquÃ©es dans un coton tissÃ©.\\n',\n",
       "              \"An error occurred: 'charmap' codec can't decode byte 0x9d in position 492: character maps to <undefined>\",\n",
       "              'A Boulogne-Billancourt, Elisabeth de Maistre, la candidate des RÃ©publicains, Ã©lue dÃ©putÃ©e\\nLâ€™adjointe au maire de Boulogne-Billancourt, Elisabeth de Maistre, 49Â\\xa0ans, a Ã©tÃ© Ã©lue dÃ©putÃ©e, dimanche 9Â\\xa0fÃ©vrier, dans la 9eÂ\\xa0circonscription des Hauts-de-Seine au cours dâ€™une lÃ©gislative partielle, redonnant aux RÃ©publicains (LR) le siÃ¨ge quâ€™ils avaient perdu enÂ\\xa02017. Elle a remportÃ© 59,65Â\\xa0% des votes exprimÃ©s, contre 40,35Â\\xa0% pour son adversaire, Antoine de Jerphanion (Horizons).\\nAvocate puis assistante parlementaire de la sÃ©natrice LR Christine Lavarde, MmeÂ\\xa0de Maistre est entrÃ©e en politique enÂ\\xa02014, en soutien au maire de Boulogne-Billancourt, Pierre-Christophe Baguet, Ã©galement LR. Â«Â\\xa0Jâ€™Ã©tais juste une administrÃ©e satisfaite de son maireÂ\\xa0Â», a-t-elle expliquÃ© Ã\\xa0 lâ€™Agence France-Presse (AFP).\\nUn soutien quâ€™il lui a rendu pendant la campagne de cette lÃ©gislative partielle, dÃ©clenchÃ©e quand StÃ©phane SÃ©journÃ©, Ã©lu en juilletÂ\\xa02024, a Ã©tÃ© nommÃ© commissaire europÃ©en lâ€™automne suivant. M.Â\\xa0Baguet sâ€™est prÃ©sentÃ© comme supplÃ©ant de Mme de Maistre quand elle a Ã©tÃ© formellement dÃ©signÃ©e candidate par Les RÃ©publicains en janvier.\\nÂ«Â\\xa0Ce nâ€™est pas une dÃ©butanteÂ\\xa0Â», expliquait-il, rappelant quâ€™outre ses fonctions dâ€™attachÃ©e parlementaire, elle a Å“uvrÃ© comme maire adjointe chargÃ©e de la petite enfance. Â«Â\\xa0Câ€™est le deuxiÃ¨me budget de la villeÂ\\xa0Â», souligne la nouvelle dÃ©putÃ©e. InterrogÃ©e sur la maniÃ¨re dont elle compte exercer son mandat, elle assure vouloir Â«Â\\xa0voter les lois avec [son] groupeÂ\\xa0Â», LR.\\nÂ«Â\\xa0Ce soir, la droite avec Elisabeth de Maistre remporte lâ€™Ã©lection lÃ©gislative de Boulogne-Billancourt. Bravo dâ€™avoir portÃ© avec force nos valeursÂ\\xa0Â», a dÃ©clarÃ© Laurent Wauquiez, chef des dÃ©putÃ©s LR, sur X. De son cÃ´tÃ©, le ministre de lâ€™intÃ©rieur, Bruno Retailleau, a fÃ©licitÃ© MmeÂ\\xa0de Maistre, soulignant Â«Â\\xa0une dynamique encourageanteÂ\\xa0Â», selon laquelle Â«Â\\xa0lorsque la droite assume pleinement ses convictions, sâ€™exprime avec clartÃ© et sincÃ©ritÃ©, elle sait rassembler et convaincreÂ\\xa0Â».\\n',\n",
       "              'Droit du solÂ\\xa0: le ministre de lâ€™Ã©conomie, Eric Lombard, estime quâ€™il nâ€™y a Â«Â\\xa0pas de raisonÂ\\xa0Â» de durcir les rÃ¨gles\\nAlors que le sujet a Ã©tÃ© mis en dÃ©bat par le ministre de lâ€™intÃ©rieur, Bruno Retailleau, et le garde des sceaux, GÃ©rald Darmanin, tous deux issus de la droite, le ministre de lâ€™Ã©conomie, Eric Lombard, a estimÃ© dimanche 9Â\\xa0fÃ©vrier quâ€™il nâ€™y avait Â«Â\\xa0pas de raisonÂ\\xa0Â» de durcir les rÃ¨gles du droit du sol en France.\\nÂ«Â\\xa0Il me semble que le dispositif lÃ©gislatif actuel est tout Ã\\xa0 fait satisfaisantÂ\\xa0Â», a dÃ©clarÃ© le ministre, pour sa part venu de la gauche et ancien fidÃ¨le de Michel Rocard, lors dâ€™un entretien au Â«Â\\xa0Grand JuryÂ\\xa0Â», Ã©mission organisÃ©e par RTL, M6, Le Figaro et Public SÃ©nat.\\nDurcir les rÃ¨gles Â«Â\\xa0ne me paraÃ®t pas nÃ©cessaireÂ\\xa0Â», a-t-il insistÃ©, Â«Â\\xa0en termes de politique publique, il faut rÃ©pondre aux problÃ¨mes qui se posent et il me semble que cela nâ€™est pas un problÃ¨me qui se poseÂ\\xa0Â».\\nUn dÃ©bat qui monte au sein du gouvernement\\nM.Â\\xa0Lombard a en revanche refusÃ© de mettre sa dÃ©mission dans la balance si des mesures allant dans le sens dâ€™un durcissement du droit du sol Ã©taient approuvÃ©es. Â«Â\\xa0Il nâ€™y a pas de conflit, il y a des histoires personnelles et des expressions politiques diverses, et il y a une ligne dont [le premier ministre] FranÃ§ois Bayrou est garant et dans laquelle je me reconnaisÂ\\xa0Â», a-t-il dÃ©clarÃ©, estimant quâ€™il nâ€™y avait Â«Â\\xa0aucune mise en garde, aucune critiqueÂ\\xa0Â» dans ses propos.\\nÂ«Â\\xa0Si le gouvernement prenait cette dÃ©cisionÂ\\xa0Â», cela se ferait aprÃ¨s un Â«Â\\xa0dialogue et donc je soutiendrais cette position communeÂ\\xa0Â», a-t-il encore arguÃ©.\\nLe dÃ©bat sur un durcissement du droit du sol monte depuis plusieurs jours au sein du fragile gouvernement de FranÃ§ois Bayrou, dont le budget 2025 a Ã©tÃ© adoptÃ© cette semaine.\\nMM. Retailleau et Darmanin appellent Ã\\xa0 durcir les conditions de ce droit, qui permet aux enfants nÃ©s en France de parents Ã©trangers dâ€™accÃ©der automatiquement Ã\\xa0 la nationalitÃ© Ã\\xa0 18Â\\xa0ans. Vendredi, M.Â\\xa0Bayrou a ouvert la porte Ã\\xa0 un dÃ©bat sur le sujet, tout en dÃ©clarant souhaiter Â«Â\\xa0un dÃ©bat public approfondi et beaucoup plus large que Ã§aÂ\\xa0Â» sur Â«Â\\xa0ce que câ€™est quâ€™Ãªtre franÃ§aisÂ\\xa0Â».\\nLa ministre de lâ€™Ã©ducation, Elisabeth Borne, a, elle, dÃ©sapprouvÃ© lâ€™idÃ©e du garde des sceaux de modifier la Constitution pour rÃ©former lâ€™accÃ¨s au droit du sol. Â«Â\\xa0Je pense que ce que les FranÃ§ais attendent de nous, ce sont des actes et pas de renvoyer Ã\\xa0 une future modification constitutionnelleÂ\\xa0Â», a-t-elle dÃ©clarÃ© vendredi.\\nDimanche, lâ€™ancien prÃ©sident socialiste FranÃ§ois Hollande, a pour sa part jugÃ© Â«Â\\xa0inutileÂ\\xa0Â» de dÃ©battre sur la question du droit du sol, appelant Ã\\xa0 sâ€™en tenir aux Â«Â\\xa0rÃ¨gles qui existent dans notre pays, qui sont rÃ©publicainesÂ\\xa0Â».\\nM.Â\\xa0Hollande a exhortÃ© le chef du gouvernement Ã\\xa0 Â«Â\\xa0prendre des dÃ©cisionsÂ\\xa0Â», Ã\\xa0 Â«Â\\xa0agirÂ\\xa0Â», plutÃ´t quâ€™Ã\\xa0 Â«Â\\xa0ouvrir des dÃ©batsÂ\\xa0Â». Le patron du PS, Olivier Faure avait, lui, estimÃ© quâ€™un dÃ©bat sur lâ€™identitÃ© nationale nâ€™Ã©tait Â«Â\\xa0pas tabouÂ\\xa0Â».\\n',\n",
       "              \"An error occurred: 'charmap' codec can't decode byte 0x9d in position 2017: character maps to <undefined>\",\n",
       "              'GÃ©rald Darmanin propose dâ€™accÃ©lÃ©rer les procÃ©dures dâ€™expulsion en supprimant une commission ad hoc\\nLe garde des sceaux, GÃ©rald Darmanin, a proposÃ©, dimanche 9Â\\xa0fÃ©vrier sur BFM-TV, dâ€™accÃ©lÃ©rer les procÃ©dures dâ€™expulsion en supprimant une commission ad hoc, aprÃ¨s lâ€™annulation par la justice administrative de lâ€™expulsion de Â«Â\\xa0DoualemnÂ\\xa0Â», surnom de lâ€™influenceur algÃ©rien Boualem Naman. Â«Â\\xa0Ce quâ€™a dit le tribunal administratif, câ€™est quâ€™on ne pouvait pas passer par la procÃ©dure dâ€™urgence, rÃ©servÃ©e aux agents trÃ¨s dangereux, type terroristeÂ\\xa0Â», a poursuivi M. Darmanin.\\nÂ«Â\\xa0Si la cour dâ€™appel ou le Conseil dâ€™Etat ne devaient pas donner raison au ministre de lâ€™intÃ©rieurÂ\\xa0Â», qui a fait appel, Â«Â\\xa0il faudra[it] changer la loiÂ\\xa0Â» car Â«Â\\xa0la France doit pouvoir expulser les personnes Ã©trangÃ¨res de son territoireÂ\\xa0Â», a encore assurÃ© le ministre.\\nÂ«Â\\xa0Quand vous passez par la procÃ©dure dâ€™urgence, câ€™est plus rapide, vous ne passez pas devant la Comex [la commission dâ€™expulsion des Ã©trangers], une commission de magistrats qui dÃ©cident si vous avez raison ou pasÂ\\xa0Â», a remarquÃ© le locataire de la place VendÃ´me.\\nÂ«Â\\xa0Faut-il supprimer la ComexÂ\\xa0? OuiÂ\\xa0Â»\\nÂ«Â\\xa0Faut-il supprimer la ComexÂ\\xa0? OuiÂ\\xa0Â», a affirmÃ© GÃ©rald Darmanin. MÃªme si elle donne un Â«Â\\xa0avis consultatifÂ\\xa0Â» quâ€™il lui Â«Â\\xa0est arrivÃ©Â\\xa0Â» de ne pas suivre quand il Ã©tait Ã\\xa0 lâ€™intÃ©rieur, les dÃ©cisions dâ€™expulsion Â«Â\\xa0Ã§a prend beaucoup de tempsÂ\\xa0Â» et Â«Â\\xa0les FranÃ§ais se demandent pourquoi perdre autant de tempsÂ\\xa0Â».\\nM.Â\\xa0Darmanin a par ailleurs dit que son homologue Ã\\xa0 lâ€™intÃ©rieur, Bruno Retailleau, Â«Â\\xa0a raison de vouloir expulser des gens (â€¦) qui crachent sur la FranceÂ\\xa0Â». Â«Â\\xa0Il a raison, oui, mille fois oui. On a de la chance de lâ€™avoir Place BeauvauÂ\\xa0Â», a insistÃ© celui qui occupait auparavant ce poste.\\nSur le maire de BÃ©ziers, Robert MÃ©nard, qui doit Ãªtre jugÃ© le 18Â\\xa0fÃ©vrier par le tribunal de Montpellier pour avoir refusÃ© Ã\\xa0 lâ€™Ã©tÃ© 2023 de cÃ©lÃ©brer le mariage entre une FranÃ§aise et un ressortissant algÃ©rien en situation irrÃ©guliÃ¨re, M.Â\\xa0Darmanin a dit son souhait que la loi Â«Â\\xa0changeÂ\\xa0Â» pour que le maire puisse Â«Â\\xa0sâ€™opposer Ã\\xa0 un mariageÂ\\xa0Â» et a annoncÃ© quâ€™il soutiendrait une proposition de loi en ce sens.\\nRefus de Â«Â\\xa0lâ€™automaticitÃ©Â\\xa0Â»\\nGÃ©rald Darmanin est par ailleurs revenu dimanche soir sur sa proposition de remettre en cause le droit du sol. Â«Â\\xa0Je souhaite quâ€™un enfant nÃ© en France de parents Ã©trangers, lorsquâ€™il aura 16, 18, 20, 21 ans â€“Â\\xa0on peut discuter de cet Ã¢geÂ\\xa0â€“, puisse exprimer une volontÃ© pour devenir franÃ§aisÂ\\xa0Â», a dit M. Darmanin.\\nÂ«Â\\xa0Il faut vouloir Ãªtre franÃ§ais, il faut parler sa langue, connaÃ®tre son histoire, il [ne] sâ€™agit pas de distinguer les gens par leur religion, origine ou couleur de peau, il faut que quelquâ€™un veuille devenir franÃ§aisÂ\\xa0Â», a plaidÃ© M. Darmanin, refusant lâ€™Â«Â\\xa0automaticitÃ©Â\\xa0Â».\\nÂ«Â\\xa0Câ€™est pas une rÃ©volution, câ€™est une Ã©volution radicale, jâ€™assume de [la] porterÂ\\xa0Â», a-t-il dit. Si ce dÃ©bat divise la coalition gouvernementale,Â\\xa0Â«Â\\xa0sur lâ€™essentiel on est dâ€™accordÂ\\xa0Â», a assurÃ© M.Â\\xa0Darmanin.\\nEt sur ce sujet duÂ\\xa0Â«Â\\xa0droit du sol, je ne dis pas que le gouvernement doit trancher ces questions la semaine prochaine, je pense que lâ€™Ã©lection prÃ©sidentielle la trancheraÂ\\xa0Â», a-t-il prÃ©cisÃ©.\\n\\n',\n",
       "              'Le maire de FrÃ©jus convoquÃ© le 30Â\\xa0septembre au tribunal pour prise illÃ©gale dâ€™intÃ©rÃªts\\nLe maire de FrÃ©jus, David Rachline (Rassemblement national, RN), soupÃ§onnÃ© de prise illÃ©gale dâ€™intÃ©rÃªts, est convoquÃ© le 30Â\\xa0septembre devant le tribunal correctionnel de Draguignan (Var), a appris, lundi 10Â\\xa0fÃ©vrier, lâ€™Agence France-Presse (AFP) auprÃ¨s du parquet, confirmant une information du Nouvel Obs.\\nLâ€™affaire, dans laquelle M. Rachline est poursuivi pour Â«Â\\xa0prises illÃ©gales dâ€™intÃ©rÃªtsÂ\\xa0Â», Â«Â\\xa0concerne les conditions de sa nomination Ã\\xa0 la tÃªte des deux sociÃ©tÃ©s dâ€™Ã©conomie mixteÂ\\xa0Â», FrÃ©jus AmÃ©nagement et Gestion du port de FrÃ©jus, a prÃ©cisÃ© Ã\\xa0 lâ€™AFP le procureur de Draguignan, Pierre Couttenier.\\nDans un communiquÃ©, M.Â\\xa0Rachline, maire de FrÃ©jus depuis 2014, sâ€™est dit Â«Â\\xa0serein et confiantÂ\\xa0Â», dÃ©nonÃ§ant un Â«Â\\xa0acharnement mÃ©diatiqueÂ\\xa0Â» et des Â«Â\\xa0polÃ©miques calomnieusesÂ\\xa0Â». Â«Â\\xa0Sur le fond, affirme M. Rachline, lâ€™affaire porte sur des dÃ©libÃ©rations du conseil municipal concernant les deux sociÃ©tÃ©s dâ€™Ã©conomie mixte locale de la ville de FrÃ©jus, Ã\\xa0 une Ã©poque oÃ¹ la loi nâ€™imposait pas aux Ã©lus de se dÃ©porter de ces dÃ©libÃ©rations, en considÃ©rant quâ€™ils nâ€™Ã©taient pas en situation de conflit dâ€™intÃ©rÃªts.Â\\xa0Â»\\nSelon lui, les accusations sont Â«Â\\xa0contredites par la chambre rÃ©gionale des comptes PACA, qui a passÃ© au crible tous les actes de gestion et les marchÃ©s publics de la ville de FrÃ©jus, sans retenir aucune infraction pÃ©naleÂ\\xa0Â», et dont le rapport Â«Â\\xa0sera rendu public dâ€™ici quelques semainesÂ\\xa0Â».\\nEn dÃ©cembreÂ\\xa02023, la justice avait ouvert une enquÃªte sur le maire de FrÃ©jus Ã\\xa0 la suite de la publication du livre Les Rapaces, Ã©crit par une journaliste de Lâ€™Obs (redevenu Le Nouvel Obs en marsÂ\\xa02024), Camille Vigogne Le Coat et mettant en cause sa gestion de cette citÃ© balnÃ©aire de 56Â\\xa0000Â\\xa0habitants. M.Â\\xa0Rachline avait alors qualifiÃ© les accusations du livre de Â«Â\\xa0pures inventions relayÃ©es par dâ€™anciens collaborateurs Ã©conduits et opposants politiqueÂ\\xa0Â».\\nAgÃ© de 37Â\\xa0ans, David Rachline a gravi Ã\\xa0 grande vitesse les Ã©chelons du parti dâ€™extrÃªme droite. Conseiller municipal de sa ville Ã\\xa0 20Â\\xa0ans, il a dirigÃ© le Front national de la jeunesse et Ã©tÃ© directeur de campagne de Marine LeÂ\\xa0Pen pour lâ€™Ã©lection prÃ©sidentielle de 2017. Cinq ans plus tard, lâ€™ex-sÃ©nateur, rÃ©Ã©lu Ã\\xa0 la tÃªte de sa ville dÃ¨s le premier tour, enÂ\\xa02020, est propulsÃ© deuxiÃ¨me vice-prÃ©sident du parti dâ€™extrÃªme droite.\\n',\n",
       "              \"An error occurred: 'charmap' codec can't decode byte 0x9d in position 2294: character maps to <undefined>\",\n",
       "              'Meurtre de Louise en EssonneÂ\\xa0: la police a procÃ©dÃ© Ã\\xa0 une Â«Â\\xa0fouille minutieuseÂ\\xa0Â» du bois\\nUn Â«Â\\xa0important dispositif de policeÂ\\xa0Â» a Ã©tÃ© dÃ©ployÃ© dimanche aprÃ¨s-midi, selon le parquet dâ€™Evry, pour procÃ©der Ã\\xa0 des fouilles dans un bois de Longjumeau (Essonne), oÃ¹ a Ã©tÃ© retrouvÃ© dans la nuit de vendrediÂ\\xa07Â\\xa0Ã\\xa0 samedi 8Â\\xa0fÃ©vrier, le corps de Louise, une collÃ©gienne de 11Â\\xa0ans.\\nDans un communiquÃ©, le procureur de la RÃ©publique Ã\\xa0 Evry, GrÃ©goire Dulin, prÃ©cise que plus de 120 fonctionnaires de la police nationale ont Ã©tÃ© mobilisÃ©s Â«Â\\xa0pour procÃ©der Ã\\xa0 une fouille minutieuse du bois des TempliersÂ\\xa0Â». Lâ€™objectif des fouilles Ã©tait Â«Â\\xa0la recherche de tout Ã©lÃ©ment potentiellement laissÃ© par lâ€™auteurÂ\\xa0Â», a par ailleurs dÃ©clarÃ© Ã\\xa0 lâ€™Agence France-Presse (AFP) une source proche du dossier.\\nToujours selon lâ€™AFP, les recherches ont pris fin Ã\\xa0 la tombÃ©e de la nuit.\\nUne enquÃªte pour meurtre sur mineur, Â«Â\\xa0confiÃ©e Ã\\xa0 la direction de la criminalitÃ© organisÃ©e et spÃ©cialisÃ©e des Yvelines (DCOS 78) en cosaisine avec la direction nationale de la police judiciaireÂ\\xa0Â», avait Ã©tÃ© ouverte samedi dans la matinÃ©e par le parquet dâ€™Evry, aprÃ¨s la macabre dÃ©couverte Ã\\xa0 Longjumeau, une ville de banlieue situÃ©e Ã\\xa0 une vingtaine de kilomÃ¨tres au sud de Paris.\\nLa jeune fille avait disparu Ã\\xa0 la sortie de son collÃ¨ge Ã\\xa0 Epinay-sur-Orge, une ville limitrophe, vendredi aprÃ¨s-midi. AprÃ¨s des recherches nocturnes, son corps a Ã©tÃ© retrouvÃ© dans le bois des Templiers Ã\\xa0 2Â\\xa0hÂ\\xa030, selon le procureur de la RÃ©publique. Elle a Ã©tÃ© agressÃ©e Â«Â\\xa0avec un objet tranchant dans les parties vitalesÂ\\xa0Â», a dÃ©clarÃ© samedi soir le parquet dâ€™Evry.\\nCe dernier a Ã©galement annoncÃ© quâ€™un couple placÃ© en garde Ã\\xa0 vue avait Ã©tÃ© relÃ¢chÃ©, Â«Â\\xa0sans poursuite Ã\\xa0 ce stadeÂ\\xa0Â». Â«Â\\xa0Les investigations se poursuivent pour dÃ©terminer les circonstances de ces faits criminels et identifier le ou les auteursÂ\\xa0Â», concluait la mÃªme source, dans la soirÃ©e.\\n\\n',\n",
       "              \"An error occurred: 'charmap' codec can't decode byte 0x9d in position 848: character maps to <undefined>\",\n",
       "              'Super Bowl 2025Â\\xa0: les Philadelphia Eagles survolent le match et brisent le rÃªve de triplÃ© des Kansas City Chiefs\\nLa machine Ã\\xa0 gagner sâ€™est enrayÃ©e au moment oÃ¹ lâ€™histoire se prÃ©sentait Ã\\xa0 elle. Les Kansas City Chiefs version 2025 ne seront pas la premiÃ¨re Ã©quipe de lâ€™histoire de la NFL Ã\\xa0 remporter trois Super Bowl consÃ©cutifs. Leur rÃªve sâ€™est brisÃ© sur lâ€™implacable soliditÃ© des Philadelphia Eagles qui se sont imposÃ©s 40Â\\xa0Ã\\xa0 22, dimanche 9Â\\xa0fÃ©vrier Ã\\xa0 la Nouvelle-OrlÃ©ans (Louisiane), au terme dâ€™une rencontre maÃ®trisÃ©e de bout en bout.\\nPour les Eagles, ce deuxiÃ¨me sacre (aprÃ¨s celui de 2018) a unÂ\\xa0goÃ»t sucrÃ© puisquâ€™il sonne comme une revanche aprÃ¨s la dÃ©faite subie dans les derniÃ¨res secondes, il y a deux ans auÂ\\xa0Super Bowl face Ã\\xa0 ces mÃªmes Chiefs (38-35). Mais cette fois, le suspense nâ€™a jamais existÃ©.\\nLes Eagles ont offert une dÃ©monstration totale, dâ€™abord en dÃ©fense, leur point fort qui, Ã\\xa0 ce niveau de compÃ©tition, relÃ¨ve presque de lâ€™art. Sâ€™il fallait dÃ©rouler la liste de tous les malheurs subis par les Chiefs, il faudrait cocher toutes les casesÂ\\xa0: Patrick Mahomes, le quarterback superstar de Kansas City, a subi deux interceptions de passe â€“ dont lâ€™une a directement conduit Ã\\xa0 un touchdown adverse signÃ© Cooper DeJean, le jour de ses 22Â\\xa0ans â€“, ainsi que six Â«Â\\xa0sacksÂ\\xa0Â» (plaquages), un chiffre colossal. Sans oublier un Â«Â\\xa0fumbleÂ\\xa0Â» (une perte de balle) provoquÃ© dans le quatriÃ¨me quart-temps alors que la partie Ã©tait dÃ©jÃ\\xa0 jouÃ©e, preuve de la dÃ©termination et de lâ€™abnÃ©gation des Eagles Ã\\xa0 humilier leurs adversaires jusquâ€™au bout.\\nBaroud dâ€™honneur\\nA vrai dire, la rencontre sâ€™est jouÃ©e dÃ¨s la premiÃ¨re pÃ©riode quand les Eagles ont privÃ© les Chiefs de toute option offensive et coupÃ© le sens de lâ€™improvisation de Patrick Mahomes, qui ne deviendra pas le premier quarterback Ã\\xa0 dÃ©crocher quatre bagues de champion avant ses 30Â\\xa0ans. Son baroud dâ€™honneur en fin de rencontre avec notamment deux touchdowns Ã\\xa0 la passe pour lâ€™expÃ©rimentÃ© DeAndre Hopkins (32Â\\xa0ans) et le jeune Xavier Worthy (21Â\\xa0ans) sauvera les apparences, mais nâ€™effacera pas la sensation dâ€™avoir assistÃ© Ã\\xa0 lâ€™un des pires matchs de sa carriÃ¨re. Â«Â\\xa0Nous nâ€™avons pas commencÃ© comme nous le voulions. Les pertes de balle ont fait mal. Jâ€™en assume toute la responsabilitÃ©, a admis Patrick Mahomes. Je nâ€™ai pas jouÃ© Ã\\xa0 mon niveau.Â\\xa0Â»\\nA lâ€™inverse, Jalen Hurts a livrÃ© un rÃ©cital. Comme un symbole, le quarterback des Eagles a inscrit le premier touchdown de la rencontre dÃ¨s la deuxiÃ¨me possession de son Ã©quipe, au moyen de sa spÃ©cialitÃ©Â\\xa0: le Â«Â\\xa0tush pushÂ\\xa0Â» (la poussÃ©e des fesses). A un yard (91Â\\xa0centimÃ¨tres) de la ligne dâ€™en-but, il se fait pousser par ses coÃ©quipiers pour enfoncer la ligne dÃ©fensive adverse, une stratÃ©gie qui a donnÃ© des maux de tÃªte Ã\\xa0 tous les adversaires de Philadelphie cette saison. Parfois critiquÃ© pour son style et un manque de personnalitÃ©, Jalen Hurts, 26Â\\xa0ans, a rÃ©pondu, dimanche, au meilleur moment en obtenant le titre de MVP (meilleur joueur) de ce Super Bowl quâ€™il termine avec 221Â\\xa0yards (202Â\\xa0mÃ¨tres) Ã\\xa0 la passe et surtout 72Â\\xa0yards (66Â\\xa0m) Ã\\xa0 la course.\\nCâ€™est plus que le coureur attitrÃ© de lâ€™Ã©quipe des Eagles, Saquon Barkley (57Â\\xa0yards, 52Â\\xa0m), auteur dâ€™une saison historique puisque juste avant la mi-temps, il est devenu le joueur ayant cumulÃ© le plus de yards Ã\\xa0 la course sur une annÃ©e (saison rÃ©guliÃ¨re et playoffs inclus), avec au final un total de 2Â\\xa0504Â\\xa0yards (2,3Â\\xa0km), mieux que les 2Â\\xa0476Â\\xa0yards de Terrell Davis enregistrÃ©s il y a vingt-sixÂ\\xa0ans.\\nÂ«Â\\xa0Câ€™est le jeu dâ€™Ã©quipe par excellence, a dÃ©clarÃ© lâ€™entraÃ®neur des Eagles, Nick Sirianni. On ne peut pas Ãªtre excellent sans la grandeur des autres, en attaque, en dÃ©fense.Â\\xa0Â» De fait, Ã\\xa0 la pause, la franchise de Pennsylvanie avait dÃ©roulÃ© son plan de jeu Ã\\xa0 la perfection, au point de mener 24-0, un gouffre dont les Chiefs ne sortiront jamais. Une marge qui aurait presque pu permettre auxÂ\\xa0Eagles de rester sur le terrain pour suivre tranquillement le trÃ¨s attendu show musical assurÃ© par Kendrick Lamar.\\nDonald Trump sâ€™est Ã©clipsÃ© avant la pause\\nLe rappeur californien a donnÃ© un spectacle impeccable, (presque) sans concession. En invitÃ©s surprises, pas dâ€™autres musiciens (SZA Ã©tait annoncÃ©e), mais lâ€™acteur Samuel L. Jackson, grimÃ© en Oncle Sam, qui aÂ\\xa0jouÃ© le maÃ®tre de cÃ©rÃ©monie â€“ ponctuant notamment la performance dâ€™un Â«Â\\xa0Trop fort, trop impÃ©tueux, trop ghettoÂ\\xa0!Â\\xa0Â» â€“ et lâ€™ex joueuse de tennis Serena Williams, qui a livrÃ© quelques pas de danse sur Not Like Us. Lamar nâ€™a pas hÃ©sitÃ© Ã\\xa0 interprÃ©ter son tube controversÃ©, expurgÃ©, toutefois, de lâ€™accusation de pÃ©dophilie la plus directe Ã\\xa0 lâ€™encontre de son rival Drake â€“ le risque juridique Ã©tait probablement trop fort pour la NFL.\\nPrÃ©sent dans les tribunes au coup dâ€™envoi du match â€“ une premiÃ¨re pour un prÃ©sident des Etats-Unis en activitÃ© â€“, Donald Trump nâ€™aura pas assistÃ© Ã\\xa0 la performance musicale. Il sâ€™est Ã©clipsÃ© avant la pause. Il nâ€™aura donc pas vu non plus les Eagles soulever le trophÃ©e Vince Lombardi, rÃ©compensant le vainqueur du Super Bowl.\\nAvant le match, le rÃ©publicain avait annoncÃ© une victoire des Chiefs. La rivalitÃ© Kendrick Lamar-Drake nâ€™Ã©tait pas la seule Ã\\xa0 sâ€™inviter dans la grand-messe du football amÃ©ricainÂ\\xa0: le prÃ©sident et les Eagles ont un passif. EnÂ\\xa02018, lors de son premier mandat, Donald Trump avait annulÃ© la rÃ©ception prÃ©vue Ã\\xa0 la Maison Blanche aprÃ¨s le premier titre de lâ€™histoire de la franchise, en raison du refus de certains joueurs de se lever pendant lâ€™hymne national avant les matchs, en signe de protestation contre les inÃ©galitÃ©s raciales aux Etats-Unis. Le seul suspense qui demeure Ã\\xa0 lâ€™issue du Super Bowl LIX, dimanche soir, est donc de savoir si de retour Ã\\xa0 la Maison Blanche, Donald Trump respectera cette fois la tradition.\\n',\n",
       "              'TennisÂ\\xa0: cinq mois plus tard, Caroline Garcia retrouve le goÃ»t de la victoire\\nSortir dâ€™un court avec le sentiment du devoir accompli et un succÃ¨s en poche, on pourrait penser quâ€™il sâ€™agit du quotidien pour Caroline Garcia. A 31Â\\xa0ans, la Lyonnaise a un palmarÃ¨s Ã\\xa0 faire pÃ¢lir un bon nombre de tenniswomen, franÃ§aises ou nonÂ\\xa0: onze titres en simple, dont le Masters WTA â€“Â\\xa0tournoi de fin dâ€™annÃ©e oÃ¹ sâ€™affrontent les huit meilleures joueuses de la saisonÂ\\xa0â€“, huit en double, dont Roland-Garros deux fois. Lâ€™ancienne numÃ©roÂ\\xa04 mondiale a eu son lot de victoires, mais la 468e en simple a mis du temps Ã\\xa0 arriver.\\nCaroline Garcia ne se souviendra probablement pas ce nombre. Mais dimanche 9Â\\xa0fÃ©vrier, en sâ€™imposant en deux sets face Ã\\xa0 la Chinoise Yue Yuan (6-1, 7-6) pour rallier le deuxiÃ¨me tour du tournoi de Doha, la FranÃ§aise a mis un terme Ã\\xa0 une disette qui durait depuis cinq mois.\\nLe dÃ©but dâ€™annÃ©e de la joueuse, retombÃ©e Ã\\xa0 la 76e place au classement WTA, a Ã©tÃ© rythmÃ© par deux dÃ©faites dâ€™entrÃ©e, sur les courts de lâ€™Open dâ€™Australie contre la Japonaise Naomi Osaka et Ã\\xa0 Abou Dhabi, face Ã\\xa0 la NÃ©o-ZÃ©landaise Lulu Sun. Mais si Caroline Garcia a arrÃªtÃ© de collectionner les victoires, câ€™est surtout parce quâ€™elle ne sâ€™est pas prÃ©sentÃ©e dâ€™un cÃ´tÃ© du filet en match officiel entre septembreÂ\\xa02024Â\\xa0et janvierÂ\\xa02025.\\nLa question de la retraite sâ€™est posÃ©e\\nAprÃ¨s son Ã©limination, par la Polonaise Magdalena Frech, en demi-finales Ã\\xa0 Guadalajara (Mexique), la Lyonnaise a dÃ©cidÃ© de ranger temporairement les raquettes, Ã©puisÃ©e par son quotidien de sportive de haut niveau. Â«Â\\xa0Mentalement, jâ€™ai besoin dâ€™une pause, expliquait la vainqueure de la Fed Cup 2019Â\\xa0sur les rÃ©seaux sociaux. De mâ€™Ã©loigner de la machine Ã\\xa0 broyer du tennis, de prendre de vraies vacances, de me reconnecter avec ma famille et mes proches, et de mâ€™autoriser Ã\\xa0 respirer sans la pression de la performance.Â\\xa0Cette annÃ©e, mon Ã©tat dâ€™esprit a Ã©tÃ© toxique. Jâ€™ai perdu la joie dâ€™Ãªtre une joueuse de tennis, et je suis devenue obsÃ©dÃ©e par le classement et les victoires.Â\\xa0Â»\\nÂ«Â\\xa0FatiguÃ©e de lâ€™anxiÃ©tÃ©, des attaques de panique, des larmes avant les matchsÂ\\xa0Â», elle peinait aussi Ã\\xa0 se dÃ©barrasser dâ€™une blessure Ã\\xa0 lâ€™Ã©paule qui lâ€™a suivie une bonne partie de la saison passÃ©e. Elle a donc coupÃ© avec le tennis pendant un mois et demi, avant de reprendre progressivement. Â«Â\\xa0Câ€™Ã©tait vital pour moi de couperÂ\\xa0Â», rÃ©vÃ©lait Caroline Garcia en dÃ©cembre, Ã\\xa0 Lâ€™Equipe, admettant que la question dâ€™un arrÃªt dÃ©finitif sâ€™Ã©tait posÃ©e. Â«Â\\xa0Parce que je ne supportais plus rien. A la fin de chaque match, victoire ou dÃ©faite, jâ€™Ã©tais juste soulagÃ©e. Je ne savais plus pourquoi je jouais.Â\\xa0Â»\\nAujourdâ€™hui, la FranÃ§aise veut aborder le circuit diffÃ©remment en se mettant moins de pression, en match comme Ã\\xa0 lâ€™entraÃ®nement. Elle a Ã©galement lancÃ© son podcast dans lequel elle interviewe dâ€™autres stars du circuit, Ã\\xa0 lâ€™image de la numÃ©roÂ\\xa02Â\\xa0mondiale, Iga Swiatek, ou de GaÃ«l Monfils. DÃ©sormais sans entraÃ®neur, Caroline Garcia va se concentrer sur les plus gros tournois du calendrier, et cÃ©lÃ©brera sa premiÃ¨re victoire depuis cinq mois par un affrontement au sommet au deuxiÃ¨me tour de Doha. Elle sera opposÃ©e Ã\\xa0 lâ€™Italienne Jasmine Paolini (4e au classement WTA), mardi.\\n',\n",
       "              'Tournoi des six nationsÂ\\xa0: lâ€™Irlande se dÃ©fait de lâ€™Ecosse et continue son sans-faute\\nEt si lâ€™Irlande avait dÃ©jÃ\\xa0 fait le plus durÂ\\xa0? Une semaine aprÃ¨s une victoire arrachÃ©e face Ã\\xa0 lâ€™Angleterre, le XV du TrÃ¨fle a enchaÃ®nÃ© contre lâ€™Ecosse (32-18), dimanche 9Â\\xa0fÃ©vrier, Ã\\xa0 Murrayfield (Edimbourg), lors du Tournoi des six nations. Une performance aboutie qui permet aux hommes du sÃ©lectionneur Simon Easterby de signer un onziÃ¨me succÃ¨s de rang face Ã\\xa0 leurs voisins, et, surtout, de se mettre en trÃ¨s bonne position pour poursuivre une autre sÃ©rieÂ\\xa0: celle des sacres dans la compÃ©tition.\\nVainqueure des deux derniÃ¨res Ã©ditions du Tournoi des six nations , lâ€™Irlande occupe le haut du classement avec ses dix points. Elle est mÃªme la derniÃ¨re nation toujours invaincue, aprÃ¨s la dÃ©faite de France, la veille, en Angleterre, et donc la seule encore en lice pour associer la mention Grand Chelem Ã\\xa0 un Ã©ventuel succÃ¨s final.\\nDimanche, lâ€™Ecosse se prÃ©sentait pourtant dans la peau dâ€™un outsider plein dâ€™ambition.Â\\xa0Mais le public de Murrayfield avait Ã\\xa0 peine fini dâ€™entonner lâ€™hymne national, Flower of Scotland, que lâ€™ambiance gÃ©nÃ©rale Ã©tait refroidie par lâ€™ailier Calvin Nash (8e minute). Lâ€™Irlandais profitait en effet du premier temps fort de son Ã©quipe pour ouvrir le score en aplatissant un essai.\\nLâ€™affaire Ã©tait mal embarquÃ©e pour le XV du Chardon, et lâ€™Ã©quation a rapidement paru insoluble, surtout quand son maÃ®tre Ã\\xa0 jouer Finn Russell fut contraint de sortir Ã\\xa0 la 20e minute, victime dâ€™une commotion cÃ©rÃ©brale.\\nDeux dÃ©placements, et un choc face aux Bleus\\nDepuis les tribunes, lâ€™ex-ouvreur du Racing a assistÃ© impuissant aux vagues vertes sâ€™abattant inlassablement sur lâ€™en-but. Un drÃ´le de phÃ©nomÃ¨ne mÃ©tÃ©orologique, symbolisÃ© par trois nouveaux essais. Juste ce quâ€™il faut pour assortir le succÃ¨s irlandais dâ€™un point de bonus offensif. En face, lâ€™Ecosse a eu le mÃ©rite dâ€™essayer. Lâ€™essai de son surpuissant ailier Duhan van der Merwe juste avant la mi-temps a mÃªme maintenu un temps le suspense.\\nMais le XV du TrÃ¨fle nâ€™est pas du genre Ã\\xa0 laisser ses adversaires remonter au score, aussi impÃ©tueux soient-ils. Un dernier coup dâ€™accÃ©lÃ©rateur Ã\\xa0 lâ€™heure de jeu dans la foulÃ©e de son jeune numÃ©roÂ\\xa010,Â\\xa0Sam Prendergast â€“Â\\xa0faisant presque oublier le temps dâ€™un aprÃ¨s-midi son illustre aÃ®nÃ© Jonathan Sexton, retraitÃ© depuis 2023Â\\xa0â€“, et les supporteurs irlandais pouvaient exulter.\\nDeux semaines aprÃ¨s le dÃ©but de la compÃ©tition, lâ€™Irlande a dÃ©jÃ\\xa0 fait une grosse partie du travail pour garder sa mainmise sur le Tournoi des six nations. La suite de son calendrier a beau indiquer deux dÃ©placements, aucun de ces voyages ne semble sujet aux turbulences, que ce soit chez des Gallois qui font tout Ã\\xa0 lâ€™envers depuis plusieurs mois, ou chez des Italiens qui restent encore loin du niveau requis pour rivaliser avec le XV du TrÃ¨fle. Lâ€™Ã©ventuelle quÃªte dâ€™un nouveau Grand Chelem devrait surtout se jouer Ã\\xa0 Dublin, le 8Â\\xa0mars, oÃ¹ les troupes de Simon Easterby affronteront un XV de France probablement en quÃªte de revanche.\\n',\n",
       "              'VendÃ©e GlobeÂ\\xa0: quel avenir pour les Â«Â\\xa0dÃ©riveursÂ\\xa0Â» face Ã\\xa0 la suprÃ©matie des foileursÂ\\xa0?\\nLes Imoca (monocoques de 18Â\\xa0mÃ¨tres) Ã\\xa0 dÃ©rives droites seront-ils toujours compÃ©titifs lors de la prochaine Ã©dition du VendÃ©e Globe, dans quatre ans, ou la flotte sera-t-elle composÃ©e uniquement dâ€™Imoca Ã\\xa0 foils (appendices latÃ©raux permettant de voler au-dessus des flots)Â\\xa0? Câ€™est la question quâ€™a soulevÃ©e Jean LeÂ\\xa0Cam, 65Â\\xa0ans, aprÃ¨s Ãªtre arrivÃ© vingtiÃ¨me â€“ sur 40Â\\xa0partants, dont 7Â\\xa0abandons â€“ aux Sables-dâ€™Olonne (VendÃ©e), le 4Â\\xa0fÃ©vrier.\\nLe skippeur de Tout-commence-en-FinistÃ¨re-Armor-Lux â€“ un bateau Ã\\xa0 dÃ©rives Ã\\xa0 5Â\\xa0millions dâ€™euros mis Ã\\xa0 lâ€™eau enÂ\\xa02023 et prÃ©sentÃ© comme une solution de rechange raisonnable aux foileurs de derniÃ¨re gÃ©nÃ©ration dâ€™une valeur de 7 Ã\\xa0 8Â\\xa0millions dâ€™euros â€“, a bouclÃ© sa course vingtÂ\\xa0jours aprÃ¨s le vainqueur Charlie Dalin (64Â\\xa0jours et 19Â\\xa0heures) sur son foileur Macif-SantÃ©-PrÃ©voyance.\\nQuatriÃ¨me de la derniÃ¨re Ã©dition de lâ€™Ã©preuve sur Hubert, le bateau Ã\\xa0 dÃ©rives rebaptisÃ© DeVenir par Violette Dorange, 23Â\\xa0ans (25e), Jean Le Cam, qui imaginait Ã\\xa0 nouveau se mÃªler Ã\\xa0 la lutte pour les avant-postes, nâ€™a pu que constater, dÃ¨s la descente de lâ€™Atlantique, lâ€™ampleur de la fracture technologique entre les foileurs de nouvelle et dâ€™avant-derniÃ¨re gÃ©nÃ©ration et son voilier flambant neuf.\\nPis, Benjamin FerrÃ©, 34Â\\xa0ans, (Monnoyeur-Duo-For-a-Job), 16e, et Tanguy Le Turquais, 35Â\\xa0ans (Lazare), 17e, lui ont grillÃ© la politesse sur le podium officieux des dÃ©riveurs sur des Imoca de 2011 et 2007. Tous les concurrents qui les ont prÃ©cÃ©dÃ©s Ã\\xa0 lâ€™arrivÃ©e disposaient de foileurs.\\nPour la prochaine Ã©dition, LeÂ\\xa0Cam a donc suggÃ©rÃ© de Â«Â\\xa0monter le nombre de 40Â\\xa0concurrents Ã\\xa0 50, avec 30Â\\xa0foileurs et 20Â\\xa0bateaux Ã\\xa0 dÃ©rives droitesÂ\\xa0Â», et de mettre en place deux classements distincts pour Â«Â\\xa0que les bateaux Ã\\xa0 dÃ©rives ne deviennent pas des faire-valoir, alors quâ€™une dizaine de foileurs sont dÃ©jÃ\\xa0 en constructionÂ\\xa0Â».\\nUne jauge maximale pour Â«Â\\xa0Ã©viter le gigantismeÂ\\xa0Â»\\nImpensable pour la SAEM VendÃ©e, organisatrice du VendÃ©e Globe, qui a fixÃ© la jauge maximale Ã\\xa0 40 Imoca tous modÃ¨les confondus, pour les deux prochaines Ã©ditions (2028-2029 et 2032-2033) afin dâ€™Â«Â\\xa0Ã©viter le gigantisme, dâ€™assurer la sÃ©curitÃ© et de garantir une visibilitÃ© aux sponsorsÂ\\xa0Â», selon son prÃ©sident, Alain LebÅ“uf.\\nCelui-ci est persuadÃ© que des bateaux Ã\\xa0 dÃ©rives parviendront Ã\\xa0 se qualifier pour 2028-2029. Si tel nâ€™Ã©tait pas le cas, il se dit Â«Â\\xa0disposÃ©Â\\xa0Â» Ã\\xa0 recourir aux trois wild-cards rÃ©servÃ©es Ã\\xa0 lâ€™organisation, en fonction des Â«Â\\xa0profilsÂ\\xa0Â» des skippeurs.\\nPour Charlie Dalin, lâ€™idÃ©e dâ€™un double classement, mÃªme informel, nâ€™aurait Â«Â\\xa0pas plus de sens que de faire un classement vÃ©lo aluminium et vÃ©lo carbone sur le tour de France cyclisteÂ\\xa0Â». Â«Â\\xa0Le VendÃ©e Globe est populaire parce que son principe est simpleÂ\\xa0: le public qui ne sâ€™intÃ©resse pas Ã\\xa0 la performance peut se passionner pour lâ€™aventure que racontent dâ€™autres navigateursÂ\\xa0Â», explique le Normand de 40Â\\xa0ans.\\nVingt-et-uniÃ¨me Ã\\xa0 moins de quinze minutes de Jean LeÂ\\xa0Cam, lâ€™AmÃ©ricano-NÃ©o-ZÃ©landais Conrad Colman, 40Â\\xa0ans, compte cÃ©der son MS-Amlin Ã\\xa0 dÃ©rives de 2007 pour disputer le prochain VendÃ©e Globe sur un foileur. Â«Â\\xa0Câ€™est financiÃ¨rement fondamental pour moi de le revendre, mais il y a un vrai risque quâ€™il me reste sur les brasÂ\\xa0Â», estime-t-il. Â«Â\\xa0Il faut que lâ€™organisation, avec la classe Imoca, trouve un moyen de valoriser ces voiliers qui [pour 600Â\\xa0000 Ã\\xa0 900Â\\xa0000Â\\xa0euros] offrent la possibilitÃ© dâ€™accÃ©der Ã\\xa0 un premier VendÃ©e Globe.Â\\xa0Â»\\n']})"
      ]
     },
     "execution_count": 28,
     "metadata": {},
     "output_type": "execute_result"
    }
   ],
   "source": [
    "path = 'corpus'\n",
    "dico_corpus = cr_corpus_dict(path,1000)\n",
    "dico_corpus"
   ]
  }
 ],
 "metadata": {
  "kernelspec": {
   "display_name": ".venv",
   "language": "python",
   "name": "python3"
  },
  "language_info": {
   "codemirror_mode": {
    "name": "ipython",
    "version": 3
   },
   "file_extension": ".py",
   "mimetype": "text/x-python",
   "name": "python",
   "nbconvert_exporter": "python",
   "pygments_lexer": "ipython3",
   "version": "3.11.5"
  }
 },
 "nbformat": 4,
 "nbformat_minor": 2
}
