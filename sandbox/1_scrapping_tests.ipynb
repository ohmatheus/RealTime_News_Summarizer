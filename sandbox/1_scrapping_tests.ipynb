{
 "cells": [
  {
   "cell_type": "code",
   "execution_count": 14,
   "metadata": {},
   "outputs": [],
   "source": [
    "import os  # helper functions like check file exists\n",
    "import datetime  # automatic file name\n",
    "import requests  # the following imports are common web scraping bundle\n",
    "from urllib.request import urlopen  # standard python module\n",
    "from bs4 import BeautifulSoup\n",
    "from urllib.error import HTTPError\n",
    "from collections import defaultdict\n",
    "import re\n",
    "from urllib.error import URLError\n",
    "from tqdm import tqdm\n",
    "import pickle\n",
    "import bz2\n",
    "import pandas as pd\n",
    "from collections import Counter\n",
    "from urllib.parse import urlparse, unquote\n",
    "import json\n",
    "import shutil\n",
    "\n",
    "from datetime import datetime, timedelta\n"
   ]
  },
  {
   "cell_type": "code",
   "execution_count": 75,
   "metadata": {},
   "outputs": [],
   "source": [
    "#-----------------------------------------------------\n",
    "def extract_theme(link):\n",
    "    try:\n",
    "        theme_text = re.findall(r'.fr/.*?/', link)[0]\n",
    "    except:\n",
    "        pass\n",
    "    else:\n",
    "        return theme_text[4:-1]\n",
    "\n",
    "\n",
    "#-----------------------------------------------------\n",
    "def extract_name_from_https_link(link):\n",
    "    \"\"\"\n",
    "    Extracts the domain name (name) from an HTTPS link.\n",
    "\n",
    "    :param link: A string containing the HTTPS link.\n",
    "    :return: The domain name (e.g., 'www.google.com') or None if no match is found.\n",
    "    \"\"\"\n",
    "    # Regular expression to match the domain name in an HTTPS link\n",
    "    match = re.search(r'https://([^/\\s]+)', link)\n",
    "    if match:\n",
    "        return match.group(1)  # Return the domain name\n",
    "    return None  # Return None if no match is found\n",
    "\n",
    "\n",
    "#-----------------------------------------------------\n",
    "def extract_subname(url):\n",
    "    \"\"\"Extracts the subname (article slug) from a given HTML link.\"\"\"\n",
    "    path = urlparse(url).path  # Extract the path from the URL\n",
    "    filename = os.path.basename(path)  # Get the last part of the path\n",
    "    subname = os.path.splitext(filename)[0]  # Remove the .html extension\n",
    "    return unquote(subname)  # Decode any URL-encoded characters\n",
    "\n",
    "\n",
    "#-----------------------------------------------------\n",
    "def extract_clean_subname(url):\n",
    "    subname = extract_subname(url)\n",
    "    return re.sub(r'(_\\d+)+$', '', subname)  # Remove all trailing underscores followed by numbers\n",
    "\n",
    "\n",
    "#-----------------------------------------------------\n",
    "def get_filename(filepath):\n",
    "    \"\"\"Extracts the filename from a given file path.\"\"\"\n",
    "    return os.path.basename(filepath)\n",
    "\n",
    "\n",
    "#-----------------------------------------------------\n",
    "def read_file(file_path):\n",
    "    try:\n",
    "        with open(file_path, 'r') as file:\n",
    "            content = file.read()\n",
    "        return content\n",
    "    except FileNotFoundError:\n",
    "        return \"File not found.\"\n",
    "    except Exception as e:\n",
    "        return f\"An error occurred: {e}\"\n",
    "\n",
    "\n",
    "#-----------------------------------------------------\n",
    "def list_themes(links):\n",
    "    themes = []\n",
    "    for link in links:\n",
    "        theme = extract_theme(link)\n",
    "        if theme is not None and theme != 'podcasts':\n",
    "            print(\"theme : \" + theme)\n",
    "            themes.append(theme)\n",
    "    return themes\n",
    "\n",
    "\n",
    "#-----------------------------------------------------\n",
    "def write_links(path, links, year_fn):\n",
    "    with open(os.path.join(path + \"/lemonde_\" + str(year_fn) + \"_links.txt\"), 'w', encoding=\"utf-8\") as f:\n",
    "        for link in links:\n",
    "            f.write(link + \"\\n\")\n",
    "\n",
    "\n",
    "#-----------------------------------------------------\n",
    "def write_to_file(filename, content):\n",
    "    if os.path.exists(filename):\n",
    "        with open(filename, 'a+', encoding=\"utf-8\") as f:\n",
    "            f.write(str(content))\n",
    "    else:\n",
    "        with open(filename, 'w', encoding=\"utf-8\") as f:\n",
    "            f.write(str(content))\n",
    "\n",
    "\n",
    "#-----------------------------------------------------\n",
    "def create_archive_links(year_start, year_end, month_start, month_end, day_start, day_end):\n",
    "    archive_links = {}\n",
    "    for y in range(year_start, year_end + 1):\n",
    "        dates = [str(d).zfill(2) + \"-\" + str(m).zfill(2) + \"-\" +\n",
    "                    str(y) for m in range(month_start, month_end + 1) for d in\n",
    "                    range(day_start, day_end + 1)]\n",
    "        archive_links[y] = [\n",
    "            \"https://www.lemonde.fr/archives-du-monde/\" + date + \"/\" for date in dates]\n",
    "    return archive_links\n",
    "\n",
    "\n",
    "#-----------------------------------------------------\n",
    "def get_articles_links(archive_links):\n",
    "    links_non_abonne = []\n",
    "    for link in archive_links:\n",
    "        try:\n",
    "            html = urlopen(link)\n",
    "        except HTTPError as e:\n",
    "            print(\"url not valid\", link)\n",
    "        else:\n",
    "            soup = BeautifulSoup(html, \"html.parser\")\n",
    "            news = soup.find_all(class_=\"teaser\")\n",
    "            # condition here : if no span icon__premium (abonnes)\n",
    "            for item in news:\n",
    "                if not item.find('span', {'class': 'icon__premium'}):\n",
    "                    l_article = item.find('a')['href']\n",
    "                    # en-direct = video\n",
    "                    if 'en-direct' not in l_article:\n",
    "                        links_non_abonne.append(l_article)\n",
    "    return links_non_abonne\n",
    "\n",
    "\n",
    "#-----------------------------------------------------\n",
    "def classify_links(theme_list, link_list):\n",
    "    dict_links = defaultdict(list)\n",
    "    for theme in theme_list:\n",
    "        theme_link = 'https://www.lemonde.fr/' + theme + '/article/'\n",
    "        for link in link_list:\n",
    "            if theme_link in link:\n",
    "                dict_links[theme].append(link)\n",
    "    return dict_links\n",
    "\n",
    "\n",
    "#-----------------------------------------------------\n",
    "def get_single_page(url):\n",
    "    try:\n",
    "        html = urlopen(url)\n",
    "    except HTTPError as e:\n",
    "        print(\"url not valid\", url)\n",
    "    else:\n",
    "        soup = BeautifulSoup(html, \"html.parser\")\n",
    "        text_title = soup.find('h1')\n",
    "        text_body = soup.article.find_all([\"p\", \"h2\"], recursive=False)\n",
    "        return (text_title, text_body)\n",
    "\n",
    "\n",
    "#-----------------------------------------------------\n",
    "def scrape_articles(dict_links):\n",
    "    themes = dict_links.keys()\n",
    "    for theme in themes:\n",
    "        create_folder(os.path.join('corpus', theme))\n",
    "        print(\"processing:\", theme)\n",
    "        for i in tqdm(range(len(dict_links[theme]))):\n",
    "            link = dict_links[theme][i]\n",
    "            fn = extract_clean_subname(link)\n",
    "            single_page = get_single_page(link)\n",
    "            # Add metadata with link, title, eventually tags\n",
    "            title = single_page[0].get_text()\n",
    "            #formatted_title = title.encode('utf-8').decode('unicode_escape')\n",
    "            formatted_title = title\n",
    "            data = {\n",
    "                \"link\": f\"{link}\",\n",
    "                \"title\": f\"{formatted_title}\"\n",
    "                }\n",
    "            if single_page is not None:\n",
    "                with open((os.path.join('corpus', theme, fn + '.txt')), 'w', encoding=\"utf-8\") as f:\n",
    "                    # f.write(dict_links[theme][i] + \"\\n\" * 2)\n",
    "                    f.write(single_page[0].get_text() + \"\\n\")\n",
    "                    for line in single_page[1]:\n",
    "                        f.write(line.get_text() + \"\\n\")\n",
    "                with open((os.path.join('corpus', theme, fn + '.meta')), 'w', encoding=\"utf-8\") as f:\n",
    "                    json.dump(data, f)\n",
    "\n",
    "\n",
    "#-----------------------------------------------------\n",
    "def cr_corpus_dict(path_corpus, n_files=1000):\n",
    "    dict_corpus = defaultdict(list)\n",
    "    themes = os.listdir(path_corpus)\n",
    "    for theme in themes:\n",
    "        counter = 0\n",
    "        if not theme.startswith('.'):\n",
    "            theme_directory = os.path.join(path_corpus, theme)\n",
    "            for file in os.listdir(theme_directory):\n",
    "                if counter < n_files:\n",
    "                    path_file = os.path.join(theme_directory, file)\n",
    "                    text = read_file(path_file)\n",
    "                    dict_corpus[\"label\"].append(theme)\n",
    "                    dict_corpus[\"text\"].append(text)\n",
    "                counter += 1\n",
    "    return dict_corpus\n",
    "\n",
    "\n",
    "#-----------------------------------------------------\n",
    "def create_folder(path):\n",
    "    if not os.path.exists(path):\n",
    "        os.mkdir(path)\n",
    "    else:\n",
    "        print(\"folder exists already\")\n",
    "\n",
    "#-----------------------------------------------------\n",
    "def erase_folder_contents(folder_path):\n",
    "    if os.path.exists(folder_path):\n",
    "        for filename in os.listdir(folder_path):\n",
    "            file_path = os.path.join(folder_path, filename)\n",
    "            try:\n",
    "                if os.path.isfile(file_path) or os.path.islink(file_path):\n",
    "                    os.unlink(file_path)\n",
    "                elif os.path.isdir(file_path):\n",
    "                    shutil.rmtree(file_path)\n",
    "            except Exception as e:\n",
    "                print(f\"Failed to delete {file_path}: {e}\")"
   ]
  },
  {
   "cell_type": "code",
   "execution_count": 76,
   "metadata": {},
   "outputs": [
    {
     "data": {
      "text/plain": [
       "{2025: ['https://www.lemonde.fr/archives-du-monde/11-02-2025/',\n",
       "  'https://www.lemonde.fr/archives-du-monde/12-02-2025/']}"
      ]
     },
     "execution_count": 76,
     "metadata": {},
     "output_type": "execute_result"
    }
   ],
   "source": [
    "\n",
    "# Get today's date\n",
    "today = datetime.today()\n",
    "yesterday = today - timedelta(days=1)\n",
    "\n",
    "# Print the results\n",
    "\n",
    "archive_links = create_archive_links(yesterday.year, today.year, \n",
    "                                        yesterday.month, today.month, \n",
    "                                        yesterday.day, today.day)\n",
    "archive_links"
   ]
  },
  {
   "cell_type": "code",
   "execution_count": 77,
   "metadata": {},
   "outputs": [
    {
     "name": "stdout",
     "output_type": "stream",
     "text": [
      "folder exists already\n"
     ]
    }
   ],
   "source": [
    "corpus_path = os.path.join(os.getcwd(), \"corpus_links\")\n",
    "create_folder(corpus_path)"
   ]
  },
  {
   "cell_type": "code",
   "execution_count": 78,
   "metadata": {},
   "outputs": [
    {
     "name": "stdout",
     "output_type": "stream",
     "text": [
      "processing:  2025\n"
     ]
    }
   ],
   "source": [
    "article_links = {}\n",
    "for year,links in archive_links.items():\n",
    "    print(\"processing: \",year)\n",
    "    article_links_list = get_articles_links(links)\n",
    "    article_links[year] = article_links_list\n",
    "    write_links(corpus_path,article_links_list,year)"
   ]
  },
  {
   "cell_type": "code",
   "execution_count": 79,
   "metadata": {},
   "outputs": [
    {
     "name": "stdout",
     "output_type": "stream",
     "text": [
      "theme : sport\n",
      "theme : international\n",
      "theme : economie\n",
      "theme : sport\n",
      "theme : international\n",
      "theme : pixels\n",
      "theme : international\n",
      "theme : politique\n",
      "theme : international\n",
      "theme : international\n",
      "theme : afrique\n",
      "theme : politique\n",
      "theme : politique\n",
      "theme : culture\n",
      "theme : societe\n",
      "theme : societe\n",
      "theme : pixels\n",
      "theme : actualite-medias\n",
      "theme : sport\n",
      "theme : blog\n",
      "theme : afrique\n",
      "theme : sport\n",
      "theme : idees\n",
      "theme : international\n",
      "theme : pixels\n",
      "theme : economie\n",
      "theme : sport\n",
      "theme : international\n",
      "theme : afrique\n",
      "theme : international\n",
      "theme : afrique\n",
      "theme : idees\n",
      "32\n"
     ]
    },
    {
     "data": {
      "text/plain": [
       "['sport',\n",
       " 'international',\n",
       " 'economie',\n",
       " 'sport',\n",
       " 'international',\n",
       " 'pixels',\n",
       " 'international',\n",
       " 'politique',\n",
       " 'international',\n",
       " 'international',\n",
       " 'afrique',\n",
       " 'politique',\n",
       " 'politique',\n",
       " 'culture',\n",
       " 'societe',\n",
       " 'societe',\n",
       " 'pixels',\n",
       " 'actualite-medias',\n",
       " 'sport',\n",
       " 'blog',\n",
       " 'afrique',\n",
       " 'sport',\n",
       " 'idees',\n",
       " 'international',\n",
       " 'pixels',\n",
       " 'economie',\n",
       " 'sport',\n",
       " 'international',\n",
       " 'afrique',\n",
       " 'international',\n",
       " 'afrique',\n",
       " 'idees']"
      ]
     },
     "execution_count": 79,
     "metadata": {},
     "output_type": "execute_result"
    }
   ],
   "source": [
    "themes = []\n",
    "for link_list in article_links.values():\n",
    "    themes.extend(list_themes(link_list))\n",
    "print(len(themes))\n",
    "themes"
   ]
  },
  {
   "cell_type": "code",
   "execution_count": 80,
   "metadata": {},
   "outputs": [
    {
     "name": "stdout",
     "output_type": "stream",
     "text": [
      "[('international', 8), ('sport', 5), ('afrique', 4), ('pixels', 3), ('politique', 3), ('economie', 2), ('societe', 2), ('idees', 2), ('culture', 1), ('actualite-medias', 1), ('blog', 1)]\n"
     ]
    }
   ],
   "source": [
    "theme_stat = Counter(themes)\n",
    "theme_top = []\n",
    "for k,v in sorted(theme_stat.items(), key = lambda x:x[1], reverse=True):\n",
    "    #if v > 700:\n",
    "    theme_top.append((k, v))\n",
    "print(theme_top)"
   ]
  },
  {
   "cell_type": "code",
   "execution_count": 81,
   "metadata": {},
   "outputs": [
    {
     "data": {
      "text/plain": [
       "defaultdict(list,\n",
       "            {'international': ['https://www.lemonde.fr/international/article/2025/02/11/elon-musk-affirme-aux-cotes-de-trump-que-sans-coupes-budgetaires-les-etats-unis-vont-vers-la-faillite_6542814_3210.html',\n",
       "              'https://www.lemonde.fr/international/article/2025/02/11/la-maison-blanche-annonce-la-liberation-de-l-americain-marc-fogel-detenu-en-russie_6542710_3210.html',\n",
       "              'https://www.lemonde.fr/international/article/2025/02/11/presidentielle-en-equateur-la-mission-electorale-de-l-union-europeenne-dit-n-avoir-observe-aucune-fraude_6542544_3210.html',\n",
       "              'https://www.lemonde.fr/international/article/2025/02/11/en-iran-deux-journalistes-ayant-couvert-l-affaire-mahsa-amini-ont-ete-graciees_6542509_3210.html',\n",
       "              'https://www.lemonde.fr/international/article/2025/02/11/steve-bannon-ancien-conseiller-de-donald-trump-plaide-coupable-dans-une-affaire-de-fonds-detournes-et-evite-la-prison_6542440_3210.html',\n",
       "              'https://www.lemonde.fr/international/article/2025/02/12/en-allemagne-olaf-scholz-prolonge-les-controles-aux-frontieres-pour-six-mois_6543612_3210.html',\n",
       "              'https://www.lemonde.fr/international/article/2025/02/12/emmanuel-macron-et-narendra-modi-a-marseille-pour-vanter-le-partenariat-franco-indien_6543506_3210.html',\n",
       "              'https://www.lemonde.fr/international/article/2025/02/12/bangladesh-un-rapport-de-l-onu-accuse-le-gouvernement-de-sheikh-hasina-de-crimes-contre-l-humanite-lors-des-manifestations-de-l-ete-2024_6543402_3210.html'],\n",
       "             'sport': ['https://www.lemonde.fr/sport/article/2025/02/11/ligue-des-champions-le-resume-de-la-victoire-renversante-du-real-madrid-contre-manchester-city-en-barrage-aller_6542816_3242.html',\n",
       "              'https://www.lemonde.fr/sport/article/2025/02/11/ligue-des-champions-le-resume-de-la-large-victoire-du-psg-contre-brest-en-barrage-aller_6542744_3242.html',\n",
       "              'https://www.lemonde.fr/sport/article/2025/02/11/apres-14-defaites-de-rang-le-pays-de-galles-evince-son-selectionneur-en-plein-c-ur-du-tournoi-des-six-nations_6542234_3242.html',\n",
       "              'https://www.lemonde.fr/sport/article/2025/02/12/le-handball-francais-endeuille-par-la-mort-brutale-de-jemima-kabeya-la-gardienne-de-plan-de-cuques_6543688_3242.html',\n",
       "              'https://www.lemonde.fr/sport/article/2025/02/12/jo-d-hiver-2030-six-candidats-pour-presider-le-futur-comite-d-organisation-des-alpes-francaises_6543539_3242.html'],\n",
       "             'afrique': ['https://www.lemonde.fr/afrique/article/2025/02/11/intelligence-artificielle-malgre-son-retard-l-afrique-ne-veut-pas-rester-en-marge-de-la-revolution-technologique_6542407_3212.html',\n",
       "              'https://www.lemonde.fr/afrique/article/2025/02/12/en-libye-un-ministre-blesse-lors-d-une-tentative-d-assassinat-a-tripoli_6543690_3212.html',\n",
       "              'https://www.lemonde.fr/afrique/article/2025/02/12/emmanuel-macron-invite-mohammed-vi-au-salon-de-l-agriculture-sur-fond-de-tensions-autour-de-l-accord-de-libre-echange-avec-le-maroc_6543436_3212.html',\n",
       "              'https://www.lemonde.fr/afrique/article/2025/02/12/alger-abuja-et-niamey-signent-des-accords-pour-accelerer-la-realisation-du-gazoduc-transsaharien_6543396_3212.html'],\n",
       "             'pixels': ['https://www.lemonde.fr/pixels/article/2025/02/11/europol-annonce-l-arrestation-de-cyberpirates-russes-impliques-dans-un-reseau-de-rancongiciels_6542677_4408996.html',\n",
       "              'https://www.lemonde.fr/pixels/article/2025/02/11/openai-n-est-pas-a-vendre-declare-un-de-ses-dirigeants-apres-l-offre-d-achat-d-elon-musk_6542300_4408996.html',\n",
       "              'https://www.lemonde.fr/pixels/article/2025/02/12/protection-du-droit-d-auteur-thomson-reuters-remporte-une-victoire-face-a-une-entreprise-de-l-ia_6543611_4408996.html'],\n",
       "             'politique': ['https://www.lemonde.fr/politique/article/2025/02/11/commission-d-enquete-sur-le-derapage-du-deficit-public-alexis-kohler-n-entend-pas-etre-auditionne_6542543_823448.html',\n",
       "              'https://www.lemonde.fr/politique/article/2025/02/11/francois-bayrou-dit-n-avoir-jamais-ete-informe-des-agressions-sexuelles-au-college-lycee-betharram_6542374_823448.html',\n",
       "              'https://www.lemonde.fr/politique/article/2025/02/11/municipales-a-paris-quatre-candidats-officiellement-en-lice-pour-la-primaire-ecologiste_6542341_823448.html'],\n",
       "             'economie': ['https://www.lemonde.fr/economie/article/2025/02/11/les-deputes-autorisent-les-palpations-par-les-forces-de-securite-de-la-sncf-et-de-la-ratp_6542781_3234.html',\n",
       "              'https://www.lemonde.fr/economie/article/2025/02/12/groupe-adp-le-parlement-valide-la-proposition-d-emmanuel-macron-de-nommer-pdg-philippe-pascal_6543609_3234.html'],\n",
       "             'societe': ['https://www.lemonde.fr/societe/article/2025/02/11/meurtre-de-louise-dans-l-essonne-l-adn-du-principal-suspect-retrouve-sur-les-mains-de-la-collegienne_6541618_3225.html',\n",
       "              'https://www.lemonde.fr/societe/article/2025/02/11/a-paris-des-ecoles-se-mobilisent-contre-les-fermetures-de-classes-prevues-a-la-rentree-prochaine_6541238_3225.html'],\n",
       "             'idees': ['https://www.lemonde.fr/idees/article/2025/02/12/vu-par-osama-hajjaj_6543649_3232.html',\n",
       "              'https://www.lemonde.fr/idees/article/2025/02/12/intelligence-artificielle-la-necessite-d-une-troisieme-voie_6543393_3232.html'],\n",
       "             'culture': ['https://www.lemonde.fr/culture/article/2025/02/11/nature-pour-une-reconciliation-sur-m6-yann-arthus-bertrand-s-adresse-aux-spectateurs-en-dernier-recours_6542340_3246.html'],\n",
       "             'actualite-medias': ['https://www.lemonde.fr/actualite-medias/article/2025/02/11/cnews-le-chroniqueur-jean-claude-dassier-condamne-pour-des-propos-antimusulmans_6542267_3236.html']})"
      ]
     },
     "execution_count": 81,
     "metadata": {},
     "output_type": "execute_result"
    }
   ],
   "source": [
    "all_links = []\n",
    "for link_list in article_links.values():\n",
    "    all_links.extend(link_list)\n",
    "\n",
    "themes_top_five = [x[0] for x in theme_top]\n",
    "\n",
    "themes_top_five_links = classify_links(themes_top_five,all_links)\n",
    "themes_top_five_links"
   ]
  },
  {
   "cell_type": "code",
   "execution_count": 82,
   "metadata": {},
   "outputs": [
    {
     "data": {
      "text/plain": [
       "'https://www.lemonde.fr/international/article/2025/02/11/elon-musk-affirme-aux-cotes-de-trump-que-sans-coupes-budgetaires-les-etats-unis-vont-vers-la-faillite_6542814_3210.html'"
      ]
     },
     "execution_count": 82,
     "metadata": {},
     "output_type": "execute_result"
    }
   ],
   "source": [
    "first_links = next(iter(themes_top_five_links.values()))  # Gets the first value (list)\n",
    "first_links[0]"
   ]
  },
  {
   "cell_type": "code",
   "execution_count": 83,
   "metadata": {},
   "outputs": [],
   "source": [
    "url = first_links[0]\n",
    "try:\n",
    "    html = urlopen(url)\n",
    "except HTTPError as e:\n",
    "    print(\"url not valid\", url)\n",
    "else:\n",
    "    soup = BeautifulSoup(html, \"html.parser\")\n",
    "with open('soup.txt', 'w', encoding=\"utf-8\") as f:\n",
    "    f.write(str(soup))"
   ]
  },
  {
   "cell_type": "code",
   "execution_count": 84,
   "metadata": {},
   "outputs": [
    {
     "data": {
      "text/plain": [
       "[]"
      ]
     },
     "execution_count": 84,
     "metadata": {},
     "output_type": "execute_result"
    }
   ],
   "source": [
    "tags = soup.find_all(['tags'], recursive=False)\n",
    "tags"
   ]
  },
  {
   "cell_type": "code",
   "execution_count": 85,
   "metadata": {},
   "outputs": [
    {
     "data": {
      "text/plain": [
       "[<p class=\"article__paragraph\">Le milliardaire Elon Musk, nommé par Donald Trump à la tête d’une commission à l’efficacité gouvernementale, a défendu son action, mardi 11 février, depuis la Maison Blanche en affirmant que sans coupes budgétaires les Etats-Unis allaient vers la <em>« faillite »</em>.</p>,\n",
       " <p class=\"article__paragraph\"><em>« Nous avons un déficit de 2 000 milliards de dollars et si nous ne faisons pas quelque chose sur ce déficit, le pays ira vers la faillite »</em>, a déclaré Elon Musk, dans une intervention aux côtés du président républicain, dans le bureau Ovale.</p>,\n",
       " <p class=\"article__paragraph\">Nommé par le chef de l’Etat à la tête du Department of Government Efficiency (DOGE), le milliardaire Elon Musk, entouré de vingtenaires dévoués, bouleverse depuis quelques semaines l’appareil fédéral au nom d’un meilleur usage des deniers publics. Ses équipes ont eu accès au très sensible système de paiements du ministère de l’économie américain, <a href=\"https://www.lemonde.fr/international/article/2025/02/08/un-juge-bloque-le-controle-par-elon-musk-du-systeme-de-paiements-du-tresor-americain_6537184_3210.html\">avant qu’un juge fédéral leur suspende cet accès samedi</a>.</p>,\n",
       " <p class=\"article__paragraph\">L’opposition démocrate dénonce les actes entrepris par le patron de Tesla et de SpaceX, également propriétaire du réseau social X, qu’elle juge illégaux, car ce dernier ne dispose d’aucun mandat électoral ni d’aucun portefeuille gouvernemental pour cette mission.</p>,\n",
       " <h2 class=\"article__sub-title\">« Une réforme d’ampleur »</h2>,\n",
       " <p class=\"article__paragraph\"><em>« Il y a des gens bien qui travaillent dans la bureaucratie fédérale »</em>, mais celle-ci ne doit pas être <em>« autonome »</em> et doit <em>« rendre des comptes au peuple »</em>, a estimé l’homme le plus riche du monde. <em>« Le peuple a voté pour une réforme du gouvernement d’ampleur. Cela ne fait aucun doute. </em>(…)<em> Le président en a parlé à chaque meeting »</em>, a poursuivi Elon Musk. Il a ajouté que lui et ses équipes étaient <em>« le plus transparents possible »</em> sur leurs actions, recensées sur le compte alimenté par DOGE sur X.</p>,\n",
       " <p class=\"article__paragraph\">Lors de son audition semestrielle mardi devant les sénateurs américains, le président de la banque centrale américaine, Jerome Powell, s’est vu demander si Elon Musk ou certains de ses collaborateurs avaient <em>« tenté d’accéder aux informations et aux systèmes protégés »</em> de la Fed, théoriquement indépendante du gouvernement. <em>« Je ne pense pas »</em>, a répondu M. Powell, avant d’assurer qu’il préviendrait les parlementaires si la situation évoluait.</p>,\n",
       " <p class=\"article__paragraph\">Un peu plus tôt, la sénatrice démocrate Elizabeth Warren avait estimé que le patron de SpaceX et de Tesla était devenu de fait <em>« coprésident »</em> de Donald Trump.</p>,\n",
       " <p class=\"article__paragraph\"></p>]"
      ]
     },
     "execution_count": 85,
     "metadata": {},
     "output_type": "execute_result"
    }
   ],
   "source": [
    "paragraphs = soup.article.find_all([\"p\", \"h2\"], recursive=False)\n",
    "paragraphs"
   ]
  },
  {
   "cell_type": "code",
   "execution_count": 86,
   "metadata": {},
   "outputs": [
    {
     "name": "stdout",
     "output_type": "stream",
     "text": [
      "folder exists already\n",
      "processing: international\n"
     ]
    },
    {
     "name": "stderr",
     "output_type": "stream",
     "text": [
      "100%|██████████| 8/8 [00:01<00:00,  4.38it/s]\n"
     ]
    },
    {
     "name": "stdout",
     "output_type": "stream",
     "text": [
      "processing: sport\n"
     ]
    },
    {
     "name": "stderr",
     "output_type": "stream",
     "text": [
      "100%|██████████| 5/5 [00:01<00:00,  4.61it/s]\n"
     ]
    },
    {
     "name": "stdout",
     "output_type": "stream",
     "text": [
      "processing: afrique\n"
     ]
    },
    {
     "name": "stderr",
     "output_type": "stream",
     "text": [
      "100%|██████████| 4/4 [00:00<00:00,  4.72it/s]\n"
     ]
    },
    {
     "name": "stdout",
     "output_type": "stream",
     "text": [
      "processing: pixels\n"
     ]
    },
    {
     "name": "stderr",
     "output_type": "stream",
     "text": [
      "100%|██████████| 3/3 [00:00<00:00,  4.15it/s]\n"
     ]
    },
    {
     "name": "stdout",
     "output_type": "stream",
     "text": [
      "processing: politique\n"
     ]
    },
    {
     "name": "stderr",
     "output_type": "stream",
     "text": [
      "100%|██████████| 3/3 [00:00<00:00,  4.72it/s]\n"
     ]
    },
    {
     "name": "stdout",
     "output_type": "stream",
     "text": [
      "processing: economie\n"
     ]
    },
    {
     "name": "stderr",
     "output_type": "stream",
     "text": [
      "100%|██████████| 2/2 [00:00<00:00,  4.21it/s]\n"
     ]
    },
    {
     "name": "stdout",
     "output_type": "stream",
     "text": [
      "processing: societe\n"
     ]
    },
    {
     "name": "stderr",
     "output_type": "stream",
     "text": [
      "100%|██████████| 2/2 [00:00<00:00,  4.56it/s]\n"
     ]
    },
    {
     "name": "stdout",
     "output_type": "stream",
     "text": [
      "processing: idees\n"
     ]
    },
    {
     "name": "stderr",
     "output_type": "stream",
     "text": [
      "100%|██████████| 2/2 [00:00<00:00,  4.23it/s]\n"
     ]
    },
    {
     "name": "stdout",
     "output_type": "stream",
     "text": [
      "processing: culture\n"
     ]
    },
    {
     "name": "stderr",
     "output_type": "stream",
     "text": [
      "100%|██████████| 1/1 [00:00<00:00,  5.03it/s]\n"
     ]
    },
    {
     "name": "stdout",
     "output_type": "stream",
     "text": [
      "processing: actualite-medias\n"
     ]
    },
    {
     "name": "stderr",
     "output_type": "stream",
     "text": [
      "100%|██████████| 1/1 [00:00<00:00,  4.75it/s]\n"
     ]
    }
   ],
   "source": [
    "erase_folder_contents('corpus')\n",
    "create_folder('corpus')\n",
    "\n",
    "scrape_articles(themes_top_five_links)\n"
   ]
  },
  {
   "cell_type": "code",
   "execution_count": 87,
   "metadata": {},
   "outputs": [
    {
     "data": {
      "text/plain": [
       "defaultdict(list,\n",
       "            {'label': ['actualite-medias',\n",
       "              'actualite-medias',\n",
       "              'afrique',\n",
       "              'afrique',\n",
       "              'afrique',\n",
       "              'afrique',\n",
       "              'afrique',\n",
       "              'afrique',\n",
       "              'afrique',\n",
       "              'afrique',\n",
       "              'culture',\n",
       "              'culture',\n",
       "              'economie',\n",
       "              'economie',\n",
       "              'economie',\n",
       "              'economie',\n",
       "              'idees',\n",
       "              'idees',\n",
       "              'idees',\n",
       "              'idees',\n",
       "              'international',\n",
       "              'international',\n",
       "              'international',\n",
       "              'international',\n",
       "              'international',\n",
       "              'international',\n",
       "              'international',\n",
       "              'international',\n",
       "              'international',\n",
       "              'international',\n",
       "              'international',\n",
       "              'international',\n",
       "              'international',\n",
       "              'international',\n",
       "              'international',\n",
       "              'international',\n",
       "              'pixels',\n",
       "              'pixels',\n",
       "              'pixels',\n",
       "              'pixels',\n",
       "              'pixels',\n",
       "              'pixels',\n",
       "              'politique',\n",
       "              'politique',\n",
       "              'politique',\n",
       "              'politique',\n",
       "              'politique',\n",
       "              'politique',\n",
       "              'societe',\n",
       "              'societe',\n",
       "              'societe',\n",
       "              'societe',\n",
       "              'sport',\n",
       "              'sport',\n",
       "              'sport',\n",
       "              'sport',\n",
       "              'sport',\n",
       "              'sport',\n",
       "              'sport',\n",
       "              'sport',\n",
       "              'sport',\n",
       "              'sport'],\n",
       "             'text': ['{\"link\": \"https://www.lemonde.fr/actualite-medias/article/2025/02/11/cnews-le-chroniqueur-jean-claude-dassier-condamne-pour-des-propos-antimusulmans_6542267_3236.html\", \"title\": \"CNews\\\\u00a0: le chroniqueur Jean-Claude Dassier condamn\\\\u00e9 pour des propos antimusulmans\"}',\n",
       "              'CNewsÂ\\xa0: le chroniqueur Jean-Claude Dassier condamnÃ© pour des propos antimusulmans\\nLa justice a condamnÃ© le chroniqueur de CNews Jean-Claude Dassier Ã\\xa0 1Â\\xa0000Â\\xa0euros dâ€™amende avec sursis pour des propos antimusulmans tenus Ã\\xa0 lâ€™antenne en dÃ©cembreÂ\\xa02022, selon un jugement consultÃ© par lâ€™Agence France-Presse (AFP), confirmant une information de Mediapart.\\nÂ«Â\\xa0Les musulmans, ils sâ€™en foutent de la RÃ©publiqueÂ\\xa0Â», avait dÃ©clarÃ© lâ€™ancien dirigeant de la chaÃ®ne LCI et ex-prÃ©sident du club de foot Olympique de Marseille, lors dâ€™un dÃ©bat sur la dÃ©linquance juvÃ©nile, suscitant un tollÃ©. Lâ€™Union des mosquÃ©es de France avait annoncÃ© porter plainte en janvierÂ\\xa02023.\\nCe sont des Â«Â\\xa0propos outrageants et mÃ©prisants (â€¦) venant rabaisser et jeter le discrÃ©dit sur toutes les personnes de confession musulmaneÂ\\xa0Â», a estimÃ© le tribunal correctionnel de Paris dans son jugement datÃ© du 10Â\\xa0fÃ©vrier. Il a reconnu le chroniqueur coupable dâ€™Â«Â\\xa0injure publique en raison de lâ€™origine, lâ€™ethnie, la nation, la race ou la religionÂ\\xa0Â».\\nAmende enÂ\\xa02021Â\\xa0pour des propos dâ€™Eric Zemmour\\nAbsent de son procÃ¨s le 4Â\\xa0dÃ©cembreÂ\\xa02024, et non reprÃ©sentÃ© par un avocat, Jean-Claude Dassier doit verser Ã\\xa0 la Ligue internationale contre le racisme et lâ€™antisÃ©mitisme, partie civile, 1Â\\xa0000Â\\xa0euros Â«Â\\xa0en rÃ©paration de son prÃ©judice moralÂ\\xa0Â», et 1Â\\xa0000Â\\xa0euros pour les frais de justice.\\nFin 2022, la prÃ©sentatrice de CNews Barbara Klein sâ€™Ã©tait dÃ©solidarisÃ©e, au nom de la chaÃ®ne et de sa rÃ©daction, des propos tenus deux jours plus tÃ´t par le chroniqueur et non contredits en plateau.\\nDe retour Ã\\xa0 lâ€™antenne en fÃ©vrierÂ\\xa02023, ce dernier avait reconnu Â«Â\\xa0une erreurÂ\\xa0Â»Â\\xa0: Â«Â\\xa0Parfois, dans la passion du moment, on a tendance Ã\\xa0 gÃ©nÃ©raliser, Ã\\xa0 globaliser (â€¦). Il faut sâ€™excuser toujours quand on commet des inexactitudes.Â\\xa0Â»\\nLe rapporteur indÃ©pendant saisi par lâ€™AutoritÃ© de rÃ©gulation de la communication audiovisuelle et numÃ©rique a estimÃ© depuis quâ€™il nâ€™y avait pas matiÃ¨re Ã\\xa0 ouvrir une procÃ©dure de sanction contre CNews.\\nLa chaÃ®ne dâ€™info, dans le giron du milliardaire conservateur Vincent BollorÃ©, est rÃ©guliÃ¨rement accusÃ©e par la gauche de vÃ©hiculer des idÃ©es dâ€™extrÃªme droite.\\nEnÂ\\xa02021, le rÃ©gulateur lui avait infligÃ© une amende de 200Â\\xa0000Â\\xa0euros pour Â«Â\\xa0incitation Ã\\xa0 la haineÂ\\xa0Â» et Â«Â\\xa0Ã\\xa0 la violenceÂ\\xa0Â» aprÃ¨s des propos dâ€™Eric Zemmour qualifiant les migrants mineurs isolÃ©s de Â«Â\\xa0voleursÂ\\xa0Â», dâ€™Â«Â\\xa0assassinsÂ\\xa0Â» et de Â«Â\\xa0violeursÂ\\xa0Â». Une sanction confirmÃ©e en janvier par la Cour europÃ©enne des droits de lâ€™homme.\\nCes propos ont, par ailleurs, valu Ã\\xa0 lâ€™homme politique dâ€™extrÃªme droite une condamnation en appel Ã\\xa0 10Â\\xa0000Â\\xa0euros dâ€™amende pour provocation Ã\\xa0 la haine raciale, en septembreÂ\\xa02024. SollicitÃ©e par lâ€™AFP, CNews nâ€™a pas donnÃ© suite dans lâ€™immÃ©diat.\\n',\n",
       "              '{\"link\": \"https://www.lemonde.fr/afrique/article/2025/02/12/alger-abuja-et-niamey-signent-des-accords-pour-accelerer-la-realisation-du-gazoduc-transsaharien_6543396_3212.html\", \"title\": \"Alger, Abuja et Niamey signent des accords pour acc\\\\u00e9l\\\\u00e9rer la r\\\\u00e9alisation du gazoduc transsaharien\"}',\n",
       "              'Alger, Abuja et Niamey signent des accords pour accÃ©lÃ©rer la rÃ©alisation du gazoduc transsaharien\\nLâ€™AlgÃ©rie, le Nigeria et le Niger ont signÃ©, mardi 11Â\\xa0fÃ©vrier Ã\\xa0 Alger, des accords pour accÃ©lÃ©rer la rÃ©alisation du projet du gazoduc transsaharien (ou TSGP, pour Trans-Saharan Gas-Pipeline, en anglais), long de plus de 4Â\\xa0000Â\\xa0kilomÃ¨tres, qui doit permettre dâ€™acheminer du gaz nigÃ©rian vers lâ€™Europe, selon lâ€™agence AlgÃ©rie Presse Service (APS).\\nLe TSGP devrait transporter Ã\\xa0 terme des milliards de mÃ¨tres cubes de gaz nigÃ©rian vers lâ€™AlgÃ©rie en passant par le Niger. Le gaz pourra ensuite Ãªtre exportÃ© vers lâ€™Union europÃ©enne grÃ¢ce au gazoduc Transmed, qui relie lâ€™AlgÃ©rie Ã\\xa0 lâ€™Italie en passant par la Tunisie, et sous forme de GNL (gaz naturel liquÃ©fiÃ©) transportÃ© par des mÃ©thaniers. Les trois pays ont signÃ© un contrat Â«Â\\xa0de mise Ã\\xa0 jour de lâ€™Ã©tude de faisabilitÃ©Â\\xa0Â», un contrat Â«Â\\xa0de compensationÂ\\xa0Â» et un accord de Â«Â\\xa0non-divulgationÂ\\xa0Â» (NDA) entre leurs sociÃ©tÃ©s Ã©nergÃ©tiques.\\nLa mise Ã\\xa0 jour de lâ€™Ã©tude de faisabilitÃ© permettra de dÃ©finir Â«Â\\xa0les moyens nÃ©cessaires pour accÃ©lÃ©rer la rÃ©alisation de ce projet important dans un dÃ©lai raisonnable et Ã\\xa0 des coÃ»ts concurrentiels afin dâ€™assurer lâ€™approvisionnement des marchÃ©s Ã©nergÃ©tiquesÂ\\xa0Â», a prÃ©cisÃ© le ministre algÃ©rien de lâ€™Ã©nergie algÃ©rien, Mohamed Arkab.\\nEn juilletÂ\\xa02022, Abuja, Alger, et Niamey avaient signÃ© lors dâ€™une rÃ©union ministÃ©rielle un protocole dâ€™accord pour la construction de ce gazoduc long de 4Â\\xa0128Â\\xa0km, sans fixer de date de mise en route. Lors du lancement du projet, enÂ\\xa02009, le coÃ»t du TSGP Ã©tait estimÃ© Ã\\xa0 10Â\\xa0milliards de dollars. Le gazoduc doit Ã©galement permettre lâ€™alimentation des pays du Sahel.\\nCe projet avait Ã©tÃ© rÃ©activÃ© dans un contexte gÃ©opolitique, marquÃ© par une forte demande internationale de gaz et deÂ\\xa0pÃ©trole et une flambÃ©e des prix, Ã\\xa0 la suite de lâ€™invasion de lâ€™Ukraine par la Russie, Ã\\xa0 la fin deÂ\\xa0fÃ©vrierÂ\\xa02022.\\n',\n",
       "              '{\"link\": \"https://www.lemonde.fr/afrique/article/2025/02/12/emmanuel-macron-invite-mohammed-vi-au-salon-de-l-agriculture-sur-fond-de-tensions-autour-de-l-accord-de-libre-echange-avec-le-maroc_6543436_3212.html\", \"title\": \"Emmanuel Macron invite Mohammed\\\\u00a0VI au Salon de l\\\\u2019agriculture sur fond de tensions autour de l\\\\u2019accord de libre-\\\\u00e9change avec le Maroc\"}',\n",
       "              'Emmanuel Macron invite MohammedÂ\\xa0VI au Salon de lâ€™agriculture sur fond de tensions autour de lâ€™accord de libre-Ã©change avec le Maroc\\nMohammedÂ\\xa0VI se rendra-t-il au Salon international de lâ€™agriculture en compagnie dâ€™Emmanuel MacronÂ\\xa0? Selon nos informations, le prÃ©sident franÃ§ais a conviÃ© le roi du Maroc Ã\\xa0 assister Ã\\xa0 la grand-messe annuelle du monde agricole qui aura lieu Ã\\xa0 Paris du 22Â\\xa0fÃ©vrier au 2Â\\xa0mars. Le monarque nâ€™a pas encore rÃ©pondu Ã\\xa0 lâ€™invitation de lâ€™ElysÃ©e, mais son dÃ©placement officiel, sâ€™il se confirme, serait son premier en France depuis 2018.\\nLe choix du Salon de lâ€™agriculture nâ€™est pas anodin. Pour la premiÃ¨re fois, la manifestation mettra Ã\\xa0 lâ€™honneur un pays, en lâ€™occurrence le Maroc. Une dÃ©cision qui Â«Â\\xa0reflÃ¨te lâ€™importance des partenariats agricoles qui nous lientÂ\\xa0Â», expliquent les organisateurs. Difficile cependant de ne pas y voir le prolongement du rapprochement bilatÃ©ral conclu enÂ\\xa02024 Ã\\xa0 lâ€™issue dâ€™une sÃ©quence diplomatique en deux tempsÂ\\xa0: la reconnaissance par Emmanuel Macron de la souverainetÃ© du Maroc sur le Sahara occidental, en juillet, puis la visite du prÃ©sident franÃ§ais Ã\\xa0 Rabat, en octobre.\\nA Paris, une importante dÃ©lÃ©gation marocaine est attendue, alors que de part et dâ€™autre les Ã©changes agricoles ont bondi, tirÃ©s par la croissance des exportations franÃ§aises de cÃ©rÃ©ales et par la hausse des exportations marocaines de fruits et lÃ©gumes. Le regain de confiance entre les deux pays pourrait toutefois pÃ¢tir des nouveaux rapports de force syndicaux en France. Avec, en toile de fond, une poussÃ©e de la contestation contre lâ€™accord agricole nouÃ© entre lâ€™Union europÃ©enne (UE) et le Maroc. Symbole de la Â«Â\\xa0concurrence dÃ©loyaleÂ\\xa0Â» dont les agriculteurs de lâ€™Hexagone se disent victimesÂ\\xa0: la tomate cerise marocaine, exemptÃ©e de droits de douane moyennant quotas.\\nSur cette question, les sujets de friction des deux cÃ´tÃ©s de la MÃ©diterranÃ©e ne sont pas nouveaux. Quand les producteurs marocains assurent respecter les normes europÃ©ennes et vouloir Ãªtre compÃ©titifs, leurs homologues franÃ§ais leur reprochent lâ€™utilisation dâ€™insecticides interdits dans lâ€™UE et le faible coÃ»t de leur main-dâ€™Å“uvre, dont dÃ©couleraient des prix cassÃ©s dans la grande distribution. Vendue en France Ã\\xa0 0,99Â\\xa0euro, la barquette de 250Â\\xa0grammes de tomates cerises allongÃ©es produites dans la rÃ©gion dâ€™Agadir, dans le sud du Maroc, ou dans celle de Dakhla, au Sahara occidental, cristallise toutes les tensions.\\nOpÃ©rations coup de poing\\nLâ€™exaspÃ©ration des agriculteurs franÃ§ais a culminÃ© enÂ\\xa02024. Des milliers de tomates marocaines avaient alors Ã©tÃ© dÃ©versÃ©es sur les routes et les parkings des supermarchÃ©s. En premiÃ¨re ligne de ces opÃ©rations coup de poing, la Coordination rurale a rÃ©alisÃ© une percÃ©e historique dans les chambres dâ€™agriculture, laissant augurer dâ€™un raidissement des positions syndicales franÃ§aises. Au marchÃ© Saint-Charles International de Perpignan, oÃ¹ transitent les tomates marocaines, des alertes ont Ã©tÃ© lancÃ©es ces derniers jours en prÃ©vision de possibles actions de reprÃ©sailles.\\nA cette colÃ¨re, le score du Rassemblement national (RN) aux derniÃ¨res lÃ©gislatives, qui a fait du parti prÃ©sidÃ© par Jordan Bardella le premier groupe politique au Palais-Bourbon, offre dÃ©sormais un dÃ©bouchÃ© politique. Sans en Ãªtre Ã\\xa0 lâ€™origine, la formation dâ€™extrÃªme droite entretient des liens Ã©troits avec la Coordination rurale. Parmi les sympathisants du syndicat, 47Â\\xa0% des personnes sondÃ©es disaient vouloir voter pour le RN Ã\\xa0 lâ€™Ã©lection europÃ©enne de juinÂ\\xa02024, selon le Centre de recherches politiques de Sciences Po (Cevipof). Et de nombreux dÃ©putÃ©s RN en milieu rural ont fait de la dÃ©nonciation des accords de libre-Ã©change leur cheval de bataille.\\nParmi eux, HÃ©lÃ¨ne Laporte, Ã©lue du Lot-et-Garonne. Ce fief de la Coordination rurale abrite, aprÃ¨s les Bouches-du-RhÃ´ne, les plus vastes cultures de tomates franÃ§aises. RÃ©cemment portÃ©e Ã\\xa0 la tÃªte du groupe dâ€™amitiÃ© France-Maroc Ã\\xa0 lâ€™AssemblÃ©e nationale, la dÃ©putÃ©e RN a rÃ©pÃ©tÃ© ces derniers mois vouloir Â«Â\\xa0engager un processus de rÃ©vision des accordsÂ\\xa0Â». Â«Â\\xa0Je pense notamment Ã\\xa0 celui qui nous lie au Maroc et qui prÃ©voit des exonÃ©rations de droits de douane sur lâ€™importation de tomatesÂ\\xa0Â», a-t-elle dÃ©clarÃ© dans lâ€™HÃ©micycle le 15Â\\xa0janvier.\\nLe sujet a Ã©tÃ© abordÃ© lors dâ€™une rencontre entre HÃ©lÃ¨ne Laporte et lâ€™ambassadrice du Maroc en France, Samira SitaÃ¯l, le 3Â\\xa0fÃ©vrier Ã\\xa0 Paris. Officiellement, la position de Rabat est de sâ€™en tenir Ã\\xa0 lâ€™accord signÃ© avec Bruxelles. Â«Â\\xa0Nous ne voulons pas que les agriculteurs marocains soient tenus pour responsables de problÃ¨mes internes Ã\\xa0 la France ou Ã\\xa0 lâ€™UEÂ\\xa0Â», indique une source marocaine.\\nÂ«Â\\xa0Relents protectionnistesÂ\\xa0Â»\\nBien que le gouvernement franÃ§ais nâ€™ait Ã©mis aucun signal en faveur de sa renÃ©gociation, lâ€™Ã©pouvantail dâ€™une remise Ã\\xa0 plat de lâ€™accord est prÃªt Ã\\xa0 Ãªtre agitÃ© cÃ´tÃ© marocain. OÃ¹ lâ€™on fait savoir que la renÃ©gociation, si elle avait lieu, devra porter sur tous les produits concernÃ©s. Au risque de nuire aux intÃ©rÃªts des grands gagnants du libre-Ã©change entre les deux paysÂ\\xa0: les cÃ©rÃ©aliers franÃ§ais, qui ont fourni 45Â\\xa0% des importations de cÃ©rÃ©ales au Maroc enÂ\\xa02022.\\nCâ€™est dire combien les propos tenus par le plus mÃ©diatique dâ€™entre eux, Arnaud Rousseau, nâ€™ont pas Ã©tÃ© du goÃ»t des professionnels marocains. Devant la commission des affaires Ã©conomiques de lâ€™AssemblÃ©e nationale, le 18Â\\xa0septembreÂ\\xa02024, le numÃ©ro un de la FÃ©dÃ©ration nationale des syndicats dâ€™exploitants agricoles (FNSEA) avait affirmÃ© son Â«Â\\xa0ambition de rediscuter de lâ€™accordÂ\\xa0Â» avec Rabat. Le prÃ©sident du conseil dâ€™administration dâ€™Avril Gestion, lâ€™actionnaire commanditÃ© du groupe Avril (ex-SofiprotÃ©ol), propriÃ©taire au Maroc de Lesieur Cristal, Ã©tait jusquâ€™Ã\\xa0 prÃ©sent considÃ©rÃ© comme un rempart face aux coups de boutoir des agriculteurs les plus radicaux.\\nConscients de lâ€™extrÃªme sensibilitÃ© du dossier, les ministres de lâ€™agriculture des deux pays ont relancÃ© le comitÃ© franco-marocain de la tomate, en veille depuis 2020. La question agricole figurera Ã©galement au menu des discussions de la prochaine rÃ©union de haut niveau entre les deux gouvernements, qui doit se tenir au Maroc avant lâ€™Ã©tÃ©. Elle devrait Ã©galement Ãªtre Ã©voquÃ©e ces prochains jours Ã\\xa0 lâ€™occasion dâ€™une rencontre en France entre les ministres des affaires Ã©trangÃ¨res des deux pays, Jean-NoÃ«l Barrot et Nasser Bourita. Ce dernier avait dÃ©noncÃ© lâ€™an passÃ© les Â«Â\\xa0relents protectionnistesÂ\\xa0Â» de lâ€™Europe.\\nLa question touche jusquâ€™au plusÂ\\xa0haut sommet de lâ€™Etat marocain. Parmi les nombreuses filiales de la holdingÂ\\xa0Siger, qui appartient au roi Mohammed VI, figurent les Domaines agricoles, lâ€™un des principaux exportateurs marocains de fruits et de lÃ©gumes en Europe. La visite dâ€™Etat du souverain en France, quâ€™Emmanuel Macron avait annoncÃ©e pour 2025 lorsquâ€™il se trouvait au Maroc, est toujours dâ€™actualitÃ©, fait-on savoir Ã\\xa0 Rabat.\\n',\n",
       "              '{\"link\": \"https://www.lemonde.fr/afrique/article/2025/02/12/en-libye-un-ministre-blesse-lors-d-une-tentative-d-assassinat-a-tripoli_6543690_3212.html\", \"title\": \"En Libye, un ministre bless\\\\u00e9 lors d\\\\u2019une \\\\u00ab\\\\u00a0tentative d\\\\u2019assassinat\\\\u00a0\\\\u00bb \\\\u00e0 Tripoli\"}',\n",
       "              'En Libye, un ministre blessÃ© lors dâ€™une Â«Â\\xa0tentative dâ€™assassinatÂ\\xa0Â» Ã\\xa0 Tripoli\\nUn ministre libyen a Ã©tÃ© blessÃ© lors dâ€™une Â«Â\\xa0tentative dâ€™assassinatÂ\\xa0Â» par balle alors quâ€™il se trouvait dans sa voiture Ã\\xa0 Tripoli, a annoncÃ©, mercredi 12Â\\xa0fÃ©vrier, le Â«Â\\xa0gouvernement dâ€™union nationaleÂ\\xa0Â». Adel Jomaa, ministre dâ€™Etat chargÃ© des affaires du premier ministre et du cabinet, est dans Â«Â\\xa0un Ã©tat stableÂ\\xa0Â», a ajoutÃ© le gouvernement dans un communiquÃ©, Ã©voquant des Â«Â\\xa0tirs directs sur sa voitureÂ\\xa0Â». Selon des mÃ©dias locaux, il a Ã©tÃ© atteint aux jambes.\\nUne enquÃªte a immÃ©diatement Ã©tÃ© ouverte pour identifier les auteurs des tirs, selon le gouvernement, qui a fait part de sa Â«Â\\xa0vive condamnationÂ\\xa0Â» et soulignÃ© quâ€™il ne tolÃ©rerait Â«Â\\xa0aucune tentative menaÃ§ant la sÃ©curitÃ© et la stabilitÃ© de lâ€™EtatÂ\\xa0Â». Adel Jomaa, proche conseiller du premier ministre Abdel Hamid Dbeibah, a Ã©tÃ© nommÃ© Ã\\xa0 ce poste en marsÂ\\xa02021 et est chargÃ© de la coordination entre le cabinet du premier ministre et les divers ministÃ¨res, notamment pour le suivi de la mise en Å“uvre des politiques gouvernementales.\\nEn avrilÂ\\xa02024, une attaque avait visÃ© le domicile et le bureau Ã\\xa0 Tripoli dâ€™Ibrahim Dbeibah, neveu et conseiller politique du chef du gouvernement, sans faire de victime. En fÃ©vrierÂ\\xa02021, Fathi Bachagha, alors puissant ministre de lâ€™intÃ©rieur du gouvernement de FaÃ¯ez Sarraj, Ã©tait sorti indemne dâ€™une tentative dâ€™assassinat lorsque son convoi avait Ã©tÃ© attaquÃ© par un groupe non identifiÃ©.\\nDepuis la chute du dirigeant Mouammar Kadhafi, tuÃ© lors dâ€™une rÃ©volte populaire enÂ\\xa02011, la Libye, riche pays pÃ©trolier, peine Ã\\xa0 sâ€™extirper de plus dâ€™une dÃ©cennie de chaos et de divisions, avec deux gouvernements rivaux qui se disputent le pouvoirÂ\\xa0: lâ€™un Ã\\xa0 Tripoli (ouest), reconnu par lâ€™ONU, et lâ€™autre Ã\\xa0 Benghazi (est), soutenu par le clan du marÃ©chal Khalifa Haftar.\\n',\n",
       "              '{\"link\": \"https://www.lemonde.fr/afrique/article/2025/02/11/intelligence-artificielle-malgre-son-retard-l-afrique-ne-veut-pas-rester-en-marge-de-la-revolution-technologique_6542407_3212.html\", \"title\": \"Malgr\\\\u00e9 son retard sur l\\\\u2019IA, l\\\\u2019Afrique ne veut pas rester en marge de la r\\\\u00e9volution technologique\"}',\n",
       "              'MalgrÃ© son retard sur lâ€™IA, lâ€™Afrique ne veut pas rester en marge de la rÃ©volution technologique\\nLâ€™Afrique nâ€™a pas Ã©tÃ© oubliÃ©e au Sommet pour lâ€™action sur lâ€™intelligence artificielle (IA). Le grand raout organisÃ© Ã\\xa0 Paris, lundiÂ\\xa010Â\\xa0et mardi 11Â\\xa0fÃ©vrier, avec un souci dâ€™inclure les pays du Sud, a Ã©tÃ© lâ€™occasion, notamment, de faire la promotion du futur Â«Â\\xa0Conseil africain de lâ€™IAÂ\\xa0Â» annoncÃ© dÃ©but fÃ©vrier par Smart Africa, une alliance dâ€™une quarantaine dâ€™Etats visant Ã\\xa0 promouvoir lâ€™utilisation des nouvelles technologies sur le continent. Lâ€™organe devrait Ãªtre lancÃ© officiellement lors du SommetÂ\\xa0mondial surÂ\\xa0lâ€™IAÂ\\xa0enÂ\\xa0Afrique, prÃ©vu dÃ©but avril Ã\\xa0 Kigali (Rwanda).\\nMais si lâ€™Afrique revendique dâ€™avoir voix au chapitre, une question demeureÂ\\xa0: comment peut-elle prendre part Ã\\xa0 la rÃ©volution en cours tout en partant avec un grand temps de retardÂ\\xa0? Selon un scÃ©nario favorable, lâ€™IA pourrait permettre de rÃ©pondre efficacement Ã\\xa0 certains des maux les plus pressantsÂ\\xa0: en compensant les lacunes des systÃ¨mes Ã©ducatifs et de santÃ©, en amÃ©liorant les rendements agricoles ou en facilitant lâ€™accÃ¨s aux services financiers pour une population encore largement exclue du systÃ¨me bancaire.\\nLâ€™Afrique a dâ€™ailleurs vu Ã©merger quelques belles pÃ©pites du secteur, comme la start-up tunisienne InstaDeep, rachetÃ©e enÂ\\xa02023Â\\xa0par le laboratoire allemand BioNTech. Cette sociÃ©tÃ©, qui a Ã©laborÃ© un systÃ¨me dâ€™alerte sur les variants du Covid-19, dÃ©veloppe aujourdâ€™hui une solution pour lutter contre les essaims de criquets pÃ¨lerins, particuliÃ¨rement dÃ©vastateurs dans certains pays africains.\\nPour autant, la mise au point dâ€™une IA Â«Â\\xa0made in AfricaÂ\\xa0Â» se heurte Ã\\xa0 de nombreux handicaps, Ã\\xa0 commencer par le dÃ©ficit dâ€™infrastructures numÃ©riques. Lâ€™Afrique subsaharienne, en particulier, est la rÃ©gion la moins bien Ã©quipÃ©e au monde pour pouvoir saisir les opportunitÃ©s de lâ€™IA, selon lâ€™indiceÂ\\xa02023Â\\xa0de degrÃ© de prÃ©paration Ã\\xa0 lâ€™IA dâ€™Oxford Insights. Une position de Â«Â\\xa0retardataireÂ\\xa0Â» qui tient Ã\\xa0 la faible disponibilitÃ© dâ€™Internet, Ã\\xa0 son coÃ»t relativement Ã©levÃ© et Ã\\xa0 la mauvaise qualitÃ© des connexions.\\nÂ«Â\\xa0Effet transformateurÂ\\xa0Â»\\nCette situation est aggravÃ©e par la pÃ©nurie de data centers. Le continent hÃ©berge moins de 2Â\\xa0% de ces Ã©quipements indispensables pour traiter les masses de donnÃ©es qui nourrissent les applications basÃ©es sur lâ€™IA. Seuls 5Â\\xa0% des talents africains du secteur ont aujourdâ€™hui accÃ¨s Ã\\xa0 la puissance de calcul et aux ressources nÃ©cessaires pour effectuer des tÃ¢ches complexes, selon une analyse dâ€™AlexÂ\\xa0Tsado, fondateur dâ€™Alliance4AI, une communautÃ© dâ€™experts basÃ©e en Afrique du Sud. A cette contrainte sâ€™ajoutent un manque de compÃ©tences locales et un contexte de sous-financement pour les entreprises technologiques du continent.\\nÂ«Â\\xa0Lâ€™Afrique est trÃ¨s dÃ©savantagÃ©e et bien quâ€™elle reprÃ©sente 17Â\\xa0% de la population du globe, elle produit moins de 1Â\\xa0% de lâ€™IA mondialeÂ\\xa0Â», relÃ¨ve Bright Simons, analyste au sein du cercle de rÃ©flexion ghanÃ©en Imani, en faisant rÃ©fÃ©rence Ã\\xa0 lâ€™Ã©laboration de modÃ¨les dâ€™apprentissage automatique et de langage, mais Ã©galement Ã\\xa0 la rÃ©daction dâ€™articles de recherche consacrÃ©s Ã\\xa0 cette technologie.\\nFondateur de la sociÃ©tÃ© mPedigree, spÃ©cialisÃ©e dans la lutte contre la contrefaÃ§on pharmaceutique, Bright Simons estime nÃ©anmoins que lâ€™IA peut avoir un Â«Â\\xa0effet transformateurÂ\\xa0Â»Â\\xa0: non pas via de nouvelles solutions crÃ©Ã©es spÃ©cifiquement en Afrique, mais grÃ¢ce Ã\\xa0 lâ€™intÃ©gration de modÃ¨les dÃ©jÃ\\xa0 existants et leur utilisation par les entreprises du continent. Ce Ã\\xa0 quoi sâ€™emploie mPedigree pour amÃ©liorer la dÃ©tection de mÃ©dicaments contrefaits.\\nÂ«Â\\xa0Il ne faut pas partir perdantÂ\\xa0Â», exhorte pour sa part Babacar Seck, fondateur dâ€™Askya Investment Partners, une sociÃ©tÃ© basÃ©e Ã\\xa0 Dakar et qui cible des entreprises spÃ©cialisÃ©es dans la tech et lâ€™IA, en insistant sur les changements Ã\\xa0 lâ€™Å“uvre sur le continentÂ\\xa0: une courbe dâ€™adoption des nouveaux services numÃ©riques rapide grÃ¢ce Ã\\xa0 une population jeune en forte croissance, des cycles de formations spÃ©cialisÃ©es qui se dÃ©veloppent de lâ€™Afrique du Sud au Maroc en passant par lâ€™Ouganda, mais aussi la multiplication de projets autour de la fibre optique et des data centers portÃ©s par les Big Tech et dâ€™autres opÃ©rateurs privÃ©s.\\nÂ«Â\\xa0Oui, il faut plus dâ€™infrastructures, mais on peut dÃ©jÃ\\xa0 faire davantage avec ce quâ€™on a, poursuit Babacar Seck. Ce dont nous avons encore plus besoin, câ€™est dâ€™accÃ©lÃ©rer le dÃ©veloppement dâ€™un Ã©cosystÃ¨me IA africain, de la recherche aux start-up, en boostant les investissements et les partenariats avec les grandes entreprises.Â\\xa0Â»\\n',\n",
       "              '{\"link\": \"https://www.lemonde.fr/culture/article/2025/02/11/nature-pour-une-reconciliation-sur-m6-yann-arthus-bertrand-s-adresse-aux-spectateurs-en-dernier-recours_6542340_3246.html\", \"title\": \"\\\\u00ab\\\\u00a0Nature. Pour une r\\\\u00e9conciliation\\\\u00a0\\\\u00bb, sur M6\\\\u00a0: Yann Arthus-Bertrand s\\\\u2019adresse aux spectateurs en dernier recours\"}',\n",
       "              'Â«Â\\xa0Nature. Pour une rÃ©conciliationÂ\\xa0Â», sur M6Â\\xa0: Yann Arthus-Bertrand sâ€™adresse aux spectateurs en dernier recours\\nLe CÅ“ur de Voh, en Nouvelle-CalÃ©donie, mondialement connu depuis sa publication en couverture de LaÂ\\xa0Terre vue du ciel enÂ\\xa01999 (plus de 3Â\\xa0millions dâ€™exemplaires vendus), symbolise, aux yeux de Yann Arthus-Bertrand, sa vie de combat, passÃ©e Ã\\xa0 montrer la beautÃ© de notre planÃ¨te pour inciter Ã\\xa0 la protÃ©ger. En vainÂ\\xa0? Aujourdâ€™hui, face Ã\\xa0 lâ€™inaction des hommes, pour la premiÃ¨re fois de sa vie, Ã\\xa0 78Â\\xa0ans, il doute. Alors il reprend tout depuis le dÃ©but, dans un nouveau film, le plus difficile de sa carriÃ¨re, assure-t-il.\\nPuisant dans ses fantastiques archives (600Â\\xa0000Â\\xa0photos, une douzaine de films), il sâ€™adresse directement aux spectateurs durant prÃ¨s de deux heures. Cela peut inquiÃ©ter lorsque lâ€™on constate quâ€™il remonte aux origines de la Terre, voici 4,6Â\\xa0milliards dâ€™annÃ©es, maniant les images de pouponniÃ¨res dâ€™Ã©toiles du tÃ©lescope spatial James-Webb, pour souligner le fait que la Terre est uniqueÂ\\xa0; commentant des photos gÃ©omÃ©triques de la surface de MarsÂ\\xa0: Â«Â\\xa0A ceux qui pensent que nous pourrions y vivre un jour (â€¦),Â\\xa0câ€™est un fantasme, un mirage.Â\\xa0Â»\\nParadoxalement pourtant, progressivement, le film captive et motive. De lâ€™apparition de la vie, il souligne les mÃ©canismes de la nature, dont lâ€™humain ferait bien de sâ€™inspirer. Tout avait pourtant bien commencÃ©, jusquâ€™Ã\\xa0 ce que tout bascule il y a un siÃ¨cle. Â«Â\\xa0Lâ€™Homo erectus est devenu Homo economicusÂ\\xa0Â», en rompant son lien avec la natureÂ\\xa0: Â«Â\\xa0Nous sommes en train de vivre la sixiÃ¨me extinction de masse, provoquÃ©e essentiellement par nous-mÃªmesâ€¦Â\\xa0Â»\\nÂ«Â\\xa0Câ€™est absurde, mais pas une fatalitÃ©Â\\xa0Â»\\nAussi â€“ Ã\\xa0 la moitiÃ© du film â€“ Â«Â\\xa0Je mâ€™adresse Ã\\xa0 vousÂ\\xa0Â», dÃ©clare Yann Arthus-Bertrand. Tout dâ€™abord pour nous aider Ã\\xa0 faire Â«Â\\xa0le tri dans les injonctions contradictoires de la transition Ã©nergÃ©tiqueÂ\\xa0Â» et dans ses paradoxesÂ\\xa0: avion, surtourisme, voiture Ã©lectriqueâ€¦ Â«Â\\xa0On nous bassine avec la transition, mais elle est une illusion. Notre consommation de pÃ©trole ne diminue pas. Pire, les producteurs pÃ©troliers prospÃ¨rent. Le pÃ©trole est un vÃ©ritable open bar.Â\\xa0Â»\\nEnsuite, pour commencer Ã\\xa0 agir et consommer moins et mieux. Pour nous convaincre, Yann Arthus-Bertrand a lâ€™Å“il. Toute personne qui va voir la sÃ©quence sur lâ€™usine Ã\\xa0 lait, aussi graphique que terrible, ne va pas oublier de sitÃ´t ces animaux bloquÃ©s sur de gigantesques plateaux tournants. Â«Â\\xa0Tous ensemble, ne peut-on pas rÃ©duire cette quantitÃ©Â\\xa0?Â\\xa0Â», interroge-t-il. Il prend moins de gants pour dÃ©noncer le massacre autorisÃ© de 1Â\\xa0500Â\\xa0cÃ©tacÃ©s par an aux Ã®les FÃ©roÃ©, les chalutiers qui pÃªchent dans les aires marines protÃ©gÃ©es ou les pesticides.\\nÂ«Â\\xa0Câ€™est absurde, mais pas une fatalitÃ©Â\\xa0: nous avons plus le choix que ce que nous pensons.Â\\xa0Â» Notamment dans les secteurs les plus impactants, comme lâ€™alimentation et lâ€™habillement, quâ€™il dÃ©veloppe ici. Ciblant Temu, Sheinâ€¦ Â«Â\\xa0Si on part du principe que nos vÃªtements disent une part de nous, sommes-nous fiers de ce que nous portonsÂ\\xa0?Â\\xa0Â» Paradoxe ultime Ã\\xa0 ses yeuxÂ\\xa0: la guerre. Â«Â\\xa0La France, pays des droits de lâ€™homme, est aujourdâ€™hui deuxiÃ¨me exportateur dâ€™armes au monde.Â\\xa0Â»\\nLe septuagÃ©naire le rÃ©pÃ¨teÂ\\xa0: Â«Â\\xa0Nous avons le pouvoir de changer. Manque lâ€™envie.Â\\xa0Â» Avant de donner la parole Ã\\xa0 une douzaine de femmes engagÃ©es (extraites du film Woman, 2020), en tÃªte desquelles la primatologue Jane GoodallÂ\\xa0: Â«Â\\xa0Nous avons le choixâ€¦Â\\xa0Â»\\n',\n",
       "              '{\"link\": \"https://www.lemonde.fr/economie/article/2025/02/12/groupe-adp-le-parlement-valide-la-proposition-d-emmanuel-macron-de-nommer-pdg-philippe-pascal_6543609_3234.html\", \"title\": \"Groupe ADP\\\\u00a0: le Parlement valide la\\\\u00a0proposition d\\\\u2019Emmanuel Macron de\\\\u00a0nommer PDG Philippe Pascal\"}',\n",
       "              'Groupe ADPÂ\\xa0: le Parlement valide laÂ\\xa0proposition dâ€™Emmanuel Macron deÂ\\xa0nommer PDG Philippe Pascal\\nLe Parlement a validÃ©, mercredi 12Â\\xa0fÃ©vrier, la proposition dâ€™Emmanuel Macron de la nomination de Philippe Pascal au poste de prÃ©sident-directeur gÃ©nÃ©ral (PDG) de Groupe ADP, gestionnaire des aÃ©roports parisiens, a-t-on appris auprÃ¨s du SÃ©nat. Actuel directeur financier de lâ€™entreprise contrÃ´lÃ©e Ã\\xa0 50,6Â\\xa0% par lâ€™Etat, M.Â\\xa0Pascal, 53Â\\xa0ans, avait vu sa candidature proposÃ©e par le prÃ©sident de la RÃ©publique le 20Â\\xa0janvier. Il succÃ©dera Ã\\xa0 Augustin de Romanet une fois sa nomination avalisÃ©e en conseil des ministres.\\nEntendu mercredi par la commission de lâ€™amÃ©nagement du territoire et du dÃ©veloppement durable du SÃ©nat, une semaine aprÃ¨s son audition par la commission du mÃªme nom Ã\\xa0 la Chambre basse, M.Â\\xa0Pascal a vu sa candidature soutenue par 49Â\\xa0Ã©lus sur 92 ayant pris part aux votes, selon les chiffres communiquÃ©s par le SÃ©nat. Il fallait lâ€™opposition de plus de trois cinquiÃ¨mes des votants pour la rejeter.\\nEn marsÂ\\xa02024, le gouvernement avait annoncÃ© que M.Â\\xa0Romanet, qui sâ€™Ã©tait dit Â«Â\\xa0disponibleÂ\\xa0Â» pour un nouveau mandat, serait maintenu dans ses fonctions jusquâ€™aux Jeux olympiques et paralympiques de Paris, mais pas renouvelÃ© au-delÃ\\xa0. Son intÃ©rim sâ€™est toutefois Ã©ternisÃ© en raison des multiples rebondissements politiques en 2024.\\nÂ«Â\\xa0Le tout-aÃ©rien nâ€™est pas responsableÂ\\xa0Â»\\nM.Â\\xa0Pascal est un haut fonctionnaire spÃ©cialiste de la fiscalitÃ© ayant gravi depuis douzeÂ\\xa0ans les Ã©chelons au sein du gestionnaire des aÃ©roports parisiens. Câ€™est au dÃ©but de 2013, soit quelques semaines aprÃ¨s lâ€™arrivÃ©e de M.Â\\xa0Romanet au poste de PDG, que M.Â\\xa0Pascal a rejoint lâ€™entreprise aÃ©roportuaire. Il Ã©tait alors directeur des opÃ©rations financiÃ¨res et des participations, un poste stratÃ©gique pour un groupe qui avait commencÃ© Ã\\xa0 essaimer Ã\\xa0 lâ€™Ã©tranger lors de la prÃ©sidence du prÃ©dÃ©cesseur dâ€™Augustin de Romanet, Pierre Graff.\\nIl occupait son poste actuel depuis 2016, aux cÃ´tÃ©s de M.Â\\xa0Romanet et de lâ€™ancien directeur gÃ©nÃ©ral Edward Arkwright, devenu au dÃ©but de janvier directeur gÃ©nÃ©ral du promoteur immobilier Altarea. Titulaire dâ€™une maÃ®trise de droit public, M.Â\\xa0Pascal est diplÃ´mÃ© de lâ€™Ecole nationale des impÃ´ts et a commencÃ© sa carriÃ¨re Ã\\xa0 Bercy Ã\\xa0 la direction de la lÃ©gislation fiscale, Å“uvrant deÂ\\xa01997 Ã\\xa0Â\\xa02007 Ã\\xa0 rÃ©diger des textes sur Â«Â\\xa0la fiscalitÃ© du patrimoine immobilier, la fiscalitÃ© agricole et la fiscalitÃ© des personnesÂ\\xa0Â», selon sa note biographique.\\nLors de son audition Ã\\xa0 lâ€™AssemblÃ©e le 5Â\\xa0fÃ©vrier, M.Â\\xa0Pascal sâ€™Ã©tait dit opposÃ© Ã\\xa0 une restriction du trafic aÃ©rien qui limiterait, selon lui, les capacitÃ©s dâ€™investissement du secteur dans la dÃ©carbonation. Â«Â\\xa0Si on veut dÃ©carboner plus vite, câ€™est possible. Mais il faut investir plusÂ\\xa0Â», avait-il plaidÃ©, tout en se plaÃ§ant dans les pas du PDG sortant qui avait lancÃ© enÂ\\xa02022 un appel remarquÃ© Ã\\xa0 une Â«Â\\xa0certaine modÃ©rationÂ\\xa0Â» dans le recours Ã\\xa0 lâ€™avion. Â«Â\\xa0Le tout-aÃ©rien nâ€™est pas responsableÂ\\xa0Â», avait concÃ©dÃ© le candidat, se disant favorable au fait de nâ€™utiliser lâ€™aÃ©rien Â«Â\\xa0que lorsquâ€™il est justifiÃ©Â\\xa0Â».\\nSi sa nomination est officialisÃ©e lors du prochain conseil des ministres, cela devrait permettre de justesse Ã\\xa0 M.Â\\xa0Pascal de prÃ©senter, dans ses nouvelles fonctions, les rÃ©sultats financiers annuels du groupe, attendus le 19Â\\xa0fÃ©vrier en fin de journÃ©e.\\n',\n",
       "              '{\"link\": \"https://www.lemonde.fr/economie/article/2025/02/11/les-deputes-autorisent-les-palpations-par-les-forces-de-securite-de-la-sncf-et-de-la-ratp_6542781_3234.html\", \"title\": \"Les d\\\\u00e9put\\\\u00e9s autorisent les palpations par les forces de s\\\\u00e9curit\\\\u00e9 de la SNCF et de la RATP\"}',\n",
       "              'Les dÃ©putÃ©s autorisent les palpations par les forces de sÃ©curitÃ© de la SNCF et de la RATP\\nLes dÃ©putÃ©s ont adoptÃ©, mardi 11Â\\xa0fÃ©vrier, plusieurs mesures visant Ã\\xa0 amÃ©liorer la sÃ©curitÃ© dans les transports en commun, dont lâ€™autorisation pour les forces de sÃ©curitÃ© de la SNCF et de la RATP de procÃ©der Ã\\xa0 des palpations, ainsi que le port de camÃ©ras-piÃ©tons par les contrÃ´leurs. La proposition de loi, qui avait Ã©tÃ© maintes fois repoussÃ©e, a Ã©tÃ© adoptÃ©e par 139Â\\xa0voix contreÂ\\xa059. Le ministre chargÃ© des transports, Philippe Tabarot, Ã\\xa0 lâ€™origine du texte lorsquâ€™il Ã©tait sÃ©nateur (Les RÃ©publicains) des Alpes-Maritimes, sâ€™est fÃ©licitÃ© de ce vote.\\nLe texte Ã©tait examinÃ© en premiÃ¨re lecture Ã\\xa0 lâ€™AssemblÃ©e nationale, aprÃ¨s avoir Ã©tÃ© adoptÃ© auÂ\\xa0SÃ©nat en fÃ©vrierÂ\\xa02024. Son parcours lÃ©gislatif avait Ã©tÃ© stoppÃ© par la dissolution en juin, puis par la censure du gouvernement de Michel Barnier en dÃ©cembre. DÃ©putÃ©s et sÃ©nateurs devront dÃ©sormais sâ€™entendre sur une version du texte en commission mixte paritaire.\\nLâ€™AssemblÃ©e nationale a entre autres pÃ©rennisÃ© lâ€™usage des camÃ©ras-piÃ©tons pour les agents de contrÃ´le. Une expÃ©rimentation a dÃ©jÃ\\xa0 eu lieu, mais a pris fin le 1áµ‰Ê³Â\\xa0octobreÂ\\xa02024. Or les agents ont fait Ã©tat dâ€™un Â«Â\\xa0retour trÃ¨s positifÂ\\xa0Â», jugeant que le port de ces camÃ©ras â€“ quâ€™ils dÃ©cident eux-mÃªmes de dÃ©clencher â€“ permettait de jouer Â«Â\\xa0un rÃ´le dissuasif face aux menaces et [aux] agressionsÂ\\xa0Â», a fait valoir le rapporteur du texte, le macroniste Guillaume Gouffier Valente (Val-de-Marne).\\nDes inquiÃ©tudes Ã\\xa0 gauche\\nLa gauche a, elle, fustigÃ© une proposition de loi portant atteinte Ã\\xa0 un certain nombre de droits fondamentaux. Â«Â\\xa0Câ€™est un texte liberticideÂ\\xa0Â», a taclÃ© la dÃ©putÃ©e (Parti socialiste) de Seine-et-Marne CÃ©line ThiÃ©bault-Martinez. Les critiques ont notamment visÃ© un amendement du gouvernement â€“ il doit Ã©tendre jusquâ€™enÂ\\xa02027 lâ€™expÃ©rimentation dâ€™un dispositif de vidÃ©osurveillance algorithmique (VSA), testÃ© lors des Jeux olympiques de Paris, et qui devait sâ€™achever en mars.\\nCette disposition a Ã©tÃ© critiquÃ©e comme un Â«Â\\xa0cavalierÂ\\xa0Â» lÃ©gislatif sans lien suffisant avec le texte initial par certains dÃ©putÃ©s, qui ont par consÃ©quent promis de saisir le Conseil constitutionnel. Lâ€™association La Quadrature du Net avait Ã©galement rÃ©clamÃ© sa suppression. Dans le cadre de la VSA, un algorithme analyse les images de vidÃ©osurveillance afin de repÃ©rer des comportements suspects.\\nLes dÃ©putÃ©s ont Ã©galement Ã©largi, mardi, les prÃ©rogatives des forces de sÃ©curitÃ© dans les transports (SÃ»retÃ© ferroviaire pour la SNCF, et Groupe de protection et de sÃ©curitÃ© des rÃ©seaux pour la RATP). Les agents pourraient procÃ©der Ã\\xa0 des palpations sans avoir besoin du feu vert des prÃ©fets, et auraient la possibilitÃ© dâ€™intervenir Â«Â\\xa0aux abords immÃ©diatsÂ\\xa0Â» des gares â€“ et non plus seulement Ã\\xa0 lâ€™intÃ©rieur. Pour la RATP, cela doit permettre aux agents dâ€™intervenir contre la vente Ã\\xa0 la sauvette devant les stations et de saisir la marchandise.\\nAvec ce texte, les agents de sÃ©curitÃ© de la SNCF et de la RATP pourraient aussi saisir Â«Â\\xa0un objet autre quâ€™une armeÂ\\xa0Â» qui Â«Â\\xa0peut Ãªtre dangereux pour les voyageursÂ\\xa0Â», et le conserver jusquâ€™Ã\\xa0 quarante-huit heures.\\nUn autre amendement a Ã©tÃ© adoptÃ© pour autoriser les agents du service de sÃ»retÃ© de la SNCF â€“ ils sont dÃ©jÃ\\xa0 Ã©quipÃ©s dâ€™armes lÃ©tales â€“ Ã\\xa0 porter un pistolet Ã\\xa0 impulsion Ã©lectrique (Taser).\\nUn amendement contre le Â«Â\\xa0train surfingÂ\\xa0Â»\\nÂ«Â\\xa0Lâ€™Ã©largissement progressif et continu des pouvoirs des agents de la SNCF et de la RATP leur confÃ¨re des responsabilitÃ©s de plus en plus proches de ceux de la police nationaleÂ\\xa0Â», a critiquÃ© la dÃ©putÃ©e (Parti communiste franÃ§ais) des Hauts-de-Seine Elsa Faucillon. Le dÃ©putÃ© (Rassemblement national) des Alpes-Maritimes Bryan Masson a, lui, dÃ©fendu la mobilisation de son groupe en faveur dâ€™un texte Â«Â\\xa0pour la sÃ©curitÃ© des FranÃ§aises et des FranÃ§aisÂ\\xa0Â».\\nLes dÃ©putÃ©s ont par ailleurs supprimÃ© un article prÃ©voyant un dÃ©lit Â«Â\\xa0dâ€™incivilitÃ© dâ€™habitudeÂ\\xa0Â», qui visait Ã\\xa0 sanctionner plus fortement les comportements rÃ©pÃ©tÃ©s (dÃ©clenchement sans raison dâ€™une alarme, dÃ©gradationsâ€¦).\\nIls ont en revanche adoptÃ© une mesure ouvrant la voie Ã\\xa0 une interdiction de paraÃ®tre dans les rÃ©seaux de transports, similaire Ã\\xa0 celle existant dans les stades de football. Difficilement applicable, ont rÃ©torquÃ© plusieurs dÃ©putÃ©s Ã\\xa0 gauche, et Â«Â\\xa0inopÃ©rantÂ\\xa0Â» pour M.Â\\xa0Gouffier Valente. Â«Â\\xa0La seule et unique solution, (â€¦) pour la mettre en Å“uvre, sera la reconnaissance facialeÂ\\xa0Â», aÂ\\xa0alertÃ© la dÃ©putÃ©e (La France insoumise) de lâ€™IsÃ¨re Elisa Martin.\\nParticuliÃ¨rement attendue par la RATP, la crÃ©ation dâ€™un dÃ©lit de Â«Â\\xa0train surfingÂ\\xa0Â» â€“ des personnes grimpant sur le toit des mÃ©tros pour sâ€™y filmer â€“ a Ã©tÃ© adoptÃ©e, qui ont toutefois Ã©vacuÃ© la peine de prison encourue pour ne conserver quâ€™une lourde amende.\\n',\n",
       "              '{\"link\": \"https://www.lemonde.fr/idees/article/2025/02/12/intelligence-artificielle-la-necessite-d-une-troisieme-voie_6543393_3232.html\", \"title\": \"Intelligence artificielle\\\\u00a0: la n\\\\u00e9cessit\\\\u00e9 d\\\\u2019une troisi\\\\u00e8me voie\"}',\n",
       "              'Intelligence artificielleÂ\\xa0: la nÃ©cessitÃ© dâ€™une troisiÃ¨me voie\\nLe Sommet pour lâ€™action sur lâ€™intelligence artificielle (IA) organisÃ© par la France et lâ€™Inde, lundiÂ\\xa010Â\\xa0et mardi 11Â\\xa0fÃ©vrier, Ã\\xa0 Paris, a tentÃ© de poser les fondements dâ€™une coordination multilatÃ©rale afin dâ€™encadrer lâ€™Ã©mergence dâ€™une technologie dont lâ€™impact reste difficile Ã\\xa0 Ã©valuer. Au-delÃ\\xa0 des annonces dâ€™investissements, des bonnes intentions et de la multitude dâ€™interrogations restant encore sans rÃ©ponse, cette tentative louable se heurte Ã\\xa0 de fortes divergences dâ€™approche, qui nâ€™ont pas permis de dÃ©passer les enjeux de puissance et de souverainetÃ© que redessine lâ€™IA.\\nUne soixantaine de pays ont signÃ© la dÃ©claration finale, qui appelle Ã\\xa0 une intelligence artificielle Â«Â\\xa0ouverteÂ\\xa0Â», Â«Â\\xa0inclusiveÂ\\xa0Â» et Â«Â\\xa0Ã©thiqueÂ\\xa0Â». Ces trois notions renvoient Ã\\xa0 un socle commun pour maintenir un dialogue sur les Ã©volutions de cette technologie, Ã©viter une concentration des acteurs qui la maÃ®trisent et Å“uvrer pour quâ€™elle soit compatible avec les objectifs climatiques et le dÃ©veloppement humain.\\nCes grands principes demeurent gÃ©nÃ©raux et lâ€™efficacitÃ© de cette Ã©bauche de gouvernance reste Ã\\xa0 dÃ©montrer. Il sâ€™agit nÃ©anmoins dâ€™un point de dÃ©part indispensable pour encadrer une technologie, certes prometteuse, mais qui est en mÃªme temps excessivement Ã©nergivore, capable de manipuler les opinions, dâ€™exercer une surveillance dangereuse pour les libertÃ©s publiques, de dÃ©stabiliser le marchÃ© du travail, voire de tuer, lorsquâ€™elle est intÃ©grÃ©e Ã\\xa0 des systÃ¨mes dâ€™armement.\\nCes prÃ©cautions minimales ne sont pourtant pas unanimement partagÃ©es. Deux pays majeurs, le Royaume-Uni et, surtout, les Etats-Unis, leader mondial de lâ€™IA, ont refusÃ© de signer cette dÃ©claration finale. Londres juge que les initiatives prises ne vont pas dans le sens de lâ€™Â«Â\\xa0intÃ©rÃªt nationalÂ\\xa0Â» britannique. Le vice-prÃ©sident amÃ©ricain, J. D.Â\\xa0Vance, lui, a appelÃ© Ã\\xa0 limiter la rÃ©gulation pour Â«Â\\xa0ne pas tuer une industrie en plein essorÂ\\xa0Â», tout en mettant en garde lâ€™Europe contre des partenariats avec les Â«Â\\xa0rÃ©gimes autoritairesÂ\\xa0Â», pointant, sans la nommer, la Chine.\\nLa rÃ©gulation peut aider lâ€™innovation\\nFixer un cadre minimal Ã\\xa0 lâ€™IA nâ€™est pas incompatible avec lâ€™innovation. En opposant les deux notions, les Etats-Unis cherchent surtout Ã\\xa0 prÃ©server leur avance dans ce domaine sans se soucier de son impact. La rÃ©gulation peut mÃªme aider lâ€™innovation. La lÃ©gislation europÃ©enne sur les marchÃ©s numÃ©riques, qui vise Ã\\xa0 lutter contre les pratiques anticoncurrentielles des gÃ©ants dâ€™Internet, peut se rÃ©vÃ©ler utile pour Ã©viter que ces entreprises monopolisent lâ€™accÃ¨s Ã\\xa0 lâ€™IA en favorisant leurs propres systÃ¨mes au dÃ©triment de nouveaux entrants.\\nConcernant le risque chinois, J. D.Â\\xa0Vance nâ€™a pas forcÃ©ment tort, mais il ne sâ€™agit pas pour autant que lâ€™Europe se place sous la dÃ©pendance des Etats-Unis. Câ€™est une question de souverainetÃ©, mais aussi de faÃ§on dâ€™envisager lâ€™IA.\\nCe sommet a Ã©tÃ© lâ€™occasion pour lâ€™Union europÃ©enne (UE) et la France dâ€™annoncer des investissements colossaux. Cette surenchÃ¨re de moyens ne peut toutefois pas Ãªtre une finalitÃ©. Lâ€™exemple de lâ€™entreprise chinoise dâ€™IA DeepSeek montre que plus nâ€™est pas forcÃ©ment mieux. Lâ€™UE doit aussi proposer des alternatives au modÃ¨le amÃ©ricain, en misant sur lâ€™IA en source ouverte, sur la frugalitÃ© Ã©nergÃ©tique, la sÃ©curitÃ© et la transparence des systÃ¨mes. Il sâ€™agit aussi de financer des voies de recherche non couvertes par les gÃ©ants amÃ©ricains, dans une approche capable de rÃ©pondre aux besoins des pays du Sud. Ce sommet esquisse une troisiÃ¨me voie quâ€™il est nÃ©cessaire dâ€™explorer.\\n',\n",
       "              '{\"link\": \"https://www.lemonde.fr/idees/article/2025/02/12/vu-par-osama-hajjaj_6543649_3232.html\", \"title\": \"Vu par\\\\u2026 Osama Hajjaj\"}',\n",
       "              'Vu parâ€¦ Osama Hajjaj\\n',\n",
       "              '{\"link\": \"https://www.lemonde.fr/international/article/2025/02/12/bangladesh-un-rapport-de-l-onu-accuse-le-gouvernement-de-sheikh-hasina-de-crimes-contre-l-humanite-lors-des-manifestations-de-l-ete-2024_6543402_3210.html\", \"title\": \"Bangladesh\\\\u00a0: un rapport de l\\\\u2019ONU accuse le\\\\u00a0gouvernement de Sheikh Hasina de crimes contre l\\\\u2019humanit\\\\u00e9 lors des manifestations de\\\\u00a0l\\\\u2019\\\\u00e9t\\\\u00e9 2024\"}',\n",
       "              'BangladeshÂ\\xa0: un rapport de lâ€™ONU accuse leÂ\\xa0gouvernement de Sheikh Hasina de crimes contre lâ€™humanitÃ© lors des manifestations deÂ\\xa0lâ€™Ã©tÃ© 2024\\nLâ€™Organisation des Nations unies (ONU) a accusÃ© le rÃ©gime dÃ©chu au Bangladesh, mercrediÂ\\xa012Â\\xa0fÃ©vrier, dâ€™Ãªtre responsable de crimes contre lâ€™humanitÃ© au moment de la rÃ©pression du mouvement de protestation Ã\\xa0 lâ€™Ã©tÃ© 2024. Sâ€™appuyant sur les Â«Â\\xa0tÃ©moignages de hauts responsables et dâ€™autres preuvesÂ\\xa0Â», un rapport du Haut-Commissariat de lâ€™ONU aux droits de lâ€™homme (HCDH) fait Ã©tat dâ€™Â«Â\\xa0une politique officielle visant Ã\\xa0 attaquer et Ã\\xa0 rÃ©primer violemment les manifestants et sympathisants antigouvernementaux, ce qui soulÃ¨ve des inquiÃ©tudes quant Ã\\xa0 des crimes contre lâ€™humanitÃ© nÃ©cessitant une enquÃªte urgente approfondieÂ\\xa0Â».\\nCitant Â«Â\\xa0diverses sources crÃ©diblesÂ\\xa0Â», le rapport estime que Â«Â\\xa0jusquâ€™Ã\\xa0 1Â\\xa0400Â\\xa0personnes pourraient avoir Ã©tÃ© tuÃ©es entreÂ\\xa0leÂ\\xa01erÂ\\xa0juillet etÂ\\xa0le 15Â\\xa0aoÃ»tÂ\\xa0Â», et que Â«Â\\xa0des milliers dâ€™autres ont Ã©tÃ© blessÃ©esÂ\\xa0Â», selon un communiquÃ©. Le rapport prÃ©cise que la grande majoritÃ© des personnes tuÃ©es ont Ã©tÃ© abattues par les forces de sÃ©curitÃ©, et que 12Â\\xa0% Ã\\xa0 13Â\\xa0% Ã©taient des enfants.\\nLe HCDC accuse, par ailleurs, de graves violations des droits humains lâ€™ancien gouvernement de Sheikh Hasina, les services de sÃ©curitÃ© et de renseignement bangladais, ainsi que des Â«Â\\xa0Ã©lÃ©ments violentsÂ\\xa0Â» associÃ©s Ã\\xa0 la Ligue Awami, le parti de MmeÂ\\xa0Hasina. Il prÃ©cise que la police a fait Ã©tat de 44Â\\xa0tuÃ©s. InculpÃ©e par la justice bangladaise de crimes contre lâ€™humanitÃ©, MmeÂ\\xa0Hasina fait lâ€™objet de plusieurs mandats dâ€™arrÃªt internationaux. A la tÃªte du pays depuis 2009, lâ€™ancienne premiÃ¨re ministre avait fui son palais et trouvÃ© refuge en Inde le 5Â\\xa0aoÃ»t, aprÃ¨s plusieurs semaines dâ€™Ã©meutes rÃ©primÃ©es dans le sang.\\nÂ«Â\\xa0StratÃ©gie calculÃ©e et coordonnÃ©e de lâ€™ancien gouvernementÂ\\xa0Â»\\nLe HCDH affirme avoir Â«Â\\xa0des motifs raisonnables de croire que les crimes contre lâ€™humanitÃ© de meurtre, torture, dâ€™emprisonnement et dâ€™autres actes inhumains ont Ã©tÃ© commis dans le cadre dâ€™une attaque gÃ©nÃ©ralisÃ©e et systÃ©matique contre des manifestants et dâ€™autres civils considÃ©rÃ©s comme susceptibles de se joindre aux protestations ou de les soutenirÂ\\xa0Â». Â«Â\\xa0La rÃ©ponse brutale Ã©tait une stratÃ©gie calculÃ©e et bien coordonnÃ©e de lâ€™ancien gouvernement pour sâ€™accrocher au pouvoir face Ã\\xa0 une opposition de masseÂ\\xa0Â», dÃ©clare le haut-commissaire aux droits de lâ€™homme, Volker TÃ¼rk, dans le communiquÃ©. Â«Â\\xa0Il existe des motifs raisonnables de croire que des centaines dâ€™exÃ©cutions extrajudiciaires, dâ€™arrestations et de dÃ©tentions arbitraires massives, et de tortures ont Ã©tÃ© perpÃ©trÃ©es au su, avec la coordination et sous la direction des dirigeants politiques et des hauts responsables de la sÃ©curitÃ©, dans le cadre dâ€™une stratÃ©gie visant Ã\\xa0 rÃ©primer les manifestationsÂ\\xa0Â», poursuit-il.\\nPar ailleurs, une des principales organisations de dÃ©fense des droits humains au Bangladesh, Odhikar, a annoncÃ© mercredi quâ€™une douzaine de personnes Ã©taient mortes en dÃ©tention depuis lâ€™Ã©tÃ©, notamment Ã\\xa0 la suite de tortures ou de blessures par balle. Â«Â\\xa0Les personnes impliquÃ©es dans les exÃ©cutions extrajudiciaires doivent Ãªtre traduites en justiceÂ\\xa0Â», a rÃ©clamÃ© le directeur dâ€™Odhikar, ASM Nasir Uddin Elan, auprÃ¨s de lâ€™Agence France-Presse.\\nLâ€™organisation a dÃ©taillÃ© la maniÃ¨re dont les forces de sÃ©curitÃ© ont commis, au cours des quinze annÃ©es de rÃ¨gne de MmeÂ\\xa0Hasina, des meurtres en grand nombre pour renforcer son pouvoir et ont continuÃ© Ã\\xa0 se livrer Ã\\xa0 de graves violations des droits humains depuis la chute du rÃ©gime. Trois des personnes mortes Ã©taient aux mains de la police et les autres Ã©taient sous le contrÃ´le dâ€™autres unitÃ©s de sÃ©curitÃ©, y compris les forces armÃ©es et le redoutÃ© Bataillon dâ€™action rapide (ou RAB, pour Rapid Action Battalion, en anglais) paramilitaire. Au moins sept victimes sont mortes aprÃ¨s avoir subi des tortures, et quatre ont Ã©tÃ© blessÃ©es par balle, affirme Odhikar. Une autre personne a Ã©tÃ© battue avant dâ€™Ãªtre poussÃ©e dâ€™un pont par la police, a-t-il ajoutÃ©.\\nUn Prix Nobel de la paix Ã\\xa0 la tÃªte du pays\\nLa mobilisation contre le pouvoir de Mme Hasina avait dÃ©butÃ© en juilletÂ\\xa02024 aprÃ¨s une dÃ©cision de justice autorisant le retour de quotas dâ€™emplois publicsÂ\\xa0: cette mesure avait Ã©tÃ© vue comme une possibilitÃ© pour la cheffe du gouvernement de confier des postes gouvernementaux Ã\\xa0 des personnes Ã\\xa0 sa solde.\\nUn gouvernement provisoire menÃ© par le Prix Nobel de la paix, Muhammad Yunus, a pris les rÃªnes du pays jusquâ€™Ã\\xa0 des Ã©lections gÃ©nÃ©rales, annoncÃ©es pour la fin de lâ€™annÃ©e ou le dÃ©but de 2026. A la demande de M.Â\\xa0Yunus, le Haut-Commissariat aux droits de lâ€™homme avait envoyÃ© en septembre une Ã©quipe au Bangladesh, composÃ©e dâ€™enquÃªteurs spÃ©cialisÃ©s sur les droits humains, dâ€™un mÃ©decin lÃ©giste et dâ€™un expert en armement, afin dâ€™enquÃªter sur la rÃ©pression des manifestations.\\nÂ«Â\\xa0La responsabilisation et la justice sont essentielles Ã\\xa0 la guÃ©rison nationale et Ã\\xa0 lâ€™avenir du BangladeshÂ\\xa0Â», selon Volker TÃ¼rk, afin de sâ€™assurer que les graves violations des droits humains Â«Â\\xa0ne puissent plus jamais se reproduireÂ\\xa0Â».\\n',\n",
       "              '{\"link\": \"https://www.lemonde.fr/international/article/2025/02/11/elon-musk-affirme-aux-cotes-de-trump-que-sans-coupes-budgetaires-les-etats-unis-vont-vers-la-faillite_6542814_3210.html\", \"title\": \"Elon Musk affirme aux c\\\\u00f4t\\\\u00e9s de Trump que sans coupes budg\\\\u00e9taires les Etats-Unis vont vers la \\\\u00ab\\\\u00a0faillite\\\\u00a0\\\\u00bb\"}',\n",
       "              'Elon Musk affirme aux cÃ´tÃ©s de Trump que sans coupes budgÃ©taires les Etats-Unis vont vers la Â«Â\\xa0failliteÂ\\xa0Â»\\nLe milliardaire Elon Musk, nommÃ© par Donald Trump Ã\\xa0 la tÃªte dâ€™une commission Ã\\xa0 lâ€™efficacitÃ© gouvernementale, a dÃ©fendu son action, mardi 11Â\\xa0fÃ©vrier, depuis la Maison Blanche en affirmant que sans coupes budgÃ©taires les Etats-Unis allaient vers la Â«Â\\xa0failliteÂ\\xa0Â».\\nÂ«Â\\xa0Nous avons un dÃ©ficit de 2Â\\xa0000Â\\xa0milliards de dollars et si nous ne faisons pas quelque chose sur ce dÃ©ficit, le pays ira vers la failliteÂ\\xa0Â», a dÃ©clarÃ© Elon Musk, dans une intervention aux cÃ´tÃ©s du prÃ©sident rÃ©publicain, dans le bureau Ovale.\\nNommÃ© par le chef de lâ€™Etat Ã\\xa0 la tÃªte du Department of Government Efficiency (DOGE), le milliardaire Elon Musk, entourÃ© de vingtenaires dÃ©vouÃ©s, bouleverse depuis quelques semaines lâ€™appareil fÃ©dÃ©ral au nom dâ€™un meilleur usage des deniers publics. Ses Ã©quipes ont eu accÃ¨s au trÃ¨s sensible systÃ¨me de paiements du ministÃ¨re de lâ€™Ã©conomie amÃ©ricain, avant quâ€™un juge fÃ©dÃ©ral leur suspende cet accÃ¨s samedi.\\nLâ€™opposition dÃ©mocrate dÃ©nonce les actes entrepris par le patron de Tesla et de SpaceX, Ã©galement propriÃ©taire du rÃ©seau socialÂ\\xa0X, quâ€™elle juge illÃ©gaux, car ce dernier ne dispose dâ€™aucun mandat Ã©lectoral ni dâ€™aucun portefeuille gouvernemental pour cette mission.\\nÂ«Â\\xa0Une rÃ©forme dâ€™ampleurÂ\\xa0Â»\\nÂ«Â\\xa0Il y a des gens bien qui travaillent dans la bureaucratie fÃ©dÃ©raleÂ\\xa0Â», mais celle-ci ne doit pas Ãªtre Â«Â\\xa0autonomeÂ\\xa0Â» et doit Â«Â\\xa0rendre des comptes au peupleÂ\\xa0Â», a estimÃ© lâ€™homme le plus riche du monde. Â«Â\\xa0Le peuple a votÃ© pour une rÃ©forme du gouvernement dâ€™ampleur. Cela ne fait aucun doute. (â€¦) Le prÃ©sident en a parlÃ© Ã\\xa0 chaque meetingÂ\\xa0Â», a poursuivi Elon Musk. Il a ajoutÃ© que lui et ses Ã©quipes Ã©taient Â«Â\\xa0le plus transparents possibleÂ\\xa0Â» sur leurs actions, recensÃ©es sur le compte alimentÃ© par DOGE surÂ\\xa0X.\\nLors de son audition semestrielle mardi devant les sÃ©nateurs amÃ©ricains, le prÃ©sident de la banque centrale amÃ©ricaine, Jerome Powell, sâ€™est vu demander si Elon Musk ou certains de ses collaborateurs avaient Â«Â\\xa0tentÃ© dâ€™accÃ©der aux informations et aux systÃ¨mes protÃ©gÃ©sÂ\\xa0Â» de la Fed, thÃ©oriquement indÃ©pendante du gouvernement. Â«Â\\xa0Je ne pense pasÂ\\xa0Â», a rÃ©pondu M.Â\\xa0Powell, avant dâ€™assurer quâ€™il prÃ©viendrait les parlementaires si la situation Ã©voluait.\\nUn peu plus tÃ´t, la sÃ©natrice dÃ©mocrate Elizabeth Warren avait estimÃ© que le patron de SpaceX et de Tesla Ã©tait devenu de fait Â«Â\\xa0coprÃ©sidentÂ\\xa0Â» de Donald Trump.\\n\\n',\n",
       "              '{\"link\": \"https://www.lemonde.fr/international/article/2025/02/12/emmanuel-macron-et-narendra-modi-a-marseille-pour-vanter-le-partenariat-franco-indien_6543506_3210.html\", \"title\": \"Emmanuel Macron et Narendra Modi \\\\u00e0 Marseille pour vanter le partenariat franco-indien\"}',\n",
       "              'Emmanuel Macron et Narendra Modi Ã\\xa0 Marseille pour vanter le partenariat franco-indien\\nEmmanuel Macron et Narendra Modi, le premier ministre indien, ont affichÃ© mercredi 12Â\\xa0fÃ©vrier Ã\\xa0 Marseille leur proximitÃ© et ont vantÃ© le partenariat entre leurs pays, symbole selon Paris de lâ€™Â«Â\\xa0indÃ©pendanceÂ\\xa0Â» franÃ§aise Ã\\xa0 lâ€™heure de la confrontation entre les Etats-Unis et la Chine.\\nArrivÃ©s mardi soir dans la prÃ©fecture des Bouches-du-RhÃ´ne et deuxiÃ¨me ville de France, et aprÃ¨s un dÃ®ner tardif dans un restaurant trois Ã©toiles Ã\\xa0 Cassis, les deux hommes dâ€™Etat ont entamÃ© la journÃ©e de mercredi par un hommage aux soldats indiens morts en France pendant la premiÃ¨re guerre mondiale, au cimetiÃ¨re militaire de Mazargues, dans le sud de Marseille.\\nIls ont ensuite inaugurÃ© le nouveau consulat gÃ©nÃ©ral dâ€™Inde dans la citÃ© phocÃ©enne, acclamÃ©s par une petite foule dâ€™expatriÃ©s indiens, avant de se rendre au siÃ¨ge du gÃ©ant mondial du transport maritime CMA CGM, sur le port de Marseille, oÃ¹ le PDG du groupe, Rodolphe SaadÃ©, leur a prÃ©sentÃ© le centre de navigation dâ€™oÃ¹ est gÃ©rÃ©e la flotte de lâ€™armateur, soulignant les liens de la compagnie avec lâ€™Inde.\\nLes deux dirigeants nâ€™ont fait aucune dÃ©claration lors de ces diffÃ©rentes Ã©tapes, mais devaient notamment Ã©voquer le corridor IMEC, projet de transport maritime et ferroviaire reliant lâ€™Inde Ã\\xa0 lâ€™Europe via le Moyen-Orient, qui se veut une solution de remplacement aux Â«Â\\xa0nouvelles routes de la soieÂ\\xa0Â» chinoises.\\nDans de brefs Ã©changes, Emmanuel Macron a estimÃ© devant son invitÃ© que Marseille Â«Â\\xa0peut clairement Ãªtre le point dâ€™entrÃ©e vers le marchÃ© europÃ©enÂ\\xa0Â» dans le cadre du projet IMEC, quâ€™il avait qualifiÃ© mardi de Â«Â\\xa0catalyseur formidableÂ\\xa0Â», en clÃ´ture dâ€™un forum dâ€™affaires franco-indien, promettant de Â«Â\\xa0mobiliser des projets concrets et des investissementsÂ\\xa0Â».\\nParis espÃ¨re aussi avancer dans les nÃ©gociations Ã\\xa0 plusieurs milliards dâ€™euros sur lâ€™achat par New Delhi dâ€™avions de chasse franÃ§ais Rafale version marine et de sous-marins ScorpÃ¨ne.\\nÂ«Â\\xa0StratÃ©gie indopacifiqueÂ\\xa0Â»\\nMM.Â\\xa0Macron et Modi sont ensuite partis visiter le chantier du rÃ©acteur expÃ©rimental de fusion nuclÃ©aire ITER, Ã\\xa0 Saint-Paul-lÃ¨s-Durance, jouxtant le site nuclÃ©aire du CEA de Cadarache. Ce projet international, qui vise Ã\\xa0 rÃ©volutionner la production dâ€™Ã©nergie, implique notamment New Delhi. Les deux pays pourraient profiter de la visite pour prÃ©ciser la nouvelle coopÃ©ration quâ€™ils entendent lancer dans le nuclÃ©aire civil sur les petits rÃ©acteurs modulaires (SMR).\\nEn emmenant Narendra Modi dans sa Â«Â\\xa0ville de cÅ“urÂ\\xa0Â», Emmanuel Macron soigne une nouvelle fois sa relation avec le dirigeant du pays le plus peuplÃ© de la planÃ¨te, dÃ©jÃ\\xa0 invitÃ© au dÃ©filÃ© du 14-Juillet enÂ\\xa02023. Mardi soir, les deux hommes ont dÃ®nÃ© dans un restaurant de Cassis, aprÃ¨s avoir coprÃ©sidÃ© le sommet sur lâ€™intelligence artificielle Ã\\xa0 Paris.\\nÂ«Â\\xa0Lâ€™Inde et la France sont deux grandes puissances et ont une intimitÃ© particuliÃ¨re qui est que nous respectons, nous voulons travailler avec les Etats-Unis dâ€™AmÃ©rique, nous voulons travailler avec la Chine, mais on ne veut dÃ©pendre de personneÂ\\xa0Â», a expliquÃ© le prÃ©sident franÃ§ais dimanche dans une interview tÃ©lÃ©visÃ©e. Â«Â\\xa0On veut Ãªtre indÃ©pendantsÂ\\xa0Â», a-t-il insistÃ©, en mettant en avant sa Â«Â\\xa0stratÃ©gie indopacifiqueÂ\\xa0Â».\\nMardi, Narendra Modi a assurÃ© que ce Â«Â\\xa0partenariat ne se limite pasÂ\\xa0Â» aux relations bilatÃ©rales. Â«Â\\xa0Nous travaillons ensemble pour trouver des solutions aux dÃ©fis mondiaux auxquels nous sommes confrontÃ©sÂ\\xa0Â» et Â«Â\\xa0renforcer notre coopÃ©ration dans tous les domainesÂ\\xa0Â», a-t-il affirmÃ©.\\nDe Marseille, Narendra Modi sâ€™envolera Ã\\xa0 la mi-journÃ©e pour les Etats-Unis, Ã\\xa0 la rencontre du nouveau prÃ©sident amÃ©ricain, Donald Trump.\\n',\n",
       "              '{\"link\": \"https://www.lemonde.fr/international/article/2025/02/12/en-allemagne-olaf-scholz-prolonge-les-controles-aux-frontieres-pour-six-mois_6543612_3210.html\", \"title\": \"En Allemagne, Olaf Scholz prolonge les contr\\\\u00f4les aux fronti\\\\u00e8res pour six mois\"}',\n",
       "              'En Allemagne, Olaf Scholz prolonge les contrÃ´les aux frontiÃ¨res pour six mois\\nLes contrÃ´les temporaires aux frontiÃ¨res allemandes, mis en place pour lutter contre lâ€™immigration illÃ©gale, vont Ãªtre prolongÃ©s de six mois, a dÃ©cidÃ© mercredi 12Â\\xa0fÃ©vrier le chancelier, Olaf Scholz. Ces contrÃ´les Â«Â\\xa0rÃ©duisent efficacement la migration irrÃ©guliÃ¨reÂ\\xa0Â», a fait valoir le dirigeant social-dÃ©mocrate dans cette annonce faite avant les Ã©lections lÃ©gislatives du 23Â\\xa0fÃ©vrier, oÃ¹ lâ€™immigration sâ€™est imposÃ©e comme un sujet politique central.\\nAu nom de la Â«Â\\xa0sÃ©curitÃ© intÃ©rieureÂ\\xa0Â» et de la lutte contre lâ€™immigration clandestine, lâ€™Allemagne avait rÃ©tabli des contrÃ´les temporaires Ã\\xa0 toutes ses frontiÃ¨res le 16Â\\xa0septembreÂ\\xa02024, pour une durÃ©e de six mois. La Commission europÃ©enne avait alors rappelÃ© que des mesures de ce type Â«Â\\xa0doivent rester strictement exceptionnellesÂ\\xa0Â» et plaidÃ© pour quâ€™elles soient Â«Â\\xa0proportionnÃ©esÂ\\xa0Â».\\nEn principe, de tels contrÃ´les aux frontiÃ¨res intÃ©rieures sont proscrits au sein de lâ€™espace Schengen, mais en cas de menaces pour lâ€™ordre public ou la sÃ©curitÃ©, ils sont possibles pour une durÃ©e de six mois, avec prolongation pour une durÃ©e totale nâ€™excÃ©dant pas deux ans.\\nBerlin a Â«Â\\xa0notifiÃ© la Commission europÃ©enneÂ\\xa0Â» de la reconduction de la mesure de la mi-mars Ã\\xa0 la mi-septembreÂ\\xa02025, annonce Olaf Scholz, citÃ© dans un communiquÃ©. Le chef de gouvernement met en avant lâ€™efficacitÃ© de la mesure avec Â«Â\\xa047Â\\xa0000Â\\xa0refoulements aux frontiÃ¨res, un tiers de demandes dâ€™asile en moins de 2023 Ã\\xa0 2024 et lâ€™arrestation de 1Â\\xa0900Â\\xa0passeursÂ\\xa0Â».\\nLa droite, favorite des sondages\\nSon rival Friedrich Merz, chef des conservateurs allemands et favori des sondages pour devenir le prochain chancelier, a dit vouloir rÃ©introduire des contrÃ´les permanents aux frontiÃ¨res avec lâ€™objectif de bloquer et de refouler tous les Ã©trangers sans papiers, y compris les demandeurs dâ€™asile.\\nMais, en cas de victoire, il devra dâ€™abord former une coalition, lâ€™option dâ€™une entente avec les sociaux-dÃ©mocrates Ã©tant la plus vraisemblable. Sur lâ€™immigration, Â«Â\\xa0nous ne sommes pas si loin les uns des autresÂ\\xa0Â», a dit mercredi au magazine Politico la ministre de lâ€™intÃ©rieur, Nancy Faeser, une social-dÃ©mocrate dÃ©cidÃ©e Ã\\xa0 Â«Â\\xa0trouver un compromisÂ\\xa0Â» avec les conservateurs de la CDU.\\nA la fin deÂ\\xa0janvier, le camp conservateur CDU/CSU a prÃ©sentÃ© au Parlement des textes sur lâ€™immigration soutenus par le parti Alternative pour lâ€™Allemagne (AfD), brisant un tabou national sur la collaboration avec lâ€™extrÃªme droite.\\n',\n",
       "              '{\"link\": \"https://www.lemonde.fr/international/article/2025/02/11/en-iran-deux-journalistes-ayant-couvert-l-affaire-mahsa-amini-ont-ete-graciees_6542509_3210.html\", \"title\": \"En Iran, deux journalistes ayant couvert l\\\\u2019affaire Mahsa Amini ont \\\\u00e9t\\\\u00e9 graci\\\\u00e9es\"}',\n",
       "              'En Iran, deux journalistes ayant couvert lâ€™affaire Mahsa Amini ont Ã©tÃ© graciÃ©es\\nLa justice iranienne a graciÃ© deux journalistes arrÃªtÃ©es aprÃ¨s avoir couvert la mort de Mahsa Amini enÂ\\xa02022, Ã\\xa0 lâ€™origine dâ€™une vague de manifestations en Iran, a annoncÃ© Mizan, un mÃ©dia dâ€™Etat, mardi 11Â\\xa0fÃ©vrier. Â«Â\\xa0Les cas de MmeÂ\\xa0Mohammadi et de MmeÂ\\xa0Hamedi ont Ã©tÃ© inclus dans la liste des grÃ¢ces proposÃ©es mardi, et elles [en] ont bÃ©nÃ©ficiÃ©Â\\xa0Â», a prÃ©cisÃ© lâ€™agence de presse de la justice.\\nElaheh Mohammadi, 37Â\\xa0ans, et Niloufar Hamedi, 32Â\\xa0ans, avaient Ã©tÃ© emprisonnÃ©es en septembreÂ\\xa02022, quelques jours aprÃ¨s avoir contribuÃ© Ã\\xa0 rendre publique la mort en dÃ©tention de la jeune kurde Mahsa Amini, accusÃ©e dâ€™avoir enfreint le code vestimentaire strict de la RÃ©publique islamique. Elles Ã©taient en libertÃ© sous caution aprÃ¨s avoir passÃ© plus dâ€™un an en prison.\\nElaheh Mohammadi, reporter du quotidien Ham-mihan, avait Ã©tÃ© condamnÃ©e enÂ\\xa02023 Ã\\xa0 une peine de six ans de prison pour collaboration avec les Etats-Unis, cinq ans pour complot contre la sÃ©curitÃ© du pays et un an pour propagande contre lâ€™Iran. Niloufar Hamedi, photographe du journal Shargh, avait Ã©tÃ© condamnÃ©e Ã\\xa0 sept ans dâ€™emprisonnement pour coopÃ©ration avec les Etats-Unis, cinq ans de prison pour complot contre la sÃ©curitÃ© du pays et un an pour propagande contre lâ€™Iran.\\nLeurs avocats avaient annoncÃ© en aoÃ»t quâ€™elles avaient Ã©tÃ© acquittÃ©es par deux cours dâ€™appel de TÃ©hÃ©ran pour lâ€™accusation de collaboration avec les Etats-Unis. Mardi, Shargh a prÃ©cisÃ© sur son site que les dossiers des deux journalistes Ã©taient dÃ©sormais Â«Â\\xa0closÂ\\xa0Â».\\nLa mort en dÃ©tention de Mahsa Amini avait entraÃ®nÃ© une vague de contestation sans prÃ©cÃ©dent enÂ\\xa02022, Ã\\xa0 lâ€™origine de la mort de plusieurs centaines de personnes et de milliers dâ€™arrestations.\\n\\n',\n",
       "              '{\"link\": \"https://www.lemonde.fr/international/article/2025/02/11/la-maison-blanche-annonce-la-liberation-de-l-americain-marc-fogel-detenu-en-russie_6542710_3210.html\", \"title\": \"La Maison Blanche annonce la lib\\\\u00e9ration de l\\\\u2019Am\\\\u00e9ricain Marc Fogel, d\\\\u00e9tenu en Russie\"}',\n",
       "              'La Maison Blanche annonce la libÃ©ration de lâ€™AmÃ©ricain Marc Fogel, dÃ©tenu en Russie\\nLâ€™AmÃ©ricain Marc Fogel, dÃ©tenu en Russie, a Ã©tÃ© libÃ©rÃ© et est arrivÃ© aux Etats-Unis en soirÃ©e, a annoncÃ©, mardi 11Â\\xa0fÃ©vrier, la Maison Blanche, y voyant un bon augure pour un futur accord pour mettre fin au conflit en Ukraine.\\nÂ«Â\\xa0Promesse faite, promesse tenueÂ\\xa0Â», a dÃ©clarÃ© la Maison Blanche dans un post sur le rÃ©seau social X en montrant une image de sa descente dâ€™avion. Lâ€™ancien prisonnier a aussitÃ´t Ã©tÃ© reÃ§u Ã\\xa0 Washington par Donald Trump, qui a assurÃ© quâ€™un autre dÃ©tenu sera libÃ©rÃ© mercredi. Parlant dâ€™un Ã©changeÂ\\xa0Â«Â\\xa0trÃ¨s Ã©quitable, trÃ¨s raisonnableÂ\\xa0Â»Â\\xa0avec la Russie ayant permis la libÃ©ration de lâ€™enseignant amÃ©ricain, il a dit queÂ\\xa0Â«Â\\xa0quelquâ€™un dâ€™autre sera libÃ©rÃ© demainÂ\\xa0Â», se refusant Ã\\xa0 en dire davantage et disant dâ€™attendre des annonces dans la journÃ©e. Mais, a-t-il ajoutÃ©, câ€™est quelquâ€™un deÂ\\xa0Â«Â\\xa0trÃ¨s spÃ©cialÂ\\xa0Â».\\nRevÃªtu dâ€™un drapeau amÃ©ricain, lâ€™enseignant de 63 ans, visiblement Ã©mu, a dit se sentir commeÂ\\xa0Â«Â\\xa0lâ€™homme le plus chanceux sur terreÂ\\xa0Â», en remerciant le prÃ©sident amÃ©ricain et son Ã©quipe, depuis laÂ\\xa0Â«Â\\xa0salle diplomatiqueÂ\\xa0Â»Â\\xa0de la Maison Blanche.\\nPlus tÃ´t, dans un communiquÃ©, lâ€™exÃ©cutif amÃ©ricain avait dÃ©clarÃ© que le prÃ©sident amÃ©ricain Â«Â\\xa0a nÃ©gociÃ© un Ã©change qui montre la bonne volontÃ© des Russes et qui signale que [les Etats-Unis vont] dans la bonne direction pour mettre fin Ã\\xa0 la guerre terrible et violente en UkraineÂ\\xa0Â», sans entrer dans le dÃ©tail des termes de cet Ã©change.\\nCâ€™est lâ€™Ã©missaire spÃ©cial de Donald Trump pour le Moyen-Orient, Steve Witkoff, qui a ramenÃ© avec lui Marc Fogel, a prÃ©cisÃ© la Maison Blanche, rendant publique cette mission. Le Kremlin nâ€™a pas rÃ©agi dans lâ€™immÃ©diat Ã\\xa0 cette annonce de la Maison Blanche, relayÃ©e par les agences dâ€™Etat russes.\\nLes Etats-Unis et la Russie se disputent rÃ©guliÃ¨rement au sujet de leurs ressortissants respectifs dÃ©tenus les uns chez les autres et les Ã©changent parfois, dans des scÃ¨nes dignes de la guerre froide. Tel a Ã©tÃ© le cas en aoÃ»tÂ\\xa02024 lors du plus grand Ã©change de prisonniers entre Russes et Occidentaux depuis cette Ã©poque, quand Moscou a libÃ©rÃ© le reporter amÃ©ricain Evan Gershkovich, de la journaliste russo-amÃ©ricaine Alsou Kourmacheva et de lâ€™ancien Marine Paul Whelan.\\nUsage mÃ©dicinal\\nMarc Fogel avait Ã©tÃ© condamnÃ© en juinÂ\\xa02022 par un tribunal de Moscou Ã\\xa0 quatorze ans de prison pour trafic de cannabis. Il avait Ã©tÃ© arrÃªtÃ© par les agents des douanes alors quâ€™il arrivait de New York Ã\\xa0 lâ€™aÃ©roport Cheremetievo, Ã\\xa0 Moscou, avec sa femme, selon les autoritÃ©s russes.\\nÂ«Â\\xa0Lors du contrÃ´le douanier, de la marijuana et de lâ€™huile de haschisch ont Ã©tÃ© trouvÃ©es dans ses bagagesÂ\\xa0Â», avaient-elles affirmÃ©, en prÃ©cisant que les drogues Ã©taient Â«Â\\xa0camouflÃ©es dans des emballages de lentilles de contactÂ\\xa0Â» et des Â«Â\\xa0cartouches de cigarettes Ã©lectroniquesÂ\\xa0Â».\\nSelon les mÃ©dias russes, lâ€™incident a eu lieu en aoÃ»tÂ\\xa02021 et lâ€™ancien diplomate Ã©tait en possession de 11Â\\xa0grammes de marijuana et de 8Â\\xa0grammes dâ€™huile de cannabis. M.Â\\xa0Fogel, qui travaillait comme enseignant dans une Ã©cole amÃ©ricaine Ã\\xa0 Moscou, avait assurÃ© que la marijuana Ã©tait mÃ©dicale et quâ€™elle lui a Ã©tÃ© prescrite aux Etats-Unis aprÃ¨s une opÃ©ration Ã\\xa0 la colonne vertÃ©brale.\\nLa Russie ne reconnaÃ®t pas lâ€™usage mÃ©dicinal de cette drogue, ce que M.Â\\xa0Fogel avait affirmÃ© ignorer. Selon les autoritÃ©s russes, il a Ã©tÃ© employÃ© de lâ€™ambassade amÃ©ricaine Ã\\xa0 Moscou et bÃ©nÃ©ficiait de lâ€™immunitÃ© diplomatique jusquâ€™en maiÂ\\xa02021.\\n',\n",
       "              '{\"link\": \"https://www.lemonde.fr/international/article/2025/02/11/presidentielle-en-equateur-la-mission-electorale-de-l-union-europeenne-dit-n-avoir-observe-aucune-fraude_6542544_3210.html\", \"title\": \"Pr\\\\u00e9sidentielle en Equateur\\\\u00a0: la mission \\\\u00e9lectorale de l\\\\u2019Union europ\\\\u00e9enne dit n\\\\u2019avoir observ\\\\u00e9 aucune fraude\"}',\n",
       "              'PrÃ©sidentielle en EquateurÂ\\xa0: la mission Ã©lectorale de lâ€™Union europÃ©enne dit nâ€™avoir observÃ© aucune fraude\\nLe chef de lâ€™Etat sortant de lâ€™Equateur, Daniel Noboa, a dÃ©noncÃ©, mardi 11Â\\xa0fÃ©vrier, de Â«Â\\xa0nombreuses irrÃ©gularitÃ©sÂ\\xa0Â» lors du premier tour dimanche, dont le rÃ©sultat officiel nâ€™a pas encore Ã©tÃ© rendu, la mission Ã©lectorale de lâ€™Union europÃ©enne (UE) estime au contraire nâ€™avoir pas observÃ© Â«Â\\xa0le moindre type de fraudeÂ\\xa0Â».\\nÂ«Â\\xa0Il y a eu de trÃ¨s nombreuses irrÃ©gularitÃ©s, et nous sommes encore en train de compterÂ\\xa0Â», a affirmÃ© M.Â\\xa0Noboa Ã\\xa0 la radio Centro de Guayaquil, estimant quâ€™il avait obtenu un Â«Â\\xa0meilleur rÃ©sultatÂ\\xa0Â» dans certaines provinces que les chiffres du dÃ©pouillement officiel.\\nLe prÃ©sident sortant de 37Â\\xa0ans, lâ€™un des plus jeunes dirigeants du monde, tenant dâ€™une ligne dure face aux cartels de drogue qui gangrÃ¨nent le pays, affirme quâ€™Â«Â\\xa0il y a des dizaines et des dizaines de cas oÃ¹ ils ont menacÃ© les gens pour quâ€™ils votent pour la RÃ©volution citoyenneÂ\\xa0Â», le parti de sa rivale de gauche, Luisa Gonzalez, avec laquelle il se trouve au coude-Ã\\xa0-coude.\\nÂ«Â\\xa0Nous avons les preuves (â€¦). MÃªme des Ã©lecteurs recevaient des menaces de groupes armÃ©sÂ\\xa0Â», a-t-il insistÃ©, prÃ©cisant que Â«Â\\xa0des dÃ©marches en contestationÂ\\xa0Â» ont Ã©tÃ© dÃ©posÃ©es. Selon lui, Â«Â\\xa0le travail [de dÃ©pouillement] nâ€™est pas encore terminÃ©Â\\xa0Â».\\nMais le chef de la mission Ã©lectorale dÃ©ployÃ©e par lâ€™UE, Gabriel Mato, a prÃ©cisÃ© mardi lors dâ€™une confÃ©rence de presse Ã\\xa0 Quito nâ€™avoir Â«Â\\xa0pas un seul Ã©lÃ©ment objectif indiquant quâ€™il y a eu le moindre type de fraudeÂ\\xa0Â». Tout comme la mission Ã©lectorale de lâ€™Organisation des Etats amÃ©ricains, qui a affirmÃ© dans un communiquÃ© mardi nâ€™avoir Â«Â\\xa0ni identifiÃ©, ni reÃ§u dâ€™indications dâ€™irrÃ©gularitÃ©s gÃ©nÃ©ralisÃ©es susceptibles de modifier les rÃ©sultats de lâ€™Ã©lectionÂ\\xa0Â». Elle a prÃ©cisÃ© que son dÃ©compte rapide Â«Â\\xa0coÃ¯ncideÂ\\xa0Â» avec les rÃ©sultats officiels.\\nÂ«Â\\xa0Niveau extrÃªmeÂ\\xa0de polarisationÂ\\xa0Â»\\nM.Â\\xa0Noboa avait dÃ©clarÃ© durant la campagne viser une victoire dÃ¨s le premier tour. Il nâ€™a ni cÃ©lÃ©brÃ© ni fait de dÃ©clarations dimanche soir Ã\\xa0 lâ€™issue du scrutin qui donne une Ã©galitÃ© technique avec Luisa Gonzalez. Avec 96Â\\xa0% des bulletins dÃ©pouillÃ©s mardi, M.Â\\xa0Noboa (44,15Â\\xa0%) devance dâ€™une courte tÃªte MmeÂ\\xa0Gonzalez (43,95Â\\xa0%), dauphine de lâ€™ex-prÃ©sident socialiste, Rafael Correa (2007-2017).\\nCe score de la gauche a surpris les observateurs. Â«Â\\xa0Le corrÃ©isme en sort renforcÃ©Â\\xa0Â» et dÃ©passe pour la premiÃ¨re fois son plafond Ã©lectoral de 33Â\\xa0points, selon lâ€™analyste Leonardo Laso. Pour le politologue Santiago Cahuasqui, Â«Â\\xa0câ€™est la premiÃ¨re foisÂ\\xa0Â» en cinquante ans que lâ€™Equateur Â«Â\\xa0possÃ¨de un tel niveau extrÃªme de polarisationÂ\\xa0Â». M.Â\\xa0Laso explique en partie ce rÃ©sultat par la personnalitÃ© de M.Â\\xa0Noboa. Â«Â\\xa0Il manque dâ€™empathie (â€¦) câ€™est un type trÃ¨s froid, trÃ¨s bref, trÃ¨s sec, il ne donne pas dâ€™interviews, il nâ€™interagit pas avec les gens, il sourit difficilementÂ\\xa0Â», dÃ©crit-il.\\nDes Ã©lecteurs rencontrÃ©s par lâ€™Agence France-Presse ont ouvertement dit avoir votÃ© pour la premiÃ¨re fois pour le parti de lâ€™ex-prÃ©sident Correa, condamnÃ© par contumace Ã\\xa0 huit ans de prison pour corruption et qui vit aujourdâ€™hui en exil.\\nCes dÃ©Ã§us, imputent par exemple au chef de lâ€™Etat la crise Ã©nergÃ©tique qui a durement frappÃ© le pays enÂ\\xa02024 en raison dâ€™une sÃ©cheresse prolongÃ©e. Â«Â\\xa0La derniÃ¨re partie de ma grossesse sâ€™est passÃ©e avec des coupures de courant allant jusquâ€™Ã\\xa0 quatorzeÂ\\xa0heures par jour, câ€™Ã©tait un vÃ©ritable martyre, jâ€™ai vÃ©cu un enferÂ\\xa0Â», raconte Ã\\xa0 Guayaquil (Sud-Ouest) Yadira Sarmientos.\\nÂ«Â\\xa0CapturerÂ\\xa0Â» le vote indÃ©cis\\nSi M.Â\\xa0Noboa a sÃ©duit nombre dâ€™Equatoriens par son discours musclÃ©, sa communication dÃ©contractÃ©e sur les rÃ©seaux sociaux ou en sâ€™affichant en gilet pare-balles lors de spectaculaires opÃ©rations militaires contre les Â«Â\\xa0narcosÂ\\xa0Â», il a perdu dans de nombreuses rÃ©gions oÃ¹ sa politique de sÃ©curitaire de main de fer est subie au quotidien.\\nIl est devancÃ© Ã©galement dans les provinces cÃ´tiÃ¨res frappÃ©es par la pauvretÃ©, oÃ¹ le discours de Â«Â\\xa0justice socialeÂ\\xa0Â» de MmeÂ\\xa0Gonzalez a sÃ©duit. Â«Â\\xa0Le prÃ©sident a fait plus dâ€™actions spectaculaires que de politiques structurellesÂ\\xa0Â», estime M.Â\\xa0Laso. Pour M.Â\\xa0Cahuasqui, Â«Â\\xa0cette sociÃ©tÃ© exclue par la marginalitÃ© a rÃ©agiÂ\\xa0Â» dans les urnes.\\nIl sâ€™agit dÃ¨s lors pour les deux candidats de capter les votes pour le leader indigÃ¨ne Leonidas Iza (5,30Â\\xa0%) et la jeune anti-corrÃ©iste Andrea Gonzalez Nader (2,70Â\\xa0%), arrivÃ©s respectivement en troisiÃ¨me et quatriÃ¨me place. Pour M.Â\\xa0Cahuasqui, dâ€™ici au second tour le 13Â\\xa0avril, Â«Â\\xa0les deux candidats devront intensifier leurs stratÃ©gies pour capturer ce voteÂ\\xa0Â» jugÃ© indÃ©cis.\\n',\n",
       "              '{\"link\": \"https://www.lemonde.fr/international/article/2025/02/11/steve-bannon-ancien-conseiller-de-donald-trump-plaide-coupable-dans-une-affaire-de-fonds-detournes-et-evite-la-prison_6542440_3210.html\", \"title\": \"Steve Bannon, ancien conseiller de Donald Trump, plaide coupable dans une affaire de fonds d\\\\u00e9tourn\\\\u00e9s et \\\\u00e9vite la prison\"}',\n",
       "              'Steve Bannon, ancien conseiller de Donald Trump, plaide coupable dans une affaire de fonds dÃ©tournÃ©s et Ã©vite la prison\\nLâ€™idÃ©ologue amÃ©ricain dâ€™extrÃªme droite Steve Bannon, ancien conseiller de Donald Trump Ã\\xa0 la Maison Blanche, a plaidÃ© coupable, mardi 11Â\\xa0fÃ©vrier, Ã\\xa0 New York dans une affaire de dÃ©tournement de fonds pour la construction du mur antimigrants sÃ©parant les Etats-Unis et le Mexique. Il a Ã©tÃ© condamnÃ© Ã\\xa0 trois ans de libertÃ© conditionnelle.\\nPrÃ©sent au tribunal, Steve Bannon a plaidÃ© coupable de fraude Ã\\xa0 lâ€™Ã©gard de donateurs privÃ©s, tandis que plusieurs chefs dâ€™inculpation ont Ã©tÃ© abandonnÃ©s par les procureurs de Manhattan. Lorsque la juge lui a demandÃ© sâ€™il reconnaissait sâ€™Ãªtre engagÃ© enÂ\\xa02019 dans un Â«Â\\xa0stratagÃ¨meÂ\\xa0Â» ayant pour but Â«Â\\xa0dâ€™escroquer plus de dix personnes et dâ€™obtenir des fonds Ã\\xa0 travers des promesses fausses et frauduleusesÂ\\xa0Â», il a rÃ©pondu par lâ€™affirmative. DÃ¨s sa sortie du tribunal, il a accusÃ© la procureure gÃ©nÃ©rale de lâ€™Etat de New York, lâ€™Ã©lue dÃ©mocrate Letitia James, de reprÃ©senter Â«Â\\xa0une menace existentielle pour lâ€™administration TrumpÂ\\xa0Â» et sa politique.\\nIl avait Ã©tÃ© inculpÃ© en septembreÂ\\xa02022 dans cette affaire de fraude financiÃ¨re pour un montant de 15Â\\xa0millions de dollars (14,5Â\\xa0millions dâ€™euros), accusÃ© de blanchiment et dÃ©tournement de fonds. Il avait, Ã\\xa0 lâ€™Ã©poque, plaidÃ© non coupable et dÃ©noncÃ© des Â«Â\\xa0poursuites bidonÂ\\xa0Â».\\nGrÃ¢ce prÃ©sidentielle\\nLâ€™affaire porte sur un site Internet, Â«Â\\xa0We Build the WallÂ\\xa0Â» (Â«Â\\xa0nous construisons le murÂ\\xa0Â»), lancÃ© enÂ\\xa02019 et dont la justice amÃ©ricaine considÃ¨re que Steve Bannon Ã©tait lâ€™architecte, pour lever des fonds auprÃ¨s de particuliers afin de financer la construction dâ€™un mur antimigrants Ã\\xa0 la frontiÃ¨re sud des Etats-Unis. Ce mur Ã©tait une promesse de longue date de Donald Trump. Alors que le site promettait quâ€™Â«Â\\xa0aucun centimeÂ\\xa0Â» nâ€™irait dans les poches de ses promoteurs, le fondateur de Â«Â\\xa0We Build the WallÂ\\xa0Â», Brian Kolfage, avait en fait touchÃ© des centaines de milliers de dollars de compensation, avec lâ€™aide de Steve Bannon, dâ€™aprÃ¨s lâ€™acte dâ€™inculpation. Â«Â\\xa0M.Â\\xa0Bannon a menti aux donateurs pour sâ€™enrichir, lui et ses amisÂ\\xa0Â», avait dÃ©clarÃ© le procureur de Manhattan, Alvin Bragg, lors de lâ€™inculpation enÂ\\xa02022.\\nVÃ©tÃ©ran de lâ€™armÃ©e amÃ©ricaine, Brian Kolfage a Ã©tÃ© poursuivi et condamnÃ© Ã\\xa0 de la prison ferme par la justice fÃ©dÃ©rale amÃ©ricaine. Steve Bannon, 71Â\\xa0ans, avait Ã©tÃ© inculpÃ© par la justice fÃ©dÃ©rale dans cette affaire, mais Donald Trump lâ€™avait graciÃ© juste avant de quitter la Maison Blanche enÂ\\xa02021. Ce pouvoir de grÃ¢ce ne pouvait pas sâ€™appliquer Ã\\xa0 des poursuites au sein de lâ€™Etat de New York.\\nFigure influente de lâ€™extrÃªme droite aux Etats-Unis, lâ€™ancien conseiller de Donald Trump avait Ã©tÃ© lâ€™un des porte-voix des accusations jamais prouvÃ©es sur de prÃ©tendues triches lors de lâ€™Ã©lection prÃ©sidentielle de 2020 pour faire gagner Joe Biden, des thÃ©ories toujours en vogue chez une partie des conservateurs amÃ©ricains. Il avait Ã©tÃ© condamnÃ© en octobreÂ\\xa02022 Ã\\xa0 quatre mois dâ€™emprisonnement pour son refus de coopÃ©rer Ã\\xa0 lâ€™enquÃªte parlementaire sur lâ€™assaut du Capitole le 6Â\\xa0janvierÂ\\xa02021 par des partisans de Donald Trump. Il a purgÃ© cette peine en prison et a Ã©tÃ© libÃ©rÃ© fin octobreÂ\\xa02024, en pleine campagne prÃ©sidentielle. Depuis, il a repris les commandes de son podcast, trÃ¨s Ã©coutÃ© dans les milieux ultraconservateurs, Â«Â\\xa0War RoomÂ\\xa0Â», oÃ¹ il sâ€™est prÃ©sentÃ© comme un Â«Â\\xa0prisonnier politiqueÂ\\xa0Â» et avait appelÃ© ses auditeurs Ã\\xa0 voter en masse pour Donald Trump Ã\\xa0 la prÃ©sidentielle du 5Â\\xa0novembreÂ\\xa02024.\\n',\n",
       "              '{\"link\": \"https://www.lemonde.fr/pixels/article/2025/02/11/europol-annonce-l-arrestation-de-cyberpirates-russes-impliques-dans-un-reseau-de-rancongiciels_6542677_4408996.html\", \"title\": \"Europol annonce l\\\\u2019arrestation de cyberpirates russes impliqu\\\\u00e9s dans un r\\\\u00e9seau de ran\\\\u00e7ongiciels\"}',\n",
       "              'Europol annonce lâ€™arrestation de cyberpirates russes impliquÃ©s dans un rÃ©seau de ranÃ§ongiciels\\nUne opÃ©ration internationale contre la cybercriminalitÃ©, Ã\\xa0 laquelle participent 14Â\\xa0pays, a conduit Ã\\xa0 lâ€™arrestation de quatre ressortissants russes, figures-clÃ©s de 8Base, un des groupes de ranÃ§ongiciels les plus actifs enÂ\\xa02024, a annoncÃ© Europol mardi 11Â\\xa0fÃ©vrier.\\nLe ministÃ¨re de la justice amÃ©ricain a rendu publiques des poursuites contre deux Russes, Roman BerejnoÃ¯, 33Â\\xa0ans, et Egor Glebov, 39Â\\xa0ans, en prÃ©cisant dans un communiquÃ© quâ€™ils avaient Ã©tÃ© Â«Â\\xa0arrÃªtÃ©s dans le cadre dâ€™une opÃ©ration internationale coordonnÃ©e de neutralisation de leur organisationÂ\\xa0Â».\\nUn autre citoyen russe, Evgueni Ptitsyn, soupÃ§onnÃ© dâ€™Ãªtre lâ€™administrateur du ranÃ§ongiciel Phobos, a comparu en novembre devant un tribunal fÃ©dÃ©ral amÃ©ricain Ã\\xa0 la suite de son extradition par la CorÃ©e du Sud, rappelle le ministÃ¨re.\\nÂ«Â\\xa0Une action coordonnÃ©e des forces de lâ€™ordre internationales la semaine derniÃ¨re a conduit Ã\\xa0 lâ€™arrestation de quatre individus dirigeant le groupe de ranÃ§ongiciel 8BaseÂ\\xa0Â», a dÃ©clarÃ© Europol dans un communiquÃ©. Â«Â\\xa0Ces individus, tous de nationalitÃ© russe, sont soupÃ§onnÃ©s dâ€™avoir dÃ©ployÃ© une variante du ranÃ§ongiciel Phobos pour extorquer des paiements de grande valeur Ã\\xa0 des victimes Ã\\xa0 travers lâ€™Europe et au-delÃ\\xa0Â\\xa0Â», a ajoutÃ© lâ€™agence europÃ©enne de police, basÃ©e Ã\\xa0 LaÂ\\xa0Haye, sans rÃ©vÃ©ler leur identitÃ© ni le lieu des arrestations.\\nPlus de 400Â\\xa0entreprises averties\\nLes ranÃ§ongiciels sont une forme de chantage numÃ©rique dans laquelle les pirates informatiques chiffrent les donnÃ©es des victimes (particuliers, entreprises ou institutions), ce qui bloque lâ€™accÃ¨s Ã\\xa0 leur appareil ou Ã\\xa0 leurs fichiers, dans le but de leur extorquer de lâ€™argent.\\nLes renseignements sur les cybermenaces identifient Phobos comme un des ranÃ§ongiciels Â«Â\\xa0les plus actifs de 2024Â\\xa0Â», selon Europol. Lâ€™agence a par ailleurs fait savoir que 27Â\\xa0serveurs liÃ©s au rÃ©seau criminel avaient Ã©tÃ© mis hors service. GrÃ¢ce Ã\\xa0 cette opÃ©ration, les autoritÃ©s des pays enquÃªteurs ont pu avertir plus de 400Â\\xa0entreprises dans le monde entier dâ€™attaques en cours ou imminentes, a ajoutÃ© Europol.\\nDÃ©tectÃ© pour la premiÃ¨re fois en dÃ©cembreÂ\\xa02018, Phobos a Ã©tÃ© frÃ©quemment utilisÃ© dans des attaques contre des petites et moyennes entreprises ou organisations, qui manquent souvent de dÃ©fense en matiÃ¨re de cybersÃ©curitÃ©, selon Europol. Profitant de lâ€™infrastructure de Phobos, 8Base en a dÃ©veloppÃ© sa propre variante, par ses mÃ©canismes de cryptage et de distribution.\\nÂ«Â\\xa0Le groupe 8Base a Ã©tÃ© particuliÃ¨rement agressif dans ses tactiques de double extorsion, non seulement en cryptant les donnÃ©es des victimes, mais aussi en menaÃ§ant de publier les informations volÃ©es Ã\\xa0 moins quâ€™une ranÃ§on ne soit payÃ©eÂ\\xa0Â», a affirmÃ© Europol.\\nCes cybercriminels ont rÃ©ussi Ã\\xa0 extorquer Ã\\xa0 leurs victimes plus de 16Â\\xa0millions de dollars de ranÃ§on entre maiÂ\\xa02019 et octobreÂ\\xa02024, selon le ministÃ¨re de la justice amÃ©ricain. Les deux suspects russes mentionnÃ©s plus haut, visÃ©s par onze chefs dâ€™accusation, en particulier dâ€™escroquerie Ã©lectronique et dâ€™extorsion, encourent des dizaines dâ€™annÃ©es de prison aux Etats-Unis.\\n',\n",
       "              '{\"link\": \"https://www.lemonde.fr/pixels/article/2025/02/11/openai-n-est-pas-a-vendre-declare-un-de-ses-dirigeants-apres-l-offre-d-achat-d-elon-musk_6542300_4408996.html\", \"title\": \"\\\\u00ab\\\\u00a0OpenAI n\\\\u2019est pas \\\\u00e0 vendre\\\\u00a0\\\\u00bb, d\\\\u00e9clare un de ses dirigeants, apr\\\\u00e8s l\\\\u2019offre d\\\\u2019achat d\\\\u2019Elon Musk\"}',\n",
       "              'Â«Â\\xa0OpenAI nâ€™est pas Ã\\xa0 vendreÂ\\xa0Â», dÃ©clare un de ses dirigeants, aprÃ¨s lâ€™offre dâ€™achat dâ€™Elon Musk\\nLâ€™entreprise amÃ©ricaine OpenAI, Ã\\xa0 lâ€™origine du robot conversationnel ChatGPT, Â«Â\\xa0nâ€™est pas Ã\\xa0 vendreÂ\\xa0Â», a affirmÃ© un de ses dirigeants, mardi 11Â\\xa0fÃ©vrier, quelques heures aprÃ¨s une offre de rachat non sollicitÃ©e du milliardaire Elon Musk pour la somme de 97,4Â\\xa0milliards de dollars (94,5Â\\xa0milliards dâ€™euros).\\nÂ«Â\\xa0OpenAI nâ€™est pas Ã\\xa0 vendre et toute suggestion du contraire est vraiment trompeuseÂ\\xa0Â», a dÃ©clarÃ© Ã\\xa0 la presse Chris Lehane, vice-prÃ©sident chargÃ© des affaires publiques chez OpenAI lors dâ€™un Ã©vÃ©nement organisÃ© en marge du Sommet pour lâ€™action sur lâ€™intelligence artificielle, Ã\\xa0 Paris.\\nPlus tÃ´t, Sam Altman sâ€™Ã©tait moquÃ© dâ€™Elon Musk sur le rÃ©seau socialÂ\\xa0XÂ\\xa0: Â«Â\\xa0Non merci, mais nous achÃ¨terons Twitter pour 9,74Â\\xa0milliards de dollars [dix fois moins que la proposition pour OpenAI et quatre fois moins que son prix dâ€™achat] si vous le souhaitez.Â\\xa0Â» Â«Â\\xa0EscrocÂ\\xa0Â», lui avait ensuite rÃ©pondu Elon Musk, toujours sur X.\\nFront judiciaire\\nCette offre non sollicitÃ©e arrive alors que Sam Altman, le patron dâ€™OpenAI, qui est Ã\\xa0 Paris dans le cadre du Sommet pour lâ€™action sur lâ€™IA, essaie de lever des fonds et de transformer la start-up en sociÃ©tÃ© Ã\\xa0 but lucratif. Il sâ€™agit surtout dâ€™une proposition Â«Â\\xa0venant dâ€™un concurrent, qui a du mal Ã\\xa0 suivre au niveau technologique et Ã\\xa0 rivaliser avec [OpenAI] sur le marchÃ©Â\\xa0Â», a assenÃ© Chris Lehane.\\nÂ«Â\\xa0Je pense quâ€™il tente de nous ralentirÂ\\xa0Â», a avancÃ© Sam Altman, interrogÃ© par Bloomberg au Grand Palais oÃ¹ se tenait le sommet. Â«Â\\xa0Jâ€™aimerais quâ€™il rivalise avec nous en mettant au point un meilleur produitÂ\\xa0Â», a-t-il poursuivi, dÃ©nonÃ§ant Â«Â\\xa0beaucoup de tactiques, de poursuites en justice et de chose follesÂ\\xa0Â» de la part dâ€™Elon Musk.\\nDÃ©jÃ\\xa0 Ã\\xa0 la tÃªte de Tesla, de SpaceX ou du rÃ©seau social X, ce dernier a lancÃ© enÂ\\xa02023 sa propre start-up dâ€™IA gÃ©nÃ©rative, xAI. Le milliardaire proche de Donald Trump, qui fait partie des cofondateurs dâ€™OpenAI, sâ€™en prend rÃ©guliÃ¨rement Ã\\xa0 Sam Altman, Ã\\xa0 qui il reproche notamment dâ€™avoir dÃ©voyÃ© la mission initiale de la start-up, axÃ©e sur un dÃ©veloppement raisonnÃ© de lâ€™IA.\\nEn dÃ©cembreÂ\\xa02024, il a ouvert un nouveau front judiciaire contre la star de la Silicon Valley, en demandant Ã\\xa0 la justice amÃ©ricaine de lâ€™empÃªcher de se transformer en une entreprise entiÃ¨rement Ã\\xa0 but lucratif.\\n\\n',\n",
       "              '{\"link\": \"https://www.lemonde.fr/pixels/article/2025/02/12/protection-du-droit-d-auteur-thomson-reuters-remporte-une-victoire-face-a-une-entreprise-de-l-ia_6543611_4408996.html\", \"title\": \"Protection du droit d\\\\u2019auteur\\\\u00a0: Thomson Reuters remporte une victoire face \\\\u00e0 une entreprise de l\\\\u2019IA\"}',\n",
       "              'Protection du droit dâ€™auteurÂ\\xa0: Thomson Reuters remporte une victoire face Ã\\xa0 une entreprise de lâ€™IA\\nAlors que les procÃ©dures juridiques pour atteinte aux droits dâ€™auteurs se multiplient contre les entreprises dâ€™intelligence artificielle (IA), une premiÃ¨re victoire a Ã©tÃ© remportÃ©e par le conglomÃ©rat amÃ©ricain de mÃ©dias Thomson Reuters. Le jugement prÃ©liminaire, dÃ©voilÃ© par Wired, a Ã©tÃ© rendu mardi 11Â\\xa0fÃ©vrier dans lâ€™Etat amÃ©ricain du Delaware.\\nThomson Reuters avait poursuivi en maiÂ\\xa02020 lâ€™entreprise Ross Intelligence, qui avait mis au point un modÃ¨le dâ€™IA juridique servant dâ€™assistant avocat. Le groupe accusait la start-up dâ€™avoir reproduit en masse des documents provenant de sa sociÃ©tÃ© Westlaw, qui propose un service de recherche juridique en ligne, pour nourrir son modÃ¨le.\\nÂ«Â\\xa0Aucune des dÃ©fenses possibles de Ross ne tient la route. Je les rejette toutesÂ\\xa0Â», a tranchÃ© Stephanos Bibas, un juge du Delaware. Ce dernier a ainsi rejetÃ© lâ€™argument dâ€™Â«Â\\xa0usage loyalÂ\\xa0Â» (ou fair use) des contenus protÃ©gÃ©s par le droit dâ€™auteur, que Ross Intelligence avait utilisÃ© dans sa dÃ©fense. Cette doctrine Ã©tablit quâ€™il est parfois lÃ©gal dâ€™utiliser des Å“uvres protÃ©gÃ©es par le droit dâ€™auteur sans autorisation, par exemple pour crÃ©er des parodies, ou dans le cadre de recherches non commerciales.\\nOr, pour le juge Stephanos Bibas, lâ€™usage que faisait Ross Intelligence Ã©tait bien commercial et ne transformait pas le contenu original. Surtout, il a rappelÃ© que cet usage pouvait avoir un impact sur la valeur commerciale du travail de Westlaw, estimant que ce facteur Ã©tait particuliÃ¨rement important. Ross Intelligence Â«Â\\xa0avait lâ€™intention de concurrencer Westlaw en dÃ©veloppant un substitut sur le marchÃ©Â\\xa0Â», Ã©crit-il. La start-up a fermÃ© ses portes depuis quatre ans, invoquant les frais de contentieux dans un communiquÃ© publiÃ© six mois aprÃ¨s le dÃ©but de la poursuite.\\nLâ€™argument de lâ€™usage loyal est rÃ©guliÃ¨rement utilisÃ© comme dÃ©fense par les entreprises dâ€™IA dans les poursuites pour atteintes au droit dâ€™auteur.Â\\xa0Le jugement rendu mardi devrait donc marquer une Ã©tape importante dans ces litiges menÃ©s par de nombreux acteurs du monde de la presse et de la culture, qui reprochent aux entreprises dâ€™avoir utilisÃ© leurs contenus sans autorisation prÃ©alable pour entraÃ®ner des modÃ¨les dâ€™IA.\\nEn dÃ©cembreÂ\\xa02023, le quotidien amÃ©ricain The New York Times avait, par exemple, poursuivi en justice Microsoft et OpenAI, crÃ©ateur de ChatGPT, pour violation de droits dâ€™auteur. En tout, plusieurs dizaines de litiges sont en cours aux Etats-Unis, comme le rÃ©pertorie le magazine Wired.\\n',\n",
       "              '{\"link\": \"https://www.lemonde.fr/politique/article/2025/02/11/commission-d-enquete-sur-le-derapage-du-deficit-public-alexis-kohler-n-entend-pas-etre-auditionne_6542543_823448.html\", \"title\": \"Commission d\\\\u2019enqu\\\\u00eate sur le d\\\\u00e9rapage du d\\\\u00e9ficit public\\\\u00a0: Alexis Kohler n\\\\u2019entend pas \\\\u00eatre auditionn\\\\u00e9\"}',\n",
       "              'Commission dâ€™enquÃªte sur le dÃ©rapage du dÃ©ficit publicÂ\\xa0: Alexis Kohler nâ€™entend pas Ãªtre auditionnÃ©\\nLe secrÃ©taire gÃ©nÃ©ral de lâ€™ElysÃ©e, Alexis Kohler, refuse dâ€™Ãªtre auditionnÃ© par la commission des finances de lâ€™AssemblÃ©e nationale, qui souhaite lâ€™entendre dans le cadre de son enquÃªte sur le dÃ©rapage budgÃ©taire enÂ\\xa02023 et enÂ\\xa02024, a appris lâ€™Agence France-Presse (AFP), mardi 11Â\\xa0fÃ©vrier.\\nLa commission prÃ©sidÃ©e par le dÃ©putÃ© de LFI Eric Coquerel avait dÃ©cidÃ© le 15Â\\xa0janvier de cette audition, 37Â\\xa0de ses membres votant pourÂ\\xa0; et 18, contre. Une convocation proposant la date de ce mardi a Ã©tÃ© adressÃ©e au secrÃ©taire gÃ©nÃ©ral de lâ€™ElysÃ©e, qui a fait savoir Ã\\xa0 la commission quâ€™il nâ€™entendait pas y rÃ©pondre, en invoquant des problÃ¨mes dâ€™agenda, puis la sÃ©paration des pouvoirs, a expliquÃ© une source parlementaire, confirmant une information de BFM-TV. InterrogÃ©, lâ€™ElysÃ©e nâ€™a pas confirmÃ© ces informations.\\nSollicitÃ© par lâ€™AFP, Eric Coquerel rappelle, dans une dÃ©claration Ã©crite, que Â«Â\\xa0lâ€™audition de M.Â\\xa0Kohler a Ã©tÃ© voulue trÃ¨s majoritairement par la commission dâ€™enquÃªte. Il a en effet jouÃ© un rÃ´le, en tant que secrÃ©taire gÃ©nÃ©ral de lâ€™ElysÃ©e, sur plusieurs des sujets concernÃ©s par notre commissionÂ\\xa0Â». Â«Â\\xa0Si le prÃ©sident de la RÃ©publique ne peut Ãªtre auditionnÃ© par le Parlement, cela a Ã©tÃ© le cas Ã\\xa0 plusieurs reprises pour des collaborateurs de lâ€™ElysÃ©e. Je ne vois donc pas pourquoi le refus de M.Â\\xa0Kohler ne me conduirait pas Ã\\xa0 engager une procÃ©dure pÃ©nale (â€¦), mais je demanderai Ã\\xa0 la commission dâ€™enquÃªte dâ€™approuver le lancement de cette requÃªteÂ\\xa0Â», poursuit-il.\\nPassible de deux ans dâ€™emprisonnement\\nSelon une ordonnance du 17Â\\xa0novembreÂ\\xa01958, toute personne pour qui une commission dâ€™enquÃªte a jugÃ© lâ€™audition utile est tenue de dÃ©fÃ©rer Ã\\xa0 la convocation qui lui est dÃ©livrÃ©e. La personne qui ne comparaÃ®t pas ou refuse de dÃ©poser ou de prÃªter serment devant une commission dâ€™enquÃªte est passible de deux ans dâ€™emprisonnement et de 7Â\\xa0500Â\\xa0euros dâ€™amende.\\nLa commission des finances a obtenu pour six mois les pouvoirs dâ€™une commission dâ€™enquÃªte et lancÃ© ses travaux au dÃ©but de dÃ©cembre pour enquÃªter sur Â«Â\\xa0les causesÂ\\xa0Â» de Â«Â\\xa0la variationÂ\\xa0Â» et des Â«Â\\xa0Ã©carts des prÃ©visions fiscales et budgÃ©tairesÂ\\xa0Â» constatÃ©s pour les annÃ©es 2023 et 2024. Ces erreurs prÃ©visionnelles avaient eu pour consÃ©quence une mauvaise anticipation du dÃ©rapage du dÃ©ficit public, plus important quâ€™escomptÃ©, Ã\\xa0 6,1Â\\xa0% du produit intÃ©rieur brut (PIB) attendu enÂ\\xa02024, un rÃ©sultat trÃ¨s Ã©loignÃ© des 4,4Â\\xa0% prÃ©vus Ã\\xa0 lâ€™automne 2023, et des 5,1Â\\xa0% prÃ©vus au printemps aprÃ¨s rÃ©Ã©valuation.\\nAlexis Kohler sâ€™est dÃ©jÃ\\xa0 prÃ©sentÃ© devant des commissions dâ€™enquÃªte, que ce soit enÂ\\xa02019 pour celle chargÃ©e dâ€™enquÃªter sur lâ€™affaire Benalla au SÃ©nat, ou enÂ\\xa02020 pour celle chargÃ©e dâ€™enquÃªter sur les concessions dâ€™autoroute, toujours Ã\\xa0 la Chambre haute.\\n',\n",
       "              '{\"link\": \"https://www.lemonde.fr/politique/article/2025/02/11/francois-bayrou-dit-n-avoir-jamais-ete-informe-des-agressions-sexuelles-au-college-lycee-betharram_6542374_823448.html\", \"title\": \"Fran\\\\u00e7ois Bayrou dit n\\\\u2019avoir \\\\u00ab\\\\u00a0jamais \\\\u00e9t\\\\u00e9 inform\\\\u00e9\\\\u00a0\\\\u00bb des agressions sexuelles au coll\\\\u00e8ge-lyc\\\\u00e9e B\\\\u00e9tharram\"}',\n",
       "              'FranÃ§ois Bayrou dit nâ€™avoir Â«Â\\xa0jamais Ã©tÃ© informÃ©Â\\xa0Â» des agressions sexuelles au collÃ¨ge-lycÃ©e BÃ©tharram\\nFranÃ§ois Bayrou a assurÃ©, mardi 11Â\\xa0fÃ©vrier, nâ€™avoir Â«Â\\xa0jamais Ã©tÃ© informÃ©Â\\xa0Â» des agressions sexuelles dont est accusÃ© un Ã©tablissement catholique du BÃ©arn frÃ©quentÃ© par ses enfants, et a annoncÃ© Â«Â\\xa0une plainte en diffamationÂ\\xa0Â».\\nLe parquet de Pau mÃ¨ne lâ€™enquÃªte depuis un an sur une centaine de plaintes pour violences, agressions sexuelles et viols au collÃ¨ge-lycÃ©e Notre-Dame-de-BÃ©tharram, prÃ¨s de Lourdes, entre les annÃ©es 1970 et 1990. Le chef du gouvernement, originaire de la rÃ©gion, a scolarisÃ© plusieurs de ses enfants dans cette institution et son Ã©pouse y a enseignÃ© le catÃ©chisme.\\nEn avrilÂ\\xa01996, alors que FranÃ§ois Bayrou Ã©tait ministre de lâ€™Ã©ducation, une plainte avait dÃ©jÃ\\xa0 dÃ©noncÃ© les violences physiques dâ€™un surveillant Ã\\xa0 BÃ©tharram, condamnÃ© par la suite. Puis en maiÂ\\xa01998, alors quâ€™il Ã©tait redevenu dÃ©putÃ© des PyrÃ©nÃ©es-Atlantiques et prÃ©sident du conseil gÃ©nÃ©ral, un ancien directeur de lâ€™institution avait Ã©tÃ© mis en examen et Ã©crouÃ© pour viol.\\nÂ«Â\\xa0Je nâ€™ai jamais Ã©tÃ© informÃ© de quoi que ce soit de violences ou de violences a fortiori sexuelles. JamaisÂ\\xa0Â», a affirmÃ© FranÃ§ois Bayrou Ã\\xa0 lâ€™AssemblÃ©e nationale, en rÃ©ponse Ã\\xa0 une question du dÃ©putÃ© de La France insoumise Paul Vannier consÃ©cutive Ã\\xa0 la publication dâ€™une enquÃªte de Mediapart.\\nCourriers et rencontres\\nDes tÃ©moins interrogÃ©s par Mediapart puis sollicitÃ©s par lâ€™Agence France-Presse affirment le contraire. FranÃ§oise Gullung, professeure de mathÃ©matiques Ã\\xa0 BÃ©tharram de 1994 Ã\\xa0 1996, dit avoir alertÃ© Ã\\xa0 plusieurs reprises les autoritÃ©s pour Â«Â\\xa0dÃ©noncer une atmosphÃ¨re dâ€™agressivitÃ© et de tensions anormalesÂ\\xa0Â». Â«Â\\xa0Jâ€™en ai notamment parlÃ© de vive voix Ã\\xa0 FranÃ§ois Bayrou pour lui dire quâ€™il fallait Ãªtre vigilant (â€¦). Il a Ã©vacuÃ© mollement ce que je lui disaisÂ\\xa0Â», affirme-t-elle, ajoutant lui avoir Â«Â\\xa0Ã©galement adressÃ© un courrier au conseil gÃ©nÃ©ralÂ\\xa0Â», quâ€™il prÃ©sidait Ã\\xa0 lâ€™Ã©poque.\\nSelon Mediapart, en maiÂ\\xa01996, FranÃ§oisÂ\\xa0Bayrou, alors ministre de lâ€™Ã©ducation nationale, avait organisÃ© Â«Â\\xa0une visite officielle dans lâ€™Ã©tablissement, un mois aprÃ¨s le dÃ©pÃ´t de la plainte de la victime et alors que lâ€™affaire Ã©tait largement commentÃ©e dans les mÃ©diasÂ\\xa0Â». Mediapart raconte quâ€™il avait alors Â«Â\\xa0fait directement rÃ©fÃ©rence Ã\\xa0 cette premiÃ¨re plainte et dÃ©fendu BÃ©tharramÂ\\xa0Â».\\nSelon les informations du Monde et de La RÃ©publique des PyrÃ©nÃ©es, lâ€™actuel premier ministre avait rencontrÃ©, enÂ\\xa01998, le juge chargÃ© dâ€™instruire le dossier de viol Ã\\xa0 Notre-Dame-de-BÃ©tharram. Cet ancien magistrat affirme quâ€™ils avaient Ã©voquÃ© lâ€™affaire et a dit Ã\\xa0 Mediapart ne pas comprendre pourquoi FranÃ§ois Bayrou le Â«Â\\xa0dÃ©ment aujourdâ€™huiÂ\\xa0Â». Enfin, Mediapart publie, mardi, le courrier adressÃ© en marsÂ\\xa02024Â\\xa0au maire de Pau par une victime pour tÃ©moigner des violences subies dans lâ€™Ã©tablissement.\\nÂ«Â\\xa0Deux preuvesÂ\\xa0Â» de son ignorance\\nMardi, le chef du gouvernement a exprimÃ© sa Â«Â\\xa0sympathieÂ\\xa0Â» pour Â«Â\\xa0les personnes, les hommes ou les garÃ§ons, qui ont Ã©tÃ© en souffrance dans ces affaires-lÃ\\xa0Â\\xa0Â». Il a Ã©galement avancÃ© ce quâ€™il a prÃ©sentÃ© comme Â«Â\\xa0deux preuvesÂ\\xa0Â» de son ignorance. Dâ€™une part, Â«Â\\xa0lorsque la premiÃ¨re plainte est dÃ©posÃ©eÂ\\xa0Â», selon lui Â«Â\\xa0en dÃ©cembreÂ\\xa01997Â\\xa0Â», il a Â«Â\\xa0quittÃ© dÃ©jÃ\\xa0 le ministÃ¨re de lâ€™Ã©ducation nationale depuis des moisÂ\\xa0Â», soit en mai de la mÃªme annÃ©e. Le premier ministre nâ€™a pas Ã©voquÃ© la plainte datant de 1996, annÃ©e oÃ¹ il Ã©tait Ã\\xa0 la tÃªte du ministÃ¨re.\\nDâ€™autre part, en confirmant avoir inscrit certains de ses enfants dans cet Ã©tablissement, Â«Â\\xa0qui a la rÃ©putation dâ€™Ãªtre strictÂ\\xa0Â», il a lancÃ©Â\\xa0: Â«Â\\xa0Est-ce que vous croyez que nous aurions scolarisÃ© nos enfants dans des Ã©tablissementsÂ\\xa0[oÃ¹ lâ€™on aurait] soupÃ§onnÃ© ou affirmÃ© quâ€™il se passe des choses de cet ordreÂ\\xa0?Â\\xa0Â». Â«Â\\xa0Je peux vous assurer que tout est faux et quâ€™une plainte en diffamation sera Ã©videmment portÃ©eÂ\\xa0Â», a-t-il conclu, sans prÃ©ciser qui serait visÃ© par cette plainte.\\nIl a estimÃ© en outre que Â«Â\\xa0dÃ¨s que quelquâ€™un occupe des responsabilitÃ©s on sâ€™ingÃ©nie Ã\\xa0 inventer de toutes piÃ¨ces des scandalesÂ\\xa0Â». Et Â«Â\\xa0si on ne rÃ©pond pas et quâ€™on se tait, on est coupable. Et si on rÃ©pond et quâ€™on dÃ©ment, on est immÃ©diatement mis en accusationÂ\\xa0Â», a-t-il arguÃ©.\\n',\n",
       "              '{\"link\": \"https://www.lemonde.fr/politique/article/2025/02/11/municipales-a-paris-quatre-candidats-officiellement-en-lice-pour-la-primaire-ecologiste_6542341_823448.html\", \"title\": \"Municipales 2026\\\\u00a0\\\\u00e0 Paris\\\\u00a0: quatre candidats officiellement en lice pour la primaire \\\\u00e9cologiste\"}',\n",
       "              'Municipales 2026Â\\xa0Ã\\xa0 ParisÂ\\xa0: quatre candidats officiellement en lice pour la primaire Ã©cologiste\\nQui sera le candidat Ã©cologiste pour les Ã©lections municipales 2026Â\\xa0Ã\\xa0 ParisÂ\\xa0? Quatre personnalitÃ©s sont dÃ©sormais officiellement en course, leur candidature ayant Ã©tÃ© formellement validÃ©e par la section parisienne des Ecologistes, mardi 11Â\\xa0fÃ©vrier. David Belliard, Anne-Claire Boux, Fatoumata KonÃ© et Aminata NiakatÃ© sont tous Ã©lus au Conseil de ParisÂ\\xa0; les deux premiers sont Ã©galement adjoints Ã\\xa0 la maire socialiste, Anne Hidalgo.\\nIls seront dÃ©partagÃ©s par les adhÃ©rents lors dâ€™un vote Ã©lectronique en deux tours, du 14Â\\xa0au 16Â\\xa0mars puis du 21Â\\xa0au 23Â\\xa0mars â€“ enÂ\\xa02019, un seul tour avait suffi pour dÃ©signer le candidat pour 2020. Tous les prÃ©tendants plaident lâ€™union de la gauche dÃ¨s le premier tour, et se montrent ouverts envers La France insoumise, au minimum pour un dialogue.\\nLe sÃ©nateur de Paris Yannick Jadot, qui a tentÃ© sans succÃ¨s de convaincre les autres candidats de se ranger derriÃ¨re lui sans passer par la primaire, ne participera pas Ã\\xa0 cette compÃ©tition interne, qui risque selon lui dâ€™apporter Â«Â\\xa0de la division Ã\\xa0 la divisionÂ\\xa0Â».\\nA 46Â\\xa0ans, David Belliard est Ã©lu au Conseil de Paris depuis 2014Â\\xa0et adjoint Ã\\xa0 la maire de Paris en charge de la transformation de lâ€™espace public et des transports depuis 2020.Â\\xa0Il Ã©tait dÃ©jÃ\\xa0 le candidat Ã©cologiste lors des derniÃ¨res municipales, oÃ¹ il avait rassemblÃ© 10,8Â\\xa0% des voix au premier tour, avant de se rallier Ã\\xa0 la maire sortante, Anne Hidalgo, au second tour. Militant LGBT+, il a Ã©tÃ© directeur gÃ©nÃ©ral adjoint de Sidaction et journaliste au magazineÂ\\xa0Alternatives Ã©conomiques, avant dâ€™Ãªtre Ã©lu dans le 11e arrondissement. Depuis septembreÂ\\xa02020, il prÃ©side Ã©galement la rÃ©gie immobiliÃ¨re de la Ville de Paris, qui gÃ¨re un peu plus de 60Â\\xa0000Â\\xa0logements sociaux. Il prÃ´ne une Â«Â\\xa0grande rÃ©volution socialeÂ\\xa0Â» et sâ€™Ã©lÃ¨ve contre des Â«Â\\xa0politiques ultralibÃ©rales et la casse des services publicsÂ\\xa0Â».\\nElle a Ã©tÃ© Ã©lue pour la premiÃ¨re fois au Conseil de Paris enÂ\\xa02020, dans le 18e arrondissement, et est devenue, la mÃªme annÃ©e, adjointe Ã\\xa0 la maire en charge de la politique de la Ville. EnÂ\\xa02023, elle est nommÃ©e adjointe Ã\\xa0 la santÃ© en remplacement dâ€™Anne Souyris, Ã©lue sÃ©natrice de Paris. Câ€™est dans le cadre de ces fonctions quâ€™elle a portÃ© et fait voter, en novembreÂ\\xa02024, le plan de santÃ© environnementale de Paris, visant Ã\\xa0 Â«Â\\xa0protÃ©ger les habitants contre les pollutions de leur environnementÂ\\xa0Â», en particulier les bÃ©bÃ©s et les femmes enceintes. A 37Â\\xa0ans, cette ancienne militante dâ€™Attac et de Greenpeace sâ€™intÃ©resse particuliÃ¨rement au lien entre transformation Ã©cologique et inÃ©galitÃ©s sociales. IngÃ©nieure de formation, elle a notamment dirigÃ© le projet de parc Ã©olien maritime au large de Saint-Nazaire (Loire-Atlantique), avant dâ€™Ãªtre Ã©lue Ã\\xa0 Paris.\\nA 43Â\\xa0ans, elle est conseillÃ¨re de Paris depuis 2014, dans le 19e arrondissement, et prÃ©sidente du groupe Ã©cologiste au Conseil depuis 2020. Si son groupe fait partie de la majoritÃ© municipale, elle nâ€™appartient pas Ã\\xa0 lâ€™exÃ©cutif parisien, ce qui lui permet de se dÃ©tacher plus facilement des dÃ©cisions prises par la Ville et du bilan dâ€™Anne Hidalgo. Elle considÃ¨re que le bilan de cette derniÃ¨re est Â«Â\\xa0bon mais pas satisfaisantÂ\\xa0Â», et plaide pour une meilleure inclusion des Parisiens dans la transformation de leur ville. NÃ©e Ã\\xa0 Paris, elle travaillait dans le secteur privÃ© avant dâ€™Ãªtre Ã©lue, et estime que Â«Â\\xa0Paris est prÃªt pour avoir la premiÃ¨re maire femme Ã©cologiste et noireÂ\\xa0Â».\\nAminata NiakatÃ© est, jusque-lÃ\\xa0, la plus discrÃ¨te des candidats bien quâ€™elle soit, Ã\\xa0 43Â\\xa0ans, lâ€™une des porte-parole du parti Les Ecologistes depuis 2022. Elue conseillÃ¨re de Paris enÂ\\xa02020, dans le 15e arrondissement, elle Ã©tait auparavant conseillÃ¨re municipale dâ€™opposition Ã\\xa0 Vitry-sur-Seine, dans le Val-de-Marne, depuis 2014. Elle a Ã©galement tentÃ© sa chance aux quatre derniÃ¨res Ã©lections lÃ©gislatives, sans succÃ¨s, et notamment dans la 13e circonscription de Paris, oÃ¹ elle a Ã©tÃ© battue, enÂ\\xa02022Â\\xa0et enÂ\\xa02024, par le dÃ©putÃ© macroniste David Amiel. Avocate en droit des affaires et en droit fiscal, elle est membre du Conseil Ã©conomique, social et environnemental et de la Commission nationale de lâ€™informatique et des libertÃ©s. Elle plaide pour un Paris Â«Â\\xa0vert, abordable, accessible pour toutes et tous et protecteur des plus fragilesÂ\\xa0Â», et sâ€™attache particuliÃ¨rement Ã\\xa0 la question du logement, ayant elle-mÃªme dÃ» quitter un temps la capitale, oÃ¹ elle est nÃ©e, pour pouvoir se loger.\\n',\n",
       "              '{\"link\": \"https://www.lemonde.fr/societe/article/2025/02/11/a-paris-des-ecoles-se-mobilisent-contre-les-fermetures-de-classes-prevues-a-la-rentree-prochaine_6541238_3225.html\", \"title\": \"A Paris, des \\\\u00e9coles se mobilisent contre les fermetures de classes pr\\\\u00e9vues \\\\u00e0 la rentr\\\\u00e9e prochaine\"}',\n",
       "              'A Paris, des Ã©coles se mobilisent contre les fermetures de classes prÃ©vues Ã\\xa0 la rentrÃ©e prochaine\\nLes enseignants parisiens ont largement suivi un appel Ã\\xa0 la grÃ¨ve, mardi 11Â\\xa0fÃ©vrier, dans les Ã©coles primaires de la capitale, pour protester contre les fermetures de classes prÃ©vues Ã\\xa0 la rentrÃ©e prochaine, ainsi que la perte de la dÃ©charge dâ€™enseignement des directeurs dâ€™Ã©cole. Selon les chiffres du rectorat de Paris, 34,58Â\\xa0% des enseignants Ã©taient grÃ©vistes.\\nPlusieurs centaines de personnes ont manifestÃ© devant le rectorat contre la fermeture annoncÃ©e de 198Â\\xa0classes Ã\\xa0 la rentrÃ©e de septembre. Enseignants et parents mobilisÃ©s demandaient la rÃ©vision de la nouvelle carte scolaire, qui prÃ©voit 470Â\\xa0suppressions de postes au niveau national au primaire en septembre, dont 110 Ã\\xa0 Paris.\\nLa FSU-SNUipp, principal syndicat du premier degrÃ©, avait auparavant donnÃ© une estimation de Â«Â\\xa060Â\\xa0% dâ€™enseignants en grÃ¨veÂ\\xa0Â» en maternelle et en Ã©lÃ©mentaire, Â«Â\\xa0170Â\\xa0Ã©coles fermÃ©esÂ\\xa0Â» et Â«Â\\xa0plus dâ€™un millier de personnesÂ\\xa0Â» devant le rectorat.\\nÂ«Â\\xa0Il y a une baisse dÃ©mographique importante Ã\\xa0 ParisÂ\\xa0Â», qui se reflÃ¨te dans Â«Â\\xa0lâ€™allocation des moyensÂ\\xa0Â», a rappelÃ© la ministre de lâ€™Ã©ducation nationale, Elisabeth Borne, interpellÃ©e par des enseignants lors dâ€™un dÃ©placement dans une Ã©cole du 11e arrondissement.\\nÂ«Â\\xa0La mobilisation (â€¦) va grossirÂ\\xa0Â», a assurÃ© Martin Raffet, prÃ©sident de lâ€™association de parents dâ€™Ã©lÃ¨ves FCPE-Paris, Ã\\xa0 lâ€™Agence France-Presse. Â«Â\\xa0Lâ€™Ã©cole publique est attaquÃ©e, avec moins de moyens, de personnel.Â\\xa0Â»\\nDes Â«Â\\xa0pistesÂ\\xa0Â» pour maintenir la dÃ©charge des directeurs\\nLes Ã©coles publiques parisiennes ont perdu 33Â\\xa0689Â\\xa0Ã©lÃ¨ves depuis 2010, a prÃ©cisÃ© le rectorat de Paris. A la rentrÃ©e 2025, les prÃ©visions font Ã©tat de 3Â\\xa0200Â\\xa0Ã©lÃ¨ves en moins. Il a promis le maintien dâ€™un taux dâ€™encadrement Ã\\xa0 20Â\\xa0Ã©lÃ¨ves par classe.\\nAu sujet de la dÃ©charge des directeurs dâ€™Ã©cole, la ministre a Ã©voquÃ© Â«Â\\xa0une forme dâ€™impasse juridique et financiÃ¨reÂ\\xa0Â» en mettant en avant des recommandations de la Cour des comptes qui exhortent lâ€™Etat Ã\\xa0 ne plus supporter le coÃ»t financier de ce dispositif pris en charge jusquâ€™enÂ\\xa02019 par la Mairie de Paris. Celui-ci a Ã©tÃ© estimÃ© Ã\\xa0 116Â\\xa0millions dâ€™euros pour 2023-2024.\\nÂ«Â\\xa0Si on veut faciliter le fonctionnement dâ€™une Ã©cole, faut reconnaÃ®tre des mÃ©tiers diffÃ©rents et donner des moyensÂ\\xa0Â», a plaidÃ© Alexandra Rolland, directrice dâ€™une Ã©cole Ã©lÃ©mentaire dans le 14eÂ\\xa0arrondissement, qui a interpellÃ© la ministre.\\nLe Conseil de Paris a, lui, votÃ© mardi un vÅ“u demandant au ministÃ¨re de lâ€™Ã©ducation nationale de signer une nouvelle convention pour maintenir ce rÃ©gime de dÃ©charge en vigueur depuis 1982 dans la capitale.\\nÂ«Â\\xa0Nous tenons Ã\\xa0 ce rÃ©gime parce que les directeurs dâ€™Ã©cole font un travail administratif trÃ¨s lourd, quâ€™ils ne pourraient pas faire dans les mÃªmes conditions sâ€™ils nâ€™Ã©taient pas dÃ©chargÃ©sÂ\\xa0Â», a dÃ©clarÃ© la maire de Paris, Anne Hidalgo. Â«Â\\xa0La nouvelle convention que nous proposons est sur le bureau du ministÃ¨re. La Ville de Paris est prÃªte Ã\\xa0 payer la compensation financiÃ¨re Ã\\xa0 lâ€™EtatÂ\\xa0Â», a ajoutÃ© Patrick Bloche, premier adjoint.\\nÂ«Â\\xa0Il faut trouver une solution. Jâ€™ai conscience que les directeurs dâ€™Ã©cole ne sont pas satisfaitsÂ\\xa0Â», a pour sa part dÃ©clarÃ© le recteur de Paris, Bernard Beignier, mardi Ã\\xa0 des journalistes, en affirmant quâ€™Â«Â\\xa0il y a des pistesÂ\\xa0Â».\\n',\n",
       "              '{\"link\": \"https://www.lemonde.fr/societe/article/2025/02/11/meurtre-de-louise-dans-l-essonne-l-adn-du-principal-suspect-retrouve-sur-les-mains-de-la-collegienne_6541618_3225.html\", \"title\": \"Meurtre de Louise dans l\\\\u2019Essonne\\\\u00a0: l\\\\u2019ADN\\\\u00a0du principal suspect retrouv\\\\u00e9 sur les mains de la coll\\\\u00e9gienne\"}',\n",
       "              'Meurtre de Louise dans lâ€™EssonneÂ\\xa0: lâ€™ADNÂ\\xa0du principal suspect retrouvÃ© sur les mains de la collÃ©gienne\\nLâ€™ADN du principal suspect a Ã©tÃ© retrouvÃ© sur les mains de Louise, 11Â\\xa0ans, poignardÃ©e Ã\\xa0 mort aprÃ¨s avoir disparu, vendredi 7Â\\xa0fÃ©vrier, Ã\\xa0 la sortie de son collÃ¨ge en Essonne, a annoncÃ© le parquet dâ€™Evry dans un communiquÃ©, mardi 11Â\\xa0fÃ©vrier.\\nDes auditions sont toujours en cours, et les quatre gardes Ã\\xa0 vue Ã\\xa0 Versailles du principal suspect et de trois de ses proches â€“ son pÃ¨re (49Â\\xa0ans), sa mÃ¨re (48Â\\xa0ans) et sa petite amie (23Â\\xa0ans) â€“ sont prolongÃ©es, a ajoutÃ© le procureur de la RÃ©publique dâ€™Evry, GrÃ©goire Dulin. Il tiendra une confÃ©rence de presse pour faire un point sur lâ€™enquÃªte mercredi, Ã\\xa0 18Â\\xa0heures.\\nLe principal suspect, Ã¢gÃ© de 23Â\\xa0ans, a Ã©tÃ© arrÃªtÃ© lundi soir. Il est depuis interrogÃ© pour meurtre sur une mineure de moins de 15Â\\xa0ans. Dans la foulÃ©e de son interpellation, les enquÃªteurs ont arrÃªtÃ© trois membres de son entourage pour non-dÃ©nonciation de crime. Ces interpellations ont eu lieu Ã\\xa0 Epinay-sur-Orge, oÃ¹ se situait le collÃ¨ge de Louise.\\nParallÃ¨lement Ã\\xa0 ces nouvelles arrestations, les gardes Ã\\xa0 vue dâ€™un autre homme, Ã¢gÃ© de 23Â\\xa0ans Ã©galement, et de sa mÃ¨re (55Â\\xa0ans), interpellÃ©s lundi aprÃ¨s-midi Ã\\xa0 Rouen (Seine-Maritime), ont, elles, Ã©tÃ© levÃ©es. Le jeune homme Ã©tait mis en cause pour meurtre sur une mineure de moins de 15Â\\xa0ans, sa mÃ¨re pour non-dÃ©nonciation de crime.\\nCellule dâ€™Ã©coute pour les collÃ©giens\\nLe corps de Louise, disparue Ã\\xa0 la sortie de son collÃ¨ge dâ€™Epinay-sur-Orge vendredi aprÃ¨s-midi, a Ã©tÃ© retrouvÃ© vers 2Â\\xa0hÂ\\xa030 samedi dans le bois des Templiers Ã\\xa0 Longjumeau, Ã\\xa0 quelques centaines de mÃ¨tres de lâ€™Ã©tablissement scolaire. Lâ€™autopsie, rÃ©alisÃ©e Ã\\xa0 lâ€™institut mÃ©dico-lÃ©gal de Corbeil-Essonnes, a permis Â«Â\\xa0de relever la prÃ©sence de trÃ¨s nombreuses plaies [faites] avec un objet tranchant dans les zones vitalesÂ\\xa0Â», selon la mÃªme source. Selon une source proche du dossier, le tÃ©lÃ©phone de la victime a Ã©tÃ© retrouvÃ© Ã\\xa0 proximitÃ© de son corps.\\nUn couple dâ€™une vingtaine dâ€™annÃ©es avait Ã©tÃ© placÃ© en garde Ã\\xa0 vue samedi avant dâ€™Ãªtre relÃ¢chÃ© sans poursuites.\\nLundi, les Ã©lÃ¨ves du collÃ¨ge oÃ¹ Ã©tait scolarisÃ©e Louise sont retournÃ©s en classe, dans la stupeur et lâ€™incomprÃ©hension. Devant lâ€™entrÃ©e de lâ€™Ã©tablissement, gardÃ©e par un important dispositif policier, de nombreux bouquets et bougies avaient Ã©tÃ© disposÃ©s pour lui rendre hommage. Une cellule dâ€™Ã©coute pour le personnel et les Ã©lÃ¨ves a Ã©tÃ© ouverte au sein de lâ€™Ã©tablissement. Elle sera maintenue toute la semaine auprÃ¨s des collÃ©giens, selon le rectorat.\\nDÃ¨s le week-end, une cellule dâ€™Ã©coute psychologique coordonnÃ©e par le SAMU avait Ã©tÃ© installÃ©e dans la mairie dâ€™Epinay-sur-Orge. La ville et sa voisine de Longjumeau ont aussi mis en place un dispositif de sÃ©curitÃ© sur les trajets du collÃ¨ge.\\nLa mairie de Longjumeau a annoncÃ©, lundi aprÃ¨s-midi, quâ€™aucune marche blanche ne serait organisÃ©e (Essonne) Â«Â\\xa0afin de permettre Ã\\xa0 la famille de faire son deuil dans la plus stricte intimitÃ©Â\\xa0Â». Des salles de recueillement seront nÃ©anmoins ouvertes Ã\\xa0 Longjumeau et Ã\\xa0 Epinay-sur-Orge entre mardi et vendredi, a prÃ©cisÃ© la municipalitÃ©.\\n',\n",
       "              '{\"link\": \"https://www.lemonde.fr/sport/article/2025/02/11/apres-14-defaites-de-rang-le-pays-de-galles-evince-son-selectionneur-en-plein-c-ur-du-tournoi-des-six-nations_6542234_3242.html\", \"title\": \"Apr\\\\u00e8s 14\\\\u00a0d\\\\u00e9faites de rang, Warren Gatland \\\\u00e9vinc\\\\u00e9 de la t\\\\u00eate du Pays-Galles en plein Tournoi des six nations\"}',\n",
       "              'AprÃ¨s 14Â\\xa0dÃ©faites de rang, Warren Gatland Ã©vincÃ© de la tÃªte du Pays-Galles en plein Tournoi des six nations\\nLa quatorziÃ¨me dÃ©faite de rang aura Ã©tÃ© celle de trop. Une semaine aprÃ¨s avoir Ã©tÃ© submergÃ©e, sur la pelouse du Stade de France par les Bleus (0-43), et trois jours aprÃ¨s la dÃ©route en Italie (15-22), la sÃ©lection masculine de rugby du Pays de Galles sâ€™est sÃ©parÃ©e de son entraÃ®neur, Warren Gatland, mardi 11Â\\xa0fÃ©vrier Â«Â\\xa0avec effet immÃ©diatÂ\\xa0Â». Une Ã©viction rare, alors que le Tournoi des six nations bat son plein, mais estimÃ©e nÃ©cessaire par la fÃ©dÃ©ration galloise (WRU), alors que le XV du Poireau est engluÃ© depuis plusieurs annÃ©es dans une crise.\\nÂ«Â\\xa0La WRU et Warren ont convenu quâ€™un changement immÃ©diat Ã©tait dans le meilleur intÃ©rÃªt de lâ€™Ã©quipeÂ\\xa0Â», annonce lâ€™instance dans un communiquÃ©, prÃ©cisant que lâ€™Anglais Matt Sherratt, actuel entraÃ®neur de lâ€™Ã©quipe de Cardiff, Â«Â\\xa0prendra les rÃªnes [de la sÃ©lection] pour les trois derniers matchsÂ\\xa0Â» de la compÃ©tition.\\nSâ€™il est originaire de Nouvelle-ZÃ©lande, oÃ¹ il a pas mal roulÃ© sa bosse comme talonneur, câ€™est au Pays de Galles que Warren Gatland sâ€™est forgÃ© ses lettres de noblesse. ArrivÃ© Ã\\xa0 la tÃªte de lâ€™Ã©quipe Ã\\xa0 la fin de 2007 â€“ aprÃ¨s avoir prÃ©cÃ©demment dirigÃ© lâ€™Irlande â€“, le technicien mÃ¨ne les Dragons rouges au grand chelem dans les Six Nations dÃ¨s sa premiÃ¨re annÃ©e. Trois autres sacres (dont deux grands chelems) suivront dans la compÃ©tition continentale.\\nVers une deuxiÃ¨me cuillÃ¨re de bois dâ€™affilÃ©e\\nAprÃ¨s avoir quittÃ© le XV du Poireau Ã\\xa0 la fin de 2019, au sortir de la Coupe du monde au Japon, terminÃ©e Ã\\xa0 la quatriÃ¨me place (aprÃ¨s avoir notamment Ã©liminÃ© la France en quarts de finale), Warren Gatland a Ã©tÃ© rappelÃ© Ã\\xa0 la fin de 2022Â\\xa0par la fÃ©dÃ©ration galloise. Alors que la situation du rugby dans le pays ne cesse dâ€™empirer â€“ des clubs faisant faillite, et le renouvellement de gÃ©nÃ©ration peinant Ã\\xa0 sâ€™effectuer â€“, les coÃ©quipiers du capitaine Jac Morgan peinent Ã\\xa0 battre la moindre Ã©quipe, ne sâ€™illustrent guÃ¨re Ã\\xa0 la Coupe du monde 2023, et dÃ©gringolent Ã\\xa0 partir de 2024.\\nAprÃ¨s avoir dÃ©crochÃ© la Â«Â\\xa0cuillÃ¨re de boisÂ\\xa0Â», qui distingue lâ€™Ã©quipe terminant le Tournoi des six nations sans aucune victoire, enÂ\\xa02024, Warren Gatland avait proposÃ© sa dÃ©mission. Alors que la sÃ©lection continuait dâ€™enchaÃ®ner les dÃ©faites, le technicien de 61Â\\xa0ans se savait sur la sellette. La quatorziÃ¨me de rang, samedi 8Â\\xa0fÃ©vrier Ã\\xa0 Rome, condamnant les Dragons Ã\\xa0 une probable derniÃ¨re place, ce qui ne leur est jamais arrivÃ© dans lâ€™histoire de la compÃ©tition plus que centenaire, a scellÃ© son sort.\\nÂ«Â\\xa0Nous sommes reconnaissants envers Warren pour tout ce quâ€™il a apportÃ© au rugby gallois. Il reste notre sÃ©lectionneur le plus ancien et le plus titrÃ© en termes de trophÃ©es remportÃ©sÂ\\xa0Â», salue la WRU dans son communiquÃ©, mardi. Â«Â\\xa0Jâ€™arrive au terme de ce chapitre, mais je reste reconnaissant envers tous ceux au Pays de Galles qui mâ€™ont soutenuÂ\\xa0Â», assure lâ€™intÃ©ressÃ© dans le texte de lâ€™instance. Son successeur, Matt Sherratt, qui Â«Â\\xa0a rÃ©pondu sans hÃ©sitation Ã\\xa0 lâ€™appel du Pays de GallesÂ\\xa0Â», aura fort Ã\\xa0 faire pendant son intÃ©rim.\\n',\n",
       "              '{\"link\": \"https://www.lemonde.fr/sport/article/2025/02/12/jo-d-hiver-2030-six-candidats-pour-presider-le-futur-comite-d-organisation-des-alpes-francaises_6543539_3242.html\", \"title\": \"JO d\\\\u2019hiver 2030\\\\u00a0: six candidats pour pr\\\\u00e9sider le\\\\u00a0futur comit\\\\u00e9 d\\\\u2019organisation des Alpes fran\\\\u00e7aises\"}',\n",
       "              'JO dâ€™hiver 2030Â\\xa0: six candidats pour prÃ©sider leÂ\\xa0futur comitÃ© dâ€™organisation des Alpes franÃ§aises\\nSix personnes se sont finalement portÃ©es candidates Ã\\xa0 la prÃ©sidence du ComitÃ© dâ€™organisation des Jeux olympiques et paralympiques dâ€™hiver de 2030 (Cojop) dans les Alpes franÃ§aises. Il sâ€™agit de Marie Martinod, Vincent Jay, GÃ©rard Holtz, Nathalie PÃ©chalat, Edgar Grospiron et Jean-Luc CrÃ©tier, assure au Monde une source proche du dossier. La liste est dÃ©finitive. Les prÃ©tendants avaient jusquâ€™Ã\\xa0 lundi 10Â\\xa0fÃ©vrier Ã\\xa0 minuit pour faire acte de candidature auprÃ¨s du ComitÃ© national olympique et sportif franÃ§ais (CNOSF).\\nAnciens athlÃ¨tes aux JO dâ€™hiver, Marie Martinod et Vincent Jay Ã©taient dÃ©jÃ\\xa0 en concurrence avec Martin Fourcade, ultra favori pour le poste, avant que le multiple champion olympique de biathlon renonce, pour ne pas Â«Â\\xa0sacrifier ses convictionsÂ\\xa0Â». La skieuse acrobatique, double mÃ©daillÃ©e dâ€™argent aux Jeux de Sotchi (Russie), enÂ\\xa02014, et de Pyeongchang (CorÃ©e du Sud), enÂ\\xa02018, et lâ€™ex-biathlÃ¨te, champion olympique Ã\\xa0 Vancouver (Canada), enÂ\\xa02010, sont soutenus par les deux rÃ©gions hÃ´tes des JO 2030, Auvergne-RhÃ´ne-Alpes (AURA) et Provence-Alpes-CÃ´te dâ€™Azur (PACA).\\nGÃ©rard Holtz, lui, a dÃ©clarÃ© sa flamme pour les Jeux dans un entretien au DauphinÃ© libÃ©rÃ© lors duquel il sâ€™est dit Â«Â\\xa0prÃªt Ã\\xa0 tout lÃ¢cher si on [l]â€™appelleÂ\\xa0Â». Â«Â\\xa0Ma passion est incandescente pour cette candidature des AlpesÂ\\xa0Â», a assurÃ© au quotidien rÃ©gional lâ€™ancien journaliste et animateur de France TÃ©lÃ©visions, Ã¢gÃ© de 78Â\\xa0ans, qui imaginait alors une prÃ©sidence commune avec Nathalie PÃ©chalat, Ã©galement candidate pour la fonction.\\nAudition des six prÃ©tendants\\nAncienne prÃ©sidente de la FÃ©dÃ©ration franÃ§aise des sports de glace, cette derniÃ¨re se disait Â«Â\\xa0catastrophÃ©eÂ\\xa0Â» par le renoncement de Martin Fourcade. Mais, forte de son expÃ©rience comme cheffe de la dÃ©lÃ©gation franÃ§aise aux JO de PÃ©kin 2022,Â\\xa0puis comme prÃ©sidente dÃ©lÃ©guÃ©e du Club France Ã\\xa0 LaÂ\\xa0Villette (Paris) â€“ un succÃ¨s populaire â€“ pendant les JO de Paris 2024, lâ€™ancienne double championne dâ€™Europe de patinage artistique a rapidement manifestÃ© son intÃ©rÃªt pour la prÃ©sidence du Cojop.\\nEdgar Grospiron, de son cÃ´tÃ©, assure avoir Ã©tÃ© contactÃ© par le CNOSF avant mÃªme le retrait de Martin Fourcade. SacrÃ© enÂ\\xa01992Â\\xa0Ã\\xa0 Albertville (Savoie) dans lâ€™Ã©preuve de ski de bosses, le Haut-Savoyard, qui avait Ã©tÃ© le directeur gÃ©nÃ©ral du comitÃ© de candidature dâ€™Annecy aux Jeux de 2018, se dit prÃªt, dans un communiquÃ© publiÃ© lundi, Ã\\xa0 Â«Â\\xa0incarner le projet et donner du sens Ã\\xa0 cette aventureÂ\\xa0Â».\\nEnfin, Jean-Luc CrÃ©tier a, sur le fil, Ã©galement exprimÃ© son envie pour la fonction, lundi. Le champion olympique de descente 1998Â\\xa0Ã\\xa0 Nagano (Japon) se dÃ©clare Â«Â\\xa0dÃ©terminÃ© Ã\\xa0 mettre [s]on expÃ©rience et [s]a passion pour lâ€™olympisme Ã\\xa0 la disposition de votre projet olympique inspirant et exaltantÂ\\xa0Â», a-t-il Ã©crit dans sa lettre de candidature.\\nLes parties prenantes des Jeux dâ€™hiver 2030 â€“ les rÃ©gions AURA et PACA, le CNOSF et le ComitÃ© paralympique et sportif franÃ§ais, ainsi que lâ€™Etat â€“ doivent dÃ©sormais procÃ©der Ã\\xa0 lâ€™audition des six prÃ©tendants, dont les profils doivent Ã©galement Ãªtre examinÃ©s par la Haute AutoritÃ© pour la transparence de la vie publique. Le temps presse. Le ComitÃ© dâ€™organisation des Alpes franÃ§aises doit Ãªtre crÃ©Ã© mardiÂ\\xa018Â\\xa0fÃ©vrier Ã\\xa0 OL VallÃ©e, Ã\\xa0 DÃ©cines-Charpieu (RhÃ´ne), dans lâ€™agglomÃ©ration lyonnaise. Avec un prÃ©sident (ou une prÃ©sidente) Ã\\xa0 sa tÃªteÂ\\xa0?\\n',\n",
       "              '{\"link\": \"https://www.lemonde.fr/sport/article/2025/02/12/le-handball-francais-endeuille-par-la-mort-brutale-de-jemima-kabeya-la-gardienne-de-plan-de-cuques_6543688_3242.html\", \"title\": \"Le handball fran\\\\u00e7ais endeuill\\\\u00e9 par la mort brutale de Jemima Kabeya, la gardienne de Plan-de-Cuques\"}',\n",
       "              'Le handball franÃ§ais endeuillÃ© par la mort brutale de Jemima Kabeya, la gardienne de Plan-de-Cuques\\nLe handball franÃ§ais est en deuil. Le club de Plan-de-Cuques (D1 fÃ©minine), au nord-est de Marseille, a Ã©tÃ© frappÃ©, lundi 10Â\\xa0fÃ©vrier, par un drame dont la brutalitÃ© a plongÃ© joueuses, dirigeants et supporteurs dans la sidÃ©ration. La gardienne Jemima Kabeya est morte aprÃ¨s avoir contractÃ© une mÃ©ningite bactÃ©rienne. Elle sâ€™est Ã©teinte Ã\\xa0 lâ€™hÃ´pital dâ€™instruction des armÃ©es Laveran, dans le 13e arrondissement de Marseille, oÃ¹ elle avait Ã©tÃ© amenÃ©e dimanche.\\nAgÃ©e de 21Â\\xa0ans, Jemima Kabeya avait rejoint Plan-de-Cuques (Bouches-du-RhÃ´ne), actuellement 7e du championnat de France, enÂ\\xa02022, dans le cadre dâ€™un prÃªt de deux ans en provenance du Paris 92. Elle avait ensuite signÃ© en Provence son premier contrat professionnel, qui courait jusquâ€™enÂ\\xa02026.Â\\xa0Lâ€™ancienne internationale franÃ§aise junior avait jouÃ© cinq jours plus tÃ´t Ã\\xa0 Chambray-lÃ¨s-Tours (Indre-et-Loire), en Ligue Butagaz Energie (D1 fÃ©minine), effectuant 20 arrÃªts, une performance exceptionnelle.\\nÂ«Â\\xa0Elle Ã©tait en pleine progression. Elle avait un potentiel extraordinaire. Elle venait de faire deux matchs incroyables face Ã\\xa0 Nice et Ã\\xa0 Chambray. Câ€™Ã©tait un grand espoir du handball franÃ§aisÂ\\xa0Â», a rÃ©agi Eric Nicolao, le prÃ©sident de Plan-de-Cuques. Â«Â\\xa0Câ€™Ã©tait une fille gentille, solaire, souriante. On est tous sidÃ©rÃ©sÂ\\xa0Â», a ajoutÃ© le responsable du club provenÃ§al.\\nCellule de crise\\nLe prÃ©sident de la FÃ©dÃ©ration internationale de handball (IHF), lâ€™Egyptien Hassan Moustafa, a exprimÃ© ses condolÃ©ances Â«Â\\xa0Ã\\xa0 la famille, aux amis, aux coÃ©quipiers et Ã\\xa0 tous ceux qui ont Ã©tÃ© touchÃ©s par la prÃ©sence de JemimaÂ\\xa0Â». Â«Â\\xa0La perte dâ€™une vie jeune, brillante et dynamique est une tragÃ©die qui dÃ©passe les motsÂ\\xa0Â», a dÃ©clarÃ© le prÃ©sident de lâ€™IHF dans un communiquÃ©.\\nLaÂ\\xa0mÃ©ningiteÂ\\xa0est une infection de la moelle Ã©piniÃ¨re et des enveloppes entourant le cerveau, les mÃ©ninges. Elle peut Ãªtre due Ã\\xa0 un virus, Ã\\xa0 un champignon ou Ã\\xa0 une bactÃ©rie.Â\\xa0Dans ce dernier cas, celui de Jemima Kabeya, elle est particuliÃ¨rement dangereuse. La transmission de la maladie se fait par un contact proche et prolongÃ©.\\nUne cellule de crise a Ã©tÃ© mise en place Ã\\xa0 Plan-de-Cuques. Toutes les personnes qui ont Ã©tÃ© en contact avec Jemima Kabeya depuis une semaine ont reÃ§u un traitement antibiotique, puis ont Ã©tÃ© vaccinÃ©es. A lâ€™initiative des joueuses, une cagnotte a Ã©tÃ© lancÃ©e pour aider la famille Ã\\xa0 traverser cette Ã©preuve.\\nLes deux prochains matchs de championnat de lâ€™Ã©quipe des Bouches-du-RhÃ´ne, mercredi face Ã\\xa0 Saint-Amand, puis le 19Â\\xa0fÃ©vrier contre BesanÃ§on, ont Ã©tÃ© reportÃ©s. Par mesure de prÃ©caution sanitaire, le match prÃ©vu le mÃªme jour entre Paris 92 et Chambray, dont les joueuses ont Ã©tÃ© en contact avec celles de Plan-de-Cuques le 5Â\\xa0fÃ©vrier, a Ã©galement Ã©tÃ© dÃ©calÃ©. Une minute de silence en mÃ©moire de Jemima Kabeya sera observÃ©e, mercredi, lors des autres rencontres de la 13e journÃ©e du championnat de France.\\n',\n",
       "              '{\"link\": \"https://www.lemonde.fr/sport/article/2025/02/11/ligue-des-champions-le-resume-de-la-large-victoire-du-psg-contre-brest-en-barrage-aller_6542744_3242.html\", \"title\": \"Ligue des champions\\\\u00a0: le r\\\\u00e9sum\\\\u00e9 de la large victoire du PSG contre Brest en barrage aller\"}',\n",
       "              'Ligue des championsÂ\\xa0: le rÃ©sumÃ© de la large victoire du PSG contre Brest en barrage aller\\nSur un match, face Ã\\xa0 un Paris Saint-Germain invaincu depuis le mois de novembre, le Stade brestois espÃ©rait pouvoir rÃ©aliser lâ€™exploit. Les Bretons ont rapidement dÃ©chantÃ©, mardi 11Â\\xa0fÃ©vrier, lors du match de barrage aller perdu face au club de la capitale (3-0). Les Parisiens sâ€™Ã©taient dÃ©jÃ\\xa0 imposÃ©s Ã\\xa0 Brest (5-2) en Ligue 1, le 1áµ‰Ê³ fÃ©vrier dernier, et ont remis Ã§a, cette fois au stade de Roudourou, Ã\\xa0 Guingamp (CÃ´tes-dâ€™Armor), oÃ¹ les Tyâ€™Zefs disputent leurs matchs de Coupe dâ€™Europe.\\nLes joueurs dâ€™Eric Roy ont eu quelques occasions mais nâ€™ont jamais rÃ©ellement fait le poids face Ã\\xa0 des Parisiens trÃ¨s rÃ©alistes. Le PSG a pu compter sur un nouveau doublÃ© dâ€™Ousmane DembÃ©lÃ© et a dÃ©sormais de grandes chances de rallier les huitiÃ¨mes de finale. Le club de la capitale devra confirmer cette large victoire lors du match retour, au Parc des Princes, mercredi 19Â\\xa0fÃ©vrier.\\nCe quâ€™il faut retenir\\nLe cador. Ousmane DembÃ©lÃ©\\nUn penalty provoquÃ©, un nouveau doublÃ©â€¦ Ousmane DembÃ©lÃ© a Ã©tÃ©, sans aucun doute, le meilleur joueur sur la pelouse. Lâ€™ailier est inarrÃªtable depuis la mi-dÃ©cembre, a marquÃ© quinze buts depuis le dÃ©but de lâ€™annÃ©e 2025Â\\xa0et reste sur quatre matchs consÃ©cutifs avec chaque fois au moins deux buts inscrits. Il aurait mÃªme pu sâ€™offrir un triplÃ© avec un peu plus de rÃ©ussite.\\nLe fil du match.\\n20áµ‰, 0-1Â\\xa0: aprÃ¨s une frappe de Joao Neves repoussÃ©e par Marco Bizot, celle dâ€™Ousmane DembÃ©lÃ© est contrÃ©e de la main par Pierre Lees-Melou, dans la surface brestoise. Vitinha convertit le penalty sans trembler.\\n45áµ‰, 0-2Â\\xa0: sur une contre-attaque parisienne, Achraf Hakimi lance DembÃ©lÃ©. En position dâ€™ailier, ce dernier rentre dans la surface. Sans Ãªtre attaquÃ©, lâ€™international franÃ§ais ajuste facilement Bizot du pied gauche.\\n66áµ‰, 0-3Â\\xa0: sur un ballon qui traÃ®ne devant la surface de rÃ©paration brestoise, DembÃ©lÃ© se montre plus prompt que les dÃ©fenseurs bretons. Le FranÃ§ais contrÃ´le et enchaÃ®ne avec une frappe lÃ©gÃ¨rement contrÃ©e par Brendan Chardonnet, qui lobe Marco Bizot.\\nLa note du match. C\\nUn temps fermÃ©e, la rencontre sâ€™est emballÃ©e aprÃ¨s le premier but inscrit par Vitinha. Malheureusement, ce match a trop ressemblÃ© Ã\\xa0 un rendez-vous de LigueÂ\\xa01 avec des Brestois incapables dâ€™insuffler un vent de folie et de renverser la hiÃ©rarchie.\\nLâ€™image.\\n\\n',\n",
       "              '{\"link\": \"https://www.lemonde.fr/sport/article/2025/02/11/ligue-des-champions-le-resume-de-la-victoire-renversante-du-real-madrid-contre-manchester-city-en-barrage-aller_6542816_3242.html\", \"title\": \"Ligue des champions\\\\u00a0: r\\\\u00e9sum\\\\u00e9 de la victoire renversante du Real Madrid contre Manchester City en barrage aller\"}',\n",
       "              'Ligue des championsÂ\\xa0: rÃ©sumÃ© de la victoire renversante du Real Madrid contre Manchester City en barrage aller\\nDans ce choc au sommet entre les deux derniers vainqueurs de la compÃ©tition, samedi 11Â\\xa0fÃ©vrier Ã\\xa0 lâ€™Etihad Stadium, Ã\\xa0 Manchester, le Real Madrid a pris une option de qualification, lors du match aller dâ€™accession aux huitiÃ¨mes de finale de la Ligue des champions, en sâ€™imposant face Ã\\xa0 Manchester City, vainqueur de la compÃ©tition enÂ\\xa02023 (2-3).\\nA domicile, la formation de Pep Guardiola, en difficultÃ© cette saison sur les scÃ¨nes nationale et europÃ©enne â€“ douzeÂ\\xa0dÃ©faites toutes compÃ©titions confondues â€“ a pourtant menÃ© Ã\\xa0 deux reprises, grÃ¢ce au doublÃ© de son avant-centre norvÃ©gien, Erling Haaland.\\nRelancÃ©s en seconde pÃ©riode Ã\\xa0 la suite de lâ€™Ã©galisation de lâ€™attaquant franÃ§ais Kylian MbappÃ© (1-1, 60e), les MadrilÃ¨nes ont surtout gÃ¢chÃ© de nombreuses occasions, en subissant un penalty dans les derniÃ¨res minutes de la rencontre. Mais, comme souvent, les hommes de Carlo Ancelotti ont fait parler leur expÃ©rience dans les derniers instants de la rencontre, grÃ¢ce Ã\\xa0 Brahim Diaz (2-2, 86e) puis Jude Bellingham (2-3, 90e + 2).\\nSi rien nâ€™est encore fait, les deux Ã©quipes se retrouveront au Stade Santiago Bernabeu (Ã\\xa0 Madrid), mercredi 19Â\\xa0fÃ©vrier, lors du match retour.\\nCe quâ€™il faut retenir\\nLe coaching dâ€™AncelottiÂ\\xa0: malgrÃ© une dÃ©fense en forme de gruyÃ¨re, sÃ©rieusement amenuisÃ© par les absences de Dani Carvajal, Antonio RÃ¼diger, Eder Militao, David Alaba et Lucas Vazquez, le plan dâ€™action de lâ€™Italien a tenu bon. Plus encore, son choix de faire entrer Brahim Diaz Ã\\xa0 la 85e minute sâ€™est vu rÃ©compenser moins dâ€™une minute plus tard (Ã©galisation 2-2, 86e). Si Ã§a, ce nâ€™est pas de lâ€™action-rÃ©action, on se demande ce que câ€™est.\\n1-0, 19eÂ\\xa0: contre le cours du jeu, les Citizens parviennent Ã\\xa0 ouvrir le score grÃ¢ce Ã\\xa0 un but de lâ€™attaquant Erling Haaland. Il est servi, dans un premier temps, dos au but, avant de servir Grealish. Ce dernier ajuste un subtil piquÃ© dans la surface, que dÃ©vie Gvardiol vers Haaland. Sur le cÃ´tÃ© gauche, le NorvÃ©gien pousse le ballon du plat du pied gauche qui file entre les mains de Thibaut Courtois.\\n1-1, 60eÂ\\xa0: le capitaine du Real Madrid Valverde tire un coup franc Ã\\xa0 lâ€™entrÃ©e de la surface, mais sa frappe est contrÃ©e par Kevin De Bruyne. Dani Ceballos hÃ©rite du ballon et sert Kylian MbappÃ© dans le dos de la dÃ©fense mancunienne. Lâ€™attaquant madrilÃ¨ne rate sa reprise en touchant le ballon du tibia, prenant Ã\\xa0 dÃ©faut le gardien, Ederson.\\n2-1, 80eÂ\\xa0: alors que les champions en titre continuent de pousser, lâ€™ailier anglais Phil Foden est arrÃªtÃ© irrÃ©guliÃ¨rement dans la surface de rÃ©paration. Lâ€™arbitre franÃ§ais ClÃ©ment Turpin dÃ©signe le point de penalty. Erling Haaland le transforme dâ€™une frappe de lâ€™intÃ©rieur du pied gauche, Ã\\xa0 ras de terre.\\n2-2, 86eÂ\\xa0: sous pression, Ederson rate sa relance dans lâ€™axe. Vinicius, placÃ© Ã\\xa0 droite de la surface, frappe en angle fermÃ©, du pied droit. Le gardien brÃ©silien repousse le ballon directement sur Brahim Diaz, qui Ã©galise.\\n2-3, 90e + 2Â\\xa0: une succession dâ€™erreurs â€“ une passe ratÃ©e du milieu de terrain Mateo Kovacic puis une mauvaise anticipation du dÃ©fenseur Rico Lewis â€“ permet Ã\\xa0 Vinicius dâ€™entrer dans la surface de rÃ©paration. Son lob manquÃ© se transforme en passe dÃ©cisive pour Jude Bellingham, qui conclut dans le but vide.\\nLa phrase. Â«Â\\xa0Il fallait quâ€™on soit plus tueurs et on a fait ce quâ€™il fallait en seconde mi-tempsÂ\\xa0Â», a rÃ©sumÃ© le MadrilÃ¨ne AurÃ©lien TchouamÃ©ni au micro de Canal+.\\nUne pluie de stars sur le terrain, deux grands entraÃ®neurs, du coaching gagnant, cinq buts, un scÃ©nario renversant et une rÃ©elle dramaturgie, tous les ingrÃ©dients Ã©taient rÃ©unis pour vivre une grande soirÃ©e de football.\\n\\n']})"
      ]
     },
     "execution_count": 87,
     "metadata": {},
     "output_type": "execute_result"
    }
   ],
   "source": [
    "path = 'corpus'\n",
    "dico_corpus = cr_corpus_dict(path,1000)\n",
    "dico_corpus"
   ]
  }
 ],
 "metadata": {
  "kernelspec": {
   "display_name": ".venv",
   "language": "python",
   "name": "python3"
  },
  "language_info": {
   "codemirror_mode": {
    "name": "ipython",
    "version": 3
   },
   "file_extension": ".py",
   "mimetype": "text/x-python",
   "name": "python",
   "nbconvert_exporter": "python",
   "pygments_lexer": "ipython3",
   "version": "3.11.5"
  }
 },
 "nbformat": 4,
 "nbformat_minor": 2
}
