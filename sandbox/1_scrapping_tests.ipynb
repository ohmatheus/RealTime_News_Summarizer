{
 "cells": [
  {
   "cell_type": "code",
   "execution_count": 1,
   "metadata": {},
   "outputs": [],
   "source": [
    "import os  # helper functions like check file exists\n",
    "import datetime  # automatic file name\n",
    "import requests  # the following imports are common web scraping bundle\n",
    "from urllib.request import urlopen  # standard python module\n",
    "from bs4 import BeautifulSoup\n",
    "from urllib.error import HTTPError\n",
    "from collections import defaultdict\n",
    "import re\n",
    "from urllib.error import URLError\n",
    "from tqdm import tqdm\n",
    "import pickle\n",
    "import bz2\n",
    "import pandas as pd\n",
    "from collections import Counter\n",
    "from urllib.parse import urlparse, unquote\n",
    "import json\n",
    "import shutil\n",
    "\n",
    "from datetime import datetime, timedelta\n"
   ]
  },
  {
   "cell_type": "code",
   "execution_count": 2,
   "metadata": {},
   "outputs": [],
   "source": [
    "#-----------------------------------------------------\n",
    "def extract_theme(link):\n",
    "    try:\n",
    "        theme_text = re.findall(r'.fr/.*?/', link)[0]\n",
    "    except:\n",
    "        pass\n",
    "    else:\n",
    "        return theme_text[4:-1]\n",
    "\n",
    "\n",
    "#-----------------------------------------------------\n",
    "def extract_name_from_https_link(link):\n",
    "    \"\"\"\n",
    "    Extracts the domain name (name) from an HTTPS link.\n",
    "\n",
    "    :param link: A string containing the HTTPS link.\n",
    "    :return: The domain name (e.g., 'www.google.com') or None if no match is found.\n",
    "    \"\"\"\n",
    "    # Regular expression to match the domain name in an HTTPS link\n",
    "    match = re.search(r'https://([^/\\s]+)', link)\n",
    "    if match:\n",
    "        return match.group(1)  # Return the domain name\n",
    "    return None  # Return None if no match is found\n",
    "\n",
    "\n",
    "#-----------------------------------------------------\n",
    "def extract_subname(url):\n",
    "    \"\"\"Extracts the subname (article slug) from a given HTML link.\"\"\"\n",
    "    path = urlparse(url).path  # Extract the path from the URL\n",
    "    filename = os.path.basename(path)  # Get the last part of the path\n",
    "    subname = os.path.splitext(filename)[0]  # Remove the .html extension\n",
    "    return unquote(subname)  # Decode any URL-encoded characters\n",
    "\n",
    "\n",
    "#-----------------------------------------------------\n",
    "def extract_clean_subname(url):\n",
    "    subname = extract_subname(url)\n",
    "    return re.sub(r'(_\\d+)+$', '', subname)  # Remove all trailing underscores followed by numbers\n",
    "\n",
    "\n",
    "#-----------------------------------------------------\n",
    "def get_filename(filepath):\n",
    "    \"\"\"Extracts the filename from a given file path.\"\"\"\n",
    "    return os.path.basename(filepath)\n",
    "\n",
    "\n",
    "#-----------------------------------------------------\n",
    "def read_file(file_path):\n",
    "    try:\n",
    "        with open(file_path, 'r') as file:\n",
    "            content = file.read()\n",
    "        return content\n",
    "    except FileNotFoundError:\n",
    "        return \"File not found.\"\n",
    "    except Exception as e:\n",
    "        return f\"An error occurred: {e}\"\n",
    "\n",
    "\n",
    "#-----------------------------------------------------\n",
    "def list_themes(links):\n",
    "    themes = []\n",
    "    for link in links:\n",
    "        theme = extract_theme(link)\n",
    "        if theme is not None:\n",
    "            themes.append(theme)\n",
    "    return themes\n",
    "\n",
    "\n",
    "#-----------------------------------------------------\n",
    "def write_links(path, links, year_fn):\n",
    "    with open(os.path.join(path + \"/lemonde_\" + str(year_fn) + \"_links.txt\"), 'w', encoding=\"utf-8\") as f:\n",
    "        for link in links:\n",
    "            f.write(link + \"\\n\")\n",
    "\n",
    "\n",
    "#-----------------------------------------------------\n",
    "def write_to_file(filename, content):\n",
    "    if os.path.exists(filename):\n",
    "        with open(filename, 'a+', encoding=\"utf-8\") as f:\n",
    "            f.write(str(content))\n",
    "    else:\n",
    "        with open(filename, 'w', encoding=\"utf-8\") as f:\n",
    "            f.write(str(content))\n",
    "\n",
    "\n",
    "#-----------------------------------------------------\n",
    "def create_archive_links(year_start, year_end, month_start, month_end, day_start, day_end):\n",
    "    archive_links = {}\n",
    "    for y in range(year_start, year_end + 1):\n",
    "        dates = [str(d).zfill(2) + \"-\" + str(m).zfill(2) + \"-\" +\n",
    "                    str(y) for m in range(month_start, month_end + 1) for d in\n",
    "                    range(day_start, day_end + 1)]\n",
    "        archive_links[y] = [\n",
    "            \"https://www.lemonde.fr/archives-du-monde/\" + date + \"/\" for date in dates]\n",
    "    return archive_links\n",
    "\n",
    "\n",
    "#-----------------------------------------------------\n",
    "def get_articles_links(archive_links):\n",
    "    links_non_abonne = []\n",
    "    for link in archive_links:\n",
    "        try:\n",
    "            html = urlopen(link)\n",
    "        except HTTPError as e:\n",
    "            print(\"url not valid\", link)\n",
    "        else:\n",
    "            soup = BeautifulSoup(html, \"html.parser\")\n",
    "            news = soup.find_all(class_=\"teaser\")\n",
    "            # condition here : if no span icon__premium (abonnes)\n",
    "            for item in news:\n",
    "                if not item.find('span', {'class': 'icon__premium'}):\n",
    "                    l_article = item.find('a')['href']\n",
    "                    # en-direct = video\n",
    "                    if 'en-direct' not in l_article:\n",
    "                        links_non_abonne.append(l_article)\n",
    "    return links_non_abonne\n",
    "\n",
    "\n",
    "#-----------------------------------------------------\n",
    "def classify_links(theme_list, link_list):\n",
    "    dict_links = defaultdict(list)\n",
    "    for theme in theme_list:\n",
    "        theme_link = 'https://www.lemonde.fr/' + theme + '/article/'\n",
    "        for link in link_list:\n",
    "            if theme_link in link:\n",
    "                dict_links[theme].append(link)\n",
    "    return dict_links\n",
    "\n",
    "\n",
    "#-----------------------------------------------------\n",
    "def get_single_page(url):\n",
    "    try:\n",
    "        html = urlopen(url)\n",
    "    except HTTPError as e:\n",
    "        print(\"url not valid\", url)\n",
    "    else:\n",
    "        soup = BeautifulSoup(html, \"html.parser\")\n",
    "        text_title = soup.find('h1')\n",
    "        text_body = soup.article.find_all([\"p\", \"h2\"], recursive=False)\n",
    "        return (text_title, text_body)\n",
    "\n",
    "\n",
    "#-----------------------------------------------------\n",
    "def scrape_articles(dict_links):\n",
    "    themes = dict_links.keys()\n",
    "    for theme in themes:\n",
    "        create_folder(os.path.join('corpus', theme))\n",
    "        print(\"processing:\", theme)\n",
    "        for i in tqdm(range(len(dict_links[theme]))):\n",
    "            link = dict_links[theme][i]\n",
    "            fn = extract_clean_subname(link)\n",
    "            single_page = get_single_page(link)\n",
    "            # Add metadata with link, title, eventually tags\n",
    "            title = single_page[0].get_text()\n",
    "            #formatted_title = title.encode('utf-8').decode('unicode_escape')\n",
    "            formatted_title = title\n",
    "            data = {\n",
    "                \"link\": f\"{link}\",\n",
    "                \"title\": f\"{formatted_title}\"\n",
    "                }\n",
    "            if single_page is not None:\n",
    "                with open((os.path.join('corpus', theme, fn + '.txt')), 'w', encoding=\"utf-8\") as f:\n",
    "                    # f.write(dict_links[theme][i] + \"\\n\" * 2)\n",
    "                    f.write(single_page[0].get_text() + \"\\n\")\n",
    "                    for line in single_page[1]:\n",
    "                        f.write(line.get_text() + \"\\n\")\n",
    "                with open((os.path.join('corpus', theme, fn + '.meta')), 'w', encoding=\"utf-8\") as f:\n",
    "                    json.dump(data, f)\n",
    "\n",
    "\n",
    "#-----------------------------------------------------\n",
    "def cr_corpus_dict(path_corpus, n_files=1000):\n",
    "    dict_corpus = defaultdict(list)\n",
    "    themes = os.listdir(path_corpus)\n",
    "    for theme in themes:\n",
    "        counter = 0\n",
    "        if not theme.startswith('.'):\n",
    "            theme_directory = os.path.join(path_corpus, theme)\n",
    "            for file in os.listdir(theme_directory):\n",
    "                if counter < n_files:\n",
    "                    path_file = os.path.join(theme_directory, file)\n",
    "                    text = read_file(path_file)\n",
    "                    dict_corpus[\"label\"].append(theme)\n",
    "                    dict_corpus[\"text\"].append(text)\n",
    "                counter += 1\n",
    "    return dict_corpus\n",
    "\n",
    "\n",
    "#-----------------------------------------------------\n",
    "def create_folder(path):\n",
    "    if not os.path.exists(path):\n",
    "        os.mkdir(path)\n",
    "    else:\n",
    "        print(\"folder exists already\")\n",
    "\n",
    "#-----------------------------------------------------\n",
    "def erase_folder_contents(folder_path):\n",
    "    if os.path.exists(folder_path):\n",
    "        for filename in os.listdir(folder_path):\n",
    "            file_path = os.path.join(folder_path, filename)\n",
    "            try:\n",
    "                if os.path.isfile(file_path) or os.path.islink(file_path):\n",
    "                    os.unlink(file_path)\n",
    "                elif os.path.isdir(file_path):\n",
    "                    shutil.rmtree(file_path)\n",
    "            except Exception as e:\n",
    "                print(f\"Failed to delete {file_path}: {e}\")"
   ]
  },
  {
   "cell_type": "code",
   "execution_count": 3,
   "metadata": {},
   "outputs": [
    {
     "data": {
      "text/plain": [
       "{2025: ['https://www.lemonde.fr/archives-du-monde/09-02-2025/',\n",
       "  'https://www.lemonde.fr/archives-du-monde/10-02-2025/']}"
      ]
     },
     "execution_count": 3,
     "metadata": {},
     "output_type": "execute_result"
    }
   ],
   "source": [
    "\n",
    "# Get today's date\n",
    "today = datetime.today()\n",
    "yesterday = today - timedelta(days=1)\n",
    "\n",
    "# Print the results\n",
    "\n",
    "archive_links = create_archive_links(yesterday.year, today.year, \n",
    "                                        yesterday.month, today.month, \n",
    "                                        yesterday.day, today.day)\n",
    "archive_links"
   ]
  },
  {
   "cell_type": "code",
   "execution_count": 4,
   "metadata": {},
   "outputs": [
    {
     "name": "stdout",
     "output_type": "stream",
     "text": [
      "folder exists already\n"
     ]
    }
   ],
   "source": [
    "corpus_path = os.path.join(os.getcwd(), \"corpus_links\")\n",
    "create_folder(corpus_path)"
   ]
  },
  {
   "cell_type": "code",
   "execution_count": 5,
   "metadata": {},
   "outputs": [
    {
     "name": "stdout",
     "output_type": "stream",
     "text": [
      "processing:  2025\n"
     ]
    }
   ],
   "source": [
    "article_links = {}\n",
    "for year,links in archive_links.items():\n",
    "    print(\"processing: \",year)\n",
    "    article_links_list = get_articles_links(links)\n",
    "    article_links[year] = article_links_list\n",
    "    write_links(corpus_path,article_links_list,year)"
   ]
  },
  {
   "cell_type": "code",
   "execution_count": 6,
   "metadata": {},
   "outputs": [
    {
     "name": "stdout",
     "output_type": "stream",
     "text": [
      "35\n"
     ]
    },
    {
     "data": {
      "text/plain": [
       "['international',\n",
       " 'pixels',\n",
       " 'politique',\n",
       " 'politique',\n",
       " 'afrique',\n",
       " 'sport',\n",
       " 'les-decodeurs',\n",
       " 'societe',\n",
       " 'sport',\n",
       " 'culture',\n",
       " 'international',\n",
       " 'politique',\n",
       " 'societe',\n",
       " 'education',\n",
       " 'economie',\n",
       " 'sante',\n",
       " 'politique',\n",
       " 'international',\n",
       " 'afrique',\n",
       " 'societe',\n",
       " 'afrique',\n",
       " 'planete',\n",
       " 'societe',\n",
       " 'culture',\n",
       " 'afrique',\n",
       " 'politique',\n",
       " 'culture',\n",
       " 'politique',\n",
       " 'international',\n",
       " 'international',\n",
       " 'idees',\n",
       " 'sport',\n",
       " 'international',\n",
       " 'international',\n",
       " 'societe']"
      ]
     },
     "execution_count": 6,
     "metadata": {},
     "output_type": "execute_result"
    }
   ],
   "source": [
    "themes = []\n",
    "for link_list in article_links.values():\n",
    "    themes.extend(list_themes(link_list))\n",
    "print(len(themes))\n",
    "themes"
   ]
  },
  {
   "cell_type": "code",
   "execution_count": 7,
   "metadata": {},
   "outputs": [
    {
     "name": "stdout",
     "output_type": "stream",
     "text": [
      "[('international', 7), ('politique', 6), ('societe', 5), ('afrique', 4), ('sport', 3), ('culture', 3), ('pixels', 1), ('les-decodeurs', 1), ('education', 1), ('economie', 1), ('sante', 1), ('planete', 1), ('idees', 1)]\n"
     ]
    }
   ],
   "source": [
    "theme_stat = Counter(themes)\n",
    "theme_top = []\n",
    "for k,v in sorted(theme_stat.items(), key = lambda x:x[1], reverse=True):\n",
    "    #if v > 700:\n",
    "    theme_top.append((k, v))\n",
    "print(theme_top)"
   ]
  },
  {
   "cell_type": "code",
   "execution_count": 8,
   "metadata": {},
   "outputs": [
    {
     "data": {
      "text/plain": [
       "defaultdict(list,\n",
       "            {'international': ['https://www.lemonde.fr/international/article/2025/02/09/en-allemagne-olaf-scholz-et-friedrich-merz-s-affrontent-sur-l-immigration-et-l-extreme-droite_6539150_3210.html',\n",
       "              'https://www.lemonde.fr/international/article/2025/02/09/apres-avoir-rompu-leurs-liens-avec-le-reseau-russe-les-pays-baltes-achevent-leur-integration-au-reseau-electrique-de-l-ue_6538702_3210.html',\n",
       "              'https://www.lemonde.fr/international/article/2025/02/10/a-venise-la-ville-etend-sa-taxe-d-entree-pour-lutter-contre-le-surtourisme_6540684_3210.html',\n",
       "              'https://www.lemonde.fr/international/article/2025/02/10/gaza-donald-trump-declare-que-les-palestiniens-n-auraient-pas-de-droit-au-retour-dans-le-cadre-de-son-plan-pour-le-territoire_6540443_3210.html',\n",
       "              'https://www.lemonde.fr/international/article/2025/02/10/au-royaume-uni-le-premier-ministre-effectue-un-test-public-de-depistage-du-vih_6540375_3210.html',\n",
       "              'https://www.lemonde.fr/international/article/2025/02/10/le-chef-de-l-etat-roumain-klaus-iohannis-annonce-sa-demission-deux-mois-apres-l-annulation-du-scrutin-presidentiel-en-raison-d-allegations-d-ingerence-russe_6540272_3210.html',\n",
       "              'https://www.lemonde.fr/international/article/2025/02/10/au-bangladesh-plus-de-1-300-personnes-arretees-dans-une-operation-de-police_6540238_3210.html'],\n",
       "             'politique': ['https://www.lemonde.fr/politique/article/2025/02/09/gerald-darmanin-estime-que-pour-2027-il-faudra-bien-un-processus-de-selection-et-peut-etre-une-primaire-dans-le-camp-d-emmanuel-macron_6539082_823448.html',\n",
       "              'https://www.lemonde.fr/politique/article/2025/02/09/gerald-darmanin-propose-d-accelerer-les-procedures-d-expulsion-en-supprimant-une-commission-ad-hoc_6539049_823448.html',\n",
       "              'https://www.lemonde.fr/politique/article/2025/02/09/droit-du-sol-le-ministre-de-l-economie-eric-lombard-estime-qu-il-n-y-a-pas-de-raison-de-durcir-les-regles_6538701_823448.html',\n",
       "              'https://www.lemonde.fr/politique/article/2025/02/10/conseil-constitutionnel-richard-ferrand-propose-a-la-presidence-de-l-institution-par-emmanuel-macron_6540685_823448.html',\n",
       "              'https://www.lemonde.fr/politique/article/2025/02/10/francois-bayrou-declenche-un-troisieme-49-3-sur-le-budget-de-la-secu-apres-l-echec-d-une-nouvelle-motion-de-censure_6540511_823448.html',\n",
       "              'https://www.lemonde.fr/politique/article/2025/02/10/mayotte-les-parlementaires-s-entendent-sur-un-texte-pour-la-reconstruction-de-l-archipel-devaste-par-le-cyclone-chido_6540445_823448.html'],\n",
       "             'societe': ['https://www.lemonde.fr/societe/article/2025/02/09/collegienne-de-11-ans-poignardee-en-essonne-la-police-procede-a-une-fouille-minutieuse-du-bois_6538841_3224.html',\n",
       "              'https://www.lemonde.fr/societe/article/2025/02/09/jack-lang-dit-avoir-ete-pousse-a-terre-lors-d-un-rassemblement-contre-la-pedocriminalite-une-enquete-ouverte-pour-violences-volontaires-en-reunion_6538600_3224.html',\n",
       "              'https://www.lemonde.fr/societe/article/2025/02/10/accusations-de-chantage-a-la-sextape-au-senat-proces-annule-apres-le-retrait-de-plainte-d-un-ex-senateur_6540615_3224.html',\n",
       "              'https://www.lemonde.fr/societe/article/2025/02/10/meurtre-de-louise-un-homme-et-une-femme-places-en-garde-a-vue_6540547_3224.html',\n",
       "              'https://www.lemonde.fr/societe/article/2025/02/10/a-paris-l-homme-qui-s-etait-attaque-a-trois-policiers-devant-la-prefecture-de-police-mis-en-examen_6540200_3224.html'],\n",
       "             'afrique': ['https://www.lemonde.fr/afrique/article/2025/02/09/en-libye-vingt-huit-corps-de-migrants-exhumes-d-une-fosse-commune_6539015_3212.html',\n",
       "              'https://www.lemonde.fr/afrique/article/2025/02/10/en-afrique-du-sud-le-malaise-des-nationalistes-afrikaners-invites-a-l-exil-par-donald-trump_6540648_3212.html',\n",
       "              'https://www.lemonde.fr/afrique/article/2025/02/10/en-tunisie-les-lgbt-aussi-sont-dans-le-viseur-de-la-justice_6540614_3212.html',\n",
       "              'https://www.lemonde.fr/afrique/article/2025/02/10/en-cote-d-ivoire-la-course-presidentielle-se-lance-dans-le-plus-grand-flou_6540545_3212.html'],\n",
       "             'sport': ['https://www.lemonde.fr/sport/article/2025/02/09/tournoi-des-six-nations-l-irlande-se-defait-de-l-ecosse-et-continue-son-sans-faute_6538913_3242.html',\n",
       "              'https://www.lemonde.fr/sport/article/2025/02/09/tennis-cinq-mois-plus-tard-caroline-garcia-retrouve-le-gout-de-la-victoire_6538839_3242.html',\n",
       "              'https://www.lemonde.fr/sport/article/2025/02/10/le-cio-vise-par-une-plainte-de-la-federation-internationale-de-boxe-pour-la-participation-d-imane-khelif-et-de-lin-yu-ting-aux-jo-de-paris_6540306_3242.html'],\n",
       "             'culture': ['https://www.lemonde.fr/culture/article/2025/02/09/oligarques-le-gang-de-poutine-sur-arte-le-grand-retour-des-boyards-hommes-forts-du-president-russe_6538838_3246.html',\n",
       "              'https://www.lemonde.fr/culture/article/2025/02/10/l-intelligence-artificielle-au-c-ur-d-une-soiree-speciale-sur-france-2-pour-casser-le-mythe_6540546_3246.html',\n",
       "              'https://www.lemonde.fr/culture/article/2025/02/10/ces-mathematiciens-qui-firent-plier-le-kremlin-sur-lcp-assemblee-nationale-une-internationale-dissidente-a-plusieurs-inconnu-e-s_6540478_3246.html'],\n",
       "             'pixels': ['https://www.lemonde.fr/pixels/article/2025/02/09/intelligence-artificielle-emmanuel-macron-annonce-des-investissements-en-france-de-109-milliards-d-euros-dans-les-prochaines-annees_6539115_4408996.html'],\n",
       "             'les-decodeurs': ['https://www.lemonde.fr/les-decodeurs/article/2025/02/09/ce-qu-il-ne-fallait-pas-rater-de-l-actualite-ce-week-end-trois-otages-israeliens-liberes-macron-s-exprime-avant-le-sommet-de-l-ia-les-pays-baltes-connectes-au-reseau-electrique-europeen_6538912_4355770.html'],\n",
       "             'education': ['https://www.lemonde.fr/education/article/2025/02/10/sport-a-l-ecole-elisabeth-borne-met-a-pied-olivier-girault-le-directeur-de-l-unss_6540790_1473685.html'],\n",
       "             'economie': ['https://www.lemonde.fr/economie/article/2025/02/10/greve-chez-lidl-france-l-intersyndicale-annonce-la-suspension-de-la-greve_6540721_3234.html'],\n",
       "             'sante': ['https://www.lemonde.fr/sante/article/2025/02/10/maladie-de-charcot-le-parlement-adopte-une-amelioration-de-la-prise-en-charge_6540687_1651302.html'],\n",
       "             'planete': ['https://www.lemonde.fr/planete/article/2025/02/10/l-etat-de-catastrophe-naturelle-reconnu-pour-112-communes-dans-l-ouest-apres-les-crues-de-janvier_6540580_3244.html'],\n",
       "             'idees': ['https://www.lemonde.fr/idees/article/2025/02/10/vu-par-tjeerd-royaards_6540307_3232.html']})"
      ]
     },
     "execution_count": 8,
     "metadata": {},
     "output_type": "execute_result"
    }
   ],
   "source": [
    "all_links = []\n",
    "for link_list in article_links.values():\n",
    "    all_links.extend(link_list)\n",
    "\n",
    "themes_top_five = [x[0] for x in theme_top]\n",
    "\n",
    "themes_top_five_links = classify_links(themes_top_five,all_links)\n",
    "themes_top_five_links"
   ]
  },
  {
   "cell_type": "code",
   "execution_count": 9,
   "metadata": {},
   "outputs": [
    {
     "data": {
      "text/plain": [
       "'https://www.lemonde.fr/international/article/2025/02/09/en-allemagne-olaf-scholz-et-friedrich-merz-s-affrontent-sur-l-immigration-et-l-extreme-droite_6539150_3210.html'"
      ]
     },
     "execution_count": 9,
     "metadata": {},
     "output_type": "execute_result"
    }
   ],
   "source": [
    "first_links = next(iter(themes_top_five_links.values()))  # Gets the first value (list)\n",
    "first_links[0]"
   ]
  },
  {
   "cell_type": "code",
   "execution_count": 10,
   "metadata": {},
   "outputs": [],
   "source": [
    "url = first_links[0]\n",
    "try:\n",
    "    html = urlopen(url)\n",
    "except HTTPError as e:\n",
    "    print(\"url not valid\", url)\n",
    "else:\n",
    "    soup = BeautifulSoup(html, \"html.parser\")\n",
    "with open('soup.txt', 'w', encoding=\"utf-8\") as f:\n",
    "    f.write(str(soup))"
   ]
  },
  {
   "cell_type": "code",
   "execution_count": 11,
   "metadata": {},
   "outputs": [
    {
     "data": {
      "text/plain": [
       "[]"
      ]
     },
     "execution_count": 11,
     "metadata": {},
     "output_type": "execute_result"
    }
   ],
   "source": [
    "tags = soup.find_all(['tags'], recursive=False)\n",
    "tags"
   ]
  },
  {
   "cell_type": "code",
   "execution_count": 12,
   "metadata": {},
   "outputs": [
    {
     "data": {
      "text/plain": [
       "[<p class=\"article__paragraph\">Le chancelier allemand, Olaf Scholz, a reproché, dimanche 9 février, à son rival conservateur Friedrich Merz d’avoir <em>« trahi sa parole »</em> en présentant au Parlement des textes soutenus par l’extrême droite, lors d’un duel télévisé, avant les élections législatives prévues pour le 23 février 2025.</p>,\n",
       " <p class=\"article__paragraph\">Lors de ce premier débat entre le dirigeant social-démocrate et le favori pour lui succéder à la chancellerie, Olaf Scholz a estimé que la manœuvre de M. Merz avait <em>« brisé un tabou »</em> dans la politique allemande, et qu’il avait, en conséquence, <em>« perdu confiance »</em> dans les engagements de son adversaire.</p>,\n",
       " <p class=\"article__paragraph\">Après que les conservateurs ont fait adopter fin janvier une motion sur la politique migratoire avec le soutien du parti d’extrême droite Alternative für Deutschland (AfD), <em>« personne ne peut dire de quoi l’avenir sera fait lorsque les choses redeviendront difficiles »</em>, a lancé M. Scholz à son adversaire.</p>,\n",
       " <p class=\"article__paragraph\">Friedrich Merz a, lui, de nouveau rejeté toute idée d’alliance avec l’AfD, deuxième dans les sondages, derrière les conservateurs, et devant le Parti social-démocrate (SPD) du chancelier. Une telle collaboration <em>« n’aura pas lieu »</em>, a martelé Friedrich Merz car selon lui <em>« il n’y a pas de terrain d’entente »</em> possible entre sa formation et le parti d’extrême droite que tout <em>« sépare »,</em> sur des questions de fond comme <em>« l’Europe, l’OTAN, l’euro, la Russie, l’Amérique »</em>.</p>,\n",
       " <p class=\"article__paragraph\">Le camp conservateur CDU/CSU<a href=\"https://www.lemonde.fr/international/article/2025/01/29/en-allemagne-la-cdu-fait-sauter-le-cordon-sanitaire-avec-l-extreme-droite_6522492_3210.html\"> a provoqué une onde de choc politique</a> en s’appuyant sur l’AfD pour faire adopter le 29 janvier au Bundestag une motion non contraignante, visant à bloquer tous les étrangers sans papiers à la frontière, y compris les demandeurs d’asile. Deux jours plus tard, il a échoué de peu à faire passer un texte de loi sur l’immigration avec les voix de l’AfD.</p>,\n",
       " <h2 class=\"article__sub-title\">« Comment peut-on être aussi stupide ? »</h2>,\n",
       " <p class=\"article__paragraph\">La politique migratoire a occupé une place importante dans ce premier débat télévisé entre Olaf Scholz et Friedrich Merz, qui ont opté pour un ton particulièrement offensif.</p>,\n",
       " <p class=\"article__paragraph\"><em>« Comment peut-on être aussi stupide ? »,</em> s’est emporté le chancelier à propos de certaines des propositions de son adversaire sur les questions d’asile. Il lui a reproché de risquer <em>« une crise européenne »</em> en prônant une fermeture des frontières allemandes aux demandeurs d’asile.</p>,\n",
       " <p class=\"article__paragraph\">Olaf Scholz a assuré que sous la coalition qu’il a dirigée depuis fin 2021, <em>« il n’y a jamais eu de lois plus sévères »</em> sur l’immigration.</p>,\n",
       " <p class=\"article__paragraph\"><em>« Vous ne vivez pas dans ce monde, ce que vous racontez ici est un conte de fées qui n’a presque rien à voir avec ce qui se passe dans la réalité des villes et des communes d’Allemagne »</em>, a rétorqué son rival conservateur.</p>,\n",
       " <p class=\"article__paragraph\">En politique étrangère, les deux hommes se sont trouvés moins éloignés, notamment sur le conflit au Proche-Orient. Le chancelier allemand a qualifié de <em>« scandale »</em> la proposition du président américain, Donald Trump, prévoyant notamment un contrôle américain de la bande de Gaza et le déplacement des Palestiniens. <em>« Le déplacement de population est inacceptable et contraire au droit international »</em>, a rappelé Olaf Scholz. <em>« Je partage cette appréciation »</em>, a abondé Friedrich Merz, ajoutant toutefois : <em>« Il faut attendre de voir ce qui est vraiment sérieux et comment cela sera mis en œuvre. Il y a probablement aussi beaucoup de rhétorique. »</em></p>,\n",
       " <p class=\"article__paragraph\"></p>]"
      ]
     },
     "execution_count": 12,
     "metadata": {},
     "output_type": "execute_result"
    }
   ],
   "source": [
    "paragraphs = soup.article.find_all([\"p\", \"h2\"], recursive=False)\n",
    "paragraphs"
   ]
  },
  {
   "cell_type": "code",
   "execution_count": 13,
   "metadata": {},
   "outputs": [
    {
     "name": "stdout",
     "output_type": "stream",
     "text": [
      "processing: international\n"
     ]
    },
    {
     "name": "stderr",
     "output_type": "stream",
     "text": [
      "100%|██████████| 7/7 [00:04<00:00,  1.75it/s]\n"
     ]
    },
    {
     "name": "stdout",
     "output_type": "stream",
     "text": [
      "processing: politique\n"
     ]
    },
    {
     "name": "stderr",
     "output_type": "stream",
     "text": [
      "100%|██████████| 6/6 [00:03<00:00,  1.70it/s]\n"
     ]
    },
    {
     "name": "stdout",
     "output_type": "stream",
     "text": [
      "processing: societe\n"
     ]
    },
    {
     "name": "stderr",
     "output_type": "stream",
     "text": [
      "100%|██████████| 5/5 [00:02<00:00,  1.81it/s]\n"
     ]
    },
    {
     "name": "stdout",
     "output_type": "stream",
     "text": [
      "processing: afrique\n"
     ]
    },
    {
     "name": "stderr",
     "output_type": "stream",
     "text": [
      "100%|██████████| 4/4 [00:02<00:00,  1.86it/s]\n"
     ]
    },
    {
     "name": "stdout",
     "output_type": "stream",
     "text": [
      "processing: sport\n"
     ]
    },
    {
     "name": "stderr",
     "output_type": "stream",
     "text": [
      "100%|██████████| 3/3 [00:01<00:00,  1.92it/s]\n"
     ]
    },
    {
     "name": "stdout",
     "output_type": "stream",
     "text": [
      "processing: culture\n"
     ]
    },
    {
     "name": "stderr",
     "output_type": "stream",
     "text": [
      "100%|██████████| 3/3 [00:01<00:00,  1.90it/s]\n"
     ]
    },
    {
     "name": "stdout",
     "output_type": "stream",
     "text": [
      "processing: pixels\n"
     ]
    },
    {
     "name": "stderr",
     "output_type": "stream",
     "text": [
      "100%|██████████| 1/1 [00:00<00:00,  1.88it/s]\n"
     ]
    },
    {
     "name": "stdout",
     "output_type": "stream",
     "text": [
      "processing: les-decodeurs\n"
     ]
    },
    {
     "name": "stderr",
     "output_type": "stream",
     "text": [
      "100%|██████████| 1/1 [00:00<00:00,  1.47it/s]\n"
     ]
    },
    {
     "name": "stdout",
     "output_type": "stream",
     "text": [
      "processing: education\n"
     ]
    },
    {
     "name": "stderr",
     "output_type": "stream",
     "text": [
      "100%|██████████| 1/1 [00:00<00:00,  1.49it/s]\n"
     ]
    },
    {
     "name": "stdout",
     "output_type": "stream",
     "text": [
      "processing: economie\n"
     ]
    },
    {
     "name": "stderr",
     "output_type": "stream",
     "text": [
      "100%|██████████| 1/1 [00:00<00:00,  1.64it/s]\n"
     ]
    },
    {
     "name": "stdout",
     "output_type": "stream",
     "text": [
      "processing: sante\n"
     ]
    },
    {
     "name": "stderr",
     "output_type": "stream",
     "text": [
      "100%|██████████| 1/1 [00:00<00:00,  1.53it/s]\n"
     ]
    },
    {
     "name": "stdout",
     "output_type": "stream",
     "text": [
      "processing: planete\n"
     ]
    },
    {
     "name": "stderr",
     "output_type": "stream",
     "text": [
      "100%|██████████| 1/1 [00:01<00:00,  1.02s/it]\n"
     ]
    },
    {
     "name": "stdout",
     "output_type": "stream",
     "text": [
      "processing: idees\n"
     ]
    },
    {
     "name": "stderr",
     "output_type": "stream",
     "text": [
      "100%|██████████| 1/1 [00:00<00:00,  1.40it/s]\n"
     ]
    }
   ],
   "source": [
    "erase_folder_contents('corpus')\n",
    "create_folder('corpus')\n",
    "\n",
    "scrape_articles(themes_top_five_links)\n"
   ]
  },
  {
   "cell_type": "code",
   "execution_count": 14,
   "metadata": {},
   "outputs": [
    {
     "data": {
      "text/plain": [
       "defaultdict(list,\n",
       "            {'label': ['afrique',\n",
       "              'afrique',\n",
       "              'afrique',\n",
       "              'afrique',\n",
       "              'afrique',\n",
       "              'afrique',\n",
       "              'afrique',\n",
       "              'afrique',\n",
       "              'culture',\n",
       "              'culture',\n",
       "              'culture',\n",
       "              'culture',\n",
       "              'culture',\n",
       "              'culture',\n",
       "              'economie',\n",
       "              'economie',\n",
       "              'education',\n",
       "              'education',\n",
       "              'idees',\n",
       "              'idees',\n",
       "              'international',\n",
       "              'international',\n",
       "              'international',\n",
       "              'international',\n",
       "              'international',\n",
       "              'international',\n",
       "              'international',\n",
       "              'international',\n",
       "              'international',\n",
       "              'international',\n",
       "              'international',\n",
       "              'international',\n",
       "              'international',\n",
       "              'international',\n",
       "              'les-decodeurs',\n",
       "              'les-decodeurs',\n",
       "              'pixels',\n",
       "              'pixels',\n",
       "              'planete',\n",
       "              'planete',\n",
       "              'politique',\n",
       "              'politique',\n",
       "              'politique',\n",
       "              'politique',\n",
       "              'politique',\n",
       "              'politique',\n",
       "              'politique',\n",
       "              'politique',\n",
       "              'politique',\n",
       "              'politique',\n",
       "              'politique',\n",
       "              'politique',\n",
       "              'sante',\n",
       "              'sante',\n",
       "              'societe',\n",
       "              'societe',\n",
       "              'societe',\n",
       "              'societe',\n",
       "              'societe',\n",
       "              'societe',\n",
       "              'societe',\n",
       "              'societe',\n",
       "              'societe',\n",
       "              'societe',\n",
       "              'sport',\n",
       "              'sport',\n",
       "              'sport',\n",
       "              'sport',\n",
       "              'sport',\n",
       "              'sport'],\n",
       "             'text': ['{\"link\": \"https://www.lemonde.fr/afrique/article/2025/02/10/en-afrique-du-sud-le-malaise-des-nationalistes-afrikaners-invites-a-l-exil-par-donald-trump_6540648_3212.html\", \"title\": \"En Afrique du Sud, le malaise des nationalistes afrikaners invit\\\\u00e9s \\\\u00e0 l\\\\u2019exil par Donald Trump\"}',\n",
       "              'En Afrique du Sud, le malaise des nationalistes afrikaners invitÃ©s Ã\\xa0 lâ€™exil par Donald Trump\\nTout bien rÃ©flÃ©chi, les nationalistes afrikaners ne sont pas si mal chez eux, en Afrique du Sud. Certes, depuis des annÃ©es, une partie de la communautÃ© blanche descendant des premiers colons nÃ©erlandais, franÃ§ais et allemands crie aux discriminations, pointant du doigt les politiques de Â«Â\\xa0transformationÂ\\xa0Â» du gouvernement sud-africain destinÃ©es Ã\\xa0 corriger les inÃ©galitÃ©s issues de lâ€™apartheid. Sa frange la plus radicale a agitÃ© le spectre dâ€™un Â«Â\\xa0gÃ©nocide blancÂ\\xa0Â» au regard des meurtres â€“ bien rÃ©els â€“ de fermiers blancs, qui reflÃ¨tent un problÃ¨me dâ€™insÃ©curitÃ© plus global dans le pays.\\nEmbrassant soudainement leur cause, le prÃ©sident amÃ©ricain, Donald Trump, leur a offert lâ€™asile dans un dÃ©cret publiÃ© vendredi 7Â\\xa0fÃ©vrier, annonÃ§ant Ã©galement la suspension de toutes les aides amÃ©ricaines Ã\\xa0 destination de lâ€™Afrique du Sud, accusÃ©e de Â«Â\\xa0violation des droits humainsÂ\\xa0Â» et de Â«Â\\xa0nuire Ã\\xa0 la politique Ã©trangÃ¨re amÃ©ricaineÂ\\xa0Â». En plus de reprocher Ã\\xa0 lâ€™Afrique du Sud sa plainte contre IsraÃ«l auprÃ¨s de la Cour internationale de justice ou sa proximitÃ© avec lâ€™Iran, le dÃ©cret dÃ©nonce ses politiques de discrimination positive ainsi que lâ€™adoption dâ€™une loi qui viserait Ã\\xa0 Â«Â\\xa0permettre au gouvernement de saisir les propriÃ©tÃ©s agricoles de la minoritÃ© ethnique afrikaner sans compensationÂ\\xa0Â».\\nÂ«Â\\xa0Merci, mais non merciÂ\\xa0Â», a rÃ©pondu, en substance, le principal lobby afrikaner, exposant les limites de sa rhÃ©torique anxiogÃ¨ne. Â«Â\\xa0Nous devons le dire catÃ©goriquement, nous ne voulons pas partir ailleurs, nous ne demanderons pas Ã\\xa0 nos enfants de dÃ©mÃ©nager dans un autre paysÂ\\xa0Â», a dÃ©clarÃ© samedi Kallie Kriel, le prÃ©sident dâ€™AfriForum. Â«Â\\xa0Nous sommes originaires dâ€™ici et nous nâ€™irons nulle partÂ\\xa0Â», a-t-il poursuivi, tout en prÃ©cisant Â«Â\\xa0apprÃ©cierÂ\\xa0Â» la Â«Â\\xa0reconnaissance des discriminations que vivent les AfrikanersÂ\\xa0Â».\\nÂ«Â\\xa0Ce que nous voulons, câ€™est la libertÃ©. Nous ne sommes pas des rÃ©fugiÃ©sÂ\\xa0Â», a Ã©galement rÃ©agi le leader du mouvement Orania, Joost Strydom, sur le rÃ©seau social X. InstallÃ©e dans la rÃ©gion du Karoo, au centre de lâ€™Afrique du Sud, Orania est une communautÃ© sÃ©paratiste blanche qui milite pour la crÃ©ation dâ€™un Etat afrikaner indÃ©pendant. Si aucune rÃ¨gle ne bannit formellement les Noirs de la communautÃ© â€“ conformÃ©ment Ã\\xa0 la Constitution sud-africaine â€“, elle est, de fait, exclusivement blanche.\\nÂ«Â\\xa0DÃ©sinformationÂ\\xa0Â»\\nLa chambre de commerce sud-africaine aux Etats-Unis a de son cÃ´tÃ© assurÃ© Ã\\xa0 lâ€™Agence France-Presse (AFP) avoir reÃ§u 5Â\\xa0000Â\\xa0inscriptions en vingt-quatre heures aprÃ¨s la mise en place dâ€™une plate-forme dâ€™information sur le dÃ©cret du 7Â\\xa0fÃ©vrier baptisÃ©e Â«Â\\xa0Refugee UpdateÂ\\xa0Â» â€“ un chiffre Ã\\xa0 mettre en perspective avec les 6Â\\xa0millions de Sud-Africains dont la langue principale est lâ€™afrikaans (parlÃ© par la communautÃ© afrikaner et la minoritÃ© Â«Â\\xa0colouredÂ\\xa0Â»), dâ€™aprÃ¨s le recensement de 2022.\\nDans un communiquÃ©, le ministÃ¨re sud-africain des affaires Ã©trangÃ¨res a expliquÃ© avoir Â«Â\\xa0pris noteÂ\\xa0Â» de la dÃ©cision de Donald Trump, qui fait suite Ã\\xa0 une sÃ©rie dâ€™attaques lancÃ©es par le prÃ©sident amÃ©ricain le 2Â\\xa0fÃ©vrier et relayÃ©es par le milliardaire Elon Musk, originaire dâ€™Afrique du Sud, et par le secrÃ©taire dâ€™Etat Marco Rubio. DÃ©nonÃ§ant une Â«Â\\xa0campagne de dÃ©sinformationÂ\\xa0Â», le gouvernement sud-africain sâ€™est dit Â«Â\\xa0trÃ¨s prÃ©occupÃ©Â\\xa0Â» par le fait que le dÃ©cret sâ€™appuie sur Â«Â\\xa0une hypothÃ¨se qui manque dâ€™exactitude et ne reconnaÃ®t pas lâ€™histoire profonde et douloureuse du colonialisme et de lâ€™apartheidÂ\\xa0Â». Il souligne Ã©galement Â«Â\\xa0lâ€™ironieÂ\\xa0Â» qui consiste Ã\\xa0 offrir le statut de rÃ©fugiÃ© Ã\\xa0 Â«Â\\xa0un groupe qui reste parmi les plus privilÃ©giÃ©s en Afrique du SudÂ\\xa0Â».\\nLa minoritÃ© blanche, partagÃ©e essentiellement entre les Afrikaners et les descendants de colons de langue anglaise, reprÃ©sente 7Â\\xa0% de la population sud-africaine. Elle est en effet largement surreprÃ©sentÃ©e parmi les catÃ©gories les plus aisÃ©es du pays. Dâ€™aprÃ¨s le Laboratoire sur les inÃ©galitÃ©s mondiales, prÃ¨s de la moitiÃ© des 10Â\\xa0% des Sud-Africains aux revenus les plus Ã©levÃ©s appartient Ã\\xa0 cette communautÃ©. Il en va de mÃªme pour la question fonciÃ¨reÂ\\xa0: trente aprÃ¨s la fin de lâ€™apartheid, 72Â\\xa0% des terres agricoles sont encore aux mains de fermiers blancs, dâ€™aprÃ¨s un audit rÃ©alisÃ© par le gouvernement enÂ\\xa02017.\\nCâ€™est sur la base de ce constat, qui consacre lâ€™Afrique du Sud comme le pays le plus inÃ©galitaire au monde, que le CongrÃ¨s national africain (ANC) a fait de ce quâ€™il appelle les Â«Â\\xa0politiques de transformationÂ\\xa0Â» la clÃ© de voÃ»te de son programme depuis son arrivÃ©e au pouvoir avec lâ€™Ã©lection de Nelson Mandela, enÂ\\xa01994. Ironie de lâ€™histoire, lâ€™ANC est critiquÃ© par sa base pour la lenteur de la Â«Â\\xa0transformationÂ\\xa0Â» de lâ€™Afrique du Sud post-apartheid et les inÃ©galitÃ©s persistantes. Câ€™est lâ€™une des raisons pour lesquelles le parti a essuyÃ© un revers historique Ã\\xa0 lâ€™issue des Ã©lections de maiÂ\\xa02024. Perdant pour la premiÃ¨re fois sa majoritÃ© absolue Ã\\xa0 lâ€™AssemblÃ©e nationale, il a Ã©tÃ© contraint de former une large coalition pour conserver le pouvoir.\\nTour de force\\nAdoptÃ©e deux mois avant les Ã©lections, la loi sur lâ€™expropriation signÃ©e par le prÃ©sident Cyril Ramaphosa est lâ€™une de ces mesures destinÃ©es Ã\\xa0 Â«Â\\xa0promouvoir lâ€™inclusivitÃ©Â\\xa0Â». Mais si elle permet dâ€™exproprier des terres sans compensation sous certaines conditions, tous les spÃ©cialistes sâ€™accordent pour dire quâ€™elle exclut un scÃ©nario de saisies de terres Ã\\xa0 grande Ã©chelle, comme ce fut le cas au dÃ©but des annÃ©es 2000 au Zimbabwe, alors dirigÃ© par Robert Mugabe. Â«Â\\xa0Nous nâ€™avons pas accusÃ© le gouvernement de sâ€™Ãªtre livrÃ© Ã\\xa0 des accaparements de terres Ã\\xa0 grande Ã©chelle fondÃ©s sur la race, ni diffusÃ© de fausses informations Ã\\xa0 cet Ã©gardÂ\\xa0Â», sâ€™est dâ€™ailleurs dÃ©fendu Flip Buys, le prÃ©sident du mouvement afrikaner Solidariteit, dont fait partie AfriForum.\\nCe dernier a envoyÃ© plusieurs dÃ©lÃ©gations aux Etats-Unis, ces derniÃ¨res annÃ©es, pour sensibiliser les Ã©lus rÃ©publicains, notamment, aux Â«Â\\xa0discriminationsÂ\\xa0Â» dont serait victime la communautÃ© afrikaner. Visiblement dÃ©passÃ© par la tournure des Ã©vÃ©nements, il assure aujourdâ€™hui ne pas Â«Â\\xa0avoir demandÃ© de sanctions contre lâ€™Afrique du Sud, ni de suspension des fonds du gouvernement amÃ©ricain destinÃ©s aux personnes vulnÃ©rablesÂ\\xa0Â».Â\\xa0Le mouvement a expliquÃ© quâ€™il se rendrait aux Etats-Unis dâ€™ici Ã\\xa0 la fin du mois pour rencontrer des reprÃ©sentants de la Maison Blanche et Â«Â\\xa0replacer la situation en Afrique du Sud dans son contexteÂ\\xa0Â».\\nÂ«Â\\xa0Il nâ€™est pas vrai que la loi autorise la saisie arbitraire de terres par lâ€™EtatÂ\\xa0Â», a Ã©galement dÃ©fendu lâ€™Alliance dÃ©mocratique (DA), rivale historique de lâ€™ANC devenu son principal alliÃ© au sein du gouvernement dâ€™union nationale, pourtant opposÃ©e Ã\\xa0 la loi sur lâ€™expropriation. Câ€™est le tour de force de Donald TrumpÂ\\xa0: alors que les deux principaux partis sud-africains se chamaillent rÃ©guliÃ¨rement depuis lâ€™entame de leur cohabitation au pouvoir, le dÃ©cret amÃ©ricain, qui soulÃ¨ve de profondes inquiÃ©tudes sur lâ€™avenir des relations commerciales entre lâ€™Afrique du Sud et les Etats-Unis, est parvenu Ã\\xa0 souder comme jamais le gouvernement dâ€™union nationale.\\n',\n",
       "              '{\"link\": \"https://www.lemonde.fr/afrique/article/2025/02/10/en-cote-d-ivoire-la-course-presidentielle-se-lance-dans-le-plus-grand-flou_6540545_3212.html\", \"title\": \"En C\\\\u00f4te d\\\\u2019Ivoire, la course pr\\\\u00e9sidentielle se lance dans le plus grand flou\"}',\n",
       "              'En CÃ´te dâ€™Ivoire, la course prÃ©sidentielle se lance dans le plus grand flou\\nCela ressemble Ã\\xa0 une entrÃ©e en prÃ©campagne classique en CÃ´te dâ€™Ivoire. A un peu plus de huit mois du premier tour de lâ€™Ã©lection prÃ©sidentielle prÃ©vu le 25Â\\xa0octobre, une demi-douzaine de candidats dÃ©clarÃ©s ont commencÃ© Ã\\xa0 aller Ã\\xa0 la rencontre de leurs Ã©lecteurs putatifs.\\nSamedi 8Â\\xa0fÃ©vrier, Laurent Gbagbo, qui souhaite retrouver la prÃ©sidence quâ€™il avait dÃ» quitter pour la prison, et lâ€™homme dâ€™affaires Jean-Louis Billon, qui tente de sâ€™imposer comme candidat du Parti dÃ©mocratique de CÃ´te dâ€™Ivoire (PDCI), ont chacun rÃ©uni leurs partisans Ã\\xa0 Abidjan. Le mÃªme jour, lâ€™ancien banquier Tidjane Thiam, devenu prÃ©sident du PDCI, a rencontrÃ© les enseignants adhÃ©rents du parti Ã\\xa0 Yamoussoukro, la capitale administrative.\\nCharles BlÃ© GoudÃ©, ex-ministre et compagnon de cellule de Laurent Gbagbo, a pour sa part annoncÃ© une tournÃ©e dans le nord du pays du 20 au 24Â\\xa0fÃ©vrier, tandis que son ancien camarade puis ennemi, lâ€™ex-rebelle Guillaume Soro â€“ toujours en exil â€“, a dÃ©clarÃ© son ambition de briguer la magistrature suprÃªme. Une intention dÃ©jÃ\\xa0 formulÃ©e par lâ€™ex-premiÃ¨re dame Simone Ehivet Gbagbo et par le prÃ©sident de son ancien parti, le Front populaire ivoirien (FPI), Pascal Affi Nâ€™Guessan.\\nTient-on lÃ\\xa0, dÃ©jÃ\\xa0, le casting final du scrutinÂ\\xa0? SÃ»rement pas. La galerie des prÃ©tendants est encore incomplÃ¨te. Le PDCI doit se rÃ©unir en convention pour choisir son champion, et Laurent Gbagbo, Charles BlÃ© GoudÃ© et Guillaume Soro sont tous les trois inÃ©ligibles en raison des condamnations judiciaires qui pÃ¨sent sur eux Ã\\xa0 la suite de la crise post-Ã©lectorale de 2010-2011. Quant au prÃ©sident sortant, Alassane Ouattara, 83Â\\xa0ans, il conserve soigneusement le mystÃ¨re sur son avenir.\\nCes derniers mois, plusieurs meetings de militants du Rassemblement des houphouÃ«tistes pour la dÃ©mocratie et la paix (RHDP, au pouvoir) ont eu lieu Ã\\xa0 lâ€™intÃ©rieur du pays pour exhorter le chef de lâ€™Etat Ã\\xa0 se reprÃ©senter pour un quatriÃ¨me mandat. Mais celui-ci mÃ©nage le suspense. Le 9Â\\xa0janvier, il sâ€™est dit Â«Â\\xa0dÃ©sireux de continuer Ã\\xa0 servirÂ\\xa0Â» son pays â€“ tout en assurant ne pas avoir pris de dÃ©cision â€“ et a suggÃ©rÃ©, sans les nommer, que son parti avait Â«Â\\xa0au moins une demi-douzaineÂ\\xa0Â» de dauphins potentiels. Aucun nâ€™a pourtant rÃ©ellement affirmÃ© son ambition et, dans lâ€™entourage du prÃ©sident, certains avancent nâ€™avoir Â«Â\\xa0que luiÂ\\xa0Â» pour la victoire.\\nÂ«Â\\xa0MicmacsÂ\\xa0Â»\\nDÃ¨s lors, si Alassane Ouattara se porte candidat Ã\\xa0 sa propre succession, se posera forcÃ©ment la question dâ€™un dernier affrontement dans les urnes avec Laurent Gbagbo, 80Â\\xa0ans en mai. Pour le lancement de sa campagne Â«Â\\xa0CÃ´cÃ´cÃ´Â\\xa0Â» (Ã©quivalent ivoirien de lâ€™onomatopÃ©e Â«Â\\xa0Toc toc tocÂ\\xa0Â»), le prÃ©sident du Parti des peuples africains-CÃ´te dâ€™Ivoire (PPA-CI), qui attend une loi dâ€™amnistie pour pouvoir concourir, a appelÃ© Ã\\xa0 Â«Â\\xa0cesser les micmacs qui se font en haut lieuÂ\\xa0Â».\\nTidjane Thiam, qui se trouve depuis une semaine au cÅ“ur dâ€™une controverse sur sa double nationalitÃ© franco-ivoirienne, ne dirait sÃ»rement pas mieux. La polÃ©mique est nÃ©e le 2Â\\xa0fÃ©vrier sur le plateau de la Nouvelle ChaÃ®ne ivoirienne (NCI) lorsque le politologue Arthur Banga, proche du pouvoir, a rappelÃ© que lâ€™ancien prÃ©sident du CrÃ©dit suisse nâ€™avait pas encore renoncÃ© Ã\\xa0 sa nationalitÃ© franÃ§aise, prÃ©requis pour briguer la magistrature suprÃªme. M.Â\\xa0Thiam, qui a officiellement dÃ©posÃ© une demande en ce sens Ã\\xa0 lâ€™ambassade de France Ã\\xa0 Abidjan vendredi, a dÃ©noncÃ© le lendemain Â«Â\\xa0une manipulation pour donner lâ€™impression dâ€™avoir agi sous la pressionÂ\\xa0Â».\\nSi les deux hommes se sont Ã©loignÃ©s, MM.Â\\xa0Thiam et Gbagbo sâ€™accordent sur lâ€™exigence dâ€™une rÃ©vision de la liste des Ã©lecteurs par la Commission Ã©lectorale indÃ©pendante (CEI) avant le scrutin. Son prÃ©sident, Ibrahime Coulibaly-Kuibiert, leur a rÃ©pondu indirectement, le 23Â\\xa0janvier, signalant que Â«Â\\xa0la loi ne dit pas que la rÃ©vision doit se faire avant les Ã©lectionsÂ\\xa0Â», mais seulement Â«Â\\xa0chaque annÃ©eÂ\\xa0Â». Celle-ci pourrait donc avoir lieu aprÃ¨s le vote, car, dit-il, Â«Â\\xa0pendant lâ€™annÃ©e Ã©lectorale, on Ã©vite de faire la rÃ©vision parce quâ€™il y a des impÃ©ratifsÂ\\xa0Â».\\nLa dÃ©claration a suscitÃ© un tollÃ© de lâ€™opposition, qui rappelle que les rÃ©visions de 2015 et de 2020 ont eu lieu avant le scrutin. La polÃ©mique a ensuite Ã©tÃ© amplifiÃ©e par le limogeage du conseiller spÃ©cial de la CEI, Antoine Adou, le 30Â\\xa0janvier, aprÃ¨s que ce dernier a plaidÃ© en interne en faveur de cette demande de rÃ©vision.\\nComme pour souligner cette crispation du climat politique, un incident a eu lieu jeudi au siÃ¨ge du PPA-CI. Six hommes ont Ã©tÃ© Ã©vacuÃ©s discrÃ¨tement du point de presse tenu par son porte-parole, Justin KonÃ© Katinan. Selon un communiquÃ© publiÃ© le lendemain par le parti de Laurent Gbagbo, il sâ€™agissait en rÃ©alitÃ© de deux policiers et quatre gendarmes en civil qui sâ€™Ã©taient fait passer pour des journalistes.\\n',\n",
       "              '{\"link\": \"https://www.lemonde.fr/afrique/article/2025/02/09/en-libye-vingt-huit-corps-de-migrants-exhumes-d-une-fosse-commune_6539015_3212.html\", \"title\": \"En Libye, vingt-huit corps de migrants exhum\\\\u00e9s d\\\\u2019une fosse commune\"}',\n",
       "              'En Libye, vingt-huit corps de migrants exhumÃ©s dâ€™une fosse commune\\nLes corps de vingt-huit migrants originaires dâ€™Afrique subsaharienne ont Ã©tÃ© retrouvÃ©s dans une fosse commune prÃ¨s dâ€™un centre de dÃ©tention Â«Â\\xa0illÃ©galÂ\\xa0Â», dans la rÃ©gion de Koufra, Ã\\xa0 lâ€™extrÃªme sud-est de la Libye, a annoncÃ© dimanche 9Â\\xa0fÃ©vrier le bureau du procureur gÃ©nÃ©ral libyen.\\nLes corps ont Ã©tÃ© retrouvÃ©s aprÃ¨s une opÃ©ration des forces de sÃ©curitÃ© dans ce centre tenu par un rÃ©seau de trafiquants dâ€™Ãªtres humains, oÃ¹ Ã©taient Â«Â\\xa0sÃ©questrÃ©sÂ\\xa0Â» soixante-seize migrants originaires dâ€™Afrique subsaharienne, a prÃ©cisÃ© la mÃªme source.\\nUne enquÃªte a permis dâ€™identifier lâ€™existence dâ€™une Â«Â\\xa0bande dont les membres sÃ©questraient des migrants irrÃ©guliers, les torturaient et les soumettaient Ã\\xa0 des traitements cruels, dÃ©gradants et inhumainsÂ\\xa0Â», a ajoutÃ© le bureau du procureur.\\nTrois personnes ont Ã©tÃ© arrÃªtÃ©es, un Libyen et deux Ã©trangers, a-t-il ajoutÃ© sans plus de dÃ©tails.\\nDes photos publiÃ©es dimanche sur les rÃ©seaux sociaux montraient des individus Ã©maciÃ©s portant des cicatrices sur le visage, les membres et le dos.\\nPlaque tournante du trafic dâ€™Ãªtres humains\\nLa Libye est plongÃ©e dans le chaos politique et sÃ©curitaire depuis la chute de Mouammar Kadhafi enÂ\\xa02011, Ã\\xa0 la suite dâ€™une rÃ©volte populaire.\\nGouvernÃ© par deux exÃ©cutifs rivaux â€“Â\\xa0lâ€™un Ã\\xa0 Tripoli (ouest), reconnu par lâ€™ONU, lâ€™autre Ã\\xa0 Benghazi (est), soutenu par le clan du marÃ©chal Khalifa HaftarÂ\\xa0â€“, le pays, situÃ© Ã\\xa0 environ 300 kilomÃ¨tres des cÃ´tes italiennes, est devenu lâ€™une des principales plaques tournantes du trafic dâ€™Ãªtres humains sur le continent.\\nDes dizaines de milliers de migrants dâ€™Afrique subsaharienne, en quÃªte de lâ€™eldorado europÃ©en, y sont la proie de trafiquants, quand ils ne meurent pas en tentant la pÃ©rilleuse traversÃ©e de la MÃ©diterranÃ©e.\\nFin janvier, le bureau du procureur gÃ©nÃ©ral, basÃ© Ã\\xa0 Tripoli, a ordonnÃ© lâ€™incarcÃ©ration de deux membres dâ€™une bande criminelle accusÃ©e de torture Ã\\xa0 lâ€™encontre de 263 migrants originaires dâ€™Afrique en situation irrÃ©guliÃ¨re, dans le but dâ€™extorquer des ranÃ§ons. Selon lui, la bande opÃ©rait dans un camp de rÃ©tention dans la zone dâ€™Al-Wahat, une rÃ©gion dÃ©sertique sous le contrÃ´le des forces du marÃ©chal Haftar, Ã\\xa0 environ 750 kilomÃ¨tres au sud-est de Tripoli.\\nEn marsÂ\\xa02024, une fosse commune contenant Â«Â\\xa0au moins 65 corps de migrantsÂ\\xa0Â» avait Ã©tÃ© dÃ©couverte dans le sud-ouest de la Libye, selon lâ€™Organisation internationale pour les migrations.\\n\\n',\n",
       "              '{\"link\": \"https://www.lemonde.fr/afrique/article/2025/02/10/en-tunisie-les-lgbt-aussi-sont-dans-le-viseur-de-la-justice_6540614_3212.html\", \"title\": \"En Tunisie, les LGBT+ aussi sont dans le viseur de la justice\"}',\n",
       "              \"An error occurred: 'charmap' codec can't decode byte 0x9d in position 6078: character maps to <undefined>\",\n",
       "              '{\"link\": \"https://www.lemonde.fr/culture/article/2025/02/10/ces-mathematiciens-qui-firent-plier-le-kremlin-sur-lcp-assemblee-nationale-une-internationale-dissidente-a-plusieurs-inconnu-e-s_6540478_3246.html\", \"title\": \"\\\\u00ab\\\\u00a0Ces math\\\\u00e9maticiens qui firent plier le Kremlin\\\\u00a0\\\\u00bb, sur LCP-Assembl\\\\u00e9e nationale\\\\u00a0: une internationale dissidente \\\\u00e0 plusieurs inconnu(e)s\"}',\n",
       "              'Â«Â\\xa0Ces mathÃ©maticiens qui firent plier le KremlinÂ\\xa0Â», sur LCP-AssemblÃ©e nationaleÂ\\xa0: une internationale dissidente Ã\\xa0 plusieurs inconnu(e)s\\nAzat Miftakhov, 31Â\\xa0ans, doctorant en mathÃ©matiques Ã\\xa0 lâ€™universitÃ© de Moscou, nâ€™a connu que quelques minutes de libertÃ©, en septembreÂ\\xa02023, entre sa sortie de prison et le tribunal qui lâ€™a, Ã\\xa0 nouveau, condamnÃ©. Le sort de ce dissident a suscitÃ© le soutien de la communautÃ© internationale et en particulier de collÃ¨gues mathÃ©maticiens.\\nSon cas rÃ©sonne avec celui de Leonid Pliouchtch (1939-2015) enÂ\\xa01972, objet du documentaire Ces mathÃ©maticiens qui firent plier le Kremlin. Cet Ukrainien qui contestait les dÃ©rives du rÃ©gime soviÃ©tique, eut lui aussi le soutien international de la communautÃ© mathÃ©matique, Ã\\xa0 lâ€™initiative de Michel BrouÃ©, tÃ©moin principal du film de Mathieu Schwartz, et qui se dÃ©pense aussi aujourdâ€™hui pour la libÃ©ration dâ€™Azat Miftakhov.\\nLâ€™engagement des mathÃ©maticiens pour la dÃ©fense de la libertÃ© dâ€™expression nâ€™est pas nouveau. Dans les annÃ©es 1950, lâ€™AmÃ©rique anticommuniste refuse la venue au congrÃ¨s international de mathÃ©matiques du FranÃ§ais Laurent Schwartz (1915-2002), premier FranÃ§ais Ã\\xa0 obtenir la mÃ©daille Fields (1950), qui finira par avoir son visa suite Ã\\xa0 de nombreuses protestations.\\nEnÂ\\xa01966, Alexandre Grothendieck (1928-2014), apatride ayant fait sa carriÃ¨re en France, refuse de venir Ã\\xa0 Moscou recevoir sa mÃ©daille Fields, la rÃ©compense suprÃªme de cette discipline. EnÂ\\xa02022, les mathÃ©maticiens annulent leur congrÃ¨s international qui devait se tenir Ã\\xa0 Moscou pour manifester leur dÃ©sapprobation face Ã\\xa0 lâ€™invasion de lâ€™Ukraine.\\nEngagement politique\\nPar goÃ»t de la vÃ©ritÃ©, cette communautÃ© est sans doute encline Ã\\xa0 lutter contre les injustices et les fake news. MÃªme si le mÃ©daillÃ© Fields (enÂ\\xa02010) CÃ©dric Villani relativise cette belle idÃ©eÂ\\xa0: Â«Â\\xa0Face Ã\\xa0 une dictature, on trouve chez les mathÃ©maticiens toutes les attitudes, depuis le rÃ©sistant le plus courageux, jusquâ€™au collabo le plus honteux.Â\\xa0Â»\\nLe titre du documentaire ne laisse aucun doute sur lâ€™issue positive de cette histoire. EnÂ\\xa01976, le Kremlin finira par plier. Leonid Pliouchtch a bien Ã©tÃ© libÃ©rÃ©, aprÃ¨s quatre ans de dÃ©tention, dont trois passÃ©s en hÃ´pital psychiatrique, oÃ¹ il subit des traitements mÃ©dicaux injustifiÃ©s. NaturalisÃ© franÃ§ais, il dÃ©cÃ©dera enÂ\\xa02015.\\nCe succÃ¨s doit beaucoup Ã\\xa0 lâ€™engagement de Michel BrouÃ©, membre de lâ€™Organisation communiste internationaliste, parti trotskiste, dont les troupes seront trÃ¨s mobilisÃ©es, mais aussi Ã\\xa0 ses aÃ®nÃ©s, Henri Cartan (1904-2008), figure de la reconstruction du systÃ¨me acadÃ©mique en France aprÃ¨s la guerre, et Laurent Schwartz, grand-oncle du rÃ©alisateur et connu pour ses nombreux engagements, contre les guerres en AlgÃ©rie et du Vietnam.\\nLe mathÃ©maticien sâ€™Ã©tait notamment impliquÃ© pour faire reconnaÃ®tre le meurtre et la torture par lâ€™armÃ©e franÃ§aise en AlgÃ©rie de son confrÃ¨re Maurice Audin (1932-1957). Un Ã©pisode Ã©voquÃ© par le documentaire, qui alterne images dâ€™archives et entretiens contemporains pour mÃ©langer Ã©motion et engagement politique.\\nLa rÃ©ussite du film est aussi de rappeler que le cas individuel de Pliouchtch nâ€™a pas fait plier que le Kremlin Ã\\xa0 lâ€™Ã©poque. Pour prÃ©server le suspense, disons que cette Â«Â\\xa0petiteÂ\\xa0Â» histoire en a nourri une plus grande.\\n',\n",
       "              '{\"link\": \"https://www.lemonde.fr/culture/article/2025/02/10/l-intelligence-artificielle-au-c-ur-d-une-soiree-speciale-sur-france-2-pour-casser-le-mythe_6540546_3246.html\", \"title\": \"L\\\\u2019intelligence artificielle au c\\\\u0153ur d\\\\u2019une soir\\\\u00e9e sp\\\\u00e9ciale sur France 2\\\\u00a0pour casser le mythe\"}',\n",
       "              'Lâ€™intelligence artificielle au cÅ“ur dâ€™une soirÃ©e spÃ©ciale sur France 2Â\\xa0pour casser le mythe\\nLâ€™intelligence artificielle suscite fantasmes et craintes. Alors que se clÃ´t Ã\\xa0 Paris le sommet de lâ€™IA (les 10 et 11Â\\xa0fÃ©vrier), France TÃ©lÃ©visions tape juste en lui consacrant une soirÃ©e entiÃ¨re et particuliÃ¨rement rÃ©ussie. ConÃ§ue en deux programmes, elle casse le mythe â€“ non, lâ€™IA nâ€™est ni intelligente ni artificielle â€“ pour mieux apprÃ©hender ses capacitÃ©s rÃ©elles, inÃ©dites, et en livrer un mode dâ€™emploi sÃ©curisÃ©.\\nLâ€™IA nâ€™en reste pas moins bluffante, comme lâ€™atteste La Grande ExpÃ©rience, prÃ©sentÃ©e en prime parâ€¦ deux Julia Vignali (la vraie prÃ©sentatrice et une comÃ©dienne Ã\\xa0 lâ€™apparence modifiÃ©e par lâ€™application DeepFace). Ludique, lâ€™Ã©mission sâ€™articule autour de dÃ©fis, que lâ€™IA et lâ€™humain doivent releverÂ\\xa0: prÃ©dire lâ€™avenirÂ\\xa0; sÃ©duire un hommeÂ\\xa0; faire une chanson pour AmirÂ\\xa0; crÃ©er une recette de hachis parmentier meilleure que celle de la cheffe Ã©toilÃ©e Coline FaulquierÂ\\xa0; remporter une chasse aux trÃ©sors dans le chÃ¢teau de Maisons-Laffitte (Yvelines)â€¦ LÃ©gÃ¨re sur la forme, cette premiÃ¨re tÃ©lÃ©visÃ©e nâ€™en est que plus efficace dans ses dÃ©monstrations.\\nSans dÃ©voiler qui de lâ€™IA ou de lâ€™humain va remporter chaque dÃ©fi, la mise en garde maintes fois rÃ©pÃ©tÃ©e par lâ€™expert en IA Anis Ayari vaut pour tousÂ\\xa0: nous mettons beaucoup trop de nous en ligne. Â«Â\\xa0Les tÃ©lÃ©spectateurs [doivent] se rendre compte quâ€™ils mettent trop de choses sur les rÃ©seauxÂ\\xa0Â», insiste Luc Julia, cocrÃ©ateur de Siri, ex-vice-prÃ©sident de lâ€™innovation de Samsung et directeur scientifique de Renault.\\nÂ«Â\\xa0Lâ€™IA est dans la copieÂ\\xa0Â»\\nChacune de ses interventions fait mouche, notamment lorsquâ€™il rappelle que le mot Â«Â\\xa0intelligenceÂ\\xa0Â» nâ€™a pas la mÃªme signification en amÃ©ricain et en franÃ§aisÂ\\xa0: la Central Intelligence Agency (CIA) nâ€™est pas lâ€™Â«Â\\xa0agence centrale de lâ€™intelligenceÂ\\xa0Â», mais lâ€™Â«Â\\xa0agence centrale du renseignementÂ\\xa0Â». Et la confusion arrange bien les communicants de lâ€™IAâ€¦\\nDâ€™autres prÃ©cisions ont valeur dâ€™indice. Comme garder en tÃªte que lâ€™IA est essentiellement anglo-saxonne. Elle intÃ¨gre donc des valeurs plutÃ´t racistes, patriarcales etâ€¦ peu diÃ©tÃ©tiques. Â«Â\\xa0Lâ€™IA est biaisÃ©e par la sociÃ©tÃ©Â\\xa0: lâ€™IA ne pense pasÂ\\xa0Â», rÃ©sume Francis Lelong, consultant digital, PDG dâ€™Alegria. group. Luc Julia rÃ©pÃ¨te, lui, volontiersÂ\\xa0: Â«Â\\xa0Lâ€™IA nâ€™invente rien. Lâ€™IA est dans la copie (â€¦). Câ€™est pourquoi il faut se calmer.Â\\xa0Â»\\nMais au fait, que Â«Â\\xa0copieÂ\\xa0Â» lâ€™IAÂ\\xa0? Elle copie les donnÃ©es stockÃ©es dans les data centers (centres hÃ©bergeant des serveurs) qui, loin dâ€™Ãªtre un nuage poÃ©tique (le cloud), prennent la forme dâ€™un gigantesque entrepÃ´t climatisÃ© hÃ©bergeant des linÃ©aires dâ€™ordinateurs trÃ¨s Ã©nergivores, tant en Ã©lectricitÃ© quâ€™en eau. Â«Â\\xa0DeuxÂ\\xa0requÃªtes ChatGPT gÃ¢chent unÂ\\xa0litre dâ€™eauÂ\\xa0Â», souligne Luc Julia.\\nÂ«Â\\xa0Travail dans lâ€™ombreÂ\\xa0Â»\\nLe fait queÂ\\xa0lesÂ\\xa0data centers bÃ©tonnentÂ\\xa0lesÂ\\xa0paysages et assÃ¨chentÂ\\xa0lesÂ\\xa0riviÃ¨res est relativement connu. Que 150Â\\xa0millions Ã\\xa0 430Â\\xa0millions de personnes soient employÃ©s dans le monde pour Â«Â\\xa0nourrirÂ\\xa0Â» ces data centers (chiffres OIT de 2024) lâ€™est moins. Câ€™est ce que rÃ©vÃ¨le Les SacrifiÃ©s de lâ€™IA en seconde partie de soirÃ©e.\\nDeepSeek, OpenAI ou Siri ont, en effet, besoin de donnÃ©es (data) actualisÃ©es par milliards. Et ce sont des Ãªtres humains, recrutÃ©s dans les pays pauvres du Sud ou parmi les populations les plus fragiles (immigrÃ©s, rÃ©fugiÃ©s) des pays du Nord, qui leur fournissent. Sous-payÃ©s, exploitÃ©s, parfois traumatisÃ©s par les contenus toxiques (pornographie, dark Web) quâ€™ils annotentâ€¦\\nLe rÃ©alisateur Henri Poulain est parti Ã\\xa0 leur rencontreÂ\\xa0: dans une prison finlandaise, Ã\\xa0 Sofia en Bulgarie, Ã\\xa0 Aix-la-Chapelle en Allemagne, dans les bidonvilles de Nairobi, au Kenya. Pour Â«Â\\xa0ouvrir les yeux du publicÂ\\xa0Â», dit-il, il en rapporte un film glaÃ§ant, rÃ©voltant et passionnant (avant de se perdre un peu dans le dernier quart dâ€™heure).\\nÂ«Â\\xa0Quand on parle dâ€™IA, on parle de personnes de chair et dâ€™os, qui font le travail dans lâ€™ombreÂ\\xa0Â», note Milagros Miceli, chercheuse, sociologue et ingÃ©nieure Ã\\xa0 lâ€™Institut Weizenbaum Ã\\xa0Â\\xa0Berlin. Or, ce fait est cachÃ©, volontairement, selon elle, afin de Â«Â\\xa0crÃ©er un mythe autour de ces systÃ¨mesÂ\\xa0Â».\\nCertains Â«Â\\xa0data workersÂ\\xa0Â» en prennent conscienceÂ\\xa0: ils voient Ã\\xa0 la tÃ©lÃ©vision que les entreprises qui les emploient font dâ€™Ã©normes profits. Â«Â\\xa0Et nous, quel profit on tire de ce logicielÂ\\xa0?Â\\xa0Â», dit lâ€™un, qui pense Â«Â\\xa0Ãªtre sacrifiÃ© en tant quâ€™AfricainÂ\\xa0Â». Sur une dÃ©charge Ã\\xa0 ciel ouvert, un autre poursuitÂ\\xa0: Â«Â\\xa0Notre travail, câ€™est de tout nettoyer pour vous, pour que vous puissiez profiter de lâ€™IA dans les pays occidentaux.Â\\xa0Â» Une suggestionÂ\\xa0? Â«Â\\xa0Il faut y mettre fin au plus viteÂ\\xa0Â», propose le narrateur.\\n',\n",
       "              '{\"link\": \"https://www.lemonde.fr/culture/article/2025/02/09/oligarques-le-gang-de-poutine-sur-arte-le-grand-retour-des-boyards-hommes-forts-du-president-russe_6538838_3246.html\", \"title\": \"\\\\u00ab\\\\u00a0Oligarques, le gang de Poutine\\\\u00a0\\\\u00bb, sur Arte\\\\u00a0: le grand retour des \\\\u00ab\\\\u00a0boyards\\\\u00a0\\\\u00bb, hommes forts du pr\\\\u00e9sident russe\"}',\n",
       "              'Â«Â\\xa0Oligarques, le gang de PoutineÂ\\xa0Â», sur ArteÂ\\xa0: le grand retour des Â«Â\\xa0boyardsÂ\\xa0Â», hommes forts du prÃ©sident russe\\nAussi palpitante quâ€™un roman policier, lâ€™enquÃªte en trois volets rÃ©alisÃ©e par Marc Roche et JÃ©rÃ´me Fritel raconte comment Vladimir Poutine a tentÃ© de prendre lâ€™Union europÃ©enne en otage, par le biais du gaz et du pÃ©trole, persuadÃ© que cette dÃ©pendance allait lui laisser le champ libre en Ukraine. Son plan semble avoir Ã©chouÃ©. Les gazoducs Nord Stream 1 et 2 rouillent dans la mer Baltique et Gazprom, le bras armÃ© du Kremlin Ã\\xa0 lâ€™international, qui pesait jadis plusieurs centaines de milliards dâ€™euros, nâ€™est plus que lâ€™ombre de lui-mÃªme.\\nPourtant, malgrÃ© les sanctions occidentales, les revenus du gaz et du pÃ©trole continuent Ã\\xa0 rapporter au budget russe Â«Â\\xa0environ 1Â\\xa0demi-milliard de dollars par jourÂ\\xa0Â», rappelle un expert. Intarissable, cette manne permet au Kremlin dâ€™alimenter indÃ©finiment sa machine de guerre. Dâ€™autant que les Etats de lâ€™Union europÃ©enne continuent de lâ€™enrichir en achetant son pÃ©trole, prÃ©alablement raffinÃ© en Inde et en Chine. Pareil pour le gaz liquÃ©fiÃ©, dont la France est grande consommatrice.\\nIroniquement, le mÃ©thanier russe gÃ©ant qui continue dâ€™alimenter lâ€™Europe en GNL et dâ€™enrichir les proches de Poutine sâ€™appelle Christophe-de-Margerie, du nom de lâ€™ancien PDG de Total mort dans un accident dâ€™avion le 20Â\\xa0octobreÂ\\xa02014 Ã\\xa0 Moscou. TrÃ¨s investi dans les projets Ã©nergÃ©tiques du Grand Nord, au mieux avec le prÃ©sident Poutine, lâ€™homme avait jouÃ© un rÃ´le crucial dans lâ€™exploitation des immenses gisements de gaz situÃ©s dans la pÃ©ninsule de Yamal, au-delÃ\\xa0 du cercle polaire oÃ¹ une gigantesque usine de liquÃ©faction du gaz a vu le jour enÂ\\xa02017, largement grÃ¢ce Ã\\xa0 Total, associÃ© Ã\\xa0 Guennadi Timtchenko, le relais financier du Kremlin, Ã©levÃ© par la France au rang de chevalier de la LÃ©gion dâ€™honneur enÂ\\xa02013.\\nDepuis lâ€™effondrement de lâ€™URSS, enÂ\\xa01991, un pacte lie les prÃ©sidents, Boris Eltsine (1991-1999) puis Vladimir Poutine (depuis 2000), avec les oligarques, ces barons de lâ€™Ã©conomie qui sont autorisÃ©s Ã\\xa0 faire main basse sur les richesses du pays en Ã©change dâ€™une soumission sans faille Ã\\xa0 lâ€™Ã©gard de leurs maÃ®tres. Â«Â\\xa0Il y avait une poignÃ©e dâ€™oligarques et 140Â\\xa0millions de pauvres qui avaient juste assez dâ€™argent pour sâ€™acheter du painÂ\\xa0Â», rÃ©sume lâ€™ancien banquier SergueÃ¯ Pougatchev pour dÃ©crire lâ€™Ã©poque du capitalisme de brigands caractÃ©ristique de la Russie postsoviÃ©tique.\\nÂ«Â\\xa0Une nouvelle classe de noblesÂ\\xa0Â»\\nDÃ¨s son arrivÃ©e au Kremlin enÂ\\xa02000, Vladimir Poutine va sâ€™attacher Ã\\xa0 placer ses hommes, natifs de Saint-PÃ©tersbourg, passÃ©s par les services de sÃ©curitÃ© ou lâ€™armÃ©e pour la plupart. DÃ©sormais, ces courtisans du tsar Â«Â\\xa0forment une nouvelle classe de nobles, du moins câ€™est comme Ã§a quâ€™ils se perÃ§oiventÂ\\xa0Â», dit AndreÃ¯ Soldatov, journaliste en exilÂ\\xa0depuis 2020. Le maÃ®tre du Kremlin et son clan ont Â«Â\\xa0la mÃªme mentalitÃ©, forgÃ©e Ã\\xa0 lâ€™aune des services secrets et de la mafiaÂ\\xa0Â». Nâ€™ayant jamais pu digÃ©rer lâ€™effondrement de lâ€™URSS, ils partagent la mÃªme Â«Â\\xa0soif de revancheÂ\\xa0Â».\\nImplacable et tentaculaire, le systÃ¨me mis en place par Poutine repose sur deux piliers, les hydrocarbures et le petit groupe de ses fidÃ¨les Ã\\xa0 qui il a confiÃ© le contrÃ´le des flux financiers. DÃ¨s les premiÃ¨res heures de lâ€™invasion de lâ€™Ukraine, le 24Â\\xa0fÃ©vrierÂ\\xa02022, il les a convoquÃ©s pour un petit coup de semonce. Assurant nâ€™avoir rien Ã\\xa0 reprocher Ã\\xa0 Â«Â\\xa0ceux qui aiment les huÃ®tres et le foie grasÂ\\xa0Â», il les a sommÃ©s de se comporter en Â«Â\\xa0patriotesÂ\\xa0Â», de rapatrier leurs avoirs, de participer Ã\\xa0 lâ€™effort de guerre. Le ton Ã©tait menaÃ§antÂ\\xa0: Â«Â\\xa0Tous ceux qui nous feront dÃ©faut seront punis.Â\\xa0Â» RÃ©unis dans la salle Sainte-Catherine du Kremlin, les nouveaux Â«Â\\xa0boyardsÂ\\xa0Â» ont fait corps avec le chef.\\nLe plus fidÃ¨le dâ€™entre eux, Igor Setchine, est un ancien du renseignement militaire soviÃ©tique. PlacÃ© Ã\\xa0 la tÃªte de Rosneft, la plus grosse entreprise pÃ©troliÃ¨re de Russie, il a Ã©tÃ© mandatÃ© enÂ\\xa02022 pour acheter Ã\\xa0 prix cassÃ© plus de 600 tankers dâ€™occasion destinÃ©s Ã\\xa0 assurer la livraison du brut russe vers les raffineries indiennes et chinoises selon un circuit opaque â€“Â\\xa0navires en fin de vie, cargaisons maquillÃ©es, sociÃ©tÃ©s-Ã©crans dans des paradis fiscaux, tradeurs inconnusâ€¦\\nDepuis la guerre, le pÃ©trole russe est vendu Â«Â\\xa0par des compagnies dont personne nâ€™a jamais entendu parler, basÃ©es le plus souvent aux Emirats arabes unis ou Ã\\xa0 HongkongÂ\\xa0Â», souligne  Vladimir Milov, un ancien vice-ministre de lâ€™Ã©nergie qui vit aujourdâ€™hui en exil. Selon lui, Setchine sâ€™est parfaitement acquittÃ© de sa tÃ¢che, Ã©tant parvenu, Â«Â\\xa0grÃ¢ce Ã\\xa0 ses rÃ©seaux clandestinsÂ\\xa0Â», Ã\\xa0 crÃ©er un marchÃ© parallÃ¨le du pÃ©trole susceptible de Â«Â\\xa0redessiner lâ€™Ã©conomie mondialeÂ\\xa0Â».\\n',\n",
       "              '{\"link\": \"https://www.lemonde.fr/economie/article/2025/02/10/greve-chez-lidl-france-l-intersyndicale-annonce-la-suspension-de-la-greve_6540721_3234.html\", \"title\": \"Gr\\\\u00e8ve chez Lidl France\\\\u00a0: l\\\\u2019intersyndicale annonce la suspension de la gr\\\\u00e8ve\"}',\n",
       "              'GrÃ¨ve chez Lidl FranceÂ\\xa0: lâ€™intersyndicale annonce la suspension de la grÃ¨ve\\nLa Â«Â\\xa0grÃ¨ve illimitÃ©eÂ\\xa0Â» lancÃ©e vendredi Ã\\xa0 lâ€™appel de cinq syndicats pour dÃ©noncer les conditions de travail au sein de Lidl France, et qui a Ã©tÃ© assez suivie, a Ã©tÃ© suspendue dans lâ€™attente dâ€™une rÃ©union en fin de semaine, a annoncÃ© lâ€™intersyndicale, lundi 10Â\\xa0fÃ©vrier en fin de journÃ©e.\\nÂ«Â\\xa0GrÃ¢ce Ã\\xa0 votre engagement sans faille et votre prÃ©sence massive sur les piquets de grÃ¨ve, la direction a enfin entendu le malaise des salariÃ©s de LidlÂ\\xa0Â», ont Ã©crit aux salariÃ©s du distributeur la CFDT, la CFTC, la CGT, FO-FGTA et le SNCDD CFE-CGC, selon ce communiquÃ© transmis Ã\\xa0 lâ€™Agence France-Presse (AFP). Les cinq syndicats rassemblÃ©s ont dÃ©clarÃ© que Â«Â\\xa0suite Ã\\xa0 ce mouvement dâ€™ampleur inÃ©dite, une rÃ©union avec les organisations syndicales est programmÃ©e le vendredi 14Â\\xa0fÃ©vrier Ã\\xa0Â\\xa010Â\\xa0hÂ\\xa030. Dans cette attente, lâ€™intersyndicale suspend la grÃ¨ve, mais notre dÃ©termination reste intacteÂ\\xa0Â».\\nCes organisations syndicales avaient appelÃ© Ã\\xa0 Â«Â\\xa0une grÃ¨ve illimitÃ©eÂ\\xa0Â» pour une revalorisation des salaires et contre un projet dâ€™ouverture gÃ©nÃ©ralisÃ©e le dimanche. Lâ€™UNSA, premier syndicat, avait, lui, dÃ©clarÃ© privilÃ©gier Â«Â\\xa0pour le moment le dialogueÂ\\xa0Â» Ã\\xa0 la grÃ¨ve. Lidl, qui compte quelque 46Â\\xa0000Â\\xa0salariÃ©s dans 1Â\\xa0600Â\\xa0magasins en France, avait assurÃ© vendredi Ã\\xa0 lâ€™AFP que cette rÃ©union Â«Â\\xa0sâ€™inscrivait dans le maintien du dialogue socialÂ\\xa0Â» et Ã©tait Â«Â\\xa0dÃ©jÃ\\xa0 planifiÃ©e en amontÂ\\xa0Â».\\nÂ«Â\\xa0Nous avons toujours Ã©tÃ© convaincus que la nÃ©gociation est indispensable pour trouver une solution concrÃ¨te et pragmatique sans perte de revenus pour nos adhÃ©rentsÂ\\xa0Â», a de son cÃ´tÃ© estimÃ© lâ€™UNSA dans un autre communiquÃ©, envoyÃ© lundi Ã\\xa0 lâ€™AFP et dans lequel lâ€™organisation salue Â«Â\\xa0le retour des autres organisations syndicales Ã\\xa0 la table des nÃ©gociationsÂ\\xa0Â».\\nLe comitÃ© social et Ã©conomique central de Lidl avait franchement critiquÃ© sa direction en fin dâ€™annÃ©eÂ\\xa02024, regrettant que les salariÃ©s soient Â«Â\\xa0la seule variable dâ€™ajustement de lâ€™entrepriseÂ\\xa0Â» face aux dÃ©fis commerciaux. Â«Â\\xa0Selon nous, vous ne devez pas compenser la baisse de la marge issue de la guerre des prix par la rÃ©duction de la masse salarialeÂ\\xa0Â», disait lâ€™instance.\\nLa grÃ¨ve a Ã©tÃ© annoncÃ©e la semaine derniÃ¨re, Ã\\xa0 lâ€™issue dâ€™une rÃ©union sur les salaires qui nâ€™a pas satisfait les cinq organisations syndicales. Le discounter dâ€™origine allemande a par ailleurs annoncÃ© fin janvier le dÃ©part surprise dÃ©but mars de sa principale figure mÃ©diatique en France, son vice-prÃ©sident, Michel Biero.\\n',\n",
       "              '{\"link\": \"https://www.lemonde.fr/education/article/2025/02/10/sport-a-l-ecole-elisabeth-borne-met-a-pied-olivier-girault-le-directeur-de-l-unss_6540790_1473685.html\", \"title\": \"Sport \\\\u00e0 l\\\\u2019\\\\u00e9cole\\\\u00a0: Elisabeth Borne met \\\\u00e0 pied Olivier Girault, le directeur de l\\\\u2019UNSS\"}',\n",
       "              'Sport Ã\\xa0 lâ€™Ã©coleÂ\\xa0: Elisabeth Borne met Ã\\xa0 pied Olivier Girault, le directeur de lâ€™UNSS\\nMis en cause pour sa gestion de la principale fÃ©dÃ©ration du sport scolaire, lâ€™ex-handballeur Olivier Girault a Ã©tÃ© mis Ã\\xa0 pied de lâ€™Union nationale du sport scolaire (UNSS), lundi 10Â\\xa0fÃ©vrier, par la ministre de lâ€™Ã©ducation nationale, Elisabeth Borne. A la suite dâ€™une enquÃªte lancÃ©e en octobre, la ministre Â«Â\\xa0a dÃ©cidÃ©, en sa qualitÃ© de prÃ©sidente de lâ€™UNSS, de lâ€™ouverture dâ€™une procÃ©dure disciplinaire Ã\\xa0 lâ€™encontre dâ€™Olivier Girault et de sa mise Ã\\xa0 pied Ã\\xa0 titre conservatoireÂ\\xa0Â», selon un communiquÃ© du ministÃ¨re.\\nDepuis des mois, lâ€™UNSS, la fÃ©dÃ©ration du sport scolaire dans le secondaire, est minÃ©e par une crise de confiance entre une partie du monde enseignant et son directeur, attaquÃ© sur son management et sa gestion financiÃ¨re, quâ€™il dÃ©fend Ã\\xa0 lâ€™inverse avec ardeur. Cela Ã\\xa0 la suite de rÃ©vÃ©lations du quotidien Lâ€™Equipe Ã\\xa0 lâ€™automne dernier, faisant Ã©tat de Â«Â\\xa0dÃ©penses luxueusesÂ\\xa0Â» et de Â«Â\\xa0conflits dâ€™intÃ©rÃªtsÂ\\xa0Â» au sein de la direction de lâ€™instance.\\nLe journal avait notamment fait Ã©tat dâ€™un versement par BahreÃ¯n de 5Â\\xa0millions dâ€™euros Ã\\xa0 la FÃ©dÃ©ration internationale du sport scolaire (ISF) pour lâ€™organisation dâ€™un Ã©vÃ©nement sportif mondial dâ€™ampleur rassemblant des ados pratiquant le sport scolaire, la Â«Â\\xa0GymnasiadeÂ\\xa0Â», qui sâ€™est tenue fin octobre.\\nÂ«Â\\xa0Mise en pÃ©rilÂ\\xa0Â» de la fÃ©dÃ©ration\\nA la suite de ces rÃ©vÃ©lations, le ministÃ¨re de lâ€™Ã©ducation nationale avait annoncÃ© avoir lancÃ© une enquÃªte administrative sur le directeur national de lâ€™UNSS. Les administrateursÂ\\xa0exigeaient que soient prises Â«Â\\xa0les dÃ©cisions qui sâ€™imposent, en remplaÃ§ant trÃ¨s rapidement lâ€™Ã©quipe de direction (â€¦) qui met[ait] en pÃ©rilÂ\\xa0Â» leur fÃ©dÃ©ration, dans une lettre ouverte adressÃ©e au gouvernement Barnier, rÃ©clamant Ã©galement Â«Â\\xa0une enquÃªte approfondie sur la politique et le mode de managementÂ\\xa0Â».\\nLe 17Â\\xa0janvier, le syndicat de professeurs dâ€™Ã©ducation physique Snep-FSU avait ensuite dÃ©noncÃ© dans un communiquÃ© Â«Â\\xa0lâ€™immobilisme et lâ€™irresponsabilitÃ© des ministresÂ\\xa0Â» successifs et annoncÃ© Â«Â\\xa0quitter le conseil dâ€™administration de lâ€™UNSSÂ\\xa0Â». Le syndicat avait Ã©galement dit avoir saisi le juge des rÃ©fÃ©rÃ©s pour obtenir Â«Â\\xa0que les deux derniers rapports de lâ€™Inspection gÃ©nÃ©rale sur le fonctionnement de lâ€™UNSS lui soient communiquÃ©sÂ\\xa0Â».\\nLâ€™ex-champion olympique a Ã©tÃ© nommÃ© directeur national de lâ€™UNSS en dÃ©cembreÂ\\xa02021 par Jean-Michel Blanquer, alors ministre de lâ€™Ã©ducation nationale. PlacÃ© en derniÃ¨re position aprÃ¨s lâ€™oral des cinq candidats, mais finalement nommÃ©, Olivier Girault Ã©tait devenu le premier ex-sportif de haut niveau et non issu du monde enseignant Ã\\xa0 occuper le poste.\\nDepuis son arrivÃ©e Ã\\xa0 la tÃªte de lâ€™UNSS, il assure avoir rÃ©organisÃ© une maison Â«Â\\xa0dâ€™une complexitÃ© hors du communÂ\\xa0Â», avec plus de 700Â\\xa0comptes bancaires rattachÃ©s, suivi les recommandations de la Cour des comptes, remis sur pied une direction dÃ©ficiente, mal organisÃ©e. Une remise Ã\\xa0 plat Â«Â\\xa0nÃ©cessaireÂ\\xa0Â», qui explique selon lui le coÃ»t de ses trois ans de mandat.\\nPlacÃ©e sous la tutelle du ministre de lâ€™Ã©ducation nationale, lâ€™UNSS est la principale fÃ©dÃ©ration du sport scolaire, qui Å“uvre dans le second degrÃ© (collÃ¨ges et lycÃ©es). Elle fÃ©dÃ¨re les plus de 9Â\\xa0000Â\\xa0associations sportives crÃ©Ã©es dans chaque Ã©tablissement du second degrÃ©, animÃ©es par les professeurs dâ€™Ã©ducation physique et sportive. Quelque 1,2Â\\xa0million dâ€™Ã©lÃ¨ves y sont licenciÃ©s.\\n',\n",
       "              '{\"link\": \"https://www.lemonde.fr/idees/article/2025/02/10/vu-par-tjeerd-royaards_6540307_3232.html\", \"title\": \"Vu par\\\\u2026 Tjeerd Royaards\"}',\n",
       "              'Vu parâ€¦ Tjeerd Royaards\\n',\n",
       "              '{\"link\": \"https://www.lemonde.fr/international/article/2025/02/10/a-venise-la-ville-etend-sa-taxe-d-entree-pour-lutter-contre-le-surtourisme_6540684_3210.html\", \"title\": \"A Venise, la ville \\\\u00e9tend sa taxe d\\\\u2019entr\\\\u00e9e pour lutter contre le surtourisme\"}',\n",
       "              'A Venise, la ville Ã©tend sa taxe dâ€™entrÃ©e pour lutter contre le surtourisme\\nEnÂ\\xa02024, Venise avait mis en place une taxe pour lutter contre le surtourisme. La municipalitÃ© a confirmÃ©, lundi 10Â\\xa0fÃ©vrier, le maintien enÂ\\xa02025 de ce systÃ¨me dâ€™entrÃ©e payante pour les touristes Ã\\xa0 la journÃ©e souhaitant visiter la SÃ©rÃ©nissime.\\nLâ€™an dernier, les touristes Ã\\xa0 la journÃ©e avaient dÃ» sâ€™acquitter dâ€™un ticket dâ€™entrÃ©e de 5Â\\xa0euros pour accÃ©der Ã\\xa0 la citÃ© des Doges, une premiÃ¨re mondiale qui nâ€™avait cependant cours que pendant vingt-neufÂ\\xa0jours de grande affluence, entre avril et juillet. Ce systÃ¨me de rÃ©servation avait permis de rÃ©duire Â«Â\\xa0lÃ©gÃ¨rementÂ\\xa0Â» lâ€™affluence touristique les jours concernÃ©s, selon une Ã©tude commandÃ©e par la mairie.\\nEnÂ\\xa02025, cette pÃ©riode sera Ã©tendue Ã\\xa0 cinquante-quatre jours Ã\\xa0 partir du 18Â\\xa0avril. Le tarif sera de 5Â\\xa0euros pour les visiteurs quotidiens rÃ©servant au moins quatre jours Ã\\xa0 lâ€™avance, et montera Ã\\xa0 10Â\\xa0euros pour les moins prÃ©voyants. Mais les touristes dormant au moins une nuit sur place resteront exemptÃ©s de cette taxe.\\nUne taxe insuffisante pour certains\\nLâ€™initiative entend convaincre les touristes de choisir des pÃ©riodes de moindre frÃ©quentation pour visiter Venise. Le sÃ©same, qui se prÃ©sente sous forme dâ€™un QR code acquis en ligne, doit Ãªtre prÃ©sentÃ© aux principaux points dâ€™entrÃ©e de la SÃ©rÃ©nissime.\\nLe systÃ¨me a pour Â«Â\\xa0objectif de dÃ©finir un nouveau systÃ¨me de gestion des flux touristiques et de dÃ©courager le tourisme Ã\\xa0 la journÃ©e Ã\\xa0 Venise durant certaines pÃ©riodes, dans le respect de la fragilitÃ© de la ville et de son caractÃ¨re uniqueÂ\\xa0Â», a expliquÃ© lundi lâ€™adjoint au tourisme de la ville, Simone Venturini. Mais pour ses dÃ©tracteurs, cette taxe est insuffisante pour lutter contre le surtourisme et permet au mieux de renflouer les finances de la ville.\\nAvec ses cÃ©lÃ¨bres monuments, ses gondoles et ses canaux pittoresques, Venise est lâ€™une des villes les plus visitÃ©es au monde. En pic de frÃ©quentation, 100Â\\xa0000Â\\xa0touristes y dorment, en plus de dizaines de milliers de visiteurs journaliers. Un chiffre Ã\\xa0 comparer aux quelque 50Â\\xa0000Â\\xa0habitants du centre-ville, qui ne cesse de se dÃ©peupler.\\nDevant les dÃ©gÃ¢ts provoquÃ©s par le surtourisme et faute de mesures adaptÃ©es pour le juguler, lâ€™Organisation des Nations unies pour lâ€™Ã©ducation, la science et la culture (Unesco) avait menacÃ© un moment de placer la ville sur la liste du Â«Â\\xa0patrimonial mondial en pÃ©rilÂ\\xa0Â».\\n',\n",
       "              '{\"link\": \"https://www.lemonde.fr/international/article/2025/02/09/apres-avoir-rompu-leurs-liens-avec-le-reseau-russe-les-pays-baltes-achevent-leur-integration-au-reseau-electrique-de-l-ue_6538702_3210.html\", \"title\": \"Apr\\\\u00e8s avoir rompu leurs liens avec le r\\\\u00e9seau russe, les pays baltes ach\\\\u00e8vent leur int\\\\u00e9gration au r\\\\u00e9seau \\\\u00e9lectrique de l\\\\u2019UE\"}',\n",
       "              'AprÃ¨s avoir rompu leurs liens avec le rÃ©seau russe, les pays baltes achÃ¨vent leur intÃ©gration au rÃ©seau Ã©lectrique de lâ€™UE\\nLes pays baltes ont achevÃ© dimanche 9Â\\xa0fÃ©vrier leur intÃ©gration au rÃ©seau Ã©lectrique europÃ©en, aprÃ¨s avoir rompu leurs liens avec le rÃ©seau russe. Â«Â\\xa0Il y a quelques instants, jâ€™ai reÃ§u une grande nouvelle. La synchronisation du systÃ¨me Ã©lectrique des pays baltes avec celui de lâ€™Europe continentale a Ã©tÃ© achevÃ©e avec succÃ¨sÂ\\xa0Â», a dÃ©clarÃ© le prÃ©sident lituanien, Gitanas Nauseda, Ã\\xa0 la presse Ã\\xa0 Vilnius. Il sâ€™est exprimÃ© aux cÃ´tÃ©s de son homologue estonien, Alar Karis, de son homologue letton, Edgars Rinkevics, de la prÃ©sidente de la Commission europÃ©enne, Ursula von der Leyen, et du prÃ©sident polonais, Andrej Duda.\\nÂ«Â\\xa0Aujourdâ€™hui, nous connectons les pays baltes au rÃ©seau Ã©lectrique de lâ€™Europe continentale. Nous coupons les derniers liens avec la Russie. Nous sommes enfin libÃ©rÃ©s des menaces et du chantage. Câ€™est un jour historiqueÂ\\xa0!Â\\xa0Â», sâ€™est fÃ©licitÃ©e MmeÂ\\xa0von der Leyen sur X.\\nAnciens Etats soviÃ©tiques, la Lituanie, lâ€™Estonie et la Lettonie, aujourdâ€™hui membres de lâ€™Union europÃ©enne et de lâ€™OTAN, sâ€™efforcent de procÃ©der Ã\\xa0 ce changement depuis que la Russie a envahi lâ€™Ukraine enÂ\\xa02022. Fervents partisans de lâ€™Ukraine, ils redoutaient de faire lâ€™objet dâ€™un chantage de la Russie par le biais de lâ€™approvisionnement en Ã©lectricitÃ©.\\nÂ«Â\\xa0Guerre hybrideÂ\\xa0Â»\\nÂ«Â\\xa0Il sâ€™agit dâ€™un moment historique qui marque la fin dâ€™un long voyage (â€¦). Nous sommes parvenus Ã\\xa0 une indÃ©pendance Ã©nergÃ©tique totale. La pÃ©riode de pression et de chantage politiques est enfin terminÃ©eÂ\\xa0Â», a ajoutÃ© M. Nauseda. Les pays baltes ont intÃ©grÃ© le rÃ©seau europÃ©en par lâ€™intermÃ©diaire de la Pologne. Câ€™est Â«Â\\xa0un dÃ©veloppement marquantâ€¦ pour lâ€™ensemble de lâ€™Union europÃ©enneÂ\\xa0Â», a jugÃ© le prÃ©sident polonais Andrzej Duda, Â«Â\\xa0lâ€™Ã©tape finale vers lâ€™Ã©mancipation de la sphÃ¨re de dÃ©pendance post-soviÃ©tiqueÂ\\xa0Â».\\nAu total, 1,6Â\\xa0milliard dâ€™euros, essentiellement des fonds europÃ©ens, ont Ã©tÃ© investis dans ce projet. M.Â\\xa0Nauseda a appelÃ© Ã\\xa0 une Â«Â\\xa0action substantielle au niveau de lâ€™Union europÃ©enneÂ\\xa0Â» pour amÃ©liorer les infrastructures critiques des pays baltes. Â«Â\\xa0Il est temps de sÃ©curiser nos acquis. La guerre de la Russie contre lâ€™Ukraine a radicalement transformÃ© la perception des menaces qui pÃ¨sent sur les infrastructures critiques en EuropeÂ\\xa0Â», a-t-il affirmÃ©.\\nÂ«Â\\xa0Les rÃ©cents incidents impliquant des infrastructures sous-marines dans la mer Baltique sont trÃ¨s prÃ©occupants. Et nÃ©cessitent une action fermeÂ\\xa0Â», a-t-il poursuivi. Plusieurs cÃ¢bles sous-marins de tÃ©lÃ©communications et dâ€™Ã©nergie ont Ã©tÃ© sectionnÃ©s dans la mer Baltique au cours des derniers mois. Certains experts et hommes politiques ont accusÃ© la Russie de mener une Â«Â\\xa0guerre hybrideÂ\\xa0Â», notamment en ciblant de maniÃ¨re non conventionnelle lâ€™approvisionnement en Ã©nergie, ce que Moscou dÃ©ment.\\nNi sabotages, ni perturbationsÂ\\xa0de la Russie\\nLe projet de dÃ©connexion du rÃ©seau russe a pris des annÃ©es du fait de problÃ¨mes technologiques et financiers et du besoin de diversifier lâ€™approvisionnement par le biais notamment des cÃ¢bles sous-marins. Les pays baltes ont cessÃ© depuis 2022 dâ€™acheter du gaz et de lâ€™Ã©lectricitÃ© russes, mais leurs rÃ©seaux sont restÃ©s connectÃ©s Ã\\xa0 la Russie et Ã\\xa0 la BiÃ©lorussie, si bien que la rÃ©gulation de la frÃ©quence Ã©tait contrÃ´lÃ©e par Moscou.\\nAussi dÃ©pendaient-ils toujours de la Russie pour un flux dâ€™Ã©lectricitÃ© stable, crucial pour les appareils nÃ©cessitant une alimentation Ã©lectrique fiable, notamment dans lâ€™industrie. Les trois pays se sont dÃ©connectÃ©s samedi matin du rÃ©seau russe sans incident. Ni sabotages ni perturbationsÂ\\xa0: les opÃ©rateurs des rÃ©seaux baltes ont assurÃ© que la Russie avait coopÃ©rÃ©.\\nÂ«Â\\xa0La plus grande surpriseÂ\\xa0Â» samedi est Â«Â\\xa0quâ€™il nâ€™y a pas de surpriseÂ\\xa0Â», a ainsi dÃ©clarÃ© Ã\\xa0 lâ€™Agence France-Presse lâ€™opÃ©rateur letton AST. Le ministre de lâ€™Ã©nergie ukrainien, German Galushchenko, a saluÃ© samedi cette dÃ©connexion comme un Â«Â\\xa0Ã©vÃ©nement important pour toute lâ€™EuropeÂ\\xa0Â». Â«Â\\xa0De telles mesures privent lâ€™agresseur de la possibilitÃ© dâ€™utiliser le secteur de lâ€™Ã©lectricitÃ© Ã\\xa0 des fins de chantage et de jeux politiquesÂ\\xa0Â», sâ€™est-il rÃ©joui.\\n\\n',\n",
       "              '{\"link\": \"https://www.lemonde.fr/international/article/2025/02/10/au-bangladesh-plus-de-1-300-personnes-arretees-dans-une-operation-de-police_6540238_3210.html\", \"title\": \"Au Bangladesh, plus de 1\\\\u00a0300\\\\u00a0personnes arr\\\\u00eat\\\\u00e9es dans une op\\\\u00e9ration de police\"}',\n",
       "              'Au Bangladesh, plus de 1Â\\xa0300Â\\xa0personnes arrÃªtÃ©es dans une opÃ©ration de police\\nLa police bangladaise a annoncÃ©, lundi 10Â\\xa0fÃ©vrier, avoir arrÃªtÃ© plus de 1Â\\xa0300 personnes lors dâ€™une vaste opÃ©ration baptisÃ©e Â«Â\\xa0Chasse aux dÃ©monsÂ\\xa0Â» visant des gangs soupÃ§onnÃ©s par le gouvernement dâ€™Ãªtre liÃ©s Ã\\xa0 lâ€™ex-premiÃ¨re ministre dÃ©chue Sheikh Hasina.\\nJahangir Alam Chowdhury, Ã\\xa0 la tÃªte du ministÃ¨re de lâ€™intÃ©rieur du gouvernement provisoire mis en place aprÃ¨s la fuite de MmeÂ\\xa0Hasina aprÃ¨s des semaines de manifestations, a promis de poursuivre cette opÃ©ration Â«Â\\xa0jusquâ€™Ã\\xa0 ce que les dÃ©mons soient dÃ©racinÃ©sÂ\\xa0Â». Selon le porte-parole de la police, Inamul Haque Sagar, depuis le dÃ©but de cette campagne de rÃ©pression samedi, Â«Â\\xa01Â\\xa0308Â\\xa0personnes ont Ã©tÃ© arrÃªtÃ©es Ã\\xa0 travers le paysÂ\\xa0Â».\\nCes arrestations font suite Ã\\xa0 une sÃ©rie de troubles. DÃ©but fÃ©vrier, six mois aprÃ¨s la fuite de lâ€™ex-dirigeante, des manifestants ont dÃ©truit plusieurs bÃ¢timents liÃ©s Ã\\xa0 sa famille, aprÃ¨s avoir appris que MmeÂ\\xa0Hasina, 77Â\\xa0ans, devait sâ€™adresser Ã\\xa0 ses partisans sur Facebook depuis lâ€™Inde voisine, oÃ¹ elle a trouvÃ© refuge. Elle est poursuivie par la justice bangladaise pour crimes contre lâ€™humanitÃ© et fait lâ€™objet de plusieurs mandats dâ€™arrÃªt internationaux.\\nParmi les bÃ¢timents dÃ©truits, la maison transformÃ©e en musÃ©e de son pÃ¨re, le premier prÃ©sident du pays, Sheikh Mujibur Rahman, dans la capitale, Dacca. Des militants des droits civiques ont condamnÃ© ces saccages. Des manifestants anti-Hasina et des membres de son parti, la Ligue Awami, se sont Ã©galement affrontÃ©s.\\nMessages sur les rÃ©seaux sociaux\\nLe gouvernement a attribuÃ© la responsabilitÃ© de ces violences Ã\\xa0 lâ€™ex-premiÃ¨re ministre, qui a dirigÃ© le pays dâ€™une main de fer de 2009 jusquâ€™Ã\\xa0 son exil et qui multiplie les messages sur les rÃ©seaux sociaux, galvanisant ses partisans. Le Prix Nobel de la paix, Muhammad Yunus, Ã\\xa0 la tÃªte du gouvernement intÃ©rimaire, a appelÃ© au calme, vendredi.\\nPeu aprÃ¨s, des membres du mouvement Â«Â\\xa0Les Ã©tudiants contre la discriminationÂ\\xa0Â», Ã\\xa0 lâ€™origine des manifestations de lâ€™Ã©tÃ© 2024, ont Ã©tÃ© attaquÃ©s Ã\\xa0 Dacca. Des membres de ce collectif, dont certains font partie du gouvernement intÃ©rimaire, ont exigÃ© des mesures Ã\\xa0 lâ€™encontre des auteurs de ces agressions.\\nLe gouvernement a affirmÃ© avoir lancÃ© son opÃ©ration aprÃ¨s que des gangs Â«Â\\xa0liÃ©s Ã\\xa0 lâ€™ancien rÃ©gime autocratique eurent attaquÃ© un groupe dâ€™Ã©tudiants, dont certains ont Ã©tÃ© gravement blessÃ©sÂ\\xa0Â».\\nFace aux inquiÃ©tudes, le gouvernement sâ€™est montrÃ© rassurant, lâ€™attachÃ© de presse de M.Â\\xa0Yunus, Shafiqul Alam, affirmant quâ€™un Â«Â\\xa0centre de commandementÂ\\xa0Â» supervise le maintien de lâ€™ordre.\\nMais lâ€™avocat de la Cour suprÃªme, Snehadri Chakravarti, a critiquÃ© ces opÃ©rations, estimant que des Â«Â\\xa0innocentsÂ\\xa0Â» pourraient Ãªtre arrÃªtÃ©s sans que cela permette de rÃ©soudre les problÃ¨mes principaux. Â«Â\\xa0Je ne pense pas que cette campagne amÃ©liorera de maniÃ¨re significative lâ€™ordre public qui se dÃ©tÃ©rioreÂ\\xa0Â», a-t-il dÃ©clarÃ©. Â«Â\\xa0Pour moi, câ€™est de la poudre aux yeux.Â\\xa0Â»\\n',\n",
       "              '{\"link\": \"https://www.lemonde.fr/international/article/2025/02/10/au-royaume-uni-le-premier-ministre-effectue-un-test-public-de-depistage-du-vih_6540375_3210.html\", \"title\": \"Au Royaume-Uni, le premier ministre effectue un test public de d\\\\u00e9pistage du VIH\"}',\n",
       "              \"An error occurred: 'charmap' codec can't decode byte 0x9d in position 1938: character maps to <undefined>\",\n",
       "              '{\"link\": \"https://www.lemonde.fr/international/article/2025/02/09/en-allemagne-olaf-scholz-et-friedrich-merz-s-affrontent-sur-l-immigration-et-l-extreme-droite_6539150_3210.html\", \"title\": \"En Allemagne, Olaf Scholz et Friedrich Merz s\\\\u2019affrontent sur l\\\\u2019immigration et l\\\\u2019extr\\\\u00eame droite\"}',\n",
       "              'En Allemagne, Olaf Scholz et Friedrich Merz sâ€™affrontent sur lâ€™immigration et lâ€™extrÃªme droite\\nLe chancelier allemand, Olaf Scholz, a reprochÃ©, dimanche 9Â\\xa0fÃ©vrier, Ã\\xa0 son rival conservateur Friedrich Merz dâ€™avoir Â«Â\\xa0trahi sa paroleÂ\\xa0Â» en prÃ©sentant au Parlement des textes soutenus par lâ€™extrÃªme droite, lors dâ€™un duel tÃ©lÃ©visÃ©, avant les Ã©lections lÃ©gislatives prÃ©vues pour le 23Â\\xa0fÃ©vrierÂ\\xa02025.\\nLors de ce premier dÃ©bat entre le dirigeant social-dÃ©mocrate et le favori pour lui succÃ©der Ã\\xa0 la chancellerie, Olaf Scholz a estimÃ© que la manÅ“uvre de M.Â\\xa0Merz avait Â«Â\\xa0brisÃ© un tabouÂ\\xa0Â» dans la politique allemande, et quâ€™il avait, en consÃ©quence, Â«Â\\xa0perdu confianceÂ\\xa0Â» dans les engagements de son adversaire.\\nAprÃ¨s que les conservateurs ont fait adopter fin janvier une motion sur la politique migratoire avec le soutien du parti dâ€™extrÃªme droite Alternative fÃ¼r Deutschland (AfD), Â«Â\\xa0personne ne peut dire de quoi lâ€™avenir sera fait lorsque les choses redeviendront difficilesÂ\\xa0Â», a lancÃ© M.Â\\xa0Scholz Ã\\xa0 son adversaire.\\nFriedrich Merz a, lui, de nouveau rejetÃ© toute idÃ©e dâ€™alliance avec lâ€™AfD, deuxiÃ¨me dans les sondages, derriÃ¨re les conservateurs, et devant le Parti social-dÃ©mocrate (SPD) du chancelier. Une telle collaboration Â«Â\\xa0nâ€™aura pas lieuÂ\\xa0Â», a martelÃ© Friedrich Merz car selon lui Â«Â\\xa0il nâ€™y a pas de terrain dâ€™ententeÂ\\xa0Â» possible entre sa formation et le parti dâ€™extrÃªme droite que tout Â«Â\\xa0sÃ©pareÂ\\xa0Â», sur des questions de fond comme Â«Â\\xa0lâ€™Europe, lâ€™OTAN, lâ€™euro, la Russie, lâ€™AmÃ©riqueÂ\\xa0Â».\\nLe camp conservateur CDU/CSU a provoquÃ© une onde de choc politique en sâ€™appuyant sur lâ€™AfD pour faire adopter le 29Â\\xa0janvier au Bundestag une motion non contraignante, visant Ã\\xa0 bloquer tous les Ã©trangers sans papiers Ã\\xa0 la frontiÃ¨re, y compris les demandeurs dâ€™asile. Deux jours plus tard, il a Ã©chouÃ© de peu Ã\\xa0 faire passer un texte de loi sur lâ€™immigration avec les voix de lâ€™AfD.\\nÂ«Â\\xa0Comment peut-on Ãªtre aussi stupideÂ\\xa0?Â\\xa0Â»\\nLa politique migratoire a occupÃ© une place importante dans ce premier dÃ©bat tÃ©lÃ©visÃ© entre Olaf Scholz et Friedrich Merz, qui ont optÃ© pour un ton particuliÃ¨rement offensif.\\nÂ«Â\\xa0Comment peut-on Ãªtre aussi stupideÂ\\xa0?Â\\xa0Â», sâ€™est emportÃ© le chancelier Ã\\xa0 propos de certaines des propositions de son adversaire sur les questions dâ€™asile. Il lui a reprochÃ© de risquer Â«Â\\xa0une crise europÃ©enneÂ\\xa0Â» en prÃ´nant une fermeture des frontiÃ¨res allemandes aux demandeurs dâ€™asile.\\nOlaf Scholz a assurÃ© que sous la coalition quâ€™il a dirigÃ©e depuis fin 2021, Â«Â\\xa0il nâ€™y a jamais eu de lois plus sÃ©vÃ¨resÂ\\xa0Â» sur lâ€™immigration.\\nÂ«Â\\xa0Vous ne vivez pas dans ce monde, ce que vous racontez ici est un conte de fÃ©es qui nâ€™a presque rien Ã\\xa0 voir avec ce qui se passe dans la rÃ©alitÃ© des villes et des communes dâ€™AllemagneÂ\\xa0Â», a rÃ©torquÃ© son rival conservateur.\\nEn politique Ã©trangÃ¨re, les deux hommes se sont trouvÃ©s moins Ã©loignÃ©s, notamment sur le conflit au Proche-Orient. Le chancelier allemandÂ\\xa0a qualifiÃ© de Â«Â\\xa0scandaleÂ\\xa0Â» la proposition du prÃ©sident amÃ©ricain, Donald Trump, prÃ©voyant notamment un contrÃ´le amÃ©ricain de la bande de Gaza et le dÃ©placement des Palestiniens. Â«Â\\xa0Le dÃ©placement de population est inacceptable et contraire au droit internationalÂ\\xa0Â», a rappelÃ© Olaf Scholz. Â«Â\\xa0Je partage cette apprÃ©ciationÂ\\xa0Â», a abondÃ© Friedrich Merz, ajoutant toutefoisÂ\\xa0: Â«Â\\xa0Il faut attendre de voir ce qui est vraiment sÃ©rieux et comment cela sera mis en Å“uvre. Il y a probablement aussi beaucoup de rhÃ©torique.Â\\xa0Â»\\n\\n',\n",
       "              '{\"link\": \"https://www.lemonde.fr/international/article/2025/02/10/gaza-donald-trump-declare-que-les-palestiniens-n-auraient-pas-de-droit-au-retour-dans-le-cadre-de-son-plan-pour-le-territoire_6540443_3210.html\", \"title\": \"Gaza\\\\u00a0: Donald Trump d\\\\u00e9clare que les Palestiniens n\\\\u2019auraient pas de droit au retour dans le cadre de son plan pour le territoire\"}',\n",
       "              'GazaÂ\\xa0: Donald Trump dÃ©clare que les Palestiniens nâ€™auraient pas de droit au retour dans le cadre de son plan pour le territoire\\nLe prÃ©sident amÃ©ricain, Donald Trump, a affirmÃ© que les Palestiniens nâ€™auraient pas le droit au retour dans le cadre de son plan pour Gaza, dans un extrait dâ€™interview dÃ©voilÃ© lundi 10Â\\xa0fÃ©vrier. Au journaliste de la chaÃ®ne Fox News Bret Baier qui lui demande si les Palestiniens auraient Â«Â\\xa0le droit au retourÂ\\xa0Â» dans le territoire ravagÃ© par la guerre, Donald Trump a rÃ©ponduÂ\\xa0: Â«Â\\xa0Non, ils nâ€™en auraient pas car ils auront des logements bien meilleurs.Â\\xa0Â»\\nÂ«Â\\xa0En dâ€™autres termes, je parle de leur construire un endroit permanent parce que sâ€™ils doivent revenir maintenant, il faudrait des annÃ©es avant quâ€™ils puissent le faire, ce nâ€™est pas habitableÂ\\xa0Â», a-t-il ajoutÃ© dans cet entretien qui sera diffusÃ© lundi soir.\\nLe prÃ©sident amÃ©ricain rÃ©affirme, selon cet extrait, sa volontÃ© de prendre Â«Â\\xa0possessionÂ\\xa0Â» de la bande de Gaza et assure quâ€™il pourrait y avoir jusquâ€™Ã\\xa0 six sites diffÃ©rents oÃ¹ les Palestiniens pourraient vivre en dehors de Gaza dans le cadre de son plan. Le monde arabe et la communautÃ© internationale ont rejetÃ© cette proposition, condamnant toute idÃ©e dâ€™un dÃ©placement des Palestiniens de la bande de Gaza.\\nÂ«Â\\xa0Nous leur donnons des milliards de dollars par anÂ\\xa0Â»\\nRecevant la semaine derniÃ¨re Ã\\xa0 Washington le premier ministre israÃ©lien, Benyamin NÃ©tanyahou, Donald Trump avait affirmÃ© que les Etats-Unis allaient prendre Â«Â\\xa0possessionÂ\\xa0Â» de la bande de Gaza et Â«Â\\xa0se dÃ©barrasser des bÃ¢timents dÃ©truitsÂ\\xa0Â» afin de dÃ©velopper Ã©conomiquement le territoire. Des propos largement condamnÃ©s Ã\\xa0 travers le monde.\\nIl avait Ã©galement rÃ©pÃ©tÃ© que les Gazaouis pourraient aller vivre en Jordanie ou en Egypte, malgrÃ© lâ€™opposition de ces pays, ainsi que des Palestiniens eux-mÃªmes. Le prÃ©sident amÃ©ricain se dit cependant, convaincu que ces pays finiront par accepter, alors que la Jordanie et lâ€™Egypte sont parmi les plus importants bÃ©nÃ©ficiaires de lâ€™aide amÃ©ricaine. Â«Â\\xa0Je pense que je pourrais conclure un accord avec la Jordanie. Je pense que je pourrais conclure un accord avec lâ€™Egypte. Vous savez, nous leur donnons des milliards et des milliards de dollars par anÂ\\xa0Â», dit-il.\\nA cet Ã©gard, le chef de la diplomatie amÃ©ricaine, Marco Rubio, qui se rendra au Moyen-Orient la semaine prochaine, a reÃ§u lundi, au dÃ©partement dâ€™Etat, son homologue Ã©gyptien, Badr Abdelatty. Les deux responsables nâ€™ont fait aucun commentaire Ã\\xa0 la presse.\\nLe roi de Jordanie, AbdallahÂ\\xa0II, est Ã©galement attendu mardi Ã\\xa0 Washington pour des entretiens avec Donald Trump. La Jordanie, qui accueille dÃ©jÃ\\xa0 environ 2,3Â\\xa0millions de rÃ©fugiÃ©s palestiniens, sâ€™est vivement opposÃ©e au plan du prÃ©sident amÃ©ricain.\\nDans son interview sur Fox News, le prÃ©sident amÃ©ricain affirme que les Etats-Unis veulent construire de Â«Â\\xa0belles communautÃ©sÂ\\xa0Â» pour les quelque 2Â\\xa0millions dâ€™habitants de Gaza. Â«Â\\xa0Il pourrait y en avoir cinq, six ou deux. Mais nous construirons des communautÃ©s sÃ»res, un peu Ã\\xa0 lâ€™Ã©cart de lâ€™endroit oÃ¹ ils se trouvent, lÃ\\xa0 oÃ¹ est tout ce dangerÂ\\xa0Â», ajoute M.Â\\xa0Trump. Â«Â\\xa0Il faut le voir comme un dÃ©veloppement immobilier pour lâ€™avenir. Ce serait un terrain magnifique. Il nâ€™y aurait pas de dÃ©penses importantesÂ\\xa0Â», assure-t-il.\\nLe premier ministre israÃ©lien a qualifiÃ© dimanche de Â«Â\\xa0rÃ©volutionnaireÂ\\xa0Â» cette proposition du prÃ©sident amÃ©ricain.\\n',\n",
       "              '{\"link\": \"https://www.lemonde.fr/international/article/2025/02/10/le-chef-de-l-etat-roumain-klaus-iohannis-annonce-sa-demission-deux-mois-apres-l-annulation-du-scrutin-presidentiel-en-raison-d-allegations-d-ingerence-russe_6540272_3210.html\", \"title\": \"Roumanie\\\\u00a0: le chef de l\\\\u2019Etat, Klaus Iohannis, annonce sa d\\\\u00e9mission, deux mois apr\\\\u00e8s l\\\\u2019annulation du scrutin pr\\\\u00e9sidentiel en raison d\\\\u2019all\\\\u00e9gations d\\\\u2019ing\\\\u00e9rence russe\"}',\n",
       "              'RoumanieÂ\\xa0: le chef de lâ€™Etat, Klaus Iohannis, annonce sa dÃ©mission, deux mois aprÃ¨s lâ€™annulation du scrutin prÃ©sidentiel en raison dâ€™allÃ©gations dâ€™ingÃ©rence russe\\nLe prÃ©sident roumain, Klaus Iohannis, a annoncÃ©, lundi 10Â\\xa0fÃ©vrier, sa dÃ©mission, prenant acte des critiques concernant son maintien Ã\\xa0 son poste aprÃ¨s lâ€™annulation, le 6Â\\xa0dÃ©cembreÂ\\xa02024, de lâ€™Ã©lection prÃ©sidentielle en raison dâ€™allÃ©gations dâ€™ingÃ©rence russe et de manipulation de lâ€™opinion. Le gouvernement roumain avait annoncÃ©, le 16Â\\xa0janvier, que la nouvelle Ã©lection prÃ©sidentielle se tiendrait au mois de mai. Â«Â\\xa0Afin dâ€™Ã©pargner Ã\\xa0 la Roumanie et aux citoyens roumains une crise, je quitterai mes fonctionsÂ\\xa0Â» mercredi, a dÃ©clarÃ© le chef dâ€™Etat roumain lors dâ€™une allocution solennelle Ã\\xa0 Bucarest, alors quâ€™une procÃ©dure de destitution vient dâ€™Ãªtre lancÃ©e contre lui.\\nSon mandat devait se terminer Ã\\xa0 la fin de lâ€™annÃ©e 2024, mais le premier tour de la prÃ©sidentielle, remportÃ© le 24Â\\xa0novembre Ã\\xa0 la surprise gÃ©nÃ©rale par le candidat dâ€™extrÃªme droite Calin Georgescu, avait Ã©tÃ© annulÃ© â€“ un fait extrÃªmement rare dans lâ€™Union europÃ©enne â€“ par la justice roumaine, le 6Â\\xa0dÃ©cembre, en raison de Â«Â\\xa0multiples irrÃ©gularitÃ©s et [de] violations de la loi Ã©lectorale ayant faussÃ©Â\\xa0Â» le vote.\\nLe chef dâ€™Etat libÃ©ral et proeuropÃ©en, Ã¢gÃ© de 65Â\\xa0ans, avait alors dÃ©cidÃ© de rester en fonction jusquâ€™Ã\\xa0 lâ€™Ã©lection de son successeur, prÃ©vue en mai. Depuis, des dizaines de milliers de Roumains sont descendus dans la rue pour dÃ©noncer un Â«Â\\xa0coup dâ€™EtatÂ\\xa0Â» et, aprÃ¨s plusieurs tentatives de lâ€™opposition, le Parlement a prÃ©vu de se rÃ©unir cette semaine en session plÃ©niÃ¨re avant un possible rÃ©fÃ©rendum.\\nSatisfaction de lâ€™extrÃªme droite\\nÂ«Â\\xa0Dans quelques jours, le Parlement roumain va se prononcer sur ma rÃ©vocation et la Roumanie va plonger dans la crise (â€¦) avec des rÃ©percussions dans le pays et malheureusement aussi en dehors de nos frontiÃ¨resÂ\\xa0Â», a expliquÃ© M. Iohannis. Au pouvoir depuis 2014, il a regrettÃ© dâ€™en Ãªtre arrivÃ© lÃ\\xa0, affirmant Â«Â\\xa0nâ€™avoir jamais violÃ© la ConstitutionÂ\\xa0Â». Câ€™est le prÃ©sident du SÃ©nat et chef des libÃ©raux, Ilie Bolojan, qui devrait en principe assurer lâ€™intÃ©rim jusquâ€™au nouveau scrutin.\\nLâ€™extrÃªme droite a saluÃ© lâ€™annonce de cette dÃ©mission et des centaines de ses partisans se sont rÃ©unis dans le centre de la capitale, un rassemblement marquÃ© par des incidents avec les forces de lâ€™ordre. Â«Â\\xa0Câ€™est votre victoireÂ\\xa0!Â\\xa0Â», a lancÃ© le chef de lâ€™Alliance pour lâ€™unitÃ© des Roumains (AUR), George Simion, sur Facebook, en rÃ©fÃ©rence aux rÃ©centes manifestations. Â«Â\\xa0Klaus Iohannis a dÃ©missionnÃ©Â\\xa0! Maintenant il est temps de renouer avec lâ€™Etat de droit. Reprenons le second tourÂ\\xa0Â», a renchÃ©ri le vainqueur surprise du premier tour, Calin Georgescu. Les autoritÃ©s lâ€™accusent dâ€™avoir bÃ©nÃ©ficiÃ© dâ€™une campagne de soutien illicite sur la plateforme TikTok. La Commission europÃ©enne a annoncÃ© lâ€™ouverture dâ€™une enquÃªte.\\nCritique de lâ€™Union europÃ©enne comme de lâ€™OTAN et opposÃ© Ã\\xa0 toute aide militaire Ã\\xa0 lâ€™Ukraine, celui qui a dit par le passÃ© son admiration pour Vladimir Poutine a dÃ©posÃ© plusieurs recours en justice contre lâ€™annulation du premier tour, tous infructueux jusquâ€™ici. EspÃ©rant encore obtenir gain de cause avant la clÃ´ture des candidatures le 15Â\\xa0mars, il nâ€™a pas officiellement postulÃ© au nouveau scrutin prÃ©vu le 4Â\\xa0mai. Un second vote sera organisÃ© le 18Â\\xa0mai si aucun candidat ne remporte plus de la moitiÃ© des suffrages.\\nFace Ã\\xa0 la montÃ©e de lâ€™extrÃªme droite, plusieurs forces politiques proeuropÃ©ennes ont formÃ© un gouvernement, Ã\\xa0 la fin dÃ©cembreÂ\\xa02024, et souhaitent prÃ©senter un candidat commun, Crin Antonescu. Le maire de Bucarest, Nicusor Dan, a Ã©galement annoncÃ© son intention de se prÃ©senter en tant quâ€™indÃ©pendant.\\nKlaus Iohannis quitte la prÃ©sidence avec comme bilan un mandat trÃ¨s mitigÃ© et une forte impopularitÃ©. Si ses dÃ©tracteurs lui reprochent tantÃ´t dâ€™Ãªtre inactif, tantÃ´t de manquer de charisme, lui se dÃ©crit en Â«Â\\xa0pompier qui a sauvÃ© la Roumanie du chaosÂ\\xa0Â». Cet ancien professeur de physique est issu de la minoritÃ© saxonne de Transylvanie â€“ ce qui lui a valu dâ€™Ãªtre dÃ©daigneusement surnommÃ© Â«Â\\xa0lâ€™AllemandÂ\\xa0Â». Il avait briguÃ© en mars la tÃªte de lâ€™OTAN mais avait finalement dÃ» sâ€™incliner face au premier ministre nÃ©erlandais, Mark Rutte.\\n\\n\\n\\n',\n",
       "              '{\"link\": \"https://www.lemonde.fr/les-decodeurs/article/2025/02/09/ce-qu-il-ne-fallait-pas-rater-de-l-actualite-ce-week-end-trois-otages-israeliens-liberes-macron-s-exprime-avant-le-sommet-de-l-ia-les-pays-baltes-connectes-au-reseau-electrique-europeen_6538912_4355770.html\", \"title\": \"Ce qu\\\\u2019il ne fallait pas rater de l\\\\u2019actualit\\\\u00e9 ce week-end\\\\u00a0: trois otages isra\\\\u00e9liens lib\\\\u00e9r\\\\u00e9s, Macron s\\\\u2019exprime avant le sommet de l\\\\u2019IA, les pays baltes connect\\\\u00e9s au r\\\\u00e9seau \\\\u00e9lectrique europ\\\\u00e9en\\\\u2026\"}',\n",
       "              \"An error occurred: 'charmap' codec can't decode byte 0x9d in position 2512: character maps to <undefined>\",\n",
       "              '{\"link\": \"https://www.lemonde.fr/pixels/article/2025/02/09/intelligence-artificielle-emmanuel-macron-annonce-des-investissements-en-france-de-109-milliards-d-euros-dans-les-prochaines-annees_6539115_4408996.html\", \"title\": \"Intelligence artificielle\\\\u00a0: Emmanuel Macron annonce des investissements en France de \\\\u00ab\\\\u00a0109\\\\u00a0milliards d\\\\u2019euros dans les prochaines ann\\\\u00e9es\\\\u00a0\\\\u00bb\"}',\n",
       "              \"An error occurred: 'charmap' codec can't decode byte 0x9d in position 492: character maps to <undefined>\",\n",
       "              '{\"link\": \"https://www.lemonde.fr/planete/article/2025/02/10/l-etat-de-catastrophe-naturelle-reconnu-pour-112-communes-dans-l-ouest-apres-les-crues-de-janvier_6540580_3244.html\", \"title\": \"L\\\\u2019\\\\u00e9tat de catastrophe naturelle reconnu pour 112\\\\u00a0communes dans l\\\\u2019Ouest, apr\\\\u00e8s les crues de janvier\"}',\n",
       "              'Lâ€™Ã©tat de catastrophe naturelle reconnu pour 112Â\\xa0communes dans lâ€™Ouest, aprÃ¨s les crues de janvier\\nLâ€™Ã©tat de catastrophe naturelle a Ã©tÃ© reconnu pour 112Â\\xa0communes de lâ€™Ouest, dont Rennes et Redon (Ille-et-Vilaine), touchÃ©es fin janvier par des inondations exceptionnelles, selon un arrÃªtÃ© publiÃ© dimanche 9Â\\xa0fÃ©vrier dans le Journal officiel. Dans le dÃ©tail, cette mesure concerne 70Â\\xa0communes dâ€™Ille-et-Vilaine, 24 dans le Morbihan, 12 en Loire-Atlantique, 3 en Mayenne, 2 dans le Maine-et-Loire et 1 dans le Calvados.\\nÂ«Â\\xa0Lâ€™Ã©tat de catastrophe naturelle constatÃ© par arrÃªtÃ© peut ouvrir droit Ã\\xa0 la garantie des assurÃ©s contre les effets des catastrophes naturelles sur les biens faisant lâ€™objet des contrats dâ€™assurance visÃ©s au code des assurances (â€¦)Â\\xa0Â», peut-on lire dans lâ€™arrÃªtÃ©. Selon le ministre de lâ€™intÃ©rieur, Bruno Retailleau, Â«Â\\xa0dÃ¨s jeudi, 125Â\\xa0dossiers ont Ã©tÃ© examinÃ©s, et ce matin [dimanche], lâ€™Ã©tat de catastrophe naturelle a Ã©tÃ© reconnu pour 112Â\\xa0communesÂ\\xa0Â». Â«Â\\xa0Les treize restantes seront rÃ©Ã©valuÃ©es sous peu, Ã\\xa0 partir dâ€™expertises complÃ©mentairesÂ\\xa0Â», a prÃ©cisÃ© M.Â\\xa0Retailleau sur X.\\nDes crues jamais vues depuis quaranteÂ\\xa0ans sur la Vilaine et la Seiche\\nSelon lâ€™arrÃªtÃ©, Â«Â\\xa0lâ€™intensitÃ© anormale du phÃ©nomÃ¨ne durant lâ€™Ã©vÃ©nement est caractÃ©risÃ©e au regard du dÃ©bit des cours dâ€™eau qui prÃ©sente une pÃ©riode de retour supÃ©rieure ou Ã©gale Ã\\xa0 dixÂ\\xa0ansÂ\\xa0Â». Une Â«Â\\xa0pÃ©riode de retourÂ\\xa0Â» est la durÃ©e moyenne au cours de laquelle, statistiquement, un Ã©vÃ©nement dâ€™une mÃªme intensitÃ© se reproduit.\\nLe 6Â\\xa0fÃ©vrier, la Caisse centrale de rÃ©assurance (CCR) a estimÃ© entre 130Â\\xa0millions et 160Â\\xa0millions dâ€™euros le coÃ»t pour le rÃ©gime Cat Nat (catastrophes naturelles) de la succession de tempÃªtes et de crues qui ont touchÃ© la Bretagne, et notamment lâ€™Ille-et-Vilaine, fin janvier. Le rÃ©assureur public estime que ce coÃ»t des Ã©vÃ©nements couvre Â«Â\\xa0entre 6Â\\xa0000Â\\xa0et 8Â\\xa0000Â\\xa0sinistres habitations et professionnels assurÃ©sÂ\\xa0Â».\\nLa succession de trois tempÃªtes hivernales et de leur lot de pluie sur des sols dÃ©jÃ\\xa0 saturÃ©s ont entraÃ®nÃ© des crues exceptionnelles, inÃ©dites depuis plus de quaranteÂ\\xa0ans sur la Vilaine et la Seiche, riviÃ¨res dâ€™Ille-et-Vilaine. A Rennes, le mois de janvier a Ã©tÃ© le plus pluvieux depuisÂ\\xa01945, tous mois confondus, selon MÃ©tÃ©o-France. Ces crues nâ€™ont pas fait de victimes humaines, selon les autoritÃ©s.\\n',\n",
       "              '{\"link\": \"https://www.lemonde.fr/politique/article/2025/02/10/conseil-constitutionnel-richard-ferrand-propose-a-la-presidence-de-l-institution-par-emmanuel-macron_6540685_823448.html\", \"title\": \"Conseil constitutionnel\\\\u00a0: Richard Ferrand propos\\\\u00e9 \\\\u00e0\\\\u00a0la\\\\u00a0pr\\\\u00e9sidence de l\\\\u2019institution par Emmanuel Macron\"}',\n",
       "              'Conseil constitutionnelÂ\\xa0: Richard Ferrand proposÃ© Ã\\xa0Â\\xa0laÂ\\xa0prÃ©sidence de lâ€™institution par Emmanuel Macron\\nIl a Ã©tÃ© choisi pour prendre la suite de Laurent Fabius Ã\\xa0 la tÃªte de lâ€™institution de la rue de Montpensier. Emmanuel Macron a proposÃ© Richard Ferrand, 62Â\\xa0ans, marcheur de la premiÃ¨re heure et ancien prÃ©sident de lâ€™AssemblÃ©e nationale (2018-2022), pour prendre la prÃ©sidence du Conseil constitutionnel, a fait savoir lâ€™ElysÃ©e lundi 10Â\\xa0fÃ©vrier au soir, dans un communiquÃ©. Son nom circulait avec insistance ces derniÃ¨res semaines.\\nLa prÃ©sidente (Renaissance) de lâ€™AssemblÃ©e nationale, YaÃ«l Braun-Pivet, a, elle, soumis le nom de lâ€™ancienne dÃ©putÃ©e MoDem du Puy-de-DÃ´me et ex-magistrate Laurence Vichnievsky pour siÃ©ger au Conseil, tandis que le prÃ©sident du SÃ©nat (Les RÃ©publicains, LR), GÃ©rard Larcher, a choisi le sÃ©nateur (LR) de la Manche, Philippe Bas. Ces derniers doivent remplacer Corinne Luquiens et Michel Pinault qui, comme M.Â\\xa0Fabius, achÃ¨vent le 7Â\\xa0mars leur mandat de neuf ans au sein de lâ€™institution.\\nLes trois candidats devront dÃ©sormais passer lâ€™Ã©preuve des auditions parlementaires. Celles-ci sont programmÃ©es le 19Â\\xa0fÃ©vrier sâ€™agissant de lâ€™AssemblÃ©e. Laurence Vichnievsky sera auditionnÃ©e par la commission des lois du Palais-Bourbon, tandis que Philippe Bas le sera par celle du Palais du Luxembourg. Leur candidature pourrait Ãªtre recalÃ©e si trois cinquiÃ¨mes des commissionnaires sâ€™y opposent lors du scrutin Ã\\xa0 bulletin secret. Richard Ferrand devra, pour sa part, convaincre les membres des commissions des lois des deux Chambres.\\nNomination Ã\\xa0 fort enjeu politique\\nDe ces nominations pour siÃ©ger au sein de lâ€™institution, le choix prÃ©sidentiel est celui qui recouvre le plus dâ€™enjeuxÂ\\xa0: le futur prÃ©sident du Conseil constitutionnel sera en poste jusquâ€™enÂ\\xa02034, bien aprÃ¨s la fin du second mandat du prÃ©sident de la RÃ©publique. Cette nomination est dâ€™autant plus sensible politiquement, que lâ€™extrÃªme droite pourrait accÃ©der au pouvoir, en cas de victoire de Marine LeÂ\\xa0Pen lors de la prochaine prÃ©sidentielle.\\nLe Rassemblement national (RN) comme la droite de Laurent Wauquiez sâ€™en Ã©taient pris aux membres du Conseil constitutionnel au lendemainÂ\\xa0de la censure dâ€™une trentaine dâ€™articles de la loi Â«Â\\xa0immigrationÂ\\xa0Â», en janvierÂ\\xa02024.Â\\xa0La validation de la rÃ©forme des retraites, enÂ\\xa02023, avait, elle, Ã©tÃ© vivement critiquÃ©e Ã\\xa0 gauche.\\nLe choix du prÃ©sident de nommer un proche, et qui lâ€™est restÃ© malgrÃ© sa dÃ©faite aux Ã©lections lÃ©gislatives de 2022 â€“ lors desquelles Richard Ferrand nâ€™a pas rÃ©ussi Ã\\xa0 se faire rÃ©Ã©lire dans le FinistÃ¨re â€“ et sa reconversion dans le conseil, suscite des critiques tant dans lâ€™opposition que parmi les juristes. Prudent, M.Â\\xa0Ferrand a ainsi consultÃ© plusieurs chefs de groupe parlementaire et a commencÃ© Ã\\xa0 prÃ©parer ses auditions depuis plusieurs semaines.\\nÂ«Â\\xa0Ce choix va indubitablement affaiblir la lÃ©gitimitÃ© dâ€™une institution qui va prendre une importance considÃ©rable, Ã©tant donnÃ© les circonstances politiquesÂ\\xa0Â», a estimÃ© sur X, avant lâ€™officialisation de cette nomination, le sÃ©nateur communiste Pierre Ouzoulias. Le profil de lâ€™ancien dÃ©putÃ© macroniste Â«Â\\xa0ne sâ€™intÃ¨gre ni dans une exigence de compÃ©tence technique ni dans une impartialitÃ©, objective comme subjective, le plaÃ§ant au-dessus des contingences politiquesÂ\\xa0Â», estiment pour leur part les universitaires Dominique Chagnollaud et Jules Lepoutre dans une tribune publiÃ©e dans les pages du Monde.\\nDimanche, la porte-parole du RN, Edwige Diaz, a dÃ©noncÃ© sur FranceÂ\\xa03 Â«Â\\xa0le monde du recalage et du recyclage des battusÂ\\xa0Â». De leur cÃ´tÃ©, les dÃ©putÃ©s communistes ont redÃ©posÃ© une proposition de loi pour encadrer les nominations au Conseil constitutionnel, ont-ils fait savoir lundi. Il faut Â«Â\\xa0en finir avec les nominations qui font polÃ©mique et le fragilisentÂ\\xa0Â», Ã©crivent-ils.\\nLe texte, dÃ©jÃ\\xa0 portÃ© par le dÃ©putÃ© StÃ©phane Peu, prÃ©voit que trois membres du Conseil constitutionnel aient Â«Â\\xa0la qualitÃ© de professeur de droit des universitÃ©s ou de juge ayant exercÃ© effectivement au moins dix ans dans les juridictions administratives ou judiciaires franÃ§aisesÂ\\xa0Â».\\nLe profil de Richard Ferrand en question\\nAvec seulement deux annÃ©es dâ€™Ã©tudes de droit Ã\\xa0 son compteur, Richard Ferrand, ancien journaliste et ancien dirigeant dâ€™une agence de graphisme, ne sâ€™est guÃ¨re illustrÃ© par son travail de lÃ©gislateur. Durant ses dix ans passÃ©s Ã\\xa0 lâ€™AssemblÃ©e (2012-2022), il a Ã©tÃ© rapporteur de deux lois seulement, dont lâ€™une, la rÃ©vision institutionnelle de 2018, nâ€™a jamais abouti. Au perchoir, il a lancÃ© une rÃ©forme du rÃ¨glement de lâ€™AssemblÃ©e rÃ©duisant les prÃ©rogatives des parlementaires, qui a Ã©tÃ© adoptÃ©e grÃ¢ce aux seules voix de la majoritÃ©.\\nIl a Ã©galement Ã©tÃ© affaibli par lâ€™affaire des Mutuelles de Bretagne qui lui avait coÃ»tÃ© sa place au gouvernement enÂ\\xa02017, et pour laquelle il a obtenu un non-lieu au bÃ©nÃ©fice de la prescription. Â«Â\\xa0Je ne vois pas ce qui pourrait sâ€™opposer Ã\\xa0 ce quâ€™il soit dÃ©signÃ©Â\\xa0Â», a toutefois rÃ©torquÃ© dimanche sur RadioÂ\\xa0J le prÃ©sident du groupe centriste au SÃ©nat, HervÃ© Marseille. Lâ€™ElysÃ©e met, de son cÃ´tÃ©, en avant la qualitÃ© dâ€™ancien prÃ©sident de lâ€™AssemblÃ©e nationale de M.Â\\xa0Ferrand pour justifier son choix, fonction exercÃ©e par les deux derniers prÃ©sidents nommÃ©s, Jean-Louis DebrÃ©, enÂ\\xa02007, et de Laurent Fabius, enÂ\\xa02016.\\nLâ€™actuel prÃ©sident du Conseil constitutionnel, Laurent Fabius, prÃ©conisait, le 2Â\\xa0dÃ©cembreÂ\\xa02024, dâ€™instituer lâ€™exigence dâ€™une Â«Â\\xa0expÃ©rience juridique solideÂ\\xa0Â» pour les futurs conseillers. La politisation du Conseil inquiÃ¨te aussi les universitaires. De fait, si les nominations de MM.Â\\xa0Ferrand et Bas et de MmeÂ\\xa0Vichnievsky Ã©taient approuvÃ©es par le Parlement, il nâ€™y aurait plus que deux authentiques juristes â€“ sur neuf â€“ en son sein.\\n',\n",
       "              '{\"link\": \"https://www.lemonde.fr/politique/article/2025/02/09/droit-du-sol-le-ministre-de-l-economie-eric-lombard-estime-qu-il-n-y-a-pas-de-raison-de-durcir-les-regles_6538701_823448.html\", \"title\": \"Droit du sol\\\\u00a0: le ministre de l\\\\u2019\\\\u00e9conomie, Eric Lombard, estime qu\\\\u2019il n\\\\u2019y a \\\\u00ab\\\\u00a0pas de raison\\\\u00a0\\\\u00bb de durcir les r\\\\u00e8gles\"}',\n",
       "              'Droit du solÂ\\xa0: le ministre de lâ€™Ã©conomie, Eric Lombard, estime quâ€™il nâ€™y a Â«Â\\xa0pas de raisonÂ\\xa0Â» de durcir les rÃ¨gles\\nAlors que le sujet a Ã©tÃ© mis en dÃ©bat par le ministre de lâ€™intÃ©rieur, Bruno Retailleau, et le garde des sceaux, GÃ©rald Darmanin, tous deux issus de la droite, le ministre de lâ€™Ã©conomie, Eric Lombard, a estimÃ© dimanche 9Â\\xa0fÃ©vrier quâ€™il nâ€™y avait Â«Â\\xa0pas de raisonÂ\\xa0Â» de durcir les rÃ¨gles du droit du sol en France.\\nÂ«Â\\xa0Il me semble que le dispositif lÃ©gislatif actuel est tout Ã\\xa0 fait satisfaisantÂ\\xa0Â», a dÃ©clarÃ© le ministre, pour sa part venu de la gauche et ancien fidÃ¨le de Michel Rocard, lors dâ€™un entretien au Â«Â\\xa0Grand JuryÂ\\xa0Â», Ã©mission organisÃ©e par RTL, M6, Le Figaro et Public SÃ©nat.\\nDurcir les rÃ¨gles Â«Â\\xa0ne me paraÃ®t pas nÃ©cessaireÂ\\xa0Â», a-t-il insistÃ©, Â«Â\\xa0en termes de politique publique, il faut rÃ©pondre aux problÃ¨mes qui se posent et il me semble que cela nâ€™est pas un problÃ¨me qui se poseÂ\\xa0Â».\\nUn dÃ©bat qui monte au sein du gouvernement\\nM.Â\\xa0Lombard a en revanche refusÃ© de mettre sa dÃ©mission dans la balance si des mesures allant dans le sens dâ€™un durcissement du droit du sol Ã©taient approuvÃ©es. Â«Â\\xa0Il nâ€™y a pas de conflit, il y a des histoires personnelles et des expressions politiques diverses, et il y a une ligne dont [le premier ministre] FranÃ§ois Bayrou est garant et dans laquelle je me reconnaisÂ\\xa0Â», a-t-il dÃ©clarÃ©, estimant quâ€™il nâ€™y avait Â«Â\\xa0aucune mise en garde, aucune critiqueÂ\\xa0Â» dans ses propos.\\nÂ«Â\\xa0Si le gouvernement prenait cette dÃ©cisionÂ\\xa0Â», cela se ferait aprÃ¨s un Â«Â\\xa0dialogue et donc je soutiendrais cette position communeÂ\\xa0Â», a-t-il encore arguÃ©.\\nLe dÃ©bat sur un durcissement du droit du sol monte depuis plusieurs jours au sein du fragile gouvernement de FranÃ§ois Bayrou, dont le budget 2025 a Ã©tÃ© adoptÃ© cette semaine.\\nMM. Retailleau et Darmanin appellent Ã\\xa0 durcir les conditions de ce droit, qui permet aux enfants nÃ©s en France de parents Ã©trangers dâ€™accÃ©der automatiquement Ã\\xa0 la nationalitÃ© Ã\\xa0 18Â\\xa0ans. Vendredi, M.Â\\xa0Bayrou a ouvert la porte Ã\\xa0 un dÃ©bat sur le sujet, tout en dÃ©clarant souhaiter Â«Â\\xa0un dÃ©bat public approfondi et beaucoup plus large que Ã§aÂ\\xa0Â» sur Â«Â\\xa0ce que câ€™est quâ€™Ãªtre franÃ§aisÂ\\xa0Â».\\nLa ministre de lâ€™Ã©ducation, Elisabeth Borne, a, elle, dÃ©sapprouvÃ© lâ€™idÃ©e du garde des sceaux de modifier la Constitution pour rÃ©former lâ€™accÃ¨s au droit du sol. Â«Â\\xa0Je pense que ce que les FranÃ§ais attendent de nous, ce sont des actes et pas de renvoyer Ã\\xa0 une future modification constitutionnelleÂ\\xa0Â», a-t-elle dÃ©clarÃ© vendredi.\\nDimanche, lâ€™ancien prÃ©sident socialiste FranÃ§ois Hollande, a pour sa part jugÃ© Â«Â\\xa0inutileÂ\\xa0Â» de dÃ©battre sur la question du droit du sol, appelant Ã\\xa0 sâ€™en tenir aux Â«Â\\xa0rÃ¨gles qui existent dans notre pays, qui sont rÃ©publicainesÂ\\xa0Â».\\nM.Â\\xa0Hollande a exhortÃ© le chef du gouvernement Ã\\xa0 Â«Â\\xa0prendre des dÃ©cisionsÂ\\xa0Â», Ã\\xa0 Â«Â\\xa0agirÂ\\xa0Â», plutÃ´t quâ€™Ã\\xa0 Â«Â\\xa0ouvrir des dÃ©batsÂ\\xa0Â». Le patron du PS, Olivier Faure avait, lui, estimÃ© quâ€™un dÃ©bat sur lâ€™identitÃ© nationale nâ€™Ã©tait Â«Â\\xa0pas tabouÂ\\xa0Â».\\n',\n",
       "              '{\"link\": \"https://www.lemonde.fr/politique/article/2025/02/10/francois-bayrou-declenche-un-troisieme-49-3-sur-le-budget-de-la-secu-apres-l-echec-d-une-nouvelle-motion-de-censure_6540511_823448.html\", \"title\": \"Fran\\\\u00e7ois Bayrou d\\\\u00e9clenche un troisi\\\\u00e8me 49.3\\\\u00a0sur le budget de la \\\\u00ab\\\\u00a0S\\\\u00e9cu\\\\u00a0\\\\u00bb, apr\\\\u00e8s l\\\\u2019\\\\u00e9chec d\\\\u2019une nouvelle motion de censure\"}',\n",
       "              'FranÃ§ois Bayrou dÃ©clenche un troisiÃ¨me 49.3Â\\xa0sur le budget de la Â«Â\\xa0SÃ©cuÂ\\xa0Â», aprÃ¨s lâ€™Ã©chec dâ€™une nouvelle motion de censure\\nLâ€™AssemblÃ©e nationale a rejetÃ©, lundi 10Â\\xa0fÃ©vrier, une nouvelle motion de censure, dÃ©posÃ©e par La France insoumise (LFI) contre le recours de FranÃ§ois Bayrou Ã\\xa0 lâ€™articleÂ\\xa049.3Â\\xa0de la Constitution pour faire adopter sans vote la partie recettes du budget de la SÃ©curitÃ© sociale pour 2025. Contrairement aux trois prÃ©cÃ©dentes, la motion prÃ©sentÃ©e par les Â«Â\\xa0insoumisÂ\\xa0Â» ce lundi nâ€™Ã©tait pas signÃ©e par des dÃ©putÃ©s Ã©cologistes et communistes. Elle nâ€™a recueilli que 115 voix sur 289 nÃ©cessaires, en lâ€™absence du soutien des dÃ©putÃ©s du Rassemblement national et de leurs alliÃ©s ciottistes (126), et des soixante-six dÃ©putÃ©s du Parti socialiste (PS).\\nFace Ã\\xa0 un HÃ©micycle fortement clairsemÃ©, FranÃ§ois Bayrou a dÃ©fendu le besoin dâ€™un budget Â«Â\\xa0adoptÃ© dans les plus brefs dÃ©laisÂ\\xa0Â». La vice-prÃ©sidente LFI de lâ€™AssemblÃ©e NadÃ¨ge Abomangoli ayant appelÃ© Ã\\xa0 censurer un budget qui Â«Â\\xa0multiplie les trompe-lâ€™Å“ilÂ\\xa0Â» et un gouvernement qui Â«Â\\xa0parle et agit comme le Rassemblement nationalÂ\\xa0Â». ChahutÃ© par les Â«Â\\xa0insoumisÂ\\xa0Â», le socialiste JÃ©rÃ´me Guedj a assumÃ© la non-censure et a appelÃ© Ã\\xa0 Â«Â\\xa0un Grenelle du financementÂ\\xa0Â» de la Â«Â\\xa0SÃ©cuÂ\\xa0Â», mettant notamment sur la table le financement par Â«Â\\xa0les successionsÂ\\xa0Â», Â«Â\\xa0le patrimoineÂ\\xa0Â» ou encore une Â«Â\\xa0participation des retraitÃ©sÂ\\xa0Â».\\nLe premier ministre a engagÃ© juste aprÃ¨s un troisiÃ¨me 49.3Â\\xa0depuis la tribune de lâ€™HÃ©micycle, sur la derniÃ¨re partie du projet de loi concernant les dÃ©penses pour 2025. LFI a annoncÃ© dans la foulÃ©e le dÃ©pÃ´t dâ€™une nouvelle motion de censure. Â«Â\\xa0Aujourdâ€™hui, nous prÃ©sentons une nouvelle motion de censure. Pour protÃ©ger nos services publics. Pour les alternants qui vont payer cher ce budgetÂ\\xa0Â», a notamment Ã©crit sur X la dÃ©putÃ©e Â«Â\\xa0insoumiseÂ\\xa0Â» ClÃ©mence GuettÃ©. La motion devrait Ãªtre examinÃ©e dans la semaine.\\nConcessions du gouvernement aux socialistes\\nUne fois adoptÃ© Ã\\xa0 lâ€™AssemblÃ©e, le budget de la Â«Â\\xa0SÃ©cuÂ\\xa0Â» ira au SÃ©nat, oÃ¹ le gouvernement espÃ¨re une validation sans modification par la Chambre haute, a priori les 17 et 18Â\\xa0fÃ©vrier, qui vaudrait adoption dÃ©finitive au Parlement et viendrait clore la sÃ©quence budgÃ©taire. Le projet de loi, qui avait coÃ»tÃ© son poste Ã\\xa0 Michel Barnier, a depuis fait lâ€™objet de tractations, notamment entre lâ€™exÃ©cutif et le PS.\\nIl prÃ©voyait de contenir la hausse des dÃ©penses de santÃ© Ã\\xa0 +Â\\xa02,6Â\\xa0%, pour arriver Ã\\xa0 264,2Â\\xa0milliards dâ€™euros. Le gouvernement a promis de rÃ©viser cet objectif Ã\\xa0 +Â\\xa03,3Â\\xa0%. Une rallonge de plus de 1Â\\xa0milliard pour redonner de lâ€™air aux hÃ´pitaux. Lâ€™exÃ©cutif a aussi renoncÃ© Ã\\xa0 une hausse des tickets modÃ©rateurs (reste Ã\\xa0 charge du patient aprÃ¨s le remboursement de lâ€™Assurance-maladie), notamment sur les consultations mÃ©dicales, pour un coÃ»t chiffrÃ© Ã\\xa0 400Â\\xa0millions dâ€™euros.\\nLa censure a par ailleurs eu raison de la dÃ©sindexation des retraites sur lâ€™inflation, largement combattue dans lâ€™HÃ©micycle. AprÃ¨s un premier passage au SÃ©nat, le texte prÃ©voyait une nouvelle Â«Â\\xa0journÃ©e de solidaritÃ©Â\\xa0Â» en faveur du grand Ã¢ge, soit sept heures annuelles supplÃ©mentaires travaillÃ©es sans rÃ©munÃ©ration. Mais le gouvernement y a renoncÃ©.\\nLe projet initial prÃ©voyait un dÃ©ficit de 16Â\\xa0milliards dâ€™euros, mais le retard pris depuis la censure, certaines concessions non compensÃ©es et la dÃ©gradation des prÃ©visions macroÃ©conomiques conduisent le gouvernement Ã\\xa0 prÃ©voir un dÃ©ficit autour de 23Â\\xa0milliards dâ€™euros enÂ\\xa02025, un dÃ©ficit Â«Â\\xa0considÃ©rable et en progressionÂ\\xa0Â», a alertÃ© FranÃ§ois Bayrou, Ã©voquant une Â«Â\\xa0tÃ¢che immense pour lâ€™avenirÂ\\xa0Â».\\nM.Â\\xa0Bayrou avait dÃ©jÃ\\xa0 Ã©chappÃ© Ã\\xa0 deux motions de censure, mercredi dernier. Leur Ã©chec avait notamment permis lâ€™adoption du budget de lâ€™Etat pour 2025, grÃ¢ce Ã\\xa0 la dÃ©cision des socialistes et de lâ€™extrÃªme droite de ne pas censurer le gouvernement. Une premiÃ¨re motion de censure dÃ©posÃ©e par LFI avait dÃ©jÃ\\xa0 Ã©chouÃ© le 16Â\\xa0janvier.\\nLe PS a en revanche annoncÃ© quâ€™il dÃ©poserait une motion de censure dite Â«Â\\xa0spontanÃ©eÂ\\xa0Â» â€“Â\\xa0sans lien avec lâ€™adoption dâ€™un texte de loiÂ\\xa0â€“ contre le gouvernement de FranÃ§ois Bayrou pour protester contre les propos du premier ministre Ã©voquant une Â«Â\\xa0submersionÂ\\xa0Â» migratoire. Cette procÃ©dure est prÃ©vue par lâ€™articleÂ\\xa049.2 de la Constitution. Cette motion sera examinÃ©e le 19Â\\xa0fÃ©vrier, a fait savoir lundi le premier secrÃ©taire du PS, Olivier Faure, sur BFM-TV.\\n',\n",
       "              '{\"link\": \"https://www.lemonde.fr/politique/article/2025/02/09/gerald-darmanin-estime-que-pour-2027-il-faudra-bien-un-processus-de-selection-et-peut-etre-une-primaire-dans-le-camp-d-emmanuel-macron_6539082_823448.html\", \"title\": \"G\\\\u00e9rald Darmanin estime que pour 2027, \\\\u00ab\\\\u00a0il faudra bien un processus de s\\\\u00e9lection\\\\u00a0\\\\u00bb, et \\\\u00ab\\\\u00a0peut-\\\\u00eatre une primaire\\\\u00a0\\\\u00bb, dans le camp d\\\\u2019Emmanuel Macron\"}',\n",
       "              \"An error occurred: 'charmap' codec can't decode byte 0x9d in position 2017: character maps to <undefined>\",\n",
       "              '{\"link\": \"https://www.lemonde.fr/politique/article/2025/02/09/gerald-darmanin-propose-d-accelerer-les-procedures-d-expulsion-en-supprimant-une-commission-ad-hoc_6539049_823448.html\", \"title\": \"G\\\\u00e9rald Darmanin propose d\\\\u2019acc\\\\u00e9l\\\\u00e9rer les proc\\\\u00e9dures d\\\\u2019expulsion en supprimant une commission ad hoc\"}',\n",
       "              'GÃ©rald Darmanin propose dâ€™accÃ©lÃ©rer les procÃ©dures dâ€™expulsion en supprimant une commission ad hoc\\nLe garde des sceaux, GÃ©rald Darmanin, a proposÃ©, dimanche 9Â\\xa0fÃ©vrier sur BFM-TV, dâ€™accÃ©lÃ©rer les procÃ©dures dâ€™expulsion en supprimant une commission ad hoc, aprÃ¨s lâ€™annulation par la justice administrative de lâ€™expulsion de Â«Â\\xa0DoualemnÂ\\xa0Â», surnom de lâ€™influenceur algÃ©rien Boualem Naman. Â«Â\\xa0Ce quâ€™a dit le tribunal administratif, câ€™est quâ€™on ne pouvait pas passer par la procÃ©dure dâ€™urgence, rÃ©servÃ©e aux agents trÃ¨s dangereux, type terroristeÂ\\xa0Â», a poursuivi M. Darmanin.\\nÂ«Â\\xa0Si la cour dâ€™appel ou le Conseil dâ€™Etat ne devaient pas donner raison au ministre de lâ€™intÃ©rieurÂ\\xa0Â», qui a fait appel, Â«Â\\xa0il faudra[it] changer la loiÂ\\xa0Â» car Â«Â\\xa0la France doit pouvoir expulser les personnes Ã©trangÃ¨res de son territoireÂ\\xa0Â», a encore assurÃ© le ministre.\\nÂ«Â\\xa0Quand vous passez par la procÃ©dure dâ€™urgence, câ€™est plus rapide, vous ne passez pas devant la Comex [la commission dâ€™expulsion des Ã©trangers], une commission de magistrats qui dÃ©cident si vous avez raison ou pasÂ\\xa0Â», a remarquÃ© le locataire de la place VendÃ´me.\\nÂ«Â\\xa0Faut-il supprimer la ComexÂ\\xa0? OuiÂ\\xa0Â»\\nÂ«Â\\xa0Faut-il supprimer la ComexÂ\\xa0? OuiÂ\\xa0Â», a affirmÃ© GÃ©rald Darmanin. MÃªme si elle donne un Â«Â\\xa0avis consultatifÂ\\xa0Â» quâ€™il lui Â«Â\\xa0est arrivÃ©Â\\xa0Â» de ne pas suivre quand il Ã©tait Ã\\xa0 lâ€™intÃ©rieur, les dÃ©cisions dâ€™expulsion Â«Â\\xa0Ã§a prend beaucoup de tempsÂ\\xa0Â» et Â«Â\\xa0les FranÃ§ais se demandent pourquoi perdre autant de tempsÂ\\xa0Â».\\nM.Â\\xa0Darmanin a par ailleurs dit que son homologue Ã\\xa0 lâ€™intÃ©rieur, Bruno Retailleau, Â«Â\\xa0a raison de vouloir expulser des gens (â€¦) qui crachent sur la FranceÂ\\xa0Â». Â«Â\\xa0Il a raison, oui, mille fois oui. On a de la chance de lâ€™avoir Place BeauvauÂ\\xa0Â», a insistÃ© celui qui occupait auparavant ce poste.\\nSur le maire de BÃ©ziers, Robert MÃ©nard, qui doit Ãªtre jugÃ© le 18Â\\xa0fÃ©vrier par le tribunal de Montpellier pour avoir refusÃ© Ã\\xa0 lâ€™Ã©tÃ© 2023 de cÃ©lÃ©brer le mariage entre une FranÃ§aise et un ressortissant algÃ©rien en situation irrÃ©guliÃ¨re, M.Â\\xa0Darmanin a dit son souhait que la loi Â«Â\\xa0changeÂ\\xa0Â» pour que le maire puisse Â«Â\\xa0sâ€™opposer Ã\\xa0 un mariageÂ\\xa0Â» et a annoncÃ© quâ€™il soutiendrait une proposition de loi en ce sens.\\nRefus de Â«Â\\xa0lâ€™automaticitÃ©Â\\xa0Â»\\nGÃ©rald Darmanin est par ailleurs revenu dimanche soir sur sa proposition de remettre en cause le droit du sol. Â«Â\\xa0Je souhaite quâ€™un enfant nÃ© en France de parents Ã©trangers, lorsquâ€™il aura 16, 18, 20, 21 ans â€“Â\\xa0on peut discuter de cet Ã¢geÂ\\xa0â€“, puisse exprimer une volontÃ© pour devenir franÃ§aisÂ\\xa0Â», a dit M. Darmanin.\\nÂ«Â\\xa0Il faut vouloir Ãªtre franÃ§ais, il faut parler sa langue, connaÃ®tre son histoire, il [ne] sâ€™agit pas de distinguer les gens par leur religion, origine ou couleur de peau, il faut que quelquâ€™un veuille devenir franÃ§aisÂ\\xa0Â», a plaidÃ© M. Darmanin, refusant lâ€™Â«Â\\xa0automaticitÃ©Â\\xa0Â».\\nÂ«Â\\xa0Câ€™est pas une rÃ©volution, câ€™est une Ã©volution radicale, jâ€™assume de [la] porterÂ\\xa0Â», a-t-il dit. Si ce dÃ©bat divise la coalition gouvernementale,Â\\xa0Â«Â\\xa0sur lâ€™essentiel on est dâ€™accordÂ\\xa0Â», a assurÃ© M.Â\\xa0Darmanin.\\nEt sur ce sujet duÂ\\xa0Â«Â\\xa0droit du sol, je ne dis pas que le gouvernement doit trancher ces questions la semaine prochaine, je pense que lâ€™Ã©lection prÃ©sidentielle la trancheraÂ\\xa0Â», a-t-il prÃ©cisÃ©.\\n\\n',\n",
       "              '{\"link\": \"https://www.lemonde.fr/politique/article/2025/02/10/mayotte-les-parlementaires-s-entendent-sur-un-texte-pour-la-reconstruction-de-l-archipel-devaste-par-le-cyclone-chido_6540445_823448.html\", \"title\": \"Mayotte\\\\u00a0: les parlementaires s\\\\u2019entendent sur un texte pour la reconstruction de l\\\\u2019archipel, d\\\\u00e9vast\\\\u00e9 par le cyclone Chido\"}',\n",
       "              'MayotteÂ\\xa0: les parlementaires sâ€™entendent sur un texte pour la reconstruction de lâ€™archipel, dÃ©vastÃ© par le cyclone Chido\\nIl sâ€™agit dâ€™un premier pas pour remettre en Ã©tat le dÃ©partement dÃ©vastÃ© par le passage du cyclone Chido, il y a deux mois. Un compromis a Ã©tÃ© trouvÃ©, lundi 10Â\\xa0fÃ©vrier, entre sÃ©nateurs et dÃ©putÃ©s autour du projet de loi dâ€™urgence pour la reconstruction de Mayotte. Lâ€™accord ouvre la voie Ã\\xa0 lâ€™adoption dÃ©finitive du premier projet de loi du gouvernement de FranÃ§ois Bayrou, aprÃ¨s un ultime vote Ã\\xa0 lâ€™AssemblÃ©e nationale prÃ©vu mercredi, puis au SÃ©nat jeudi.\\nLe texte issu dâ€™une commission mixte paritaire rÃ©unissant quatorze parlementaires des deux chambres a Ã©tÃ© votÃ© Â«Â\\xa0Ã\\xa0 lâ€™unanimitÃ©Â\\xa0Â» des votants aprÃ¨s des Â«Â\\xa0dÃ©bats apaisÃ©sÂ\\xa0Â», les sÃ©nateurs et dÃ©putÃ©s ayant Â«Â\\xa0bien en tÃªte quâ€™il y a urgence Ã\\xa0 la mise en Å“uvre de la reconstructionÂ\\xa0Â», sâ€™est fÃ©licitÃ©e la dÃ©putÃ©e macroniste Marie Lebec, confirmant les dÃ©clarations de plusieurs autres parlementaires interrogÃ©s par lâ€™Agence France-Presse (AFP).\\nConsensuel bien que jugÃ© trÃ¨s insuffisant par de nombreux Ã©lus, le projet de loi prÃ©voit principalement des assouplissements des rÃ¨gles dâ€™urbanisme et de commande publique, ainsi que quelques mesures sociales, comme des facilitÃ©s fiscales ou des allÃ¨gements de cotisations sociales.\\nDispense dâ€™autorisation dâ€™urbanisme\\nLe compromis trouvÃ© a notamment confirmÃ© une dispense dâ€™autorisation dâ€™urbanisme pour les constructions temporaires destinÃ©es Ã\\xa0 loger le personnel dÃ©pÃªchÃ© pour la reconstruction, pour abriter les bureaux des services publics dont les locaux ont Ã©tÃ© dÃ©truits, ou pour crÃ©er des classes dÃ©montables. SupprimÃ©e Ã\\xa0 lâ€™AssemblÃ©e nationale, cette mesure a Ã©tÃ© rÃ©introduite dans une version plus Â«Â\\xa0sÃ©curisÃ©eÂ\\xa0Â» par les sÃ©nateurs, actant notamment une durÃ©e maximale de deux ans pour ces constructions temporaires.\\nA la demande des Ã©lus mahorais, une majoritÃ© de dÃ©putÃ©s sâ€™Ã©taient opposÃ©s Ã\\xa0 ces constructions temporaires, y voyant un risque quâ€™elles soient pÃ©rennisÃ©es aprÃ¨s la reconstruction. Les dÃ©putÃ©s et sÃ©nateurs se sont Ã©galement entendus pour reporter du 31Â\\xa0mars au 30Â\\xa0juin le renouvellement automatique des droits et des prestations sociales des rÃ©sidents mahorais, sans justificatif.\\nIls ont maintenu une mesure introduite par le gouvernement Ã\\xa0 la Chambre haute pour les propriÃ©taires, qui pourront souscrire un prÃªt Ã\\xa0 taux zÃ©ro pour rÃ©habiliter leur logement, dans la limite de 50Â\\xa0000Â\\xa0euros.\\nEnfin, ils ont Ã©galement rÃ©tabli deux demandes de rapports du gouvernement introduites par les dÃ©putÃ©s, mais supprimÃ©es au SÃ©nat, lâ€™un portant sur le bilan, notamment humain, de la catastrophe, qui a officiellement fait 39Â\\xa0morts, et lâ€™autre sur les disparitÃ©s entre les montants des prestations sociales versÃ©es Ã\\xa0 Mayotte et ceux versÃ©s en France mÃ©tropolitaine.\\n',\n",
       "              '{\"link\": \"https://www.lemonde.fr/sante/article/2025/02/10/maladie-de-charcot-le-parlement-adopte-une-amelioration-de-la-prise-en-charge_6540687_1651302.html\", \"title\": \"Maladie de Charcot\\\\u00a0: le Parlement adopte une am\\\\u00e9lioration de la prise en charge\"}',\n",
       "              'Maladie de CharcotÂ\\xa0: le Parlement adopte une amÃ©lioration de la prise en charge\\nLâ€™AssemblÃ©e nationale a approuvÃ© Ã\\xa0 lâ€™unanimitÃ©, lundi 10Â\\xa0fÃ©vrier, un texte visant Ã\\xa0 amÃ©liorer la prise en charge des patients atteints de la maladie de Charcot. Il prÃ©voit notamment dâ€™accÃ©lÃ©rer la procÃ©dure leur permettant de toucher la prestation de compensation du handicap (PCH).\\nLe texte, portÃ© initialement au SÃ©nat par Gilbert Bouchet (LR), lui-mÃªme atteint de la maladie et sous respirateur, a Ã©tÃ© adoptÃ© dans des termes identiques dans lâ€™HÃ©micycle. Il entrera en vigueur une fois les dÃ©crets dâ€™application parus.\\nLa maladie de Charcot, Ã©galement nommÃ©e sclÃ©rose latÃ©rale amyotrophique (SLA), condamne les patients touchÃ©s Ã\\xa0 une paralysie progressive qui gagne lâ€™ensemble du corps et aboutit ensuite Ã\\xa0 la mort de la personne touchÃ©e en trois Ã\\xa0 cinq ans en moyenne.\\nException Ã\\xa0 la barriÃ¨re dâ€™Ã¢ge pour toucher la PCH\\nLe texte entend remÃ©dier aux longs dÃ©lais de traitement des demandes dâ€™obtention de la PCH, attribuÃ©e pour faire face aux besoins humains et techniques des malades. Ce dÃ©lai moyen, dâ€™un peu moins de six mois, est jugÃ© incompatible avec ces maladies dont les symptÃ´mes sâ€™aggravent parfois trÃ¨s rapidement.\\nIl prÃ©voit ainsi une Â«Â\\xa0procÃ©dure dÃ©rogatoireÂ\\xa0Â» de traitement des demandes de PCH, priorisant et accÃ©lÃ©rant le traitement des cas de Â«Â\\xa0pathologies dâ€™Ã©volution rapide et causant des handicaps sÃ©vÃ¨res et irrÃ©versiblesÂ\\xa0Â», comme la maladie de Charcot. La liste des maladies concernÃ©es sera dÃ©finie par dÃ©cret.\\nAutre Ã©cueil identifiÃ© par les auteurs du texte, une Â«Â\\xa0barriÃ¨re dâ€™Ã¢geÂ\\xa0Â» qui limite le bÃ©nÃ©fice de la PCH aux patients la demandant avant 60Â\\xa0ans, octroyant aux malades plus Ã¢gÃ©s une autre aide, lâ€™allocation personnalisÃ©e dâ€™autonomie (APA), moins avantageuse. Le texte introduit ainsi une exception Ã\\xa0 cette barriÃ¨re dâ€™Ã¢ge pour les patients atteints dâ€™une maladie Ã©volutive grave telle que la maladie de Charcot, leur permettant de bÃ©nÃ©ficier de la PCH aprÃ¨s 60Â\\xa0ans.\\nAu banc, la ministre dÃ©lÃ©guÃ©e chargÃ©e des personnes handicapÃ©es, Charlotte Parmentier-Lecocq, a apportÃ© son soutien au texte, malgrÃ© des rÃ©serves sur la dÃ©rogation Ã\\xa0 la barriÃ¨re dâ€™Ã¢ge de 60Â\\xa0ans, craignant une Â«Â\\xa0rupture dâ€™Ã©galitÃ© avec lâ€™ensemble des personnes concernÃ©es par une autre pathologie ou un handicapÂ\\xa0Â».\\n',\n",
       "              '{\"link\": \"https://www.lemonde.fr/societe/article/2025/02/10/a-paris-l-homme-qui-s-etait-attaque-a-trois-policiers-devant-la-prefecture-de-police-mis-en-examen_6540200_3224.html\", \"title\": \"A Paris, l\\\\u2019homme qui s\\\\u2019\\\\u00e9tait attaqu\\\\u00e9 \\\\u00e0 trois policiers devant la Pr\\\\u00e9fecture de police mis en examen\"}',\n",
       "              \"An error occurred: 'charmap' codec can't decode byte 0x9d in position 2294: character maps to <undefined>\",\n",
       "              '{\"link\": \"https://www.lemonde.fr/societe/article/2025/02/10/accusations-de-chantage-a-la-sextape-au-senat-proces-annule-apres-le-retrait-de-plainte-d-un-ex-senateur_6540615_3224.html\", \"title\": \"Accusations de chantage \\\\u00e0 la \\\\u00ab\\\\u00a0sextape\\\\u00a0\\\\u00bb au S\\\\u00e9nat\\\\u00a0: proc\\\\u00e8s annul\\\\u00e9 apr\\\\u00e8s le retrait de plainte d\\\\u2019un ex-s\\\\u00e9nateur\"}',\n",
       "              'Accusations de chantage Ã\\xa0 la Â«Â\\xa0sextapeÂ\\xa0Â» au SÃ©natÂ\\xa0: procÃ¨s annulÃ© aprÃ¨s le retrait de plainte dâ€™un ex-sÃ©nateur\\nLe tribunal correctionnel de Paris a annoncÃ© lâ€™abandon des poursuites contre deux anciens salariÃ©s du palais du Luxembourg dans lâ€™affaire de la Â«Â\\xa0sextapeÂ\\xa0Â» du SÃ©nat, lundi 10Â\\xa0fÃ©vrier, aprÃ¨s le retrait de la plainte dâ€™un ex-sÃ©nateur, partie civile dans la procÃ©dure. Dans la salle dâ€™audience, les deux anciens employÃ©s ont Ã©coutÃ© le procureur expliquer quâ€™il nâ€™y aurait pas de procÃ¨s, le retrait de plainte de la partie civile signifiant dans leur dossier la fin des poursuites pÃ©nales contre eux.\\nFlorence R., ancienne assistante du cabinet mÃ©dical du SÃ©nat et le docteur ElÂ\\xa0HassanÂ\\xa0L. Ã©taient poursuivis pour atteinte Ã\\xa0 la vie privÃ©e Â«Â\\xa0par fixation, enregistrement ou transmission de lâ€™image dâ€™une personne prÃ©sentant un caractÃ¨re sexuelÂ\\xa0Â». A lâ€™issue de la courte audience annonÃ§ant la fin des poursuites, le docteur ElÂ\\xa0HassanÂ\\xa0L. a regrettÃ© quâ€™on le prive de la possibilitÃ© de sâ€™exprimer sur cette affaire. Lui et son ancienne assistante encouraient jusquâ€™Ã\\xa0 deux ans dâ€™emprisonnement et 60Â\\xa0000Â\\xa0euros dâ€™amende.\\nLâ€™affaire remonte Ã\\xa0 un article du Canard enchaÃ®nÃ© publiÃ© dÃ©but fÃ©vrierÂ\\xa02024 et intitulÃ© Â«Â\\xa0La sextape qui affole le SÃ©natÂ\\xa0Â», selon lequel cette vidÃ©o impliquant Â«Â\\xa0un sÃ©nateurÂ\\xa0Â» aurait Ã©tÃ© Â«Â\\xa0un moyen de pressionÂ\\xa0Â» utilisÃ© par lâ€™assistante mÃ©dicale pour demander une augmentation.\\nVisÃ© par un licenciement, le docteur ElÂ\\xa0HassanÂ\\xa0L. avait envoyÃ© un courrier aux 348Â\\xa0sÃ©nateurs\\nUne fois lâ€™affaire Ã©bruitÃ©e dans la presse, GÃ©rard Larcher, prÃ©sident de la Chambre haute, avait saisi la justice concernant Â«Â\\xa0une potentielle sextape utilisÃ©e Ã\\xa0 des fins de chantageÂ\\xa0Â» au sein du palais du Luxembourg.\\nSur les images vidÃ©o enregistrÃ©es par une femme correspondant Ã\\xa0 Florence R., un sÃ©nateur Â«Â\\xa0apparaissait nu dans une chambre ou se rhabillant dans un bureau du SÃ©natÂ\\xa0Â» aprÃ¨s des rapports intimes avec cette personne. M.Â\\xa0ElÂ\\xa0HassanÂ\\xa0L. aurait Ã©tÃ© en possession de ces vidÃ©os intimes et aurait informÃ© sa hiÃ©rarchie de leur existence avant lâ€™article du Canard enchaÃ®nÃ©. VisÃ© par un licenciement, le mÃ©decin avait envoyÃ© un courrier aux 348Â\\xa0sÃ©nateurs dans lequel il accusait le SÃ©nat dâ€™une Â«Â\\xa0cabaleÂ\\xa0Â» Ã\\xa0 son encontre.\\nUne source haut placÃ©e au palais du Luxembourg justifiait ce licenciement Ã\\xa0 lâ€™Agence France-Presse par la dÃ©couverte dâ€™une Â«Â\\xa0activitÃ© professionnelle [exercÃ©e] en parallÃ¨le de ses fonctionsÂ\\xa0Â» par le mÃ©decin du SÃ©nat, activitÃ© qui Â«Â\\xa0a compromis gravement le bon fonctionnement du cabinet mÃ©dical et de lâ€™Ã©quipe administrativeÂ\\xa0Â».\\n',\n",
       "              '{\"link\": \"https://www.lemonde.fr/societe/article/2025/02/09/collegienne-de-11-ans-poignardee-en-essonne-la-police-procede-a-une-fouille-minutieuse-du-bois_6538841_3224.html\", \"title\": \"Meurtre de Louise en Essonne\\\\u00a0: la police a proc\\\\u00e9d\\\\u00e9 \\\\u00e0 une \\\\u00ab\\\\u00a0fouille minutieuse\\\\u00a0\\\\u00bb du bois\"}',\n",
       "              'Meurtre de Louise en EssonneÂ\\xa0: la police a procÃ©dÃ© Ã\\xa0 une Â«Â\\xa0fouille minutieuseÂ\\xa0Â» du bois\\nUn Â«Â\\xa0important dispositif de policeÂ\\xa0Â» a Ã©tÃ© dÃ©ployÃ© dimanche aprÃ¨s-midi, selon le parquet dâ€™Evry, pour procÃ©der Ã\\xa0 des fouilles dans un bois de Longjumeau (Essonne), oÃ¹ a Ã©tÃ© retrouvÃ© dans la nuit de vendrediÂ\\xa07Â\\xa0Ã\\xa0 samedi 8Â\\xa0fÃ©vrier, le corps de Louise, une collÃ©gienne de 11Â\\xa0ans.\\nDans un communiquÃ©, le procureur de la RÃ©publique Ã\\xa0 Evry, GrÃ©goire Dulin, prÃ©cise que plus de 120 fonctionnaires de la police nationale ont Ã©tÃ© mobilisÃ©s Â«Â\\xa0pour procÃ©der Ã\\xa0 une fouille minutieuse du bois des TempliersÂ\\xa0Â». Lâ€™objectif des fouilles Ã©tait Â«Â\\xa0la recherche de tout Ã©lÃ©ment potentiellement laissÃ© par lâ€™auteurÂ\\xa0Â», a par ailleurs dÃ©clarÃ© Ã\\xa0 lâ€™Agence France-Presse (AFP) une source proche du dossier.\\nToujours selon lâ€™AFP, les recherches ont pris fin Ã\\xa0 la tombÃ©e de la nuit.\\nUne enquÃªte pour meurtre sur mineur, Â«Â\\xa0confiÃ©e Ã\\xa0 la direction de la criminalitÃ© organisÃ©e et spÃ©cialisÃ©e des Yvelines (DCOS 78) en cosaisine avec la direction nationale de la police judiciaireÂ\\xa0Â», avait Ã©tÃ© ouverte samedi dans la matinÃ©e par le parquet dâ€™Evry, aprÃ¨s la macabre dÃ©couverte Ã\\xa0 Longjumeau, une ville de banlieue situÃ©e Ã\\xa0 une vingtaine de kilomÃ¨tres au sud de Paris.\\nLa jeune fille avait disparu Ã\\xa0 la sortie de son collÃ¨ge Ã\\xa0 Epinay-sur-Orge, une ville limitrophe, vendredi aprÃ¨s-midi. AprÃ¨s des recherches nocturnes, son corps a Ã©tÃ© retrouvÃ© dans le bois des Templiers Ã\\xa0 2Â\\xa0hÂ\\xa030, selon le procureur de la RÃ©publique. Elle a Ã©tÃ© agressÃ©e Â«Â\\xa0avec un objet tranchant dans les parties vitalesÂ\\xa0Â», a dÃ©clarÃ© samedi soir le parquet dâ€™Evry.\\nCe dernier a Ã©galement annoncÃ© quâ€™un couple placÃ© en garde Ã\\xa0 vue avait Ã©tÃ© relÃ¢chÃ©, Â«Â\\xa0sans poursuite Ã\\xa0 ce stadeÂ\\xa0Â». Â«Â\\xa0Les investigations se poursuivent pour dÃ©terminer les circonstances de ces faits criminels et identifier le ou les auteursÂ\\xa0Â», concluait la mÃªme source, dans la soirÃ©e.\\n\\n',\n",
       "              '{\"link\": \"https://www.lemonde.fr/societe/article/2025/02/09/jack-lang-dit-avoir-ete-pousse-a-terre-lors-d-un-rassemblement-contre-la-pedocriminalite-une-enquete-ouverte-pour-violences-volontaires-en-reunion_6538600_3224.html\", \"title\": \"Jack Lang dit avoir \\\\u00e9t\\\\u00e9 \\\\u00ab\\\\u00a0pouss\\\\u00e9 \\\\u00e0 terre\\\\u00a0\\\\u00bb lors d\\\\u2019un rassemblement contre la p\\\\u00e9docriminalit\\\\u00e9\\\\u00a0; une enqu\\\\u00eate est ouverte pour \\\\u00ab\\\\u00a0violences volontaires en r\\\\u00e9union\\\\u00a0\\\\u00bb\"}',\n",
       "              \"An error occurred: 'charmap' codec can't decode byte 0x9d in position 848: character maps to <undefined>\",\n",
       "              '{\"link\": \"https://www.lemonde.fr/societe/article/2025/02/10/meurtre-de-louise-un-homme-et-une-femme-places-en-garde-a-vue_6540547_3224.html\", \"title\": \"Meurtre de Louise\\\\u00a0: un homme et une femme plac\\\\u00e9s en garde \\\\u00e0 vue\"}',\n",
       "              'Meurtre de LouiseÂ\\xa0: un homme et une femme placÃ©s en garde Ã\\xa0 vue\\nUn homme et sa mÃ¨re ont Ã©tÃ© interpellÃ©s et placÃ©s en garde Ã\\xa0 vue, lundi 10Â\\xa0fÃ©vrier dans lâ€™aprÃ¨s-midi, dans le cadre de lâ€™enquÃªte sur le meurtre de Louise, 11Â\\xa0ans, dont le corps a Ã©tÃ© retrouvÃ© dans un bois Ã\\xa0 Longjumeau (Essonne), a annoncÃ© le parquet dâ€™Evry. Lâ€™homme, Ã¢gÃ© de 23Â\\xa0ans, est mis en cause pour meurtre sur une mineure de moins de 15Â\\xa0ans, tandis que sa mÃ¨re, Ã¢gÃ©e de 55Â\\xa0ans, est mise en cause pour non-dÃ©nonciation de crime.\\nIls ont Ã©tÃ© arrÃªtÃ©s Ã\\xa0 Rouen (Seine-Maritime) par les enquÃªteurs de la division de la criminalitÃ© organisÃ©e et spÃ©cialisÃ©e de Versailles (DCOS, ex PJ), a dÃ©taillÃ© le procureur de la RÃ©publique dâ€™Evry, GrÃ©goire Dulin. Â«Â\\xa0Des vÃ©rifications sont en cours afin de dÃ©terminer leur Ã©ventuelle implication dans la commission de ces faitsÂ\\xa0Â», a-t-il prÃ©cisÃ© Ã\\xa0 lâ€™Agence France-Presse. AjoutantÂ\\xa0: Â«Â\\xa0Dans lâ€™attente, le parquet rappelle que chaque personne placÃ©e en garde Ã\\xa0 vue bÃ©nÃ©ficie du droit au respect de la prÃ©somption dâ€™innocenceÂ\\xa0Â».\\nLouise avait disparu Ã\\xa0 la sortie de son collÃ¨ge Ã\\xa0 Epinay-sur-Orge vendredi aprÃ¨s-midi. AprÃ¨s des recherches nocturnes, son corps a Ã©tÃ© retrouvÃ© dans le bois des Templiers Ã\\xa0 2Â\\xa0hÂ\\xa030 samedi, Ã\\xa0 quelques centaines de mÃ¨tres de son Ã©tablissement scolaire. Lâ€™autopsie, rÃ©alisÃ©e Ã\\xa0 lâ€™institut mÃ©dico-lÃ©gal de Corbeil-Essonnes, a permis Â«Â\\xa0de relever la prÃ©sence de trÃ¨s nombreuses plaies commises avec un objet tranchant dans les zones vitalesÂ\\xa0Â», selon le parquet.\\nUne enquÃªte pour meurtre sur mineur a Ã©tÃ© ouverte samedi et confiÃ©e Ã\\xa0 la direction de la criminalitÃ© organisÃ©e et spÃ©cialisÃ©e des Yvelines (DCOS 78) en cosaisine avec la direction nationale de la police judiciaire.\\nUne cellule dâ€™Ã©coute mise en place dans son collÃ¨ge\\nDes fouilles ont Ã©tÃ© menÃ©es dimanche jusquâ€™en fin dâ€™aprÃ¨s-midi dans le bois des Templiers. Selon une source proche du dossier, le tÃ©lÃ©phone de la victime a Ã©tÃ© retrouvÃ© Ã\\xa0 proximitÃ© de son corps.\\nUn couple dâ€™une vingtaine dâ€™annÃ©es avait Ã©tÃ© placÃ© en garde Ã\\xa0 vue samedi avant dâ€™Ãªtre relÃ¢chÃ© sans poursuites. Le parquet a prÃ©cisÃ© que lâ€™homme interpellÃ© lundi nâ€™Ã©tait pas celui qui a Ã©tÃ© libÃ©rÃ© ce week-end.\\nLundi, les Ã©lÃ¨ves du collÃ¨ge AndrÃ©-Maurois, sont retournÃ©s en classe dans la stupeur et lâ€™incomprÃ©hension. Devant lâ€™entrÃ©e de lâ€™Ã©tablissement, gardÃ©e par un important dispositif policier, de nombreux bouquets et bougies avaient Ã©tÃ© disposÃ©s pour rendre hommage Ã\\xa0 lâ€™adolescente.\\nLe dÃ©but des cours avait Ã©tÃ© dÃ©calÃ© dâ€™une heure lundi et une cellule dâ€™Ã©coute pour le personnel et les Ã©lÃ¨ves a Ã©tÃ© ouverte au sein de lâ€™Ã©tablissement. Elle sera maintenue toute la semaine auprÃ¨s des collÃ©giens, selon le rectorat de lâ€™acadÃ©mie de Versailles. DÃ¨s le week-end, une cellule dâ€™Ã©coute psychologique coordonnÃ©e par le SAMU avait Ã©tÃ© installÃ©e dans la mairie dâ€™Epinay-sur-Orge. La ville et sa voisine, Longjumeau, ont aussi mis en place un dispositif de sÃ©curitÃ© sur les trajets du collÃ¨ge.\\nLa mairie de Longjumeau a annoncÃ© lundi aprÃ¨s-midi quâ€™aucune marche blanche ne serait organisÃ©e Â«Â\\xa0afin de permettre Ã\\xa0 la famille de faire son deuil dans la plus stricte intimitÃ©Â\\xa0Â». Des salles de recueillement seront nÃ©anmoins ouvertes dans la ville et Ã\\xa0 Epinay-sur-Orge entre mardi et vendredi, a prÃ©cisÃ© la municipalitÃ©.\\n',\n",
       "              '{\"link\": \"https://www.lemonde.fr/sport/article/2025/02/10/le-cio-vise-par-une-plainte-de-la-federation-internationale-de-boxe-pour-la-participation-d-imane-khelif-et-de-lin-yu-ting-aux-jo-de-paris_6540306_3242.html\", \"title\": \"Le CIO vis\\\\u00e9 par une plainte de la f\\\\u00e9d\\\\u00e9ration internationale de boxe pour la participation d\\\\u2019Imane Khelif et de Lin Yu-ting aux JO de Paris\"}',\n",
       "              'Le CIO visÃ© par une plainte de la fÃ©dÃ©ration internationale de boxe pour la participation dâ€™Imane Khelif et de Lin Yu-ting aux JO de Paris\\nExclue du mouvement olympique depuis 2019, lâ€™Association internationale de boxe amateur (IBA), fÃ©dÃ©ration internationale de la discipline, continue son combat contre le ComitÃ© international olympique (CIO) sur le terrain judiciaire. Lâ€™instance prÃ©sidÃ©e par le Russe Umar Kremlev a annoncÃ©, lundi 10Â\\xa0fÃ©vrier dans un communiquÃ©, quâ€™elle dÃ©posait plainte en Suisse auprÃ¨s du procureur gÃ©nÃ©ral de la ConfÃ©dÃ©ration.\\nEn causeÂ\\xa0: la participation de lâ€™AlgÃ©rienne Imane Khelif et de la TaÃ¯wanaise Lin Yu-ting aux tournois de qualification, puis aux Jeux olympiques de Paris, oÃ¹ elles ont Ã©tÃ© respectivement sacrÃ©es chez les moins de 66Â\\xa0kg et les moins de 57Â\\xa0kg. Â«Â\\xa0Selon la loi suisse, toute action ou inaction qui prÃ©sente un risque pour la sÃ©curitÃ© des participants Ã\\xa0 une compÃ©tition mÃ©rite une enquÃªte et peut servir de base Ã\\xa0 des poursuites pÃ©nalesÂ\\xa0Â», avance lâ€™IBA dans son texte, ajoutant quâ€™elle prÃ©pare des plaintes similaires en France et aux Etats-Unis.\\nLes deux athlÃ¨tes, qui ont toujours concouru chez les femmes, avaient Ã©tÃ© Ã©cartÃ©es des championnats du monde organisÃ©s par lâ€™IBA, enÂ\\xa02023, lâ€™instance estimant quâ€™elles seraient porteuses de chromosomes XY. Une forme parmi dâ€™autres de Â«Â\\xa0diffÃ©rence de dÃ©veloppement sexuelÂ\\xa0Â» (DDS), autrefois appelÃ©e intersexualitÃ©, et qui touche selon les Ã©tudes une naissance sur 1Â\\xa0000 Ã\\xa0 4Â\\xa0500, mais lâ€™organisation y voit, elle, une preuve de masculinitÃ©.\\nSuspendue par le CIO en raison de ses multiples problÃ¨mes de gouvernance, lâ€™IBA nâ€™est plus autorisÃ©e Ã\\xa0 superviser les tournois olympiques depuis celui de Tokyo, enÂ\\xa02021. Lâ€™organisation faÃ®tiÃ¨re du sport mondial, qui a rÃ©cupÃ©rÃ© cette mission, sâ€™appuie sur les passeports des deux boxeuses pour faire taire une polÃ©mique ayant dÃ©jÃ\\xa0 empoisonnÃ© les Jeux de Paris. InterrogÃ© sur le cas dâ€™Imane Khelif, son porte-parole a ainsi rappelÃ© quâ€™elle Ã©tait Â«Â\\xa0nÃ©e femme, enregistrÃ©e comme femme, vit sa vie en tant que femme et boxe en tant que femmeÂ\\xa0Â».\\nMais lâ€™IBA sâ€™estime confortÃ©e dans son offensive par le dÃ©cret signÃ© le 5Â\\xa0fÃ©vrier par le prÃ©sident des Etats-Unis, Donald Trump, visant Ã\\xa0 empÃªcher les sportives transgenres de concourir dans les catÃ©gories fÃ©minines. Et ce bien que ni Imane Khelif ni Lin Yu-ting ne soient concernÃ©es.\\n',\n",
       "              '{\"link\": \"https://www.lemonde.fr/sport/article/2025/02/09/tennis-cinq-mois-plus-tard-caroline-garcia-retrouve-le-gout-de-la-victoire_6538839_3242.html\", \"title\": \"Tennis\\\\u00a0: cinq mois plus tard, Caroline Garcia retrouve le go\\\\u00fbt de la victoire\"}',\n",
       "              'TennisÂ\\xa0: cinq mois plus tard, Caroline Garcia retrouve le goÃ»t de la victoire\\nSortir dâ€™un court avec le sentiment du devoir accompli et un succÃ¨s en poche, on pourrait penser quâ€™il sâ€™agit du quotidien pour Caroline Garcia. A 31Â\\xa0ans, la Lyonnaise a un palmarÃ¨s Ã\\xa0 faire pÃ¢lir un bon nombre de tenniswomen, franÃ§aises ou nonÂ\\xa0: onze titres en simple, dont le Masters WTA â€“Â\\xa0tournoi de fin dâ€™annÃ©e oÃ¹ sâ€™affrontent les huit meilleures joueuses de la saisonÂ\\xa0â€“, huit en double, dont Roland-Garros deux fois. Lâ€™ancienne numÃ©roÂ\\xa04 mondiale a eu son lot de victoires, mais la 468e en simple a mis du temps Ã\\xa0 arriver.\\nCaroline Garcia ne se souviendra probablement pas ce nombre. Mais dimanche 9Â\\xa0fÃ©vrier, en sâ€™imposant en deux sets face Ã\\xa0 la Chinoise Yue Yuan (6-1, 7-6) pour rallier le deuxiÃ¨me tour du tournoi de Doha, la FranÃ§aise a mis un terme Ã\\xa0 une disette qui durait depuis cinq mois.\\nLe dÃ©but dâ€™annÃ©e de la joueuse, retombÃ©e Ã\\xa0 la 76e place au classement WTA, a Ã©tÃ© rythmÃ© par deux dÃ©faites dâ€™entrÃ©e, sur les courts de lâ€™Open dâ€™Australie contre la Japonaise Naomi Osaka et Ã\\xa0 Abou Dhabi, face Ã\\xa0 la NÃ©o-ZÃ©landaise Lulu Sun. Mais si Caroline Garcia a arrÃªtÃ© de collectionner les victoires, câ€™est surtout parce quâ€™elle ne sâ€™est pas prÃ©sentÃ©e dâ€™un cÃ´tÃ© du filet en match officiel entre septembreÂ\\xa02024Â\\xa0et janvierÂ\\xa02025.\\nLa question de la retraite sâ€™est posÃ©e\\nAprÃ¨s son Ã©limination, par la Polonaise Magdalena Frech, en demi-finales Ã\\xa0 Guadalajara (Mexique), la Lyonnaise a dÃ©cidÃ© de ranger temporairement les raquettes, Ã©puisÃ©e par son quotidien de sportive de haut niveau. Â«Â\\xa0Mentalement, jâ€™ai besoin dâ€™une pause, expliquait la vainqueure de la Fed Cup 2019Â\\xa0sur les rÃ©seaux sociaux. De mâ€™Ã©loigner de la machine Ã\\xa0 broyer du tennis, de prendre de vraies vacances, de me reconnecter avec ma famille et mes proches, et de mâ€™autoriser Ã\\xa0 respirer sans la pression de la performance.Â\\xa0Cette annÃ©e, mon Ã©tat dâ€™esprit a Ã©tÃ© toxique. Jâ€™ai perdu la joie dâ€™Ãªtre une joueuse de tennis, et je suis devenue obsÃ©dÃ©e par le classement et les victoires.Â\\xa0Â»\\nÂ«Â\\xa0FatiguÃ©e de lâ€™anxiÃ©tÃ©, des attaques de panique, des larmes avant les matchsÂ\\xa0Â», elle peinait aussi Ã\\xa0 se dÃ©barrasser dâ€™une blessure Ã\\xa0 lâ€™Ã©paule qui lâ€™a suivie une bonne partie de la saison passÃ©e. Elle a donc coupÃ© avec le tennis pendant un mois et demi, avant de reprendre progressivement. Â«Â\\xa0Câ€™Ã©tait vital pour moi de couperÂ\\xa0Â», rÃ©vÃ©lait Caroline Garcia en dÃ©cembre, Ã\\xa0 Lâ€™Equipe, admettant que la question dâ€™un arrÃªt dÃ©finitif sâ€™Ã©tait posÃ©e. Â«Â\\xa0Parce que je ne supportais plus rien. A la fin de chaque match, victoire ou dÃ©faite, jâ€™Ã©tais juste soulagÃ©e. Je ne savais plus pourquoi je jouais.Â\\xa0Â»\\nAujourdâ€™hui, la FranÃ§aise veut aborder le circuit diffÃ©remment en se mettant moins de pression, en match comme Ã\\xa0 lâ€™entraÃ®nement. Elle a Ã©galement lancÃ© son podcast dans lequel elle interviewe dâ€™autres stars du circuit, Ã\\xa0 lâ€™image de la numÃ©roÂ\\xa02Â\\xa0mondiale, Iga Swiatek, ou de GaÃ«l Monfils. DÃ©sormais sans entraÃ®neur, Caroline Garcia va se concentrer sur les plus gros tournois du calendrier, et cÃ©lÃ©brera sa premiÃ¨re victoire depuis cinq mois par un affrontement au sommet au deuxiÃ¨me tour de Doha. Elle sera opposÃ©e Ã\\xa0 lâ€™Italienne Jasmine Paolini (4e au classement WTA), mardi.\\n',\n",
       "              '{\"link\": \"https://www.lemonde.fr/sport/article/2025/02/09/tournoi-des-six-nations-l-irlande-se-defait-de-l-ecosse-et-continue-son-sans-faute_6538913_3242.html\", \"title\": \"Tournoi des six nations\\\\u00a0: l\\\\u2019Irlande se d\\\\u00e9fait de l\\\\u2019Ecosse et continue son sans-faute\"}',\n",
       "              'Tournoi des six nationsÂ\\xa0: lâ€™Irlande se dÃ©fait de lâ€™Ecosse et continue son sans-faute\\nEt si lâ€™Irlande avait dÃ©jÃ\\xa0 fait le plus durÂ\\xa0? Une semaine aprÃ¨s une victoire arrachÃ©e face Ã\\xa0 lâ€™Angleterre, le XV du TrÃ¨fle a enchaÃ®nÃ© contre lâ€™Ecosse (32-18), dimanche 9Â\\xa0fÃ©vrier, Ã\\xa0 Murrayfield (Edimbourg), lors du Tournoi des six nations. Une performance aboutie qui permet aux hommes du sÃ©lectionneur Simon Easterby de signer un onziÃ¨me succÃ¨s de rang face Ã\\xa0 leurs voisins, et, surtout, de se mettre en trÃ¨s bonne position pour poursuivre une autre sÃ©rieÂ\\xa0: celle des sacres dans la compÃ©tition.\\nVainqueure des deux derniÃ¨res Ã©ditions du Tournoi des six nations , lâ€™Irlande occupe le haut du classement avec ses dix points. Elle est mÃªme la derniÃ¨re nation toujours invaincue, aprÃ¨s la dÃ©faite de France, la veille, en Angleterre, et donc la seule encore en lice pour associer la mention Grand Chelem Ã\\xa0 un Ã©ventuel succÃ¨s final.\\nDimanche, lâ€™Ecosse se prÃ©sentait pourtant dans la peau dâ€™un outsider plein dâ€™ambition.Â\\xa0Mais le public de Murrayfield avait Ã\\xa0 peine fini dâ€™entonner lâ€™hymne national, Flower of Scotland, que lâ€™ambiance gÃ©nÃ©rale Ã©tait refroidie par lâ€™ailier Calvin Nash (8e minute). Lâ€™Irlandais profitait en effet du premier temps fort de son Ã©quipe pour ouvrir le score en aplatissant un essai.\\nLâ€™affaire Ã©tait mal embarquÃ©e pour le XV du Chardon, et lâ€™Ã©quation a rapidement paru insoluble, surtout quand son maÃ®tre Ã\\xa0 jouer Finn Russell fut contraint de sortir Ã\\xa0 la 20e minute, victime dâ€™une commotion cÃ©rÃ©brale.\\nDeux dÃ©placements, et un choc face aux Bleus\\nDepuis les tribunes, lâ€™ex-ouvreur du Racing a assistÃ© impuissant aux vagues vertes sâ€™abattant inlassablement sur lâ€™en-but. Un drÃ´le de phÃ©nomÃ¨ne mÃ©tÃ©orologique, symbolisÃ© par trois nouveaux essais. Juste ce quâ€™il faut pour assortir le succÃ¨s irlandais dâ€™un point de bonus offensif. En face, lâ€™Ecosse a eu le mÃ©rite dâ€™essayer. Lâ€™essai de son surpuissant ailier Duhan van der Merwe juste avant la mi-temps a mÃªme maintenu un temps le suspense.\\nMais le XV du TrÃ¨fle nâ€™est pas du genre Ã\\xa0 laisser ses adversaires remonter au score, aussi impÃ©tueux soient-ils. Un dernier coup dâ€™accÃ©lÃ©rateur Ã\\xa0 lâ€™heure de jeu dans la foulÃ©e de son jeune numÃ©roÂ\\xa010,Â\\xa0Sam Prendergast â€“Â\\xa0faisant presque oublier le temps dâ€™un aprÃ¨s-midi son illustre aÃ®nÃ© Jonathan Sexton, retraitÃ© depuis 2023Â\\xa0â€“, et les supporteurs irlandais pouvaient exulter.\\nDeux semaines aprÃ¨s le dÃ©but de la compÃ©tition, lâ€™Irlande a dÃ©jÃ\\xa0 fait une grosse partie du travail pour garder sa mainmise sur le Tournoi des six nations. La suite de son calendrier a beau indiquer deux dÃ©placements, aucun de ces voyages ne semble sujet aux turbulences, que ce soit chez des Gallois qui font tout Ã\\xa0 lâ€™envers depuis plusieurs mois, ou chez des Italiens qui restent encore loin du niveau requis pour rivaliser avec le XV du TrÃ¨fle. Lâ€™Ã©ventuelle quÃªte dâ€™un nouveau Grand Chelem devrait surtout se jouer Ã\\xa0 Dublin, le 8Â\\xa0mars, oÃ¹ les troupes de Simon Easterby affronteront un XV de France probablement en quÃªte de revanche.\\n']})"
      ]
     },
     "execution_count": 14,
     "metadata": {},
     "output_type": "execute_result"
    }
   ],
   "source": [
    "path = 'corpus'\n",
    "dico_corpus = cr_corpus_dict(path,1000)\n",
    "dico_corpus"
   ]
  }
 ],
 "metadata": {
  "kernelspec": {
   "display_name": ".venv",
   "language": "python",
   "name": "python3"
  },
  "language_info": {
   "codemirror_mode": {
    "name": "ipython",
    "version": 3
   },
   "file_extension": ".py",
   "mimetype": "text/x-python",
   "name": "python",
   "nbconvert_exporter": "python",
   "pygments_lexer": "ipython3",
   "version": "3.11.5"
  }
 },
 "nbformat": 4,
 "nbformat_minor": 2
}
